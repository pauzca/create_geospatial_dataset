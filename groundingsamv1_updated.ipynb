{
  "nbformat": 4,
  "nbformat_minor": 0,
  "metadata": {
    "colab": {
      "provenance": [],
      "gpuType": "T4"
    },
    "kernelspec": {
      "name": "python3",
      "display_name": "Python 3"
    },
    "language_info": {
      "name": "python"
    },
    "accelerator": "GPU",
    "widgets": {
      "application/vnd.jupyter.widget-state+json": {
        "daffd1240607405982364279f9d94e59": {
          "model_module": "@jupyter-widgets/controls",
          "model_name": "HBoxModel",
          "model_module_version": "1.5.0",
          "state": {
            "_dom_classes": [],
            "_model_module": "@jupyter-widgets/controls",
            "_model_module_version": "1.5.0",
            "_model_name": "HBoxModel",
            "_view_count": null,
            "_view_module": "@jupyter-widgets/controls",
            "_view_module_version": "1.5.0",
            "_view_name": "HBoxView",
            "box_style": "",
            "children": [
              "IPY_MODEL_0228cfbc216348ceb3cc1deb454107ac",
              "IPY_MODEL_43f0ffd2914c4434bf02e1518cec4d59",
              "IPY_MODEL_c636942465c0445a988b5c99ca95c152"
            ],
            "layout": "IPY_MODEL_477990fccc0a4ccf9c31c94d2c7fe88d"
          }
        },
        "0228cfbc216348ceb3cc1deb454107ac": {
          "model_module": "@jupyter-widgets/controls",
          "model_name": "HTMLModel",
          "model_module_version": "1.5.0",
          "state": {
            "_dom_classes": [],
            "_model_module": "@jupyter-widgets/controls",
            "_model_module_version": "1.5.0",
            "_model_name": "HTMLModel",
            "_view_count": null,
            "_view_module": "@jupyter-widgets/controls",
            "_view_module_version": "1.5.0",
            "_view_name": "HTMLView",
            "description": "",
            "description_tooltip": null,
            "layout": "IPY_MODEL_b558f1be99a14848a87295e2f4095984",
            "placeholder": "​",
            "style": "IPY_MODEL_e3568437250946e5affc8a40917d4702",
            "value": "preprocessor_config.json: 100%"
          }
        },
        "43f0ffd2914c4434bf02e1518cec4d59": {
          "model_module": "@jupyter-widgets/controls",
          "model_name": "FloatProgressModel",
          "model_module_version": "1.5.0",
          "state": {
            "_dom_classes": [],
            "_model_module": "@jupyter-widgets/controls",
            "_model_module_version": "1.5.0",
            "_model_name": "FloatProgressModel",
            "_view_count": null,
            "_view_module": "@jupyter-widgets/controls",
            "_view_module_version": "1.5.0",
            "_view_name": "ProgressView",
            "bar_style": "success",
            "description": "",
            "description_tooltip": null,
            "layout": "IPY_MODEL_6801183cfb014b35bbc7206884a23b12",
            "max": 457,
            "min": 0,
            "orientation": "horizontal",
            "style": "IPY_MODEL_4b02643548ba45699756f7f2bdf19c50",
            "value": 457
          }
        },
        "c636942465c0445a988b5c99ca95c152": {
          "model_module": "@jupyter-widgets/controls",
          "model_name": "HTMLModel",
          "model_module_version": "1.5.0",
          "state": {
            "_dom_classes": [],
            "_model_module": "@jupyter-widgets/controls",
            "_model_module_version": "1.5.0",
            "_model_name": "HTMLModel",
            "_view_count": null,
            "_view_module": "@jupyter-widgets/controls",
            "_view_module_version": "1.5.0",
            "_view_name": "HTMLView",
            "description": "",
            "description_tooltip": null,
            "layout": "IPY_MODEL_73a9a7032fca435ca96ff2d3e2c6a86e",
            "placeholder": "​",
            "style": "IPY_MODEL_f04a8c3b98164f02be58ee6768d227f3",
            "value": " 457/457 [00:00&lt;00:00, 43.6kB/s]"
          }
        },
        "477990fccc0a4ccf9c31c94d2c7fe88d": {
          "model_module": "@jupyter-widgets/base",
          "model_name": "LayoutModel",
          "model_module_version": "1.2.0",
          "state": {
            "_model_module": "@jupyter-widgets/base",
            "_model_module_version": "1.2.0",
            "_model_name": "LayoutModel",
            "_view_count": null,
            "_view_module": "@jupyter-widgets/base",
            "_view_module_version": "1.2.0",
            "_view_name": "LayoutView",
            "align_content": null,
            "align_items": null,
            "align_self": null,
            "border": null,
            "bottom": null,
            "display": null,
            "flex": null,
            "flex_flow": null,
            "grid_area": null,
            "grid_auto_columns": null,
            "grid_auto_flow": null,
            "grid_auto_rows": null,
            "grid_column": null,
            "grid_gap": null,
            "grid_row": null,
            "grid_template_areas": null,
            "grid_template_columns": null,
            "grid_template_rows": null,
            "height": null,
            "justify_content": null,
            "justify_items": null,
            "left": null,
            "margin": null,
            "max_height": null,
            "max_width": null,
            "min_height": null,
            "min_width": null,
            "object_fit": null,
            "object_position": null,
            "order": null,
            "overflow": null,
            "overflow_x": null,
            "overflow_y": null,
            "padding": null,
            "right": null,
            "top": null,
            "visibility": null,
            "width": null
          }
        },
        "b558f1be99a14848a87295e2f4095984": {
          "model_module": "@jupyter-widgets/base",
          "model_name": "LayoutModel",
          "model_module_version": "1.2.0",
          "state": {
            "_model_module": "@jupyter-widgets/base",
            "_model_module_version": "1.2.0",
            "_model_name": "LayoutModel",
            "_view_count": null,
            "_view_module": "@jupyter-widgets/base",
            "_view_module_version": "1.2.0",
            "_view_name": "LayoutView",
            "align_content": null,
            "align_items": null,
            "align_self": null,
            "border": null,
            "bottom": null,
            "display": null,
            "flex": null,
            "flex_flow": null,
            "grid_area": null,
            "grid_auto_columns": null,
            "grid_auto_flow": null,
            "grid_auto_rows": null,
            "grid_column": null,
            "grid_gap": null,
            "grid_row": null,
            "grid_template_areas": null,
            "grid_template_columns": null,
            "grid_template_rows": null,
            "height": null,
            "justify_content": null,
            "justify_items": null,
            "left": null,
            "margin": null,
            "max_height": null,
            "max_width": null,
            "min_height": null,
            "min_width": null,
            "object_fit": null,
            "object_position": null,
            "order": null,
            "overflow": null,
            "overflow_x": null,
            "overflow_y": null,
            "padding": null,
            "right": null,
            "top": null,
            "visibility": null,
            "width": null
          }
        },
        "e3568437250946e5affc8a40917d4702": {
          "model_module": "@jupyter-widgets/controls",
          "model_name": "DescriptionStyleModel",
          "model_module_version": "1.5.0",
          "state": {
            "_model_module": "@jupyter-widgets/controls",
            "_model_module_version": "1.5.0",
            "_model_name": "DescriptionStyleModel",
            "_view_count": null,
            "_view_module": "@jupyter-widgets/base",
            "_view_module_version": "1.2.0",
            "_view_name": "StyleView",
            "description_width": ""
          }
        },
        "6801183cfb014b35bbc7206884a23b12": {
          "model_module": "@jupyter-widgets/base",
          "model_name": "LayoutModel",
          "model_module_version": "1.2.0",
          "state": {
            "_model_module": "@jupyter-widgets/base",
            "_model_module_version": "1.2.0",
            "_model_name": "LayoutModel",
            "_view_count": null,
            "_view_module": "@jupyter-widgets/base",
            "_view_module_version": "1.2.0",
            "_view_name": "LayoutView",
            "align_content": null,
            "align_items": null,
            "align_self": null,
            "border": null,
            "bottom": null,
            "display": null,
            "flex": null,
            "flex_flow": null,
            "grid_area": null,
            "grid_auto_columns": null,
            "grid_auto_flow": null,
            "grid_auto_rows": null,
            "grid_column": null,
            "grid_gap": null,
            "grid_row": null,
            "grid_template_areas": null,
            "grid_template_columns": null,
            "grid_template_rows": null,
            "height": null,
            "justify_content": null,
            "justify_items": null,
            "left": null,
            "margin": null,
            "max_height": null,
            "max_width": null,
            "min_height": null,
            "min_width": null,
            "object_fit": null,
            "object_position": null,
            "order": null,
            "overflow": null,
            "overflow_x": null,
            "overflow_y": null,
            "padding": null,
            "right": null,
            "top": null,
            "visibility": null,
            "width": null
          }
        },
        "4b02643548ba45699756f7f2bdf19c50": {
          "model_module": "@jupyter-widgets/controls",
          "model_name": "ProgressStyleModel",
          "model_module_version": "1.5.0",
          "state": {
            "_model_module": "@jupyter-widgets/controls",
            "_model_module_version": "1.5.0",
            "_model_name": "ProgressStyleModel",
            "_view_count": null,
            "_view_module": "@jupyter-widgets/base",
            "_view_module_version": "1.2.0",
            "_view_name": "StyleView",
            "bar_color": null,
            "description_width": ""
          }
        },
        "73a9a7032fca435ca96ff2d3e2c6a86e": {
          "model_module": "@jupyter-widgets/base",
          "model_name": "LayoutModel",
          "model_module_version": "1.2.0",
          "state": {
            "_model_module": "@jupyter-widgets/base",
            "_model_module_version": "1.2.0",
            "_model_name": "LayoutModel",
            "_view_count": null,
            "_view_module": "@jupyter-widgets/base",
            "_view_module_version": "1.2.0",
            "_view_name": "LayoutView",
            "align_content": null,
            "align_items": null,
            "align_self": null,
            "border": null,
            "bottom": null,
            "display": null,
            "flex": null,
            "flex_flow": null,
            "grid_area": null,
            "grid_auto_columns": null,
            "grid_auto_flow": null,
            "grid_auto_rows": null,
            "grid_column": null,
            "grid_gap": null,
            "grid_row": null,
            "grid_template_areas": null,
            "grid_template_columns": null,
            "grid_template_rows": null,
            "height": null,
            "justify_content": null,
            "justify_items": null,
            "left": null,
            "margin": null,
            "max_height": null,
            "max_width": null,
            "min_height": null,
            "min_width": null,
            "object_fit": null,
            "object_position": null,
            "order": null,
            "overflow": null,
            "overflow_x": null,
            "overflow_y": null,
            "padding": null,
            "right": null,
            "top": null,
            "visibility": null,
            "width": null
          }
        },
        "f04a8c3b98164f02be58ee6768d227f3": {
          "model_module": "@jupyter-widgets/controls",
          "model_name": "DescriptionStyleModel",
          "model_module_version": "1.5.0",
          "state": {
            "_model_module": "@jupyter-widgets/controls",
            "_model_module_version": "1.5.0",
            "_model_name": "DescriptionStyleModel",
            "_view_count": null,
            "_view_module": "@jupyter-widgets/base",
            "_view_module_version": "1.2.0",
            "_view_name": "StyleView",
            "description_width": ""
          }
        },
        "9fbf3210faee4100a258145a0a8fcc76": {
          "model_module": "@jupyter-widgets/controls",
          "model_name": "HBoxModel",
          "model_module_version": "1.5.0",
          "state": {
            "_dom_classes": [],
            "_model_module": "@jupyter-widgets/controls",
            "_model_module_version": "1.5.0",
            "_model_name": "HBoxModel",
            "_view_count": null,
            "_view_module": "@jupyter-widgets/controls",
            "_view_module_version": "1.5.0",
            "_view_name": "HBoxView",
            "box_style": "",
            "children": [
              "IPY_MODEL_a42d030b137248aa9530b227aa4227bc",
              "IPY_MODEL_cd0346b2d6c34ede96b19eb6b10d484b",
              "IPY_MODEL_e9ec03b2e4f5407ba5486558cafa7cd6"
            ],
            "layout": "IPY_MODEL_63707afb39ff435c816ca8abfe2a1748"
          }
        },
        "a42d030b137248aa9530b227aa4227bc": {
          "model_module": "@jupyter-widgets/controls",
          "model_name": "HTMLModel",
          "model_module_version": "1.5.0",
          "state": {
            "_dom_classes": [],
            "_model_module": "@jupyter-widgets/controls",
            "_model_module_version": "1.5.0",
            "_model_name": "HTMLModel",
            "_view_count": null,
            "_view_module": "@jupyter-widgets/controls",
            "_view_module_version": "1.5.0",
            "_view_name": "HTMLView",
            "description": "",
            "description_tooltip": null,
            "layout": "IPY_MODEL_ae917a02428b48df8ece2c2f2e93bee4",
            "placeholder": "​",
            "style": "IPY_MODEL_cf0ba10a977147fd8f6fe9545441c7ac",
            "value": "tokenizer_config.json: 100%"
          }
        },
        "cd0346b2d6c34ede96b19eb6b10d484b": {
          "model_module": "@jupyter-widgets/controls",
          "model_name": "FloatProgressModel",
          "model_module_version": "1.5.0",
          "state": {
            "_dom_classes": [],
            "_model_module": "@jupyter-widgets/controls",
            "_model_module_version": "1.5.0",
            "_model_name": "FloatProgressModel",
            "_view_count": null,
            "_view_module": "@jupyter-widgets/controls",
            "_view_module_version": "1.5.0",
            "_view_name": "ProgressView",
            "bar_style": "success",
            "description": "",
            "description_tooltip": null,
            "layout": "IPY_MODEL_1de0ab7ea23f49d7914ad34884a4040e",
            "max": 1237,
            "min": 0,
            "orientation": "horizontal",
            "style": "IPY_MODEL_1d9de0a4401d447586cf06efabb2e4ea",
            "value": 1237
          }
        },
        "e9ec03b2e4f5407ba5486558cafa7cd6": {
          "model_module": "@jupyter-widgets/controls",
          "model_name": "HTMLModel",
          "model_module_version": "1.5.0",
          "state": {
            "_dom_classes": [],
            "_model_module": "@jupyter-widgets/controls",
            "_model_module_version": "1.5.0",
            "_model_name": "HTMLModel",
            "_view_count": null,
            "_view_module": "@jupyter-widgets/controls",
            "_view_module_version": "1.5.0",
            "_view_name": "HTMLView",
            "description": "",
            "description_tooltip": null,
            "layout": "IPY_MODEL_1f0a08df4e3e4433887d89663056cf0e",
            "placeholder": "​",
            "style": "IPY_MODEL_2b2e136ba43a4950afe7968a4fec195d",
            "value": " 1.24k/1.24k [00:00&lt;00:00, 112kB/s]"
          }
        },
        "63707afb39ff435c816ca8abfe2a1748": {
          "model_module": "@jupyter-widgets/base",
          "model_name": "LayoutModel",
          "model_module_version": "1.2.0",
          "state": {
            "_model_module": "@jupyter-widgets/base",
            "_model_module_version": "1.2.0",
            "_model_name": "LayoutModel",
            "_view_count": null,
            "_view_module": "@jupyter-widgets/base",
            "_view_module_version": "1.2.0",
            "_view_name": "LayoutView",
            "align_content": null,
            "align_items": null,
            "align_self": null,
            "border": null,
            "bottom": null,
            "display": null,
            "flex": null,
            "flex_flow": null,
            "grid_area": null,
            "grid_auto_columns": null,
            "grid_auto_flow": null,
            "grid_auto_rows": null,
            "grid_column": null,
            "grid_gap": null,
            "grid_row": null,
            "grid_template_areas": null,
            "grid_template_columns": null,
            "grid_template_rows": null,
            "height": null,
            "justify_content": null,
            "justify_items": null,
            "left": null,
            "margin": null,
            "max_height": null,
            "max_width": null,
            "min_height": null,
            "min_width": null,
            "object_fit": null,
            "object_position": null,
            "order": null,
            "overflow": null,
            "overflow_x": null,
            "overflow_y": null,
            "padding": null,
            "right": null,
            "top": null,
            "visibility": null,
            "width": null
          }
        },
        "ae917a02428b48df8ece2c2f2e93bee4": {
          "model_module": "@jupyter-widgets/base",
          "model_name": "LayoutModel",
          "model_module_version": "1.2.0",
          "state": {
            "_model_module": "@jupyter-widgets/base",
            "_model_module_version": "1.2.0",
            "_model_name": "LayoutModel",
            "_view_count": null,
            "_view_module": "@jupyter-widgets/base",
            "_view_module_version": "1.2.0",
            "_view_name": "LayoutView",
            "align_content": null,
            "align_items": null,
            "align_self": null,
            "border": null,
            "bottom": null,
            "display": null,
            "flex": null,
            "flex_flow": null,
            "grid_area": null,
            "grid_auto_columns": null,
            "grid_auto_flow": null,
            "grid_auto_rows": null,
            "grid_column": null,
            "grid_gap": null,
            "grid_row": null,
            "grid_template_areas": null,
            "grid_template_columns": null,
            "grid_template_rows": null,
            "height": null,
            "justify_content": null,
            "justify_items": null,
            "left": null,
            "margin": null,
            "max_height": null,
            "max_width": null,
            "min_height": null,
            "min_width": null,
            "object_fit": null,
            "object_position": null,
            "order": null,
            "overflow": null,
            "overflow_x": null,
            "overflow_y": null,
            "padding": null,
            "right": null,
            "top": null,
            "visibility": null,
            "width": null
          }
        },
        "cf0ba10a977147fd8f6fe9545441c7ac": {
          "model_module": "@jupyter-widgets/controls",
          "model_name": "DescriptionStyleModel",
          "model_module_version": "1.5.0",
          "state": {
            "_model_module": "@jupyter-widgets/controls",
            "_model_module_version": "1.5.0",
            "_model_name": "DescriptionStyleModel",
            "_view_count": null,
            "_view_module": "@jupyter-widgets/base",
            "_view_module_version": "1.2.0",
            "_view_name": "StyleView",
            "description_width": ""
          }
        },
        "1de0ab7ea23f49d7914ad34884a4040e": {
          "model_module": "@jupyter-widgets/base",
          "model_name": "LayoutModel",
          "model_module_version": "1.2.0",
          "state": {
            "_model_module": "@jupyter-widgets/base",
            "_model_module_version": "1.2.0",
            "_model_name": "LayoutModel",
            "_view_count": null,
            "_view_module": "@jupyter-widgets/base",
            "_view_module_version": "1.2.0",
            "_view_name": "LayoutView",
            "align_content": null,
            "align_items": null,
            "align_self": null,
            "border": null,
            "bottom": null,
            "display": null,
            "flex": null,
            "flex_flow": null,
            "grid_area": null,
            "grid_auto_columns": null,
            "grid_auto_flow": null,
            "grid_auto_rows": null,
            "grid_column": null,
            "grid_gap": null,
            "grid_row": null,
            "grid_template_areas": null,
            "grid_template_columns": null,
            "grid_template_rows": null,
            "height": null,
            "justify_content": null,
            "justify_items": null,
            "left": null,
            "margin": null,
            "max_height": null,
            "max_width": null,
            "min_height": null,
            "min_width": null,
            "object_fit": null,
            "object_position": null,
            "order": null,
            "overflow": null,
            "overflow_x": null,
            "overflow_y": null,
            "padding": null,
            "right": null,
            "top": null,
            "visibility": null,
            "width": null
          }
        },
        "1d9de0a4401d447586cf06efabb2e4ea": {
          "model_module": "@jupyter-widgets/controls",
          "model_name": "ProgressStyleModel",
          "model_module_version": "1.5.0",
          "state": {
            "_model_module": "@jupyter-widgets/controls",
            "_model_module_version": "1.5.0",
            "_model_name": "ProgressStyleModel",
            "_view_count": null,
            "_view_module": "@jupyter-widgets/base",
            "_view_module_version": "1.2.0",
            "_view_name": "StyleView",
            "bar_color": null,
            "description_width": ""
          }
        },
        "1f0a08df4e3e4433887d89663056cf0e": {
          "model_module": "@jupyter-widgets/base",
          "model_name": "LayoutModel",
          "model_module_version": "1.2.0",
          "state": {
            "_model_module": "@jupyter-widgets/base",
            "_model_module_version": "1.2.0",
            "_model_name": "LayoutModel",
            "_view_count": null,
            "_view_module": "@jupyter-widgets/base",
            "_view_module_version": "1.2.0",
            "_view_name": "LayoutView",
            "align_content": null,
            "align_items": null,
            "align_self": null,
            "border": null,
            "bottom": null,
            "display": null,
            "flex": null,
            "flex_flow": null,
            "grid_area": null,
            "grid_auto_columns": null,
            "grid_auto_flow": null,
            "grid_auto_rows": null,
            "grid_column": null,
            "grid_gap": null,
            "grid_row": null,
            "grid_template_areas": null,
            "grid_template_columns": null,
            "grid_template_rows": null,
            "height": null,
            "justify_content": null,
            "justify_items": null,
            "left": null,
            "margin": null,
            "max_height": null,
            "max_width": null,
            "min_height": null,
            "min_width": null,
            "object_fit": null,
            "object_position": null,
            "order": null,
            "overflow": null,
            "overflow_x": null,
            "overflow_y": null,
            "padding": null,
            "right": null,
            "top": null,
            "visibility": null,
            "width": null
          }
        },
        "2b2e136ba43a4950afe7968a4fec195d": {
          "model_module": "@jupyter-widgets/controls",
          "model_name": "DescriptionStyleModel",
          "model_module_version": "1.5.0",
          "state": {
            "_model_module": "@jupyter-widgets/controls",
            "_model_module_version": "1.5.0",
            "_model_name": "DescriptionStyleModel",
            "_view_count": null,
            "_view_module": "@jupyter-widgets/base",
            "_view_module_version": "1.2.0",
            "_view_name": "StyleView",
            "description_width": ""
          }
        },
        "dc20b3c9447e4b11b76b1ade9f1c97e3": {
          "model_module": "@jupyter-widgets/controls",
          "model_name": "HBoxModel",
          "model_module_version": "1.5.0",
          "state": {
            "_dom_classes": [],
            "_model_module": "@jupyter-widgets/controls",
            "_model_module_version": "1.5.0",
            "_model_name": "HBoxModel",
            "_view_count": null,
            "_view_module": "@jupyter-widgets/controls",
            "_view_module_version": "1.5.0",
            "_view_name": "HBoxView",
            "box_style": "",
            "children": [
              "IPY_MODEL_0da97eaf833a4061bf43687299a369c6",
              "IPY_MODEL_00105eb1b50b499da5b06ba2648ccfc4",
              "IPY_MODEL_e107a32a1a1f47008ad76debc75a500e"
            ],
            "layout": "IPY_MODEL_e9bd9a28ea8541a1b859f647b7ae2c33"
          }
        },
        "0da97eaf833a4061bf43687299a369c6": {
          "model_module": "@jupyter-widgets/controls",
          "model_name": "HTMLModel",
          "model_module_version": "1.5.0",
          "state": {
            "_dom_classes": [],
            "_model_module": "@jupyter-widgets/controls",
            "_model_module_version": "1.5.0",
            "_model_name": "HTMLModel",
            "_view_count": null,
            "_view_module": "@jupyter-widgets/controls",
            "_view_module_version": "1.5.0",
            "_view_name": "HTMLView",
            "description": "",
            "description_tooltip": null,
            "layout": "IPY_MODEL_1afb87c0b4ed4f53ab12639b7fb154d0",
            "placeholder": "​",
            "style": "IPY_MODEL_fcc0575875784cb5967fb7d87b830c23",
            "value": "vocab.txt: 100%"
          }
        },
        "00105eb1b50b499da5b06ba2648ccfc4": {
          "model_module": "@jupyter-widgets/controls",
          "model_name": "FloatProgressModel",
          "model_module_version": "1.5.0",
          "state": {
            "_dom_classes": [],
            "_model_module": "@jupyter-widgets/controls",
            "_model_module_version": "1.5.0",
            "_model_name": "FloatProgressModel",
            "_view_count": null,
            "_view_module": "@jupyter-widgets/controls",
            "_view_module_version": "1.5.0",
            "_view_name": "ProgressView",
            "bar_style": "success",
            "description": "",
            "description_tooltip": null,
            "layout": "IPY_MODEL_c35405f4ef9b4a07a97a99af3fe36660",
            "max": 231508,
            "min": 0,
            "orientation": "horizontal",
            "style": "IPY_MODEL_465d4104afad49a6b8ad8ad958b34596",
            "value": 231508
          }
        },
        "e107a32a1a1f47008ad76debc75a500e": {
          "model_module": "@jupyter-widgets/controls",
          "model_name": "HTMLModel",
          "model_module_version": "1.5.0",
          "state": {
            "_dom_classes": [],
            "_model_module": "@jupyter-widgets/controls",
            "_model_module_version": "1.5.0",
            "_model_name": "HTMLModel",
            "_view_count": null,
            "_view_module": "@jupyter-widgets/controls",
            "_view_module_version": "1.5.0",
            "_view_name": "HTMLView",
            "description": "",
            "description_tooltip": null,
            "layout": "IPY_MODEL_92858520adb346fc9bd578e9529329c9",
            "placeholder": "​",
            "style": "IPY_MODEL_e1b00f4b457d4498ae488ae8dd3310e5",
            "value": " 232k/232k [00:00&lt;00:00, 1.09MB/s]"
          }
        },
        "e9bd9a28ea8541a1b859f647b7ae2c33": {
          "model_module": "@jupyter-widgets/base",
          "model_name": "LayoutModel",
          "model_module_version": "1.2.0",
          "state": {
            "_model_module": "@jupyter-widgets/base",
            "_model_module_version": "1.2.0",
            "_model_name": "LayoutModel",
            "_view_count": null,
            "_view_module": "@jupyter-widgets/base",
            "_view_module_version": "1.2.0",
            "_view_name": "LayoutView",
            "align_content": null,
            "align_items": null,
            "align_self": null,
            "border": null,
            "bottom": null,
            "display": null,
            "flex": null,
            "flex_flow": null,
            "grid_area": null,
            "grid_auto_columns": null,
            "grid_auto_flow": null,
            "grid_auto_rows": null,
            "grid_column": null,
            "grid_gap": null,
            "grid_row": null,
            "grid_template_areas": null,
            "grid_template_columns": null,
            "grid_template_rows": null,
            "height": null,
            "justify_content": null,
            "justify_items": null,
            "left": null,
            "margin": null,
            "max_height": null,
            "max_width": null,
            "min_height": null,
            "min_width": null,
            "object_fit": null,
            "object_position": null,
            "order": null,
            "overflow": null,
            "overflow_x": null,
            "overflow_y": null,
            "padding": null,
            "right": null,
            "top": null,
            "visibility": null,
            "width": null
          }
        },
        "1afb87c0b4ed4f53ab12639b7fb154d0": {
          "model_module": "@jupyter-widgets/base",
          "model_name": "LayoutModel",
          "model_module_version": "1.2.0",
          "state": {
            "_model_module": "@jupyter-widgets/base",
            "_model_module_version": "1.2.0",
            "_model_name": "LayoutModel",
            "_view_count": null,
            "_view_module": "@jupyter-widgets/base",
            "_view_module_version": "1.2.0",
            "_view_name": "LayoutView",
            "align_content": null,
            "align_items": null,
            "align_self": null,
            "border": null,
            "bottom": null,
            "display": null,
            "flex": null,
            "flex_flow": null,
            "grid_area": null,
            "grid_auto_columns": null,
            "grid_auto_flow": null,
            "grid_auto_rows": null,
            "grid_column": null,
            "grid_gap": null,
            "grid_row": null,
            "grid_template_areas": null,
            "grid_template_columns": null,
            "grid_template_rows": null,
            "height": null,
            "justify_content": null,
            "justify_items": null,
            "left": null,
            "margin": null,
            "max_height": null,
            "max_width": null,
            "min_height": null,
            "min_width": null,
            "object_fit": null,
            "object_position": null,
            "order": null,
            "overflow": null,
            "overflow_x": null,
            "overflow_y": null,
            "padding": null,
            "right": null,
            "top": null,
            "visibility": null,
            "width": null
          }
        },
        "fcc0575875784cb5967fb7d87b830c23": {
          "model_module": "@jupyter-widgets/controls",
          "model_name": "DescriptionStyleModel",
          "model_module_version": "1.5.0",
          "state": {
            "_model_module": "@jupyter-widgets/controls",
            "_model_module_version": "1.5.0",
            "_model_name": "DescriptionStyleModel",
            "_view_count": null,
            "_view_module": "@jupyter-widgets/base",
            "_view_module_version": "1.2.0",
            "_view_name": "StyleView",
            "description_width": ""
          }
        },
        "c35405f4ef9b4a07a97a99af3fe36660": {
          "model_module": "@jupyter-widgets/base",
          "model_name": "LayoutModel",
          "model_module_version": "1.2.0",
          "state": {
            "_model_module": "@jupyter-widgets/base",
            "_model_module_version": "1.2.0",
            "_model_name": "LayoutModel",
            "_view_count": null,
            "_view_module": "@jupyter-widgets/base",
            "_view_module_version": "1.2.0",
            "_view_name": "LayoutView",
            "align_content": null,
            "align_items": null,
            "align_self": null,
            "border": null,
            "bottom": null,
            "display": null,
            "flex": null,
            "flex_flow": null,
            "grid_area": null,
            "grid_auto_columns": null,
            "grid_auto_flow": null,
            "grid_auto_rows": null,
            "grid_column": null,
            "grid_gap": null,
            "grid_row": null,
            "grid_template_areas": null,
            "grid_template_columns": null,
            "grid_template_rows": null,
            "height": null,
            "justify_content": null,
            "justify_items": null,
            "left": null,
            "margin": null,
            "max_height": null,
            "max_width": null,
            "min_height": null,
            "min_width": null,
            "object_fit": null,
            "object_position": null,
            "order": null,
            "overflow": null,
            "overflow_x": null,
            "overflow_y": null,
            "padding": null,
            "right": null,
            "top": null,
            "visibility": null,
            "width": null
          }
        },
        "465d4104afad49a6b8ad8ad958b34596": {
          "model_module": "@jupyter-widgets/controls",
          "model_name": "ProgressStyleModel",
          "model_module_version": "1.5.0",
          "state": {
            "_model_module": "@jupyter-widgets/controls",
            "_model_module_version": "1.5.0",
            "_model_name": "ProgressStyleModel",
            "_view_count": null,
            "_view_module": "@jupyter-widgets/base",
            "_view_module_version": "1.2.0",
            "_view_name": "StyleView",
            "bar_color": null,
            "description_width": ""
          }
        },
        "92858520adb346fc9bd578e9529329c9": {
          "model_module": "@jupyter-widgets/base",
          "model_name": "LayoutModel",
          "model_module_version": "1.2.0",
          "state": {
            "_model_module": "@jupyter-widgets/base",
            "_model_module_version": "1.2.0",
            "_model_name": "LayoutModel",
            "_view_count": null,
            "_view_module": "@jupyter-widgets/base",
            "_view_module_version": "1.2.0",
            "_view_name": "LayoutView",
            "align_content": null,
            "align_items": null,
            "align_self": null,
            "border": null,
            "bottom": null,
            "display": null,
            "flex": null,
            "flex_flow": null,
            "grid_area": null,
            "grid_auto_columns": null,
            "grid_auto_flow": null,
            "grid_auto_rows": null,
            "grid_column": null,
            "grid_gap": null,
            "grid_row": null,
            "grid_template_areas": null,
            "grid_template_columns": null,
            "grid_template_rows": null,
            "height": null,
            "justify_content": null,
            "justify_items": null,
            "left": null,
            "margin": null,
            "max_height": null,
            "max_width": null,
            "min_height": null,
            "min_width": null,
            "object_fit": null,
            "object_position": null,
            "order": null,
            "overflow": null,
            "overflow_x": null,
            "overflow_y": null,
            "padding": null,
            "right": null,
            "top": null,
            "visibility": null,
            "width": null
          }
        },
        "e1b00f4b457d4498ae488ae8dd3310e5": {
          "model_module": "@jupyter-widgets/controls",
          "model_name": "DescriptionStyleModel",
          "model_module_version": "1.5.0",
          "state": {
            "_model_module": "@jupyter-widgets/controls",
            "_model_module_version": "1.5.0",
            "_model_name": "DescriptionStyleModel",
            "_view_count": null,
            "_view_module": "@jupyter-widgets/base",
            "_view_module_version": "1.2.0",
            "_view_name": "StyleView",
            "description_width": ""
          }
        },
        "25081fc2feef4fc0a8fb58ea7d1e8f28": {
          "model_module": "@jupyter-widgets/controls",
          "model_name": "HBoxModel",
          "model_module_version": "1.5.0",
          "state": {
            "_dom_classes": [],
            "_model_module": "@jupyter-widgets/controls",
            "_model_module_version": "1.5.0",
            "_model_name": "HBoxModel",
            "_view_count": null,
            "_view_module": "@jupyter-widgets/controls",
            "_view_module_version": "1.5.0",
            "_view_name": "HBoxView",
            "box_style": "",
            "children": [
              "IPY_MODEL_2512f96386f44384b290b1665dd195e8",
              "IPY_MODEL_1fbf31c7cbf94194809874ef637a45b2",
              "IPY_MODEL_a9276fb610d944d9a5f986c363e64d7d"
            ],
            "layout": "IPY_MODEL_7d646e1707bb4337aea9182fa88071a1"
          }
        },
        "2512f96386f44384b290b1665dd195e8": {
          "model_module": "@jupyter-widgets/controls",
          "model_name": "HTMLModel",
          "model_module_version": "1.5.0",
          "state": {
            "_dom_classes": [],
            "_model_module": "@jupyter-widgets/controls",
            "_model_module_version": "1.5.0",
            "_model_name": "HTMLModel",
            "_view_count": null,
            "_view_module": "@jupyter-widgets/controls",
            "_view_module_version": "1.5.0",
            "_view_name": "HTMLView",
            "description": "",
            "description_tooltip": null,
            "layout": "IPY_MODEL_1cfc79bdd1cc4782be54d7d0a363e799",
            "placeholder": "​",
            "style": "IPY_MODEL_9aad02b538b14e34bb950cafdce20a28",
            "value": "tokenizer.json: 100%"
          }
        },
        "1fbf31c7cbf94194809874ef637a45b2": {
          "model_module": "@jupyter-widgets/controls",
          "model_name": "FloatProgressModel",
          "model_module_version": "1.5.0",
          "state": {
            "_dom_classes": [],
            "_model_module": "@jupyter-widgets/controls",
            "_model_module_version": "1.5.0",
            "_model_name": "FloatProgressModel",
            "_view_count": null,
            "_view_module": "@jupyter-widgets/controls",
            "_view_module_version": "1.5.0",
            "_view_name": "ProgressView",
            "bar_style": "success",
            "description": "",
            "description_tooltip": null,
            "layout": "IPY_MODEL_4dd59cc85e294618aa7faf993650065e",
            "max": 711396,
            "min": 0,
            "orientation": "horizontal",
            "style": "IPY_MODEL_8ba27e0cea694c3fb4cb282b5887771f",
            "value": 711396
          }
        },
        "a9276fb610d944d9a5f986c363e64d7d": {
          "model_module": "@jupyter-widgets/controls",
          "model_name": "HTMLModel",
          "model_module_version": "1.5.0",
          "state": {
            "_dom_classes": [],
            "_model_module": "@jupyter-widgets/controls",
            "_model_module_version": "1.5.0",
            "_model_name": "HTMLModel",
            "_view_count": null,
            "_view_module": "@jupyter-widgets/controls",
            "_view_module_version": "1.5.0",
            "_view_name": "HTMLView",
            "description": "",
            "description_tooltip": null,
            "layout": "IPY_MODEL_2dd9bde084fa4786b89547c2b74fc08d",
            "placeholder": "​",
            "style": "IPY_MODEL_879ff2ec7f1047e48b3bd03c27274a5b",
            "value": " 711k/711k [00:00&lt;00:00, 3.27MB/s]"
          }
        },
        "7d646e1707bb4337aea9182fa88071a1": {
          "model_module": "@jupyter-widgets/base",
          "model_name": "LayoutModel",
          "model_module_version": "1.2.0",
          "state": {
            "_model_module": "@jupyter-widgets/base",
            "_model_module_version": "1.2.0",
            "_model_name": "LayoutModel",
            "_view_count": null,
            "_view_module": "@jupyter-widgets/base",
            "_view_module_version": "1.2.0",
            "_view_name": "LayoutView",
            "align_content": null,
            "align_items": null,
            "align_self": null,
            "border": null,
            "bottom": null,
            "display": null,
            "flex": null,
            "flex_flow": null,
            "grid_area": null,
            "grid_auto_columns": null,
            "grid_auto_flow": null,
            "grid_auto_rows": null,
            "grid_column": null,
            "grid_gap": null,
            "grid_row": null,
            "grid_template_areas": null,
            "grid_template_columns": null,
            "grid_template_rows": null,
            "height": null,
            "justify_content": null,
            "justify_items": null,
            "left": null,
            "margin": null,
            "max_height": null,
            "max_width": null,
            "min_height": null,
            "min_width": null,
            "object_fit": null,
            "object_position": null,
            "order": null,
            "overflow": null,
            "overflow_x": null,
            "overflow_y": null,
            "padding": null,
            "right": null,
            "top": null,
            "visibility": null,
            "width": null
          }
        },
        "1cfc79bdd1cc4782be54d7d0a363e799": {
          "model_module": "@jupyter-widgets/base",
          "model_name": "LayoutModel",
          "model_module_version": "1.2.0",
          "state": {
            "_model_module": "@jupyter-widgets/base",
            "_model_module_version": "1.2.0",
            "_model_name": "LayoutModel",
            "_view_count": null,
            "_view_module": "@jupyter-widgets/base",
            "_view_module_version": "1.2.0",
            "_view_name": "LayoutView",
            "align_content": null,
            "align_items": null,
            "align_self": null,
            "border": null,
            "bottom": null,
            "display": null,
            "flex": null,
            "flex_flow": null,
            "grid_area": null,
            "grid_auto_columns": null,
            "grid_auto_flow": null,
            "grid_auto_rows": null,
            "grid_column": null,
            "grid_gap": null,
            "grid_row": null,
            "grid_template_areas": null,
            "grid_template_columns": null,
            "grid_template_rows": null,
            "height": null,
            "justify_content": null,
            "justify_items": null,
            "left": null,
            "margin": null,
            "max_height": null,
            "max_width": null,
            "min_height": null,
            "min_width": null,
            "object_fit": null,
            "object_position": null,
            "order": null,
            "overflow": null,
            "overflow_x": null,
            "overflow_y": null,
            "padding": null,
            "right": null,
            "top": null,
            "visibility": null,
            "width": null
          }
        },
        "9aad02b538b14e34bb950cafdce20a28": {
          "model_module": "@jupyter-widgets/controls",
          "model_name": "DescriptionStyleModel",
          "model_module_version": "1.5.0",
          "state": {
            "_model_module": "@jupyter-widgets/controls",
            "_model_module_version": "1.5.0",
            "_model_name": "DescriptionStyleModel",
            "_view_count": null,
            "_view_module": "@jupyter-widgets/base",
            "_view_module_version": "1.2.0",
            "_view_name": "StyleView",
            "description_width": ""
          }
        },
        "4dd59cc85e294618aa7faf993650065e": {
          "model_module": "@jupyter-widgets/base",
          "model_name": "LayoutModel",
          "model_module_version": "1.2.0",
          "state": {
            "_model_module": "@jupyter-widgets/base",
            "_model_module_version": "1.2.0",
            "_model_name": "LayoutModel",
            "_view_count": null,
            "_view_module": "@jupyter-widgets/base",
            "_view_module_version": "1.2.0",
            "_view_name": "LayoutView",
            "align_content": null,
            "align_items": null,
            "align_self": null,
            "border": null,
            "bottom": null,
            "display": null,
            "flex": null,
            "flex_flow": null,
            "grid_area": null,
            "grid_auto_columns": null,
            "grid_auto_flow": null,
            "grid_auto_rows": null,
            "grid_column": null,
            "grid_gap": null,
            "grid_row": null,
            "grid_template_areas": null,
            "grid_template_columns": null,
            "grid_template_rows": null,
            "height": null,
            "justify_content": null,
            "justify_items": null,
            "left": null,
            "margin": null,
            "max_height": null,
            "max_width": null,
            "min_height": null,
            "min_width": null,
            "object_fit": null,
            "object_position": null,
            "order": null,
            "overflow": null,
            "overflow_x": null,
            "overflow_y": null,
            "padding": null,
            "right": null,
            "top": null,
            "visibility": null,
            "width": null
          }
        },
        "8ba27e0cea694c3fb4cb282b5887771f": {
          "model_module": "@jupyter-widgets/controls",
          "model_name": "ProgressStyleModel",
          "model_module_version": "1.5.0",
          "state": {
            "_model_module": "@jupyter-widgets/controls",
            "_model_module_version": "1.5.0",
            "_model_name": "ProgressStyleModel",
            "_view_count": null,
            "_view_module": "@jupyter-widgets/base",
            "_view_module_version": "1.2.0",
            "_view_name": "StyleView",
            "bar_color": null,
            "description_width": ""
          }
        },
        "2dd9bde084fa4786b89547c2b74fc08d": {
          "model_module": "@jupyter-widgets/base",
          "model_name": "LayoutModel",
          "model_module_version": "1.2.0",
          "state": {
            "_model_module": "@jupyter-widgets/base",
            "_model_module_version": "1.2.0",
            "_model_name": "LayoutModel",
            "_view_count": null,
            "_view_module": "@jupyter-widgets/base",
            "_view_module_version": "1.2.0",
            "_view_name": "LayoutView",
            "align_content": null,
            "align_items": null,
            "align_self": null,
            "border": null,
            "bottom": null,
            "display": null,
            "flex": null,
            "flex_flow": null,
            "grid_area": null,
            "grid_auto_columns": null,
            "grid_auto_flow": null,
            "grid_auto_rows": null,
            "grid_column": null,
            "grid_gap": null,
            "grid_row": null,
            "grid_template_areas": null,
            "grid_template_columns": null,
            "grid_template_rows": null,
            "height": null,
            "justify_content": null,
            "justify_items": null,
            "left": null,
            "margin": null,
            "max_height": null,
            "max_width": null,
            "min_height": null,
            "min_width": null,
            "object_fit": null,
            "object_position": null,
            "order": null,
            "overflow": null,
            "overflow_x": null,
            "overflow_y": null,
            "padding": null,
            "right": null,
            "top": null,
            "visibility": null,
            "width": null
          }
        },
        "879ff2ec7f1047e48b3bd03c27274a5b": {
          "model_module": "@jupyter-widgets/controls",
          "model_name": "DescriptionStyleModel",
          "model_module_version": "1.5.0",
          "state": {
            "_model_module": "@jupyter-widgets/controls",
            "_model_module_version": "1.5.0",
            "_model_name": "DescriptionStyleModel",
            "_view_count": null,
            "_view_module": "@jupyter-widgets/base",
            "_view_module_version": "1.2.0",
            "_view_name": "StyleView",
            "description_width": ""
          }
        },
        "a2d92ae7aed04af99c6fcb08b04fc609": {
          "model_module": "@jupyter-widgets/controls",
          "model_name": "HBoxModel",
          "model_module_version": "1.5.0",
          "state": {
            "_dom_classes": [],
            "_model_module": "@jupyter-widgets/controls",
            "_model_module_version": "1.5.0",
            "_model_name": "HBoxModel",
            "_view_count": null,
            "_view_module": "@jupyter-widgets/controls",
            "_view_module_version": "1.5.0",
            "_view_name": "HBoxView",
            "box_style": "",
            "children": [
              "IPY_MODEL_53fa09cfd3d04f0fad0789010384fcd2",
              "IPY_MODEL_21f6a0bd1ea648afaf798fdcc841fb73",
              "IPY_MODEL_dfba6d8ed3354aa8af1d7aa372ea461d"
            ],
            "layout": "IPY_MODEL_b967af0fa6e0440592d8752cefda1926"
          }
        },
        "53fa09cfd3d04f0fad0789010384fcd2": {
          "model_module": "@jupyter-widgets/controls",
          "model_name": "HTMLModel",
          "model_module_version": "1.5.0",
          "state": {
            "_dom_classes": [],
            "_model_module": "@jupyter-widgets/controls",
            "_model_module_version": "1.5.0",
            "_model_name": "HTMLModel",
            "_view_count": null,
            "_view_module": "@jupyter-widgets/controls",
            "_view_module_version": "1.5.0",
            "_view_name": "HTMLView",
            "description": "",
            "description_tooltip": null,
            "layout": "IPY_MODEL_7ad56c8649aa46a5bd2e61adf132865f",
            "placeholder": "​",
            "style": "IPY_MODEL_94bcd7b9150e483eb5920c63d53e2522",
            "value": "special_tokens_map.json: 100%"
          }
        },
        "21f6a0bd1ea648afaf798fdcc841fb73": {
          "model_module": "@jupyter-widgets/controls",
          "model_name": "FloatProgressModel",
          "model_module_version": "1.5.0",
          "state": {
            "_dom_classes": [],
            "_model_module": "@jupyter-widgets/controls",
            "_model_module_version": "1.5.0",
            "_model_name": "FloatProgressModel",
            "_view_count": null,
            "_view_module": "@jupyter-widgets/controls",
            "_view_module_version": "1.5.0",
            "_view_name": "ProgressView",
            "bar_style": "success",
            "description": "",
            "description_tooltip": null,
            "layout": "IPY_MODEL_6f9734a5ec804b62b6d495850161532d",
            "max": 125,
            "min": 0,
            "orientation": "horizontal",
            "style": "IPY_MODEL_37ce3356bd1340a69fcb3cf2d42d53fc",
            "value": 125
          }
        },
        "dfba6d8ed3354aa8af1d7aa372ea461d": {
          "model_module": "@jupyter-widgets/controls",
          "model_name": "HTMLModel",
          "model_module_version": "1.5.0",
          "state": {
            "_dom_classes": [],
            "_model_module": "@jupyter-widgets/controls",
            "_model_module_version": "1.5.0",
            "_model_name": "HTMLModel",
            "_view_count": null,
            "_view_module": "@jupyter-widgets/controls",
            "_view_module_version": "1.5.0",
            "_view_name": "HTMLView",
            "description": "",
            "description_tooltip": null,
            "layout": "IPY_MODEL_80bda07bcf284cbb8e4ed96ece0172b6",
            "placeholder": "​",
            "style": "IPY_MODEL_815314bd1e17434fac73de3c1a2bfee6",
            "value": " 125/125 [00:00&lt;00:00, 11.9kB/s]"
          }
        },
        "b967af0fa6e0440592d8752cefda1926": {
          "model_module": "@jupyter-widgets/base",
          "model_name": "LayoutModel",
          "model_module_version": "1.2.0",
          "state": {
            "_model_module": "@jupyter-widgets/base",
            "_model_module_version": "1.2.0",
            "_model_name": "LayoutModel",
            "_view_count": null,
            "_view_module": "@jupyter-widgets/base",
            "_view_module_version": "1.2.0",
            "_view_name": "LayoutView",
            "align_content": null,
            "align_items": null,
            "align_self": null,
            "border": null,
            "bottom": null,
            "display": null,
            "flex": null,
            "flex_flow": null,
            "grid_area": null,
            "grid_auto_columns": null,
            "grid_auto_flow": null,
            "grid_auto_rows": null,
            "grid_column": null,
            "grid_gap": null,
            "grid_row": null,
            "grid_template_areas": null,
            "grid_template_columns": null,
            "grid_template_rows": null,
            "height": null,
            "justify_content": null,
            "justify_items": null,
            "left": null,
            "margin": null,
            "max_height": null,
            "max_width": null,
            "min_height": null,
            "min_width": null,
            "object_fit": null,
            "object_position": null,
            "order": null,
            "overflow": null,
            "overflow_x": null,
            "overflow_y": null,
            "padding": null,
            "right": null,
            "top": null,
            "visibility": null,
            "width": null
          }
        },
        "7ad56c8649aa46a5bd2e61adf132865f": {
          "model_module": "@jupyter-widgets/base",
          "model_name": "LayoutModel",
          "model_module_version": "1.2.0",
          "state": {
            "_model_module": "@jupyter-widgets/base",
            "_model_module_version": "1.2.0",
            "_model_name": "LayoutModel",
            "_view_count": null,
            "_view_module": "@jupyter-widgets/base",
            "_view_module_version": "1.2.0",
            "_view_name": "LayoutView",
            "align_content": null,
            "align_items": null,
            "align_self": null,
            "border": null,
            "bottom": null,
            "display": null,
            "flex": null,
            "flex_flow": null,
            "grid_area": null,
            "grid_auto_columns": null,
            "grid_auto_flow": null,
            "grid_auto_rows": null,
            "grid_column": null,
            "grid_gap": null,
            "grid_row": null,
            "grid_template_areas": null,
            "grid_template_columns": null,
            "grid_template_rows": null,
            "height": null,
            "justify_content": null,
            "justify_items": null,
            "left": null,
            "margin": null,
            "max_height": null,
            "max_width": null,
            "min_height": null,
            "min_width": null,
            "object_fit": null,
            "object_position": null,
            "order": null,
            "overflow": null,
            "overflow_x": null,
            "overflow_y": null,
            "padding": null,
            "right": null,
            "top": null,
            "visibility": null,
            "width": null
          }
        },
        "94bcd7b9150e483eb5920c63d53e2522": {
          "model_module": "@jupyter-widgets/controls",
          "model_name": "DescriptionStyleModel",
          "model_module_version": "1.5.0",
          "state": {
            "_model_module": "@jupyter-widgets/controls",
            "_model_module_version": "1.5.0",
            "_model_name": "DescriptionStyleModel",
            "_view_count": null,
            "_view_module": "@jupyter-widgets/base",
            "_view_module_version": "1.2.0",
            "_view_name": "StyleView",
            "description_width": ""
          }
        },
        "6f9734a5ec804b62b6d495850161532d": {
          "model_module": "@jupyter-widgets/base",
          "model_name": "LayoutModel",
          "model_module_version": "1.2.0",
          "state": {
            "_model_module": "@jupyter-widgets/base",
            "_model_module_version": "1.2.0",
            "_model_name": "LayoutModel",
            "_view_count": null,
            "_view_module": "@jupyter-widgets/base",
            "_view_module_version": "1.2.0",
            "_view_name": "LayoutView",
            "align_content": null,
            "align_items": null,
            "align_self": null,
            "border": null,
            "bottom": null,
            "display": null,
            "flex": null,
            "flex_flow": null,
            "grid_area": null,
            "grid_auto_columns": null,
            "grid_auto_flow": null,
            "grid_auto_rows": null,
            "grid_column": null,
            "grid_gap": null,
            "grid_row": null,
            "grid_template_areas": null,
            "grid_template_columns": null,
            "grid_template_rows": null,
            "height": null,
            "justify_content": null,
            "justify_items": null,
            "left": null,
            "margin": null,
            "max_height": null,
            "max_width": null,
            "min_height": null,
            "min_width": null,
            "object_fit": null,
            "object_position": null,
            "order": null,
            "overflow": null,
            "overflow_x": null,
            "overflow_y": null,
            "padding": null,
            "right": null,
            "top": null,
            "visibility": null,
            "width": null
          }
        },
        "37ce3356bd1340a69fcb3cf2d42d53fc": {
          "model_module": "@jupyter-widgets/controls",
          "model_name": "ProgressStyleModel",
          "model_module_version": "1.5.0",
          "state": {
            "_model_module": "@jupyter-widgets/controls",
            "_model_module_version": "1.5.0",
            "_model_name": "ProgressStyleModel",
            "_view_count": null,
            "_view_module": "@jupyter-widgets/base",
            "_view_module_version": "1.2.0",
            "_view_name": "StyleView",
            "bar_color": null,
            "description_width": ""
          }
        },
        "80bda07bcf284cbb8e4ed96ece0172b6": {
          "model_module": "@jupyter-widgets/base",
          "model_name": "LayoutModel",
          "model_module_version": "1.2.0",
          "state": {
            "_model_module": "@jupyter-widgets/base",
            "_model_module_version": "1.2.0",
            "_model_name": "LayoutModel",
            "_view_count": null,
            "_view_module": "@jupyter-widgets/base",
            "_view_module_version": "1.2.0",
            "_view_name": "LayoutView",
            "align_content": null,
            "align_items": null,
            "align_self": null,
            "border": null,
            "bottom": null,
            "display": null,
            "flex": null,
            "flex_flow": null,
            "grid_area": null,
            "grid_auto_columns": null,
            "grid_auto_flow": null,
            "grid_auto_rows": null,
            "grid_column": null,
            "grid_gap": null,
            "grid_row": null,
            "grid_template_areas": null,
            "grid_template_columns": null,
            "grid_template_rows": null,
            "height": null,
            "justify_content": null,
            "justify_items": null,
            "left": null,
            "margin": null,
            "max_height": null,
            "max_width": null,
            "min_height": null,
            "min_width": null,
            "object_fit": null,
            "object_position": null,
            "order": null,
            "overflow": null,
            "overflow_x": null,
            "overflow_y": null,
            "padding": null,
            "right": null,
            "top": null,
            "visibility": null,
            "width": null
          }
        },
        "815314bd1e17434fac73de3c1a2bfee6": {
          "model_module": "@jupyter-widgets/controls",
          "model_name": "DescriptionStyleModel",
          "model_module_version": "1.5.0",
          "state": {
            "_model_module": "@jupyter-widgets/controls",
            "_model_module_version": "1.5.0",
            "_model_name": "DescriptionStyleModel",
            "_view_count": null,
            "_view_module": "@jupyter-widgets/base",
            "_view_module_version": "1.2.0",
            "_view_name": "StyleView",
            "description_width": ""
          }
        },
        "622fe43a9e09478eb63eac6f646afab3": {
          "model_module": "@jupyter-widgets/controls",
          "model_name": "HBoxModel",
          "model_module_version": "1.5.0",
          "state": {
            "_dom_classes": [],
            "_model_module": "@jupyter-widgets/controls",
            "_model_module_version": "1.5.0",
            "_model_name": "HBoxModel",
            "_view_count": null,
            "_view_module": "@jupyter-widgets/controls",
            "_view_module_version": "1.5.0",
            "_view_name": "HBoxView",
            "box_style": "",
            "children": [
              "IPY_MODEL_7ad2ae123c044a6bb138f9fe1fdbe753",
              "IPY_MODEL_d74f3e76a47842e383c3b693fc1fb12b",
              "IPY_MODEL_ae5ea0b58c864d3ab61b02c2803200c0"
            ],
            "layout": "IPY_MODEL_09057aeec9e447c7983eeb46248ca3e7"
          }
        },
        "7ad2ae123c044a6bb138f9fe1fdbe753": {
          "model_module": "@jupyter-widgets/controls",
          "model_name": "HTMLModel",
          "model_module_version": "1.5.0",
          "state": {
            "_dom_classes": [],
            "_model_module": "@jupyter-widgets/controls",
            "_model_module_version": "1.5.0",
            "_model_name": "HTMLModel",
            "_view_count": null,
            "_view_module": "@jupyter-widgets/controls",
            "_view_module_version": "1.5.0",
            "_view_name": "HTMLView",
            "description": "",
            "description_tooltip": null,
            "layout": "IPY_MODEL_4760fcad360b4dfcade73e0ce86b62bf",
            "placeholder": "​",
            "style": "IPY_MODEL_eee5078f53d84215b082f5c5df3bd107",
            "value": "config.json: 100%"
          }
        },
        "d74f3e76a47842e383c3b693fc1fb12b": {
          "model_module": "@jupyter-widgets/controls",
          "model_name": "FloatProgressModel",
          "model_module_version": "1.5.0",
          "state": {
            "_dom_classes": [],
            "_model_module": "@jupyter-widgets/controls",
            "_model_module_version": "1.5.0",
            "_model_name": "FloatProgressModel",
            "_view_count": null,
            "_view_module": "@jupyter-widgets/controls",
            "_view_module_version": "1.5.0",
            "_view_name": "ProgressView",
            "bar_style": "success",
            "description": "",
            "description_tooltip": null,
            "layout": "IPY_MODEL_c1b07aa14cdf477fba4afa98ec2b45b6",
            "max": 1737,
            "min": 0,
            "orientation": "horizontal",
            "style": "IPY_MODEL_e97564bb5f0a4da4b907a63288d9690c",
            "value": 1737
          }
        },
        "ae5ea0b58c864d3ab61b02c2803200c0": {
          "model_module": "@jupyter-widgets/controls",
          "model_name": "HTMLModel",
          "model_module_version": "1.5.0",
          "state": {
            "_dom_classes": [],
            "_model_module": "@jupyter-widgets/controls",
            "_model_module_version": "1.5.0",
            "_model_name": "HTMLModel",
            "_view_count": null,
            "_view_module": "@jupyter-widgets/controls",
            "_view_module_version": "1.5.0",
            "_view_name": "HTMLView",
            "description": "",
            "description_tooltip": null,
            "layout": "IPY_MODEL_11a0076576844492a1ba4e6d1830ae96",
            "placeholder": "​",
            "style": "IPY_MODEL_b87cfca9b166447f9e25e814980b0280",
            "value": " 1.74k/1.74k [00:00&lt;00:00, 155kB/s]"
          }
        },
        "09057aeec9e447c7983eeb46248ca3e7": {
          "model_module": "@jupyter-widgets/base",
          "model_name": "LayoutModel",
          "model_module_version": "1.2.0",
          "state": {
            "_model_module": "@jupyter-widgets/base",
            "_model_module_version": "1.2.0",
            "_model_name": "LayoutModel",
            "_view_count": null,
            "_view_module": "@jupyter-widgets/base",
            "_view_module_version": "1.2.0",
            "_view_name": "LayoutView",
            "align_content": null,
            "align_items": null,
            "align_self": null,
            "border": null,
            "bottom": null,
            "display": null,
            "flex": null,
            "flex_flow": null,
            "grid_area": null,
            "grid_auto_columns": null,
            "grid_auto_flow": null,
            "grid_auto_rows": null,
            "grid_column": null,
            "grid_gap": null,
            "grid_row": null,
            "grid_template_areas": null,
            "grid_template_columns": null,
            "grid_template_rows": null,
            "height": null,
            "justify_content": null,
            "justify_items": null,
            "left": null,
            "margin": null,
            "max_height": null,
            "max_width": null,
            "min_height": null,
            "min_width": null,
            "object_fit": null,
            "object_position": null,
            "order": null,
            "overflow": null,
            "overflow_x": null,
            "overflow_y": null,
            "padding": null,
            "right": null,
            "top": null,
            "visibility": null,
            "width": null
          }
        },
        "4760fcad360b4dfcade73e0ce86b62bf": {
          "model_module": "@jupyter-widgets/base",
          "model_name": "LayoutModel",
          "model_module_version": "1.2.0",
          "state": {
            "_model_module": "@jupyter-widgets/base",
            "_model_module_version": "1.2.0",
            "_model_name": "LayoutModel",
            "_view_count": null,
            "_view_module": "@jupyter-widgets/base",
            "_view_module_version": "1.2.0",
            "_view_name": "LayoutView",
            "align_content": null,
            "align_items": null,
            "align_self": null,
            "border": null,
            "bottom": null,
            "display": null,
            "flex": null,
            "flex_flow": null,
            "grid_area": null,
            "grid_auto_columns": null,
            "grid_auto_flow": null,
            "grid_auto_rows": null,
            "grid_column": null,
            "grid_gap": null,
            "grid_row": null,
            "grid_template_areas": null,
            "grid_template_columns": null,
            "grid_template_rows": null,
            "height": null,
            "justify_content": null,
            "justify_items": null,
            "left": null,
            "margin": null,
            "max_height": null,
            "max_width": null,
            "min_height": null,
            "min_width": null,
            "object_fit": null,
            "object_position": null,
            "order": null,
            "overflow": null,
            "overflow_x": null,
            "overflow_y": null,
            "padding": null,
            "right": null,
            "top": null,
            "visibility": null,
            "width": null
          }
        },
        "eee5078f53d84215b082f5c5df3bd107": {
          "model_module": "@jupyter-widgets/controls",
          "model_name": "DescriptionStyleModel",
          "model_module_version": "1.5.0",
          "state": {
            "_model_module": "@jupyter-widgets/controls",
            "_model_module_version": "1.5.0",
            "_model_name": "DescriptionStyleModel",
            "_view_count": null,
            "_view_module": "@jupyter-widgets/base",
            "_view_module_version": "1.2.0",
            "_view_name": "StyleView",
            "description_width": ""
          }
        },
        "c1b07aa14cdf477fba4afa98ec2b45b6": {
          "model_module": "@jupyter-widgets/base",
          "model_name": "LayoutModel",
          "model_module_version": "1.2.0",
          "state": {
            "_model_module": "@jupyter-widgets/base",
            "_model_module_version": "1.2.0",
            "_model_name": "LayoutModel",
            "_view_count": null,
            "_view_module": "@jupyter-widgets/base",
            "_view_module_version": "1.2.0",
            "_view_name": "LayoutView",
            "align_content": null,
            "align_items": null,
            "align_self": null,
            "border": null,
            "bottom": null,
            "display": null,
            "flex": null,
            "flex_flow": null,
            "grid_area": null,
            "grid_auto_columns": null,
            "grid_auto_flow": null,
            "grid_auto_rows": null,
            "grid_column": null,
            "grid_gap": null,
            "grid_row": null,
            "grid_template_areas": null,
            "grid_template_columns": null,
            "grid_template_rows": null,
            "height": null,
            "justify_content": null,
            "justify_items": null,
            "left": null,
            "margin": null,
            "max_height": null,
            "max_width": null,
            "min_height": null,
            "min_width": null,
            "object_fit": null,
            "object_position": null,
            "order": null,
            "overflow": null,
            "overflow_x": null,
            "overflow_y": null,
            "padding": null,
            "right": null,
            "top": null,
            "visibility": null,
            "width": null
          }
        },
        "e97564bb5f0a4da4b907a63288d9690c": {
          "model_module": "@jupyter-widgets/controls",
          "model_name": "ProgressStyleModel",
          "model_module_version": "1.5.0",
          "state": {
            "_model_module": "@jupyter-widgets/controls",
            "_model_module_version": "1.5.0",
            "_model_name": "ProgressStyleModel",
            "_view_count": null,
            "_view_module": "@jupyter-widgets/base",
            "_view_module_version": "1.2.0",
            "_view_name": "StyleView",
            "bar_color": null,
            "description_width": ""
          }
        },
        "11a0076576844492a1ba4e6d1830ae96": {
          "model_module": "@jupyter-widgets/base",
          "model_name": "LayoutModel",
          "model_module_version": "1.2.0",
          "state": {
            "_model_module": "@jupyter-widgets/base",
            "_model_module_version": "1.2.0",
            "_model_name": "LayoutModel",
            "_view_count": null,
            "_view_module": "@jupyter-widgets/base",
            "_view_module_version": "1.2.0",
            "_view_name": "LayoutView",
            "align_content": null,
            "align_items": null,
            "align_self": null,
            "border": null,
            "bottom": null,
            "display": null,
            "flex": null,
            "flex_flow": null,
            "grid_area": null,
            "grid_auto_columns": null,
            "grid_auto_flow": null,
            "grid_auto_rows": null,
            "grid_column": null,
            "grid_gap": null,
            "grid_row": null,
            "grid_template_areas": null,
            "grid_template_columns": null,
            "grid_template_rows": null,
            "height": null,
            "justify_content": null,
            "justify_items": null,
            "left": null,
            "margin": null,
            "max_height": null,
            "max_width": null,
            "min_height": null,
            "min_width": null,
            "object_fit": null,
            "object_position": null,
            "order": null,
            "overflow": null,
            "overflow_x": null,
            "overflow_y": null,
            "padding": null,
            "right": null,
            "top": null,
            "visibility": null,
            "width": null
          }
        },
        "b87cfca9b166447f9e25e814980b0280": {
          "model_module": "@jupyter-widgets/controls",
          "model_name": "DescriptionStyleModel",
          "model_module_version": "1.5.0",
          "state": {
            "_model_module": "@jupyter-widgets/controls",
            "_model_module_version": "1.5.0",
            "_model_name": "DescriptionStyleModel",
            "_view_count": null,
            "_view_module": "@jupyter-widgets/base",
            "_view_module_version": "1.2.0",
            "_view_name": "StyleView",
            "description_width": ""
          }
        },
        "f32d4ae9683744c789e92683aaf97178": {
          "model_module": "@jupyter-widgets/controls",
          "model_name": "HBoxModel",
          "model_module_version": "1.5.0",
          "state": {
            "_dom_classes": [],
            "_model_module": "@jupyter-widgets/controls",
            "_model_module_version": "1.5.0",
            "_model_name": "HBoxModel",
            "_view_count": null,
            "_view_module": "@jupyter-widgets/controls",
            "_view_module_version": "1.5.0",
            "_view_name": "HBoxView",
            "box_style": "",
            "children": [
              "IPY_MODEL_1ed37ece83534d6d924107acc50bc838",
              "IPY_MODEL_e98320083ba64bfeae40ed07e9701928",
              "IPY_MODEL_db3e0bef89524e4c99dc3c159a8747ef"
            ],
            "layout": "IPY_MODEL_24981f684177408f865e5438cf7ea9d7"
          }
        },
        "1ed37ece83534d6d924107acc50bc838": {
          "model_module": "@jupyter-widgets/controls",
          "model_name": "HTMLModel",
          "model_module_version": "1.5.0",
          "state": {
            "_dom_classes": [],
            "_model_module": "@jupyter-widgets/controls",
            "_model_module_version": "1.5.0",
            "_model_name": "HTMLModel",
            "_view_count": null,
            "_view_module": "@jupyter-widgets/controls",
            "_view_module_version": "1.5.0",
            "_view_name": "HTMLView",
            "description": "",
            "description_tooltip": null,
            "layout": "IPY_MODEL_abc18d57912b42b8bc4b339ad646d596",
            "placeholder": "​",
            "style": "IPY_MODEL_4118bb5efe7f4aa3a3d7c9ca22d95d22",
            "value": "model.safetensors: 100%"
          }
        },
        "e98320083ba64bfeae40ed07e9701928": {
          "model_module": "@jupyter-widgets/controls",
          "model_name": "FloatProgressModel",
          "model_module_version": "1.5.0",
          "state": {
            "_dom_classes": [],
            "_model_module": "@jupyter-widgets/controls",
            "_model_module_version": "1.5.0",
            "_model_name": "FloatProgressModel",
            "_view_count": null,
            "_view_module": "@jupyter-widgets/controls",
            "_view_module_version": "1.5.0",
            "_view_name": "ProgressView",
            "bar_style": "success",
            "description": "",
            "description_tooltip": null,
            "layout": "IPY_MODEL_9eb119e34a1240538f802e7c47eb9e8d",
            "max": 933400872,
            "min": 0,
            "orientation": "horizontal",
            "style": "IPY_MODEL_b1665b180c274963840deabdf8eb3d47",
            "value": 933400872
          }
        },
        "db3e0bef89524e4c99dc3c159a8747ef": {
          "model_module": "@jupyter-widgets/controls",
          "model_name": "HTMLModel",
          "model_module_version": "1.5.0",
          "state": {
            "_dom_classes": [],
            "_model_module": "@jupyter-widgets/controls",
            "_model_module_version": "1.5.0",
            "_model_name": "HTMLModel",
            "_view_count": null,
            "_view_module": "@jupyter-widgets/controls",
            "_view_module_version": "1.5.0",
            "_view_name": "HTMLView",
            "description": "",
            "description_tooltip": null,
            "layout": "IPY_MODEL_8e26fdc2e2464323beca36d8b10a8f55",
            "placeholder": "​",
            "style": "IPY_MODEL_b608eab745b54a4cb515bba99898bd48",
            "value": " 933M/933M [00:05&lt;00:00, 154MB/s]"
          }
        },
        "24981f684177408f865e5438cf7ea9d7": {
          "model_module": "@jupyter-widgets/base",
          "model_name": "LayoutModel",
          "model_module_version": "1.2.0",
          "state": {
            "_model_module": "@jupyter-widgets/base",
            "_model_module_version": "1.2.0",
            "_model_name": "LayoutModel",
            "_view_count": null,
            "_view_module": "@jupyter-widgets/base",
            "_view_module_version": "1.2.0",
            "_view_name": "LayoutView",
            "align_content": null,
            "align_items": null,
            "align_self": null,
            "border": null,
            "bottom": null,
            "display": null,
            "flex": null,
            "flex_flow": null,
            "grid_area": null,
            "grid_auto_columns": null,
            "grid_auto_flow": null,
            "grid_auto_rows": null,
            "grid_column": null,
            "grid_gap": null,
            "grid_row": null,
            "grid_template_areas": null,
            "grid_template_columns": null,
            "grid_template_rows": null,
            "height": null,
            "justify_content": null,
            "justify_items": null,
            "left": null,
            "margin": null,
            "max_height": null,
            "max_width": null,
            "min_height": null,
            "min_width": null,
            "object_fit": null,
            "object_position": null,
            "order": null,
            "overflow": null,
            "overflow_x": null,
            "overflow_y": null,
            "padding": null,
            "right": null,
            "top": null,
            "visibility": null,
            "width": null
          }
        },
        "abc18d57912b42b8bc4b339ad646d596": {
          "model_module": "@jupyter-widgets/base",
          "model_name": "LayoutModel",
          "model_module_version": "1.2.0",
          "state": {
            "_model_module": "@jupyter-widgets/base",
            "_model_module_version": "1.2.0",
            "_model_name": "LayoutModel",
            "_view_count": null,
            "_view_module": "@jupyter-widgets/base",
            "_view_module_version": "1.2.0",
            "_view_name": "LayoutView",
            "align_content": null,
            "align_items": null,
            "align_self": null,
            "border": null,
            "bottom": null,
            "display": null,
            "flex": null,
            "flex_flow": null,
            "grid_area": null,
            "grid_auto_columns": null,
            "grid_auto_flow": null,
            "grid_auto_rows": null,
            "grid_column": null,
            "grid_gap": null,
            "grid_row": null,
            "grid_template_areas": null,
            "grid_template_columns": null,
            "grid_template_rows": null,
            "height": null,
            "justify_content": null,
            "justify_items": null,
            "left": null,
            "margin": null,
            "max_height": null,
            "max_width": null,
            "min_height": null,
            "min_width": null,
            "object_fit": null,
            "object_position": null,
            "order": null,
            "overflow": null,
            "overflow_x": null,
            "overflow_y": null,
            "padding": null,
            "right": null,
            "top": null,
            "visibility": null,
            "width": null
          }
        },
        "4118bb5efe7f4aa3a3d7c9ca22d95d22": {
          "model_module": "@jupyter-widgets/controls",
          "model_name": "DescriptionStyleModel",
          "model_module_version": "1.5.0",
          "state": {
            "_model_module": "@jupyter-widgets/controls",
            "_model_module_version": "1.5.0",
            "_model_name": "DescriptionStyleModel",
            "_view_count": null,
            "_view_module": "@jupyter-widgets/base",
            "_view_module_version": "1.2.0",
            "_view_name": "StyleView",
            "description_width": ""
          }
        },
        "9eb119e34a1240538f802e7c47eb9e8d": {
          "model_module": "@jupyter-widgets/base",
          "model_name": "LayoutModel",
          "model_module_version": "1.2.0",
          "state": {
            "_model_module": "@jupyter-widgets/base",
            "_model_module_version": "1.2.0",
            "_model_name": "LayoutModel",
            "_view_count": null,
            "_view_module": "@jupyter-widgets/base",
            "_view_module_version": "1.2.0",
            "_view_name": "LayoutView",
            "align_content": null,
            "align_items": null,
            "align_self": null,
            "border": null,
            "bottom": null,
            "display": null,
            "flex": null,
            "flex_flow": null,
            "grid_area": null,
            "grid_auto_columns": null,
            "grid_auto_flow": null,
            "grid_auto_rows": null,
            "grid_column": null,
            "grid_gap": null,
            "grid_row": null,
            "grid_template_areas": null,
            "grid_template_columns": null,
            "grid_template_rows": null,
            "height": null,
            "justify_content": null,
            "justify_items": null,
            "left": null,
            "margin": null,
            "max_height": null,
            "max_width": null,
            "min_height": null,
            "min_width": null,
            "object_fit": null,
            "object_position": null,
            "order": null,
            "overflow": null,
            "overflow_x": null,
            "overflow_y": null,
            "padding": null,
            "right": null,
            "top": null,
            "visibility": null,
            "width": null
          }
        },
        "b1665b180c274963840deabdf8eb3d47": {
          "model_module": "@jupyter-widgets/controls",
          "model_name": "ProgressStyleModel",
          "model_module_version": "1.5.0",
          "state": {
            "_model_module": "@jupyter-widgets/controls",
            "_model_module_version": "1.5.0",
            "_model_name": "ProgressStyleModel",
            "_view_count": null,
            "_view_module": "@jupyter-widgets/base",
            "_view_module_version": "1.2.0",
            "_view_name": "StyleView",
            "bar_color": null,
            "description_width": ""
          }
        },
        "8e26fdc2e2464323beca36d8b10a8f55": {
          "model_module": "@jupyter-widgets/base",
          "model_name": "LayoutModel",
          "model_module_version": "1.2.0",
          "state": {
            "_model_module": "@jupyter-widgets/base",
            "_model_module_version": "1.2.0",
            "_model_name": "LayoutModel",
            "_view_count": null,
            "_view_module": "@jupyter-widgets/base",
            "_view_module_version": "1.2.0",
            "_view_name": "LayoutView",
            "align_content": null,
            "align_items": null,
            "align_self": null,
            "border": null,
            "bottom": null,
            "display": null,
            "flex": null,
            "flex_flow": null,
            "grid_area": null,
            "grid_auto_columns": null,
            "grid_auto_flow": null,
            "grid_auto_rows": null,
            "grid_column": null,
            "grid_gap": null,
            "grid_row": null,
            "grid_template_areas": null,
            "grid_template_columns": null,
            "grid_template_rows": null,
            "height": null,
            "justify_content": null,
            "justify_items": null,
            "left": null,
            "margin": null,
            "max_height": null,
            "max_width": null,
            "min_height": null,
            "min_width": null,
            "object_fit": null,
            "object_position": null,
            "order": null,
            "overflow": null,
            "overflow_x": null,
            "overflow_y": null,
            "padding": null,
            "right": null,
            "top": null,
            "visibility": null,
            "width": null
          }
        },
        "b608eab745b54a4cb515bba99898bd48": {
          "model_module": "@jupyter-widgets/controls",
          "model_name": "DescriptionStyleModel",
          "model_module_version": "1.5.0",
          "state": {
            "_model_module": "@jupyter-widgets/controls",
            "_model_module_version": "1.5.0",
            "_model_name": "DescriptionStyleModel",
            "_view_count": null,
            "_view_module": "@jupyter-widgets/base",
            "_view_module_version": "1.2.0",
            "_view_name": "StyleView",
            "description_width": ""
          }
        },
        "30597666428b4deead53e349795ab234": {
          "model_module": "@jupyter-widgets/controls",
          "model_name": "HBoxModel",
          "model_module_version": "1.5.0",
          "state": {
            "_dom_classes": [],
            "_model_module": "@jupyter-widgets/controls",
            "_model_module_version": "1.5.0",
            "_model_name": "HBoxModel",
            "_view_count": null,
            "_view_module": "@jupyter-widgets/controls",
            "_view_module_version": "1.5.0",
            "_view_name": "HBoxView",
            "box_style": "",
            "children": [
              "IPY_MODEL_b5a3d98edf2e40c4ba826027d258da73",
              "IPY_MODEL_c5d981e10b3a4a95933c862a755417d3",
              "IPY_MODEL_83e01eb303714e0999cb97c9ef835e7a"
            ],
            "layout": "IPY_MODEL_22ef1e367d914a01b3fa52bf84e6a222"
          }
        },
        "b5a3d98edf2e40c4ba826027d258da73": {
          "model_module": "@jupyter-widgets/controls",
          "model_name": "HTMLModel",
          "model_module_version": "1.5.0",
          "state": {
            "_dom_classes": [],
            "_model_module": "@jupyter-widgets/controls",
            "_model_module_version": "1.5.0",
            "_model_name": "HTMLModel",
            "_view_count": null,
            "_view_module": "@jupyter-widgets/controls",
            "_view_module_version": "1.5.0",
            "_view_name": "HTMLView",
            "description": "",
            "description_tooltip": null,
            "layout": "IPY_MODEL_9ed605299b9443c0ba526fc6cc3d9f0f",
            "placeholder": "​",
            "style": "IPY_MODEL_ba2ce12825d04d8db051b8d74128fd50",
            "value": "preprocessor_config.json: 100%"
          }
        },
        "c5d981e10b3a4a95933c862a755417d3": {
          "model_module": "@jupyter-widgets/controls",
          "model_name": "FloatProgressModel",
          "model_module_version": "1.5.0",
          "state": {
            "_dom_classes": [],
            "_model_module": "@jupyter-widgets/controls",
            "_model_module_version": "1.5.0",
            "_model_name": "FloatProgressModel",
            "_view_count": null,
            "_view_module": "@jupyter-widgets/controls",
            "_view_module_version": "1.5.0",
            "_view_name": "ProgressView",
            "bar_style": "success",
            "description": "",
            "description_tooltip": null,
            "layout": "IPY_MODEL_bde9fab12d704d0fa91ce379325dd52f",
            "max": 457,
            "min": 0,
            "orientation": "horizontal",
            "style": "IPY_MODEL_b790b9bf52c448a28ab0ecde8a579a1b",
            "value": 457
          }
        },
        "83e01eb303714e0999cb97c9ef835e7a": {
          "model_module": "@jupyter-widgets/controls",
          "model_name": "HTMLModel",
          "model_module_version": "1.5.0",
          "state": {
            "_dom_classes": [],
            "_model_module": "@jupyter-widgets/controls",
            "_model_module_version": "1.5.0",
            "_model_name": "HTMLModel",
            "_view_count": null,
            "_view_module": "@jupyter-widgets/controls",
            "_view_module_version": "1.5.0",
            "_view_name": "HTMLView",
            "description": "",
            "description_tooltip": null,
            "layout": "IPY_MODEL_70b0b793dff141e88c6b8080596c09cd",
            "placeholder": "​",
            "style": "IPY_MODEL_7f79e107d52b48929f2e2e856ad23dcb",
            "value": " 457/457 [00:00&lt;00:00, 42.9kB/s]"
          }
        },
        "22ef1e367d914a01b3fa52bf84e6a222": {
          "model_module": "@jupyter-widgets/base",
          "model_name": "LayoutModel",
          "model_module_version": "1.2.0",
          "state": {
            "_model_module": "@jupyter-widgets/base",
            "_model_module_version": "1.2.0",
            "_model_name": "LayoutModel",
            "_view_count": null,
            "_view_module": "@jupyter-widgets/base",
            "_view_module_version": "1.2.0",
            "_view_name": "LayoutView",
            "align_content": null,
            "align_items": null,
            "align_self": null,
            "border": null,
            "bottom": null,
            "display": null,
            "flex": null,
            "flex_flow": null,
            "grid_area": null,
            "grid_auto_columns": null,
            "grid_auto_flow": null,
            "grid_auto_rows": null,
            "grid_column": null,
            "grid_gap": null,
            "grid_row": null,
            "grid_template_areas": null,
            "grid_template_columns": null,
            "grid_template_rows": null,
            "height": null,
            "justify_content": null,
            "justify_items": null,
            "left": null,
            "margin": null,
            "max_height": null,
            "max_width": null,
            "min_height": null,
            "min_width": null,
            "object_fit": null,
            "object_position": null,
            "order": null,
            "overflow": null,
            "overflow_x": null,
            "overflow_y": null,
            "padding": null,
            "right": null,
            "top": null,
            "visibility": null,
            "width": null
          }
        },
        "9ed605299b9443c0ba526fc6cc3d9f0f": {
          "model_module": "@jupyter-widgets/base",
          "model_name": "LayoutModel",
          "model_module_version": "1.2.0",
          "state": {
            "_model_module": "@jupyter-widgets/base",
            "_model_module_version": "1.2.0",
            "_model_name": "LayoutModel",
            "_view_count": null,
            "_view_module": "@jupyter-widgets/base",
            "_view_module_version": "1.2.0",
            "_view_name": "LayoutView",
            "align_content": null,
            "align_items": null,
            "align_self": null,
            "border": null,
            "bottom": null,
            "display": null,
            "flex": null,
            "flex_flow": null,
            "grid_area": null,
            "grid_auto_columns": null,
            "grid_auto_flow": null,
            "grid_auto_rows": null,
            "grid_column": null,
            "grid_gap": null,
            "grid_row": null,
            "grid_template_areas": null,
            "grid_template_columns": null,
            "grid_template_rows": null,
            "height": null,
            "justify_content": null,
            "justify_items": null,
            "left": null,
            "margin": null,
            "max_height": null,
            "max_width": null,
            "min_height": null,
            "min_width": null,
            "object_fit": null,
            "object_position": null,
            "order": null,
            "overflow": null,
            "overflow_x": null,
            "overflow_y": null,
            "padding": null,
            "right": null,
            "top": null,
            "visibility": null,
            "width": null
          }
        },
        "ba2ce12825d04d8db051b8d74128fd50": {
          "model_module": "@jupyter-widgets/controls",
          "model_name": "DescriptionStyleModel",
          "model_module_version": "1.5.0",
          "state": {
            "_model_module": "@jupyter-widgets/controls",
            "_model_module_version": "1.5.0",
            "_model_name": "DescriptionStyleModel",
            "_view_count": null,
            "_view_module": "@jupyter-widgets/base",
            "_view_module_version": "1.2.0",
            "_view_name": "StyleView",
            "description_width": ""
          }
        },
        "bde9fab12d704d0fa91ce379325dd52f": {
          "model_module": "@jupyter-widgets/base",
          "model_name": "LayoutModel",
          "model_module_version": "1.2.0",
          "state": {
            "_model_module": "@jupyter-widgets/base",
            "_model_module_version": "1.2.0",
            "_model_name": "LayoutModel",
            "_view_count": null,
            "_view_module": "@jupyter-widgets/base",
            "_view_module_version": "1.2.0",
            "_view_name": "LayoutView",
            "align_content": null,
            "align_items": null,
            "align_self": null,
            "border": null,
            "bottom": null,
            "display": null,
            "flex": null,
            "flex_flow": null,
            "grid_area": null,
            "grid_auto_columns": null,
            "grid_auto_flow": null,
            "grid_auto_rows": null,
            "grid_column": null,
            "grid_gap": null,
            "grid_row": null,
            "grid_template_areas": null,
            "grid_template_columns": null,
            "grid_template_rows": null,
            "height": null,
            "justify_content": null,
            "justify_items": null,
            "left": null,
            "margin": null,
            "max_height": null,
            "max_width": null,
            "min_height": null,
            "min_width": null,
            "object_fit": null,
            "object_position": null,
            "order": null,
            "overflow": null,
            "overflow_x": null,
            "overflow_y": null,
            "padding": null,
            "right": null,
            "top": null,
            "visibility": null,
            "width": null
          }
        },
        "b790b9bf52c448a28ab0ecde8a579a1b": {
          "model_module": "@jupyter-widgets/controls",
          "model_name": "ProgressStyleModel",
          "model_module_version": "1.5.0",
          "state": {
            "_model_module": "@jupyter-widgets/controls",
            "_model_module_version": "1.5.0",
            "_model_name": "ProgressStyleModel",
            "_view_count": null,
            "_view_module": "@jupyter-widgets/base",
            "_view_module_version": "1.2.0",
            "_view_name": "StyleView",
            "bar_color": null,
            "description_width": ""
          }
        },
        "70b0b793dff141e88c6b8080596c09cd": {
          "model_module": "@jupyter-widgets/base",
          "model_name": "LayoutModel",
          "model_module_version": "1.2.0",
          "state": {
            "_model_module": "@jupyter-widgets/base",
            "_model_module_version": "1.2.0",
            "_model_name": "LayoutModel",
            "_view_count": null,
            "_view_module": "@jupyter-widgets/base",
            "_view_module_version": "1.2.0",
            "_view_name": "LayoutView",
            "align_content": null,
            "align_items": null,
            "align_self": null,
            "border": null,
            "bottom": null,
            "display": null,
            "flex": null,
            "flex_flow": null,
            "grid_area": null,
            "grid_auto_columns": null,
            "grid_auto_flow": null,
            "grid_auto_rows": null,
            "grid_column": null,
            "grid_gap": null,
            "grid_row": null,
            "grid_template_areas": null,
            "grid_template_columns": null,
            "grid_template_rows": null,
            "height": null,
            "justify_content": null,
            "justify_items": null,
            "left": null,
            "margin": null,
            "max_height": null,
            "max_width": null,
            "min_height": null,
            "min_width": null,
            "object_fit": null,
            "object_position": null,
            "order": null,
            "overflow": null,
            "overflow_x": null,
            "overflow_y": null,
            "padding": null,
            "right": null,
            "top": null,
            "visibility": null,
            "width": null
          }
        },
        "7f79e107d52b48929f2e2e856ad23dcb": {
          "model_module": "@jupyter-widgets/controls",
          "model_name": "DescriptionStyleModel",
          "model_module_version": "1.5.0",
          "state": {
            "_model_module": "@jupyter-widgets/controls",
            "_model_module_version": "1.5.0",
            "_model_name": "DescriptionStyleModel",
            "_view_count": null,
            "_view_module": "@jupyter-widgets/base",
            "_view_module_version": "1.2.0",
            "_view_name": "StyleView",
            "description_width": ""
          }
        },
        "85c5230bbece4e7b896835d475c5ed94": {
          "model_module": "@jupyter-widgets/controls",
          "model_name": "HBoxModel",
          "model_module_version": "1.5.0",
          "state": {
            "_dom_classes": [],
            "_model_module": "@jupyter-widgets/controls",
            "_model_module_version": "1.5.0",
            "_model_name": "HBoxModel",
            "_view_count": null,
            "_view_module": "@jupyter-widgets/controls",
            "_view_module_version": "1.5.0",
            "_view_name": "HBoxView",
            "box_style": "",
            "children": [
              "IPY_MODEL_473f1566f61540698dd384cf69cc7181",
              "IPY_MODEL_66f9b9c72ead4af0b26e9c7218d51fb0",
              "IPY_MODEL_1a888713a3d048d5a694e6f41674fad7"
            ],
            "layout": "IPY_MODEL_42851b688ffd4516831b351c50ce8f1a"
          }
        },
        "473f1566f61540698dd384cf69cc7181": {
          "model_module": "@jupyter-widgets/controls",
          "model_name": "HTMLModel",
          "model_module_version": "1.5.0",
          "state": {
            "_dom_classes": [],
            "_model_module": "@jupyter-widgets/controls",
            "_model_module_version": "1.5.0",
            "_model_name": "HTMLModel",
            "_view_count": null,
            "_view_module": "@jupyter-widgets/controls",
            "_view_module_version": "1.5.0",
            "_view_name": "HTMLView",
            "description": "",
            "description_tooltip": null,
            "layout": "IPY_MODEL_e6a60f58e9514c779a269bc64f9504bc",
            "placeholder": "​",
            "style": "IPY_MODEL_6570ed5558af4a40840cae21d55e13bb",
            "value": "tokenizer_config.json: 100%"
          }
        },
        "66f9b9c72ead4af0b26e9c7218d51fb0": {
          "model_module": "@jupyter-widgets/controls",
          "model_name": "FloatProgressModel",
          "model_module_version": "1.5.0",
          "state": {
            "_dom_classes": [],
            "_model_module": "@jupyter-widgets/controls",
            "_model_module_version": "1.5.0",
            "_model_name": "FloatProgressModel",
            "_view_count": null,
            "_view_module": "@jupyter-widgets/controls",
            "_view_module_version": "1.5.0",
            "_view_name": "ProgressView",
            "bar_style": "success",
            "description": "",
            "description_tooltip": null,
            "layout": "IPY_MODEL_ac758beccb1b4ae68b129adc950848db",
            "max": 1237,
            "min": 0,
            "orientation": "horizontal",
            "style": "IPY_MODEL_9a92df59479441e699aacfa17ecb7a5a",
            "value": 1237
          }
        },
        "1a888713a3d048d5a694e6f41674fad7": {
          "model_module": "@jupyter-widgets/controls",
          "model_name": "HTMLModel",
          "model_module_version": "1.5.0",
          "state": {
            "_dom_classes": [],
            "_model_module": "@jupyter-widgets/controls",
            "_model_module_version": "1.5.0",
            "_model_name": "HTMLModel",
            "_view_count": null,
            "_view_module": "@jupyter-widgets/controls",
            "_view_module_version": "1.5.0",
            "_view_name": "HTMLView",
            "description": "",
            "description_tooltip": null,
            "layout": "IPY_MODEL_0b3e0354e23c4bdf8dbd173c3cb76af1",
            "placeholder": "​",
            "style": "IPY_MODEL_04e3e2e93001488481fe8480ec7424e8",
            "value": " 1.24k/1.24k [00:00&lt;00:00, 115kB/s]"
          }
        },
        "42851b688ffd4516831b351c50ce8f1a": {
          "model_module": "@jupyter-widgets/base",
          "model_name": "LayoutModel",
          "model_module_version": "1.2.0",
          "state": {
            "_model_module": "@jupyter-widgets/base",
            "_model_module_version": "1.2.0",
            "_model_name": "LayoutModel",
            "_view_count": null,
            "_view_module": "@jupyter-widgets/base",
            "_view_module_version": "1.2.0",
            "_view_name": "LayoutView",
            "align_content": null,
            "align_items": null,
            "align_self": null,
            "border": null,
            "bottom": null,
            "display": null,
            "flex": null,
            "flex_flow": null,
            "grid_area": null,
            "grid_auto_columns": null,
            "grid_auto_flow": null,
            "grid_auto_rows": null,
            "grid_column": null,
            "grid_gap": null,
            "grid_row": null,
            "grid_template_areas": null,
            "grid_template_columns": null,
            "grid_template_rows": null,
            "height": null,
            "justify_content": null,
            "justify_items": null,
            "left": null,
            "margin": null,
            "max_height": null,
            "max_width": null,
            "min_height": null,
            "min_width": null,
            "object_fit": null,
            "object_position": null,
            "order": null,
            "overflow": null,
            "overflow_x": null,
            "overflow_y": null,
            "padding": null,
            "right": null,
            "top": null,
            "visibility": null,
            "width": null
          }
        },
        "e6a60f58e9514c779a269bc64f9504bc": {
          "model_module": "@jupyter-widgets/base",
          "model_name": "LayoutModel",
          "model_module_version": "1.2.0",
          "state": {
            "_model_module": "@jupyter-widgets/base",
            "_model_module_version": "1.2.0",
            "_model_name": "LayoutModel",
            "_view_count": null,
            "_view_module": "@jupyter-widgets/base",
            "_view_module_version": "1.2.0",
            "_view_name": "LayoutView",
            "align_content": null,
            "align_items": null,
            "align_self": null,
            "border": null,
            "bottom": null,
            "display": null,
            "flex": null,
            "flex_flow": null,
            "grid_area": null,
            "grid_auto_columns": null,
            "grid_auto_flow": null,
            "grid_auto_rows": null,
            "grid_column": null,
            "grid_gap": null,
            "grid_row": null,
            "grid_template_areas": null,
            "grid_template_columns": null,
            "grid_template_rows": null,
            "height": null,
            "justify_content": null,
            "justify_items": null,
            "left": null,
            "margin": null,
            "max_height": null,
            "max_width": null,
            "min_height": null,
            "min_width": null,
            "object_fit": null,
            "object_position": null,
            "order": null,
            "overflow": null,
            "overflow_x": null,
            "overflow_y": null,
            "padding": null,
            "right": null,
            "top": null,
            "visibility": null,
            "width": null
          }
        },
        "6570ed5558af4a40840cae21d55e13bb": {
          "model_module": "@jupyter-widgets/controls",
          "model_name": "DescriptionStyleModel",
          "model_module_version": "1.5.0",
          "state": {
            "_model_module": "@jupyter-widgets/controls",
            "_model_module_version": "1.5.0",
            "_model_name": "DescriptionStyleModel",
            "_view_count": null,
            "_view_module": "@jupyter-widgets/base",
            "_view_module_version": "1.2.0",
            "_view_name": "StyleView",
            "description_width": ""
          }
        },
        "ac758beccb1b4ae68b129adc950848db": {
          "model_module": "@jupyter-widgets/base",
          "model_name": "LayoutModel",
          "model_module_version": "1.2.0",
          "state": {
            "_model_module": "@jupyter-widgets/base",
            "_model_module_version": "1.2.0",
            "_model_name": "LayoutModel",
            "_view_count": null,
            "_view_module": "@jupyter-widgets/base",
            "_view_module_version": "1.2.0",
            "_view_name": "LayoutView",
            "align_content": null,
            "align_items": null,
            "align_self": null,
            "border": null,
            "bottom": null,
            "display": null,
            "flex": null,
            "flex_flow": null,
            "grid_area": null,
            "grid_auto_columns": null,
            "grid_auto_flow": null,
            "grid_auto_rows": null,
            "grid_column": null,
            "grid_gap": null,
            "grid_row": null,
            "grid_template_areas": null,
            "grid_template_columns": null,
            "grid_template_rows": null,
            "height": null,
            "justify_content": null,
            "justify_items": null,
            "left": null,
            "margin": null,
            "max_height": null,
            "max_width": null,
            "min_height": null,
            "min_width": null,
            "object_fit": null,
            "object_position": null,
            "order": null,
            "overflow": null,
            "overflow_x": null,
            "overflow_y": null,
            "padding": null,
            "right": null,
            "top": null,
            "visibility": null,
            "width": null
          }
        },
        "9a92df59479441e699aacfa17ecb7a5a": {
          "model_module": "@jupyter-widgets/controls",
          "model_name": "ProgressStyleModel",
          "model_module_version": "1.5.0",
          "state": {
            "_model_module": "@jupyter-widgets/controls",
            "_model_module_version": "1.5.0",
            "_model_name": "ProgressStyleModel",
            "_view_count": null,
            "_view_module": "@jupyter-widgets/base",
            "_view_module_version": "1.2.0",
            "_view_name": "StyleView",
            "bar_color": null,
            "description_width": ""
          }
        },
        "0b3e0354e23c4bdf8dbd173c3cb76af1": {
          "model_module": "@jupyter-widgets/base",
          "model_name": "LayoutModel",
          "model_module_version": "1.2.0",
          "state": {
            "_model_module": "@jupyter-widgets/base",
            "_model_module_version": "1.2.0",
            "_model_name": "LayoutModel",
            "_view_count": null,
            "_view_module": "@jupyter-widgets/base",
            "_view_module_version": "1.2.0",
            "_view_name": "LayoutView",
            "align_content": null,
            "align_items": null,
            "align_self": null,
            "border": null,
            "bottom": null,
            "display": null,
            "flex": null,
            "flex_flow": null,
            "grid_area": null,
            "grid_auto_columns": null,
            "grid_auto_flow": null,
            "grid_auto_rows": null,
            "grid_column": null,
            "grid_gap": null,
            "grid_row": null,
            "grid_template_areas": null,
            "grid_template_columns": null,
            "grid_template_rows": null,
            "height": null,
            "justify_content": null,
            "justify_items": null,
            "left": null,
            "margin": null,
            "max_height": null,
            "max_width": null,
            "min_height": null,
            "min_width": null,
            "object_fit": null,
            "object_position": null,
            "order": null,
            "overflow": null,
            "overflow_x": null,
            "overflow_y": null,
            "padding": null,
            "right": null,
            "top": null,
            "visibility": null,
            "width": null
          }
        },
        "04e3e2e93001488481fe8480ec7424e8": {
          "model_module": "@jupyter-widgets/controls",
          "model_name": "DescriptionStyleModel",
          "model_module_version": "1.5.0",
          "state": {
            "_model_module": "@jupyter-widgets/controls",
            "_model_module_version": "1.5.0",
            "_model_name": "DescriptionStyleModel",
            "_view_count": null,
            "_view_module": "@jupyter-widgets/base",
            "_view_module_version": "1.2.0",
            "_view_name": "StyleView",
            "description_width": ""
          }
        },
        "c330009857ee45319e17b1fa70c3c2bb": {
          "model_module": "@jupyter-widgets/controls",
          "model_name": "HBoxModel",
          "model_module_version": "1.5.0",
          "state": {
            "_dom_classes": [],
            "_model_module": "@jupyter-widgets/controls",
            "_model_module_version": "1.5.0",
            "_model_name": "HBoxModel",
            "_view_count": null,
            "_view_module": "@jupyter-widgets/controls",
            "_view_module_version": "1.5.0",
            "_view_name": "HBoxView",
            "box_style": "",
            "children": [
              "IPY_MODEL_4cbe699f99ac440e9d017ec933aa6a07",
              "IPY_MODEL_f2159667556747b78bde53e00c90a319",
              "IPY_MODEL_ec4187696c5f4b4f8cf785ce9d194825"
            ],
            "layout": "IPY_MODEL_b40d6e8dafec4745a0101f6f340a1cd7"
          }
        },
        "4cbe699f99ac440e9d017ec933aa6a07": {
          "model_module": "@jupyter-widgets/controls",
          "model_name": "HTMLModel",
          "model_module_version": "1.5.0",
          "state": {
            "_dom_classes": [],
            "_model_module": "@jupyter-widgets/controls",
            "_model_module_version": "1.5.0",
            "_model_name": "HTMLModel",
            "_view_count": null,
            "_view_module": "@jupyter-widgets/controls",
            "_view_module_version": "1.5.0",
            "_view_name": "HTMLView",
            "description": "",
            "description_tooltip": null,
            "layout": "IPY_MODEL_79c8269016fe4d97a15f9bdc54b39b7f",
            "placeholder": "​",
            "style": "IPY_MODEL_3c571c6416bc4a628b63f08e88caf9ce",
            "value": "vocab.txt: 100%"
          }
        },
        "f2159667556747b78bde53e00c90a319": {
          "model_module": "@jupyter-widgets/controls",
          "model_name": "FloatProgressModel",
          "model_module_version": "1.5.0",
          "state": {
            "_dom_classes": [],
            "_model_module": "@jupyter-widgets/controls",
            "_model_module_version": "1.5.0",
            "_model_name": "FloatProgressModel",
            "_view_count": null,
            "_view_module": "@jupyter-widgets/controls",
            "_view_module_version": "1.5.0",
            "_view_name": "ProgressView",
            "bar_style": "success",
            "description": "",
            "description_tooltip": null,
            "layout": "IPY_MODEL_4529c6b5e8694bf1b99ed7a01208db4c",
            "max": 231508,
            "min": 0,
            "orientation": "horizontal",
            "style": "IPY_MODEL_ac75e14c3f354b91ae1bae97b31de9e4",
            "value": 231508
          }
        },
        "ec4187696c5f4b4f8cf785ce9d194825": {
          "model_module": "@jupyter-widgets/controls",
          "model_name": "HTMLModel",
          "model_module_version": "1.5.0",
          "state": {
            "_dom_classes": [],
            "_model_module": "@jupyter-widgets/controls",
            "_model_module_version": "1.5.0",
            "_model_name": "HTMLModel",
            "_view_count": null,
            "_view_module": "@jupyter-widgets/controls",
            "_view_module_version": "1.5.0",
            "_view_name": "HTMLView",
            "description": "",
            "description_tooltip": null,
            "layout": "IPY_MODEL_4b58a3382ca74591bdf3ce27d75178e8",
            "placeholder": "​",
            "style": "IPY_MODEL_9b8460696f0047b08179e27f38a7c708",
            "value": " 232k/232k [00:00&lt;00:00, 1.74MB/s]"
          }
        },
        "b40d6e8dafec4745a0101f6f340a1cd7": {
          "model_module": "@jupyter-widgets/base",
          "model_name": "LayoutModel",
          "model_module_version": "1.2.0",
          "state": {
            "_model_module": "@jupyter-widgets/base",
            "_model_module_version": "1.2.0",
            "_model_name": "LayoutModel",
            "_view_count": null,
            "_view_module": "@jupyter-widgets/base",
            "_view_module_version": "1.2.0",
            "_view_name": "LayoutView",
            "align_content": null,
            "align_items": null,
            "align_self": null,
            "border": null,
            "bottom": null,
            "display": null,
            "flex": null,
            "flex_flow": null,
            "grid_area": null,
            "grid_auto_columns": null,
            "grid_auto_flow": null,
            "grid_auto_rows": null,
            "grid_column": null,
            "grid_gap": null,
            "grid_row": null,
            "grid_template_areas": null,
            "grid_template_columns": null,
            "grid_template_rows": null,
            "height": null,
            "justify_content": null,
            "justify_items": null,
            "left": null,
            "margin": null,
            "max_height": null,
            "max_width": null,
            "min_height": null,
            "min_width": null,
            "object_fit": null,
            "object_position": null,
            "order": null,
            "overflow": null,
            "overflow_x": null,
            "overflow_y": null,
            "padding": null,
            "right": null,
            "top": null,
            "visibility": null,
            "width": null
          }
        },
        "79c8269016fe4d97a15f9bdc54b39b7f": {
          "model_module": "@jupyter-widgets/base",
          "model_name": "LayoutModel",
          "model_module_version": "1.2.0",
          "state": {
            "_model_module": "@jupyter-widgets/base",
            "_model_module_version": "1.2.0",
            "_model_name": "LayoutModel",
            "_view_count": null,
            "_view_module": "@jupyter-widgets/base",
            "_view_module_version": "1.2.0",
            "_view_name": "LayoutView",
            "align_content": null,
            "align_items": null,
            "align_self": null,
            "border": null,
            "bottom": null,
            "display": null,
            "flex": null,
            "flex_flow": null,
            "grid_area": null,
            "grid_auto_columns": null,
            "grid_auto_flow": null,
            "grid_auto_rows": null,
            "grid_column": null,
            "grid_gap": null,
            "grid_row": null,
            "grid_template_areas": null,
            "grid_template_columns": null,
            "grid_template_rows": null,
            "height": null,
            "justify_content": null,
            "justify_items": null,
            "left": null,
            "margin": null,
            "max_height": null,
            "max_width": null,
            "min_height": null,
            "min_width": null,
            "object_fit": null,
            "object_position": null,
            "order": null,
            "overflow": null,
            "overflow_x": null,
            "overflow_y": null,
            "padding": null,
            "right": null,
            "top": null,
            "visibility": null,
            "width": null
          }
        },
        "3c571c6416bc4a628b63f08e88caf9ce": {
          "model_module": "@jupyter-widgets/controls",
          "model_name": "DescriptionStyleModel",
          "model_module_version": "1.5.0",
          "state": {
            "_model_module": "@jupyter-widgets/controls",
            "_model_module_version": "1.5.0",
            "_model_name": "DescriptionStyleModel",
            "_view_count": null,
            "_view_module": "@jupyter-widgets/base",
            "_view_module_version": "1.2.0",
            "_view_name": "StyleView",
            "description_width": ""
          }
        },
        "4529c6b5e8694bf1b99ed7a01208db4c": {
          "model_module": "@jupyter-widgets/base",
          "model_name": "LayoutModel",
          "model_module_version": "1.2.0",
          "state": {
            "_model_module": "@jupyter-widgets/base",
            "_model_module_version": "1.2.0",
            "_model_name": "LayoutModel",
            "_view_count": null,
            "_view_module": "@jupyter-widgets/base",
            "_view_module_version": "1.2.0",
            "_view_name": "LayoutView",
            "align_content": null,
            "align_items": null,
            "align_self": null,
            "border": null,
            "bottom": null,
            "display": null,
            "flex": null,
            "flex_flow": null,
            "grid_area": null,
            "grid_auto_columns": null,
            "grid_auto_flow": null,
            "grid_auto_rows": null,
            "grid_column": null,
            "grid_gap": null,
            "grid_row": null,
            "grid_template_areas": null,
            "grid_template_columns": null,
            "grid_template_rows": null,
            "height": null,
            "justify_content": null,
            "justify_items": null,
            "left": null,
            "margin": null,
            "max_height": null,
            "max_width": null,
            "min_height": null,
            "min_width": null,
            "object_fit": null,
            "object_position": null,
            "order": null,
            "overflow": null,
            "overflow_x": null,
            "overflow_y": null,
            "padding": null,
            "right": null,
            "top": null,
            "visibility": null,
            "width": null
          }
        },
        "ac75e14c3f354b91ae1bae97b31de9e4": {
          "model_module": "@jupyter-widgets/controls",
          "model_name": "ProgressStyleModel",
          "model_module_version": "1.5.0",
          "state": {
            "_model_module": "@jupyter-widgets/controls",
            "_model_module_version": "1.5.0",
            "_model_name": "ProgressStyleModel",
            "_view_count": null,
            "_view_module": "@jupyter-widgets/base",
            "_view_module_version": "1.2.0",
            "_view_name": "StyleView",
            "bar_color": null,
            "description_width": ""
          }
        },
        "4b58a3382ca74591bdf3ce27d75178e8": {
          "model_module": "@jupyter-widgets/base",
          "model_name": "LayoutModel",
          "model_module_version": "1.2.0",
          "state": {
            "_model_module": "@jupyter-widgets/base",
            "_model_module_version": "1.2.0",
            "_model_name": "LayoutModel",
            "_view_count": null,
            "_view_module": "@jupyter-widgets/base",
            "_view_module_version": "1.2.0",
            "_view_name": "LayoutView",
            "align_content": null,
            "align_items": null,
            "align_self": null,
            "border": null,
            "bottom": null,
            "display": null,
            "flex": null,
            "flex_flow": null,
            "grid_area": null,
            "grid_auto_columns": null,
            "grid_auto_flow": null,
            "grid_auto_rows": null,
            "grid_column": null,
            "grid_gap": null,
            "grid_row": null,
            "grid_template_areas": null,
            "grid_template_columns": null,
            "grid_template_rows": null,
            "height": null,
            "justify_content": null,
            "justify_items": null,
            "left": null,
            "margin": null,
            "max_height": null,
            "max_width": null,
            "min_height": null,
            "min_width": null,
            "object_fit": null,
            "object_position": null,
            "order": null,
            "overflow": null,
            "overflow_x": null,
            "overflow_y": null,
            "padding": null,
            "right": null,
            "top": null,
            "visibility": null,
            "width": null
          }
        },
        "9b8460696f0047b08179e27f38a7c708": {
          "model_module": "@jupyter-widgets/controls",
          "model_name": "DescriptionStyleModel",
          "model_module_version": "1.5.0",
          "state": {
            "_model_module": "@jupyter-widgets/controls",
            "_model_module_version": "1.5.0",
            "_model_name": "DescriptionStyleModel",
            "_view_count": null,
            "_view_module": "@jupyter-widgets/base",
            "_view_module_version": "1.2.0",
            "_view_name": "StyleView",
            "description_width": ""
          }
        },
        "588fb8f19ad54cb7bf9b65564236c59d": {
          "model_module": "@jupyter-widgets/controls",
          "model_name": "HBoxModel",
          "model_module_version": "1.5.0",
          "state": {
            "_dom_classes": [],
            "_model_module": "@jupyter-widgets/controls",
            "_model_module_version": "1.5.0",
            "_model_name": "HBoxModel",
            "_view_count": null,
            "_view_module": "@jupyter-widgets/controls",
            "_view_module_version": "1.5.0",
            "_view_name": "HBoxView",
            "box_style": "",
            "children": [
              "IPY_MODEL_3c565009bea54e40a96369697c5d7010",
              "IPY_MODEL_46865d3d07544da0b8dac7ded3be8fc2",
              "IPY_MODEL_6df5e7fcd7384e2486e59b6c45a184d1"
            ],
            "layout": "IPY_MODEL_9a4a723ce10540a8bda3d1ecb5abbd37"
          }
        },
        "3c565009bea54e40a96369697c5d7010": {
          "model_module": "@jupyter-widgets/controls",
          "model_name": "HTMLModel",
          "model_module_version": "1.5.0",
          "state": {
            "_dom_classes": [],
            "_model_module": "@jupyter-widgets/controls",
            "_model_module_version": "1.5.0",
            "_model_name": "HTMLModel",
            "_view_count": null,
            "_view_module": "@jupyter-widgets/controls",
            "_view_module_version": "1.5.0",
            "_view_name": "HTMLView",
            "description": "",
            "description_tooltip": null,
            "layout": "IPY_MODEL_44c7004003aa4e84914ea34a0f136a3b",
            "placeholder": "​",
            "style": "IPY_MODEL_fa3ffa74be5541e4aff7e0478d9c9a98",
            "value": "tokenizer.json: 100%"
          }
        },
        "46865d3d07544da0b8dac7ded3be8fc2": {
          "model_module": "@jupyter-widgets/controls",
          "model_name": "FloatProgressModel",
          "model_module_version": "1.5.0",
          "state": {
            "_dom_classes": [],
            "_model_module": "@jupyter-widgets/controls",
            "_model_module_version": "1.5.0",
            "_model_name": "FloatProgressModel",
            "_view_count": null,
            "_view_module": "@jupyter-widgets/controls",
            "_view_module_version": "1.5.0",
            "_view_name": "ProgressView",
            "bar_style": "success",
            "description": "",
            "description_tooltip": null,
            "layout": "IPY_MODEL_dd9a256dbb7f479ebf4962c1618bd1af",
            "max": 711396,
            "min": 0,
            "orientation": "horizontal",
            "style": "IPY_MODEL_15e5ed15918f4ae984d8c9043832cb98",
            "value": 711396
          }
        },
        "6df5e7fcd7384e2486e59b6c45a184d1": {
          "model_module": "@jupyter-widgets/controls",
          "model_name": "HTMLModel",
          "model_module_version": "1.5.0",
          "state": {
            "_dom_classes": [],
            "_model_module": "@jupyter-widgets/controls",
            "_model_module_version": "1.5.0",
            "_model_name": "HTMLModel",
            "_view_count": null,
            "_view_module": "@jupyter-widgets/controls",
            "_view_module_version": "1.5.0",
            "_view_name": "HTMLView",
            "description": "",
            "description_tooltip": null,
            "layout": "IPY_MODEL_1dd5d23cd39740e398c2415fafba59a3",
            "placeholder": "​",
            "style": "IPY_MODEL_cc422f9caec748cfbfdd742f6ead4093",
            "value": " 711k/711k [00:00&lt;00:00, 3.26MB/s]"
          }
        },
        "9a4a723ce10540a8bda3d1ecb5abbd37": {
          "model_module": "@jupyter-widgets/base",
          "model_name": "LayoutModel",
          "model_module_version": "1.2.0",
          "state": {
            "_model_module": "@jupyter-widgets/base",
            "_model_module_version": "1.2.0",
            "_model_name": "LayoutModel",
            "_view_count": null,
            "_view_module": "@jupyter-widgets/base",
            "_view_module_version": "1.2.0",
            "_view_name": "LayoutView",
            "align_content": null,
            "align_items": null,
            "align_self": null,
            "border": null,
            "bottom": null,
            "display": null,
            "flex": null,
            "flex_flow": null,
            "grid_area": null,
            "grid_auto_columns": null,
            "grid_auto_flow": null,
            "grid_auto_rows": null,
            "grid_column": null,
            "grid_gap": null,
            "grid_row": null,
            "grid_template_areas": null,
            "grid_template_columns": null,
            "grid_template_rows": null,
            "height": null,
            "justify_content": null,
            "justify_items": null,
            "left": null,
            "margin": null,
            "max_height": null,
            "max_width": null,
            "min_height": null,
            "min_width": null,
            "object_fit": null,
            "object_position": null,
            "order": null,
            "overflow": null,
            "overflow_x": null,
            "overflow_y": null,
            "padding": null,
            "right": null,
            "top": null,
            "visibility": null,
            "width": null
          }
        },
        "44c7004003aa4e84914ea34a0f136a3b": {
          "model_module": "@jupyter-widgets/base",
          "model_name": "LayoutModel",
          "model_module_version": "1.2.0",
          "state": {
            "_model_module": "@jupyter-widgets/base",
            "_model_module_version": "1.2.0",
            "_model_name": "LayoutModel",
            "_view_count": null,
            "_view_module": "@jupyter-widgets/base",
            "_view_module_version": "1.2.0",
            "_view_name": "LayoutView",
            "align_content": null,
            "align_items": null,
            "align_self": null,
            "border": null,
            "bottom": null,
            "display": null,
            "flex": null,
            "flex_flow": null,
            "grid_area": null,
            "grid_auto_columns": null,
            "grid_auto_flow": null,
            "grid_auto_rows": null,
            "grid_column": null,
            "grid_gap": null,
            "grid_row": null,
            "grid_template_areas": null,
            "grid_template_columns": null,
            "grid_template_rows": null,
            "height": null,
            "justify_content": null,
            "justify_items": null,
            "left": null,
            "margin": null,
            "max_height": null,
            "max_width": null,
            "min_height": null,
            "min_width": null,
            "object_fit": null,
            "object_position": null,
            "order": null,
            "overflow": null,
            "overflow_x": null,
            "overflow_y": null,
            "padding": null,
            "right": null,
            "top": null,
            "visibility": null,
            "width": null
          }
        },
        "fa3ffa74be5541e4aff7e0478d9c9a98": {
          "model_module": "@jupyter-widgets/controls",
          "model_name": "DescriptionStyleModel",
          "model_module_version": "1.5.0",
          "state": {
            "_model_module": "@jupyter-widgets/controls",
            "_model_module_version": "1.5.0",
            "_model_name": "DescriptionStyleModel",
            "_view_count": null,
            "_view_module": "@jupyter-widgets/base",
            "_view_module_version": "1.2.0",
            "_view_name": "StyleView",
            "description_width": ""
          }
        },
        "dd9a256dbb7f479ebf4962c1618bd1af": {
          "model_module": "@jupyter-widgets/base",
          "model_name": "LayoutModel",
          "model_module_version": "1.2.0",
          "state": {
            "_model_module": "@jupyter-widgets/base",
            "_model_module_version": "1.2.0",
            "_model_name": "LayoutModel",
            "_view_count": null,
            "_view_module": "@jupyter-widgets/base",
            "_view_module_version": "1.2.0",
            "_view_name": "LayoutView",
            "align_content": null,
            "align_items": null,
            "align_self": null,
            "border": null,
            "bottom": null,
            "display": null,
            "flex": null,
            "flex_flow": null,
            "grid_area": null,
            "grid_auto_columns": null,
            "grid_auto_flow": null,
            "grid_auto_rows": null,
            "grid_column": null,
            "grid_gap": null,
            "grid_row": null,
            "grid_template_areas": null,
            "grid_template_columns": null,
            "grid_template_rows": null,
            "height": null,
            "justify_content": null,
            "justify_items": null,
            "left": null,
            "margin": null,
            "max_height": null,
            "max_width": null,
            "min_height": null,
            "min_width": null,
            "object_fit": null,
            "object_position": null,
            "order": null,
            "overflow": null,
            "overflow_x": null,
            "overflow_y": null,
            "padding": null,
            "right": null,
            "top": null,
            "visibility": null,
            "width": null
          }
        },
        "15e5ed15918f4ae984d8c9043832cb98": {
          "model_module": "@jupyter-widgets/controls",
          "model_name": "ProgressStyleModel",
          "model_module_version": "1.5.0",
          "state": {
            "_model_module": "@jupyter-widgets/controls",
            "_model_module_version": "1.5.0",
            "_model_name": "ProgressStyleModel",
            "_view_count": null,
            "_view_module": "@jupyter-widgets/base",
            "_view_module_version": "1.2.0",
            "_view_name": "StyleView",
            "bar_color": null,
            "description_width": ""
          }
        },
        "1dd5d23cd39740e398c2415fafba59a3": {
          "model_module": "@jupyter-widgets/base",
          "model_name": "LayoutModel",
          "model_module_version": "1.2.0",
          "state": {
            "_model_module": "@jupyter-widgets/base",
            "_model_module_version": "1.2.0",
            "_model_name": "LayoutModel",
            "_view_count": null,
            "_view_module": "@jupyter-widgets/base",
            "_view_module_version": "1.2.0",
            "_view_name": "LayoutView",
            "align_content": null,
            "align_items": null,
            "align_self": null,
            "border": null,
            "bottom": null,
            "display": null,
            "flex": null,
            "flex_flow": null,
            "grid_area": null,
            "grid_auto_columns": null,
            "grid_auto_flow": null,
            "grid_auto_rows": null,
            "grid_column": null,
            "grid_gap": null,
            "grid_row": null,
            "grid_template_areas": null,
            "grid_template_columns": null,
            "grid_template_rows": null,
            "height": null,
            "justify_content": null,
            "justify_items": null,
            "left": null,
            "margin": null,
            "max_height": null,
            "max_width": null,
            "min_height": null,
            "min_width": null,
            "object_fit": null,
            "object_position": null,
            "order": null,
            "overflow": null,
            "overflow_x": null,
            "overflow_y": null,
            "padding": null,
            "right": null,
            "top": null,
            "visibility": null,
            "width": null
          }
        },
        "cc422f9caec748cfbfdd742f6ead4093": {
          "model_module": "@jupyter-widgets/controls",
          "model_name": "DescriptionStyleModel",
          "model_module_version": "1.5.0",
          "state": {
            "_model_module": "@jupyter-widgets/controls",
            "_model_module_version": "1.5.0",
            "_model_name": "DescriptionStyleModel",
            "_view_count": null,
            "_view_module": "@jupyter-widgets/base",
            "_view_module_version": "1.2.0",
            "_view_name": "StyleView",
            "description_width": ""
          }
        },
        "a7c9cd914aca481d867a09c6a5dd120c": {
          "model_module": "@jupyter-widgets/controls",
          "model_name": "HBoxModel",
          "model_module_version": "1.5.0",
          "state": {
            "_dom_classes": [],
            "_model_module": "@jupyter-widgets/controls",
            "_model_module_version": "1.5.0",
            "_model_name": "HBoxModel",
            "_view_count": null,
            "_view_module": "@jupyter-widgets/controls",
            "_view_module_version": "1.5.0",
            "_view_name": "HBoxView",
            "box_style": "",
            "children": [
              "IPY_MODEL_f5e59abfd73841819929e6e80fcc41ce",
              "IPY_MODEL_ab779b9df39f47eaa2a8fd93007e67a8",
              "IPY_MODEL_644641fbfa0c462a8edc93f1fc8d1b23"
            ],
            "layout": "IPY_MODEL_ee69545d0ade4366a6f7573abcb64a16"
          }
        },
        "f5e59abfd73841819929e6e80fcc41ce": {
          "model_module": "@jupyter-widgets/controls",
          "model_name": "HTMLModel",
          "model_module_version": "1.5.0",
          "state": {
            "_dom_classes": [],
            "_model_module": "@jupyter-widgets/controls",
            "_model_module_version": "1.5.0",
            "_model_name": "HTMLModel",
            "_view_count": null,
            "_view_module": "@jupyter-widgets/controls",
            "_view_module_version": "1.5.0",
            "_view_name": "HTMLView",
            "description": "",
            "description_tooltip": null,
            "layout": "IPY_MODEL_d09e21f741114541abf8981e5fdf0844",
            "placeholder": "​",
            "style": "IPY_MODEL_cf0c871dd5a347f4a45e1b2c3231a79f",
            "value": "special_tokens_map.json: 100%"
          }
        },
        "ab779b9df39f47eaa2a8fd93007e67a8": {
          "model_module": "@jupyter-widgets/controls",
          "model_name": "FloatProgressModel",
          "model_module_version": "1.5.0",
          "state": {
            "_dom_classes": [],
            "_model_module": "@jupyter-widgets/controls",
            "_model_module_version": "1.5.0",
            "_model_name": "FloatProgressModel",
            "_view_count": null,
            "_view_module": "@jupyter-widgets/controls",
            "_view_module_version": "1.5.0",
            "_view_name": "ProgressView",
            "bar_style": "success",
            "description": "",
            "description_tooltip": null,
            "layout": "IPY_MODEL_673c625eb49347a89b1ef318855514c8",
            "max": 125,
            "min": 0,
            "orientation": "horizontal",
            "style": "IPY_MODEL_19cbfd9d7f59498aa02418c308c231e6",
            "value": 125
          }
        },
        "644641fbfa0c462a8edc93f1fc8d1b23": {
          "model_module": "@jupyter-widgets/controls",
          "model_name": "HTMLModel",
          "model_module_version": "1.5.0",
          "state": {
            "_dom_classes": [],
            "_model_module": "@jupyter-widgets/controls",
            "_model_module_version": "1.5.0",
            "_model_name": "HTMLModel",
            "_view_count": null,
            "_view_module": "@jupyter-widgets/controls",
            "_view_module_version": "1.5.0",
            "_view_name": "HTMLView",
            "description": "",
            "description_tooltip": null,
            "layout": "IPY_MODEL_c93e5dcd46614068ae0ff82679851efa",
            "placeholder": "​",
            "style": "IPY_MODEL_deb593ce0a224880b02601ad8ff01f88",
            "value": " 125/125 [00:00&lt;00:00, 7.82kB/s]"
          }
        },
        "ee69545d0ade4366a6f7573abcb64a16": {
          "model_module": "@jupyter-widgets/base",
          "model_name": "LayoutModel",
          "model_module_version": "1.2.0",
          "state": {
            "_model_module": "@jupyter-widgets/base",
            "_model_module_version": "1.2.0",
            "_model_name": "LayoutModel",
            "_view_count": null,
            "_view_module": "@jupyter-widgets/base",
            "_view_module_version": "1.2.0",
            "_view_name": "LayoutView",
            "align_content": null,
            "align_items": null,
            "align_self": null,
            "border": null,
            "bottom": null,
            "display": null,
            "flex": null,
            "flex_flow": null,
            "grid_area": null,
            "grid_auto_columns": null,
            "grid_auto_flow": null,
            "grid_auto_rows": null,
            "grid_column": null,
            "grid_gap": null,
            "grid_row": null,
            "grid_template_areas": null,
            "grid_template_columns": null,
            "grid_template_rows": null,
            "height": null,
            "justify_content": null,
            "justify_items": null,
            "left": null,
            "margin": null,
            "max_height": null,
            "max_width": null,
            "min_height": null,
            "min_width": null,
            "object_fit": null,
            "object_position": null,
            "order": null,
            "overflow": null,
            "overflow_x": null,
            "overflow_y": null,
            "padding": null,
            "right": null,
            "top": null,
            "visibility": null,
            "width": null
          }
        },
        "d09e21f741114541abf8981e5fdf0844": {
          "model_module": "@jupyter-widgets/base",
          "model_name": "LayoutModel",
          "model_module_version": "1.2.0",
          "state": {
            "_model_module": "@jupyter-widgets/base",
            "_model_module_version": "1.2.0",
            "_model_name": "LayoutModel",
            "_view_count": null,
            "_view_module": "@jupyter-widgets/base",
            "_view_module_version": "1.2.0",
            "_view_name": "LayoutView",
            "align_content": null,
            "align_items": null,
            "align_self": null,
            "border": null,
            "bottom": null,
            "display": null,
            "flex": null,
            "flex_flow": null,
            "grid_area": null,
            "grid_auto_columns": null,
            "grid_auto_flow": null,
            "grid_auto_rows": null,
            "grid_column": null,
            "grid_gap": null,
            "grid_row": null,
            "grid_template_areas": null,
            "grid_template_columns": null,
            "grid_template_rows": null,
            "height": null,
            "justify_content": null,
            "justify_items": null,
            "left": null,
            "margin": null,
            "max_height": null,
            "max_width": null,
            "min_height": null,
            "min_width": null,
            "object_fit": null,
            "object_position": null,
            "order": null,
            "overflow": null,
            "overflow_x": null,
            "overflow_y": null,
            "padding": null,
            "right": null,
            "top": null,
            "visibility": null,
            "width": null
          }
        },
        "cf0c871dd5a347f4a45e1b2c3231a79f": {
          "model_module": "@jupyter-widgets/controls",
          "model_name": "DescriptionStyleModel",
          "model_module_version": "1.5.0",
          "state": {
            "_model_module": "@jupyter-widgets/controls",
            "_model_module_version": "1.5.0",
            "_model_name": "DescriptionStyleModel",
            "_view_count": null,
            "_view_module": "@jupyter-widgets/base",
            "_view_module_version": "1.2.0",
            "_view_name": "StyleView",
            "description_width": ""
          }
        },
        "673c625eb49347a89b1ef318855514c8": {
          "model_module": "@jupyter-widgets/base",
          "model_name": "LayoutModel",
          "model_module_version": "1.2.0",
          "state": {
            "_model_module": "@jupyter-widgets/base",
            "_model_module_version": "1.2.0",
            "_model_name": "LayoutModel",
            "_view_count": null,
            "_view_module": "@jupyter-widgets/base",
            "_view_module_version": "1.2.0",
            "_view_name": "LayoutView",
            "align_content": null,
            "align_items": null,
            "align_self": null,
            "border": null,
            "bottom": null,
            "display": null,
            "flex": null,
            "flex_flow": null,
            "grid_area": null,
            "grid_auto_columns": null,
            "grid_auto_flow": null,
            "grid_auto_rows": null,
            "grid_column": null,
            "grid_gap": null,
            "grid_row": null,
            "grid_template_areas": null,
            "grid_template_columns": null,
            "grid_template_rows": null,
            "height": null,
            "justify_content": null,
            "justify_items": null,
            "left": null,
            "margin": null,
            "max_height": null,
            "max_width": null,
            "min_height": null,
            "min_width": null,
            "object_fit": null,
            "object_position": null,
            "order": null,
            "overflow": null,
            "overflow_x": null,
            "overflow_y": null,
            "padding": null,
            "right": null,
            "top": null,
            "visibility": null,
            "width": null
          }
        },
        "19cbfd9d7f59498aa02418c308c231e6": {
          "model_module": "@jupyter-widgets/controls",
          "model_name": "ProgressStyleModel",
          "model_module_version": "1.5.0",
          "state": {
            "_model_module": "@jupyter-widgets/controls",
            "_model_module_version": "1.5.0",
            "_model_name": "ProgressStyleModel",
            "_view_count": null,
            "_view_module": "@jupyter-widgets/base",
            "_view_module_version": "1.2.0",
            "_view_name": "StyleView",
            "bar_color": null,
            "description_width": ""
          }
        },
        "c93e5dcd46614068ae0ff82679851efa": {
          "model_module": "@jupyter-widgets/base",
          "model_name": "LayoutModel",
          "model_module_version": "1.2.0",
          "state": {
            "_model_module": "@jupyter-widgets/base",
            "_model_module_version": "1.2.0",
            "_model_name": "LayoutModel",
            "_view_count": null,
            "_view_module": "@jupyter-widgets/base",
            "_view_module_version": "1.2.0",
            "_view_name": "LayoutView",
            "align_content": null,
            "align_items": null,
            "align_self": null,
            "border": null,
            "bottom": null,
            "display": null,
            "flex": null,
            "flex_flow": null,
            "grid_area": null,
            "grid_auto_columns": null,
            "grid_auto_flow": null,
            "grid_auto_rows": null,
            "grid_column": null,
            "grid_gap": null,
            "grid_row": null,
            "grid_template_areas": null,
            "grid_template_columns": null,
            "grid_template_rows": null,
            "height": null,
            "justify_content": null,
            "justify_items": null,
            "left": null,
            "margin": null,
            "max_height": null,
            "max_width": null,
            "min_height": null,
            "min_width": null,
            "object_fit": null,
            "object_position": null,
            "order": null,
            "overflow": null,
            "overflow_x": null,
            "overflow_y": null,
            "padding": null,
            "right": null,
            "top": null,
            "visibility": null,
            "width": null
          }
        },
        "deb593ce0a224880b02601ad8ff01f88": {
          "model_module": "@jupyter-widgets/controls",
          "model_name": "DescriptionStyleModel",
          "model_module_version": "1.5.0",
          "state": {
            "_model_module": "@jupyter-widgets/controls",
            "_model_module_version": "1.5.0",
            "_model_name": "DescriptionStyleModel",
            "_view_count": null,
            "_view_module": "@jupyter-widgets/base",
            "_view_module_version": "1.2.0",
            "_view_name": "StyleView",
            "description_width": ""
          }
        },
        "dfc4841a680f4c1a8df9adc0b6706151": {
          "model_module": "@jupyter-widgets/controls",
          "model_name": "HBoxModel",
          "model_module_version": "1.5.0",
          "state": {
            "_dom_classes": [],
            "_model_module": "@jupyter-widgets/controls",
            "_model_module_version": "1.5.0",
            "_model_name": "HBoxModel",
            "_view_count": null,
            "_view_module": "@jupyter-widgets/controls",
            "_view_module_version": "1.5.0",
            "_view_name": "HBoxView",
            "box_style": "",
            "children": [
              "IPY_MODEL_a8e108d1dbab4f1db4ca24238a84d33b",
              "IPY_MODEL_3108d09e16344f2b854a8c1d0c5b636e",
              "IPY_MODEL_d86e15d801e04d21a195a997f8f221c7"
            ],
            "layout": "IPY_MODEL_b9b72647c82e4f76945f25c074bd6208"
          }
        },
        "a8e108d1dbab4f1db4ca24238a84d33b": {
          "model_module": "@jupyter-widgets/controls",
          "model_name": "HTMLModel",
          "model_module_version": "1.5.0",
          "state": {
            "_dom_classes": [],
            "_model_module": "@jupyter-widgets/controls",
            "_model_module_version": "1.5.0",
            "_model_name": "HTMLModel",
            "_view_count": null,
            "_view_module": "@jupyter-widgets/controls",
            "_view_module_version": "1.5.0",
            "_view_name": "HTMLView",
            "description": "",
            "description_tooltip": null,
            "layout": "IPY_MODEL_eaf6b139756e4511b95286e90f566e34",
            "placeholder": "​",
            "style": "IPY_MODEL_892ae62baa404c129f2923c46aac7c7e",
            "value": "config.json: 100%"
          }
        },
        "3108d09e16344f2b854a8c1d0c5b636e": {
          "model_module": "@jupyter-widgets/controls",
          "model_name": "FloatProgressModel",
          "model_module_version": "1.5.0",
          "state": {
            "_dom_classes": [],
            "_model_module": "@jupyter-widgets/controls",
            "_model_module_version": "1.5.0",
            "_model_name": "FloatProgressModel",
            "_view_count": null,
            "_view_module": "@jupyter-widgets/controls",
            "_view_module_version": "1.5.0",
            "_view_name": "ProgressView",
            "bar_style": "success",
            "description": "",
            "description_tooltip": null,
            "layout": "IPY_MODEL_4c95776263674f5381bfee029886f217",
            "max": 1737,
            "min": 0,
            "orientation": "horizontal",
            "style": "IPY_MODEL_868f2c3f477e411e92ecdf491372484c",
            "value": 1737
          }
        },
        "d86e15d801e04d21a195a997f8f221c7": {
          "model_module": "@jupyter-widgets/controls",
          "model_name": "HTMLModel",
          "model_module_version": "1.5.0",
          "state": {
            "_dom_classes": [],
            "_model_module": "@jupyter-widgets/controls",
            "_model_module_version": "1.5.0",
            "_model_name": "HTMLModel",
            "_view_count": null,
            "_view_module": "@jupyter-widgets/controls",
            "_view_module_version": "1.5.0",
            "_view_name": "HTMLView",
            "description": "",
            "description_tooltip": null,
            "layout": "IPY_MODEL_9f504d4db9974283821d2c7634b6f5fa",
            "placeholder": "​",
            "style": "IPY_MODEL_d045fa7cf32a453ab62dcc5766ae901d",
            "value": " 1.74k/1.74k [00:00&lt;00:00, 172kB/s]"
          }
        },
        "b9b72647c82e4f76945f25c074bd6208": {
          "model_module": "@jupyter-widgets/base",
          "model_name": "LayoutModel",
          "model_module_version": "1.2.0",
          "state": {
            "_model_module": "@jupyter-widgets/base",
            "_model_module_version": "1.2.0",
            "_model_name": "LayoutModel",
            "_view_count": null,
            "_view_module": "@jupyter-widgets/base",
            "_view_module_version": "1.2.0",
            "_view_name": "LayoutView",
            "align_content": null,
            "align_items": null,
            "align_self": null,
            "border": null,
            "bottom": null,
            "display": null,
            "flex": null,
            "flex_flow": null,
            "grid_area": null,
            "grid_auto_columns": null,
            "grid_auto_flow": null,
            "grid_auto_rows": null,
            "grid_column": null,
            "grid_gap": null,
            "grid_row": null,
            "grid_template_areas": null,
            "grid_template_columns": null,
            "grid_template_rows": null,
            "height": null,
            "justify_content": null,
            "justify_items": null,
            "left": null,
            "margin": null,
            "max_height": null,
            "max_width": null,
            "min_height": null,
            "min_width": null,
            "object_fit": null,
            "object_position": null,
            "order": null,
            "overflow": null,
            "overflow_x": null,
            "overflow_y": null,
            "padding": null,
            "right": null,
            "top": null,
            "visibility": null,
            "width": null
          }
        },
        "eaf6b139756e4511b95286e90f566e34": {
          "model_module": "@jupyter-widgets/base",
          "model_name": "LayoutModel",
          "model_module_version": "1.2.0",
          "state": {
            "_model_module": "@jupyter-widgets/base",
            "_model_module_version": "1.2.0",
            "_model_name": "LayoutModel",
            "_view_count": null,
            "_view_module": "@jupyter-widgets/base",
            "_view_module_version": "1.2.0",
            "_view_name": "LayoutView",
            "align_content": null,
            "align_items": null,
            "align_self": null,
            "border": null,
            "bottom": null,
            "display": null,
            "flex": null,
            "flex_flow": null,
            "grid_area": null,
            "grid_auto_columns": null,
            "grid_auto_flow": null,
            "grid_auto_rows": null,
            "grid_column": null,
            "grid_gap": null,
            "grid_row": null,
            "grid_template_areas": null,
            "grid_template_columns": null,
            "grid_template_rows": null,
            "height": null,
            "justify_content": null,
            "justify_items": null,
            "left": null,
            "margin": null,
            "max_height": null,
            "max_width": null,
            "min_height": null,
            "min_width": null,
            "object_fit": null,
            "object_position": null,
            "order": null,
            "overflow": null,
            "overflow_x": null,
            "overflow_y": null,
            "padding": null,
            "right": null,
            "top": null,
            "visibility": null,
            "width": null
          }
        },
        "892ae62baa404c129f2923c46aac7c7e": {
          "model_module": "@jupyter-widgets/controls",
          "model_name": "DescriptionStyleModel",
          "model_module_version": "1.5.0",
          "state": {
            "_model_module": "@jupyter-widgets/controls",
            "_model_module_version": "1.5.0",
            "_model_name": "DescriptionStyleModel",
            "_view_count": null,
            "_view_module": "@jupyter-widgets/base",
            "_view_module_version": "1.2.0",
            "_view_name": "StyleView",
            "description_width": ""
          }
        },
        "4c95776263674f5381bfee029886f217": {
          "model_module": "@jupyter-widgets/base",
          "model_name": "LayoutModel",
          "model_module_version": "1.2.0",
          "state": {
            "_model_module": "@jupyter-widgets/base",
            "_model_module_version": "1.2.0",
            "_model_name": "LayoutModel",
            "_view_count": null,
            "_view_module": "@jupyter-widgets/base",
            "_view_module_version": "1.2.0",
            "_view_name": "LayoutView",
            "align_content": null,
            "align_items": null,
            "align_self": null,
            "border": null,
            "bottom": null,
            "display": null,
            "flex": null,
            "flex_flow": null,
            "grid_area": null,
            "grid_auto_columns": null,
            "grid_auto_flow": null,
            "grid_auto_rows": null,
            "grid_column": null,
            "grid_gap": null,
            "grid_row": null,
            "grid_template_areas": null,
            "grid_template_columns": null,
            "grid_template_rows": null,
            "height": null,
            "justify_content": null,
            "justify_items": null,
            "left": null,
            "margin": null,
            "max_height": null,
            "max_width": null,
            "min_height": null,
            "min_width": null,
            "object_fit": null,
            "object_position": null,
            "order": null,
            "overflow": null,
            "overflow_x": null,
            "overflow_y": null,
            "padding": null,
            "right": null,
            "top": null,
            "visibility": null,
            "width": null
          }
        },
        "868f2c3f477e411e92ecdf491372484c": {
          "model_module": "@jupyter-widgets/controls",
          "model_name": "ProgressStyleModel",
          "model_module_version": "1.5.0",
          "state": {
            "_model_module": "@jupyter-widgets/controls",
            "_model_module_version": "1.5.0",
            "_model_name": "ProgressStyleModel",
            "_view_count": null,
            "_view_module": "@jupyter-widgets/base",
            "_view_module_version": "1.2.0",
            "_view_name": "StyleView",
            "bar_color": null,
            "description_width": ""
          }
        },
        "9f504d4db9974283821d2c7634b6f5fa": {
          "model_module": "@jupyter-widgets/base",
          "model_name": "LayoutModel",
          "model_module_version": "1.2.0",
          "state": {
            "_model_module": "@jupyter-widgets/base",
            "_model_module_version": "1.2.0",
            "_model_name": "LayoutModel",
            "_view_count": null,
            "_view_module": "@jupyter-widgets/base",
            "_view_module_version": "1.2.0",
            "_view_name": "LayoutView",
            "align_content": null,
            "align_items": null,
            "align_self": null,
            "border": null,
            "bottom": null,
            "display": null,
            "flex": null,
            "flex_flow": null,
            "grid_area": null,
            "grid_auto_columns": null,
            "grid_auto_flow": null,
            "grid_auto_rows": null,
            "grid_column": null,
            "grid_gap": null,
            "grid_row": null,
            "grid_template_areas": null,
            "grid_template_columns": null,
            "grid_template_rows": null,
            "height": null,
            "justify_content": null,
            "justify_items": null,
            "left": null,
            "margin": null,
            "max_height": null,
            "max_width": null,
            "min_height": null,
            "min_width": null,
            "object_fit": null,
            "object_position": null,
            "order": null,
            "overflow": null,
            "overflow_x": null,
            "overflow_y": null,
            "padding": null,
            "right": null,
            "top": null,
            "visibility": null,
            "width": null
          }
        },
        "d045fa7cf32a453ab62dcc5766ae901d": {
          "model_module": "@jupyter-widgets/controls",
          "model_name": "DescriptionStyleModel",
          "model_module_version": "1.5.0",
          "state": {
            "_model_module": "@jupyter-widgets/controls",
            "_model_module_version": "1.5.0",
            "_model_name": "DescriptionStyleModel",
            "_view_count": null,
            "_view_module": "@jupyter-widgets/base",
            "_view_module_version": "1.2.0",
            "_view_name": "StyleView",
            "description_width": ""
          }
        },
        "6547cd4a425e4ced9b92539ea08421e4": {
          "model_module": "@jupyter-widgets/controls",
          "model_name": "HBoxModel",
          "model_module_version": "1.5.0",
          "state": {
            "_dom_classes": [],
            "_model_module": "@jupyter-widgets/controls",
            "_model_module_version": "1.5.0",
            "_model_name": "HBoxModel",
            "_view_count": null,
            "_view_module": "@jupyter-widgets/controls",
            "_view_module_version": "1.5.0",
            "_view_name": "HBoxView",
            "box_style": "",
            "children": [
              "IPY_MODEL_b6c873374c0b47bd8d40bd80870621b6",
              "IPY_MODEL_638027fa32394f63a4148dbfe51633ae",
              "IPY_MODEL_106df300a6c84e008dc990d06cef5543"
            ],
            "layout": "IPY_MODEL_e1557c8b46e146548bda3f02a65dcd51"
          }
        },
        "b6c873374c0b47bd8d40bd80870621b6": {
          "model_module": "@jupyter-widgets/controls",
          "model_name": "HTMLModel",
          "model_module_version": "1.5.0",
          "state": {
            "_dom_classes": [],
            "_model_module": "@jupyter-widgets/controls",
            "_model_module_version": "1.5.0",
            "_model_name": "HTMLModel",
            "_view_count": null,
            "_view_module": "@jupyter-widgets/controls",
            "_view_module_version": "1.5.0",
            "_view_name": "HTMLView",
            "description": "",
            "description_tooltip": null,
            "layout": "IPY_MODEL_6a122823d7dd42f5bcbace4d18bf76c6",
            "placeholder": "​",
            "style": "IPY_MODEL_1d3d7e45aeaf4707a101c8b33f5c2b52",
            "value": "model.safetensors: 100%"
          }
        },
        "638027fa32394f63a4148dbfe51633ae": {
          "model_module": "@jupyter-widgets/controls",
          "model_name": "FloatProgressModel",
          "model_module_version": "1.5.0",
          "state": {
            "_dom_classes": [],
            "_model_module": "@jupyter-widgets/controls",
            "_model_module_version": "1.5.0",
            "_model_name": "FloatProgressModel",
            "_view_count": null,
            "_view_module": "@jupyter-widgets/controls",
            "_view_module_version": "1.5.0",
            "_view_name": "ProgressView",
            "bar_style": "success",
            "description": "",
            "description_tooltip": null,
            "layout": "IPY_MODEL_f4f7f659a7614c8aa9a53c4a0e1ea446",
            "max": 933400872,
            "min": 0,
            "orientation": "horizontal",
            "style": "IPY_MODEL_047d6c5f00fa439c9b58ce5a954ea06a",
            "value": 933400872
          }
        },
        "106df300a6c84e008dc990d06cef5543": {
          "model_module": "@jupyter-widgets/controls",
          "model_name": "HTMLModel",
          "model_module_version": "1.5.0",
          "state": {
            "_dom_classes": [],
            "_model_module": "@jupyter-widgets/controls",
            "_model_module_version": "1.5.0",
            "_model_name": "HTMLModel",
            "_view_count": null,
            "_view_module": "@jupyter-widgets/controls",
            "_view_module_version": "1.5.0",
            "_view_name": "HTMLView",
            "description": "",
            "description_tooltip": null,
            "layout": "IPY_MODEL_63a9f059d2bc412f9a2091077791b717",
            "placeholder": "​",
            "style": "IPY_MODEL_3a6c8124493947e4b4f2a321e4f1f19e",
            "value": " 933M/933M [00:07&lt;00:00, 40.6MB/s]"
          }
        },
        "e1557c8b46e146548bda3f02a65dcd51": {
          "model_module": "@jupyter-widgets/base",
          "model_name": "LayoutModel",
          "model_module_version": "1.2.0",
          "state": {
            "_model_module": "@jupyter-widgets/base",
            "_model_module_version": "1.2.0",
            "_model_name": "LayoutModel",
            "_view_count": null,
            "_view_module": "@jupyter-widgets/base",
            "_view_module_version": "1.2.0",
            "_view_name": "LayoutView",
            "align_content": null,
            "align_items": null,
            "align_self": null,
            "border": null,
            "bottom": null,
            "display": null,
            "flex": null,
            "flex_flow": null,
            "grid_area": null,
            "grid_auto_columns": null,
            "grid_auto_flow": null,
            "grid_auto_rows": null,
            "grid_column": null,
            "grid_gap": null,
            "grid_row": null,
            "grid_template_areas": null,
            "grid_template_columns": null,
            "grid_template_rows": null,
            "height": null,
            "justify_content": null,
            "justify_items": null,
            "left": null,
            "margin": null,
            "max_height": null,
            "max_width": null,
            "min_height": null,
            "min_width": null,
            "object_fit": null,
            "object_position": null,
            "order": null,
            "overflow": null,
            "overflow_x": null,
            "overflow_y": null,
            "padding": null,
            "right": null,
            "top": null,
            "visibility": null,
            "width": null
          }
        },
        "6a122823d7dd42f5bcbace4d18bf76c6": {
          "model_module": "@jupyter-widgets/base",
          "model_name": "LayoutModel",
          "model_module_version": "1.2.0",
          "state": {
            "_model_module": "@jupyter-widgets/base",
            "_model_module_version": "1.2.0",
            "_model_name": "LayoutModel",
            "_view_count": null,
            "_view_module": "@jupyter-widgets/base",
            "_view_module_version": "1.2.0",
            "_view_name": "LayoutView",
            "align_content": null,
            "align_items": null,
            "align_self": null,
            "border": null,
            "bottom": null,
            "display": null,
            "flex": null,
            "flex_flow": null,
            "grid_area": null,
            "grid_auto_columns": null,
            "grid_auto_flow": null,
            "grid_auto_rows": null,
            "grid_column": null,
            "grid_gap": null,
            "grid_row": null,
            "grid_template_areas": null,
            "grid_template_columns": null,
            "grid_template_rows": null,
            "height": null,
            "justify_content": null,
            "justify_items": null,
            "left": null,
            "margin": null,
            "max_height": null,
            "max_width": null,
            "min_height": null,
            "min_width": null,
            "object_fit": null,
            "object_position": null,
            "order": null,
            "overflow": null,
            "overflow_x": null,
            "overflow_y": null,
            "padding": null,
            "right": null,
            "top": null,
            "visibility": null,
            "width": null
          }
        },
        "1d3d7e45aeaf4707a101c8b33f5c2b52": {
          "model_module": "@jupyter-widgets/controls",
          "model_name": "DescriptionStyleModel",
          "model_module_version": "1.5.0",
          "state": {
            "_model_module": "@jupyter-widgets/controls",
            "_model_module_version": "1.5.0",
            "_model_name": "DescriptionStyleModel",
            "_view_count": null,
            "_view_module": "@jupyter-widgets/base",
            "_view_module_version": "1.2.0",
            "_view_name": "StyleView",
            "description_width": ""
          }
        },
        "f4f7f659a7614c8aa9a53c4a0e1ea446": {
          "model_module": "@jupyter-widgets/base",
          "model_name": "LayoutModel",
          "model_module_version": "1.2.0",
          "state": {
            "_model_module": "@jupyter-widgets/base",
            "_model_module_version": "1.2.0",
            "_model_name": "LayoutModel",
            "_view_count": null,
            "_view_module": "@jupyter-widgets/base",
            "_view_module_version": "1.2.0",
            "_view_name": "LayoutView",
            "align_content": null,
            "align_items": null,
            "align_self": null,
            "border": null,
            "bottom": null,
            "display": null,
            "flex": null,
            "flex_flow": null,
            "grid_area": null,
            "grid_auto_columns": null,
            "grid_auto_flow": null,
            "grid_auto_rows": null,
            "grid_column": null,
            "grid_gap": null,
            "grid_row": null,
            "grid_template_areas": null,
            "grid_template_columns": null,
            "grid_template_rows": null,
            "height": null,
            "justify_content": null,
            "justify_items": null,
            "left": null,
            "margin": null,
            "max_height": null,
            "max_width": null,
            "min_height": null,
            "min_width": null,
            "object_fit": null,
            "object_position": null,
            "order": null,
            "overflow": null,
            "overflow_x": null,
            "overflow_y": null,
            "padding": null,
            "right": null,
            "top": null,
            "visibility": null,
            "width": null
          }
        },
        "047d6c5f00fa439c9b58ce5a954ea06a": {
          "model_module": "@jupyter-widgets/controls",
          "model_name": "ProgressStyleModel",
          "model_module_version": "1.5.0",
          "state": {
            "_model_module": "@jupyter-widgets/controls",
            "_model_module_version": "1.5.0",
            "_model_name": "ProgressStyleModel",
            "_view_count": null,
            "_view_module": "@jupyter-widgets/base",
            "_view_module_version": "1.2.0",
            "_view_name": "StyleView",
            "bar_color": null,
            "description_width": ""
          }
        },
        "63a9f059d2bc412f9a2091077791b717": {
          "model_module": "@jupyter-widgets/base",
          "model_name": "LayoutModel",
          "model_module_version": "1.2.0",
          "state": {
            "_model_module": "@jupyter-widgets/base",
            "_model_module_version": "1.2.0",
            "_model_name": "LayoutModel",
            "_view_count": null,
            "_view_module": "@jupyter-widgets/base",
            "_view_module_version": "1.2.0",
            "_view_name": "LayoutView",
            "align_content": null,
            "align_items": null,
            "align_self": null,
            "border": null,
            "bottom": null,
            "display": null,
            "flex": null,
            "flex_flow": null,
            "grid_area": null,
            "grid_auto_columns": null,
            "grid_auto_flow": null,
            "grid_auto_rows": null,
            "grid_column": null,
            "grid_gap": null,
            "grid_row": null,
            "grid_template_areas": null,
            "grid_template_columns": null,
            "grid_template_rows": null,
            "height": null,
            "justify_content": null,
            "justify_items": null,
            "left": null,
            "margin": null,
            "max_height": null,
            "max_width": null,
            "min_height": null,
            "min_width": null,
            "object_fit": null,
            "object_position": null,
            "order": null,
            "overflow": null,
            "overflow_x": null,
            "overflow_y": null,
            "padding": null,
            "right": null,
            "top": null,
            "visibility": null,
            "width": null
          }
        },
        "3a6c8124493947e4b4f2a321e4f1f19e": {
          "model_module": "@jupyter-widgets/controls",
          "model_name": "DescriptionStyleModel",
          "model_module_version": "1.5.0",
          "state": {
            "_model_module": "@jupyter-widgets/controls",
            "_model_module_version": "1.5.0",
            "_model_name": "DescriptionStyleModel",
            "_view_count": null,
            "_view_module": "@jupyter-widgets/base",
            "_view_module_version": "1.2.0",
            "_view_name": "StyleView",
            "description_width": ""
          }
        }
      }
    }
  },
  "cells": [
    {
      "cell_type": "code",
      "source": [
        "#@title 🔧 Setup: clonar repo e instalar librerías\n",
        "!git clone --depth 1 https://github.com/IDEA-Research/Grounded-SAM-2.git\n",
        "%cd Grounded-SAM-2\n",
        "\n",
        "# libs básicas + SAM-2 oficial\n",
        "!pip -q install supervision opencv-python pillow pycocotools transformers accelerate einops ninja\n",
        "!pip -q install git+https://github.com/facebookresearch/sam2.git"
      ],
      "metadata": {
        "colab": {
          "base_uri": "https://localhost:8080/"
        },
        "id": "UuH-S2biIjYU",
        "outputId": "74e343a0-2fa6-4fe8-8c46-d7e3e3599e34"
      },
      "execution_count": null,
      "outputs": [
        {
          "output_type": "stream",
          "name": "stdout",
          "text": [
            "Cloning into 'Grounded-SAM-2'...\n",
            "remote: Enumerating objects: 925, done.\u001b[K\n",
            "remote: Counting objects: 100% (925/925), done.\u001b[K\n",
            "remote: Compressing objects: 100% (783/783), done.\u001b[K\n",
            "remote: Total 925 (delta 122), reused 854 (delta 118), pack-reused 0 (from 0)\u001b[K\n",
            "Receiving objects: 100% (925/925), 112.02 MiB | 17.05 MiB/s, done.\n",
            "Resolving deltas: 100% (122/122), done.\n",
            "Updating files: 100% (839/839), done.\n",
            "/content/Grounded-SAM-2\n",
            "\u001b[2K   \u001b[90m━━━━━━━━━━━━━━━━━━━━━━━━━━━━━━━━━━━━━━━━\u001b[0m \u001b[32m181.5/181.5 kB\u001b[0m \u001b[31m5.6 MB/s\u001b[0m eta \u001b[36m0:00:00\u001b[0m\n",
            "\u001b[2K   \u001b[90m━━━━━━━━━━━━━━━━━━━━━━━━━━━━━━━━━━━━━━━━\u001b[0m \u001b[32m422.8/422.8 kB\u001b[0m \u001b[31m21.6 MB/s\u001b[0m eta \u001b[36m0:00:00\u001b[0m\n",
            "\u001b[2K   \u001b[90m━━━━━━━━━━━━━━━━━━━━━━━━━━━━━━━━━━━━━━━━\u001b[0m \u001b[32m363.4/363.4 MB\u001b[0m \u001b[31m4.6 MB/s\u001b[0m eta \u001b[36m0:00:00\u001b[0m\n",
            "\u001b[2K   \u001b[90m━━━━━━━━━━━━━━━━━━━━━━━━━━━━━━━━━━━━━━━━\u001b[0m \u001b[32m13.8/13.8 MB\u001b[0m \u001b[31m87.3 MB/s\u001b[0m eta \u001b[36m0:00:00\u001b[0m\n",
            "\u001b[2K   \u001b[90m━━━━━━━━━━━━━━━━━━━━━━━━━━━━━━━━━━━━━━━━\u001b[0m \u001b[32m24.6/24.6 MB\u001b[0m \u001b[31m62.4 MB/s\u001b[0m eta \u001b[36m0:00:00\u001b[0m\n",
            "\u001b[2K   \u001b[90m━━━━━━━━━━━━━━━━━━━━━━━━━━━━━━━━━━━━━━━━\u001b[0m \u001b[32m883.7/883.7 kB\u001b[0m \u001b[31m32.1 MB/s\u001b[0m eta \u001b[36m0:00:00\u001b[0m\n",
            "\u001b[2K   \u001b[90m━━━━━━━━━━━━━━━━━━━━━━━━━━━━━━━━━━━━━━━━\u001b[0m \u001b[32m664.8/664.8 MB\u001b[0m \u001b[31m2.1 MB/s\u001b[0m eta \u001b[36m0:00:00\u001b[0m\n",
            "\u001b[2K   \u001b[90m━━━━━━━━━━━━━━━━━━━━━━━━━━━━━━━━━━━━━━━━\u001b[0m \u001b[32m211.5/211.5 MB\u001b[0m \u001b[31m2.6 MB/s\u001b[0m eta \u001b[36m0:00:00\u001b[0m\n",
            "\u001b[2K   \u001b[90m━━━━━━━━━━━━━━━━━━━━━━━━━━━━━━━━━━━━━━━━\u001b[0m \u001b[32m56.3/56.3 MB\u001b[0m \u001b[31m14.6 MB/s\u001b[0m eta \u001b[36m0:00:00\u001b[0m\n",
            "\u001b[2K   \u001b[90m━━━━━━━━━━━━━━━━━━━━━━━━━━━━━━━━━━━━━━━━\u001b[0m \u001b[32m127.9/127.9 MB\u001b[0m \u001b[31m7.8 MB/s\u001b[0m eta \u001b[36m0:00:00\u001b[0m\n",
            "\u001b[2K   \u001b[90m━━━━━━━━━━━━━━━━━━━━━━━━━━━━━━━━━━━━━━━━\u001b[0m \u001b[32m207.5/207.5 MB\u001b[0m \u001b[31m5.8 MB/s\u001b[0m eta \u001b[36m0:00:00\u001b[0m\n",
            "\u001b[2K   \u001b[90m━━━━━━━━━━━━━━━━━━━━━━━━━━━━━━━━━━━━━━━━\u001b[0m \u001b[32m21.1/21.1 MB\u001b[0m \u001b[31m76.2 MB/s\u001b[0m eta \u001b[36m0:00:00\u001b[0m\n",
            "\u001b[?25h  Installing build dependencies ... \u001b[?25l\u001b[?25hdone\n",
            "  Getting requirements to build wheel ... \u001b[?25l\u001b[?25hdone\n",
            "  Preparing metadata (pyproject.toml) ... \u001b[?25l\u001b[?25hdone\n",
            "\u001b[2K     \u001b[90m━━━━━━━━━━━━━━━━━━━━━━━━━━━━━━━━━━━━━━━━\u001b[0m \u001b[32m42.2/42.2 kB\u001b[0m \u001b[31m2.7 MB/s\u001b[0m eta \u001b[36m0:00:00\u001b[0m\n",
            "\u001b[?25h  Preparing metadata (setup.py) ... \u001b[?25l\u001b[?25hdone\n",
            "\u001b[2K   \u001b[90m━━━━━━━━━━━━━━━━━━━━━━━━━━━━━━━━━━━━━━━━\u001b[0m \u001b[32m154.5/154.5 kB\u001b[0m \u001b[31m6.5 MB/s\u001b[0m eta \u001b[36m0:00:00\u001b[0m\n",
            "\u001b[?25h  Building wheel for SAM-2 (pyproject.toml) ... \u001b[?25l\u001b[?25hdone\n",
            "  Building wheel for iopath (setup.py) ... \u001b[?25l\u001b[?25hdone\n"
          ]
        }
      ]
    },
    {
      "cell_type": "code",
      "source": [
        "#@title ⬇️ Descarga de modelo e imagen\n",
        "import os, urllib.request, pathlib, shutil, zipfile, json, torch, cv2, numpy as np\n",
        "from itertools import islice\n",
        "from tqdm import tqdm\n",
        "from pathlib import Path\n",
        "\n",
        "# Carpeta de checkpoints local\n",
        "ckpt_dir = Path(\"checkpoints\"); ckpt_dir.mkdir(exist_ok=True)\n",
        "sam2_ckpt_path = ckpt_dir / \"sam2_hiera_large.pt\"\n",
        "\n",
        "# ≈900 MB – tarda ~1-2 min si no está en caché\n",
        "if not sam2_ckpt_path.exists():\n",
        "    !wget -q https://dl.fbaipublicfiles.com/segment_anything_2/072824/sam2_hiera_large.pt -O checkpoints/sam2_hiera_large.pt\n",
        "\n",
        "# Imagen aérea gratuita (Unsplash)\n",
        "#img_url = \"https://storage.googleapis.com/support-forums-api/attachment/thread-264444595-7228703151249223747.png\"\n",
        "#img_path = \"satellite.jpg\"\n",
        "#urllib.request.urlretrieve(img_url, img_path)\n",
        "\n",
        "#Cargar imagen en local\n",
        "from google.colab import files\n",
        "uploaded = files.upload()\n",
        "img_path = list(uploaded.keys())[0]\n",
        "\n",
        "#Cargar carpeta de drive\n",
        "#from google.colab import drive\n",
        "#drive.mount('/content/drive')\n",
        "\n",
        "#Cargar carpeta de imagenes\n",
        "#input_folder = \"/content/Imagenes_segmentar\"\n",
        "#output_folder = \"segmentados_output\"\n",
        "#os.makedirs(output_folder, exist_ok=True)\n",
        "\n",
        "print(\"✔ Recursos listos\")"
      ],
      "metadata": {
        "colab": {
          "base_uri": "https://localhost:8080/",
          "height": 90
        },
        "id": "9q8pBx8eM-0-",
        "outputId": "0254c5db-7ad6-4da6-cb91-c7ca93485dd9"
      },
      "execution_count": null,
      "outputs": [
        {
          "output_type": "display_data",
          "data": {
            "text/plain": [
              "<IPython.core.display.HTML object>"
            ],
            "text/html": [
              "\n",
              "     <input type=\"file\" id=\"files-1aea7653-87d1-435f-8136-1f0a4255b40c\" name=\"files[]\" multiple disabled\n",
              "        style=\"border:none\" />\n",
              "     <output id=\"result-1aea7653-87d1-435f-8136-1f0a4255b40c\">\n",
              "      Upload widget is only available when the cell has been executed in the\n",
              "      current browser session. Please rerun this cell to enable.\n",
              "      </output>\n",
              "      <script>// Copyright 2017 Google LLC\n",
              "//\n",
              "// Licensed under the Apache License, Version 2.0 (the \"License\");\n",
              "// you may not use this file except in compliance with the License.\n",
              "// You may obtain a copy of the License at\n",
              "//\n",
              "//      http://www.apache.org/licenses/LICENSE-2.0\n",
              "//\n",
              "// Unless required by applicable law or agreed to in writing, software\n",
              "// distributed under the License is distributed on an \"AS IS\" BASIS,\n",
              "// WITHOUT WARRANTIES OR CONDITIONS OF ANY KIND, either express or implied.\n",
              "// See the License for the specific language governing permissions and\n",
              "// limitations under the License.\n",
              "\n",
              "/**\n",
              " * @fileoverview Helpers for google.colab Python module.\n",
              " */\n",
              "(function(scope) {\n",
              "function span(text, styleAttributes = {}) {\n",
              "  const element = document.createElement('span');\n",
              "  element.textContent = text;\n",
              "  for (const key of Object.keys(styleAttributes)) {\n",
              "    element.style[key] = styleAttributes[key];\n",
              "  }\n",
              "  return element;\n",
              "}\n",
              "\n",
              "// Max number of bytes which will be uploaded at a time.\n",
              "const MAX_PAYLOAD_SIZE = 100 * 1024;\n",
              "\n",
              "function _uploadFiles(inputId, outputId) {\n",
              "  const steps = uploadFilesStep(inputId, outputId);\n",
              "  const outputElement = document.getElementById(outputId);\n",
              "  // Cache steps on the outputElement to make it available for the next call\n",
              "  // to uploadFilesContinue from Python.\n",
              "  outputElement.steps = steps;\n",
              "\n",
              "  return _uploadFilesContinue(outputId);\n",
              "}\n",
              "\n",
              "// This is roughly an async generator (not supported in the browser yet),\n",
              "// where there are multiple asynchronous steps and the Python side is going\n",
              "// to poll for completion of each step.\n",
              "// This uses a Promise to block the python side on completion of each step,\n",
              "// then passes the result of the previous step as the input to the next step.\n",
              "function _uploadFilesContinue(outputId) {\n",
              "  const outputElement = document.getElementById(outputId);\n",
              "  const steps = outputElement.steps;\n",
              "\n",
              "  const next = steps.next(outputElement.lastPromiseValue);\n",
              "  return Promise.resolve(next.value.promise).then((value) => {\n",
              "    // Cache the last promise value to make it available to the next\n",
              "    // step of the generator.\n",
              "    outputElement.lastPromiseValue = value;\n",
              "    return next.value.response;\n",
              "  });\n",
              "}\n",
              "\n",
              "/**\n",
              " * Generator function which is called between each async step of the upload\n",
              " * process.\n",
              " * @param {string} inputId Element ID of the input file picker element.\n",
              " * @param {string} outputId Element ID of the output display.\n",
              " * @return {!Iterable<!Object>} Iterable of next steps.\n",
              " */\n",
              "function* uploadFilesStep(inputId, outputId) {\n",
              "  const inputElement = document.getElementById(inputId);\n",
              "  inputElement.disabled = false;\n",
              "\n",
              "  const outputElement = document.getElementById(outputId);\n",
              "  outputElement.innerHTML = '';\n",
              "\n",
              "  const pickedPromise = new Promise((resolve) => {\n",
              "    inputElement.addEventListener('change', (e) => {\n",
              "      resolve(e.target.files);\n",
              "    });\n",
              "  });\n",
              "\n",
              "  const cancel = document.createElement('button');\n",
              "  inputElement.parentElement.appendChild(cancel);\n",
              "  cancel.textContent = 'Cancel upload';\n",
              "  const cancelPromise = new Promise((resolve) => {\n",
              "    cancel.onclick = () => {\n",
              "      resolve(null);\n",
              "    };\n",
              "  });\n",
              "\n",
              "  // Wait for the user to pick the files.\n",
              "  const files = yield {\n",
              "    promise: Promise.race([pickedPromise, cancelPromise]),\n",
              "    response: {\n",
              "      action: 'starting',\n",
              "    }\n",
              "  };\n",
              "\n",
              "  cancel.remove();\n",
              "\n",
              "  // Disable the input element since further picks are not allowed.\n",
              "  inputElement.disabled = true;\n",
              "\n",
              "  if (!files) {\n",
              "    return {\n",
              "      response: {\n",
              "        action: 'complete',\n",
              "      }\n",
              "    };\n",
              "  }\n",
              "\n",
              "  for (const file of files) {\n",
              "    const li = document.createElement('li');\n",
              "    li.append(span(file.name, {fontWeight: 'bold'}));\n",
              "    li.append(span(\n",
              "        `(${file.type || 'n/a'}) - ${file.size} bytes, ` +\n",
              "        `last modified: ${\n",
              "            file.lastModifiedDate ? file.lastModifiedDate.toLocaleDateString() :\n",
              "                                    'n/a'} - `));\n",
              "    const percent = span('0% done');\n",
              "    li.appendChild(percent);\n",
              "\n",
              "    outputElement.appendChild(li);\n",
              "\n",
              "    const fileDataPromise = new Promise((resolve) => {\n",
              "      const reader = new FileReader();\n",
              "      reader.onload = (e) => {\n",
              "        resolve(e.target.result);\n",
              "      };\n",
              "      reader.readAsArrayBuffer(file);\n",
              "    });\n",
              "    // Wait for the data to be ready.\n",
              "    let fileData = yield {\n",
              "      promise: fileDataPromise,\n",
              "      response: {\n",
              "        action: 'continue',\n",
              "      }\n",
              "    };\n",
              "\n",
              "    // Use a chunked sending to avoid message size limits. See b/62115660.\n",
              "    let position = 0;\n",
              "    do {\n",
              "      const length = Math.min(fileData.byteLength - position, MAX_PAYLOAD_SIZE);\n",
              "      const chunk = new Uint8Array(fileData, position, length);\n",
              "      position += length;\n",
              "\n",
              "      const base64 = btoa(String.fromCharCode.apply(null, chunk));\n",
              "      yield {\n",
              "        response: {\n",
              "          action: 'append',\n",
              "          file: file.name,\n",
              "          data: base64,\n",
              "        },\n",
              "      };\n",
              "\n",
              "      let percentDone = fileData.byteLength === 0 ?\n",
              "          100 :\n",
              "          Math.round((position / fileData.byteLength) * 100);\n",
              "      percent.textContent = `${percentDone}% done`;\n",
              "\n",
              "    } while (position < fileData.byteLength);\n",
              "  }\n",
              "\n",
              "  // All done.\n",
              "  yield {\n",
              "    response: {\n",
              "      action: 'complete',\n",
              "    }\n",
              "  };\n",
              "}\n",
              "\n",
              "scope.google = scope.google || {};\n",
              "scope.google.colab = scope.google.colab || {};\n",
              "scope.google.colab._files = {\n",
              "  _uploadFiles,\n",
              "  _uploadFilesContinue,\n",
              "};\n",
              "})(self);\n",
              "</script> "
            ]
          },
          "metadata": {}
        },
        {
          "output_type": "stream",
          "name": "stdout",
          "text": [
            "Saving Florida.png to Florida.png\n",
            "✔ Recursos listos\n"
          ]
        }
      ]
    },
    {
      "cell_type": "code",
      "source": [
        "sam2_ckpt_path"
      ],
      "metadata": {
        "colab": {
          "base_uri": "https://localhost:8080/"
        },
        "id": "KCulsogf-FXC",
        "outputId": "72013bed-0796-4085-f9fc-ad474bbff07c"
      },
      "execution_count": null,
      "outputs": [
        {
          "output_type": "execute_result",
          "data": {
            "text/plain": [
              "PosixPath('checkpoints/sam2_hiera_large.pt')"
            ]
          },
          "metadata": {},
          "execution_count": 3
        }
      ]
    },
    {
      "cell_type": "code",
      "source": [
        "ckpt_dir = Path(\"checkpoints\"); ckpt_dir.mkdir(exist_ok=True)\n",
        "sam2_ckpt_path = \"sam2.1_hiera_large.pt\"\n",
        "ckpt_path = ckpt_dir / sam2_ckpt_path\n",
        "if not ckpt_path.exists():\n",
        "    !wget -q \\\n",
        "      https://dl.fbaipublicfiles.com/segment_anything_2/092824/sam2.1_hiera_large.pt \\\n",
        "      -O {ckpt_path}"
      ],
      "metadata": {
        "id": "ybSqkDx-PVxm"
      },
      "execution_count": null,
      "outputs": []
    },
    {
      "cell_type": "code",
      "source": [
        "input_folder"
      ],
      "metadata": {
        "colab": {
          "base_uri": "https://localhost:8080/",
          "height": 35
        },
        "id": "5N31v07mzUVF",
        "outputId": "5e281cba-1123-44e8-ecf9-4337b0bed035"
      },
      "execution_count": null,
      "outputs": [
        {
          "output_type": "execute_result",
          "data": {
            "text/plain": [
              "'/content/Imagenes_segmentar'"
            ],
            "application/vnd.google.colaboratory.intrinsic+json": {
              "type": "string"
            }
          },
          "metadata": {},
          "execution_count": 20
        }
      ]
    },
    {
      "cell_type": "code",
      "source": [
        "img_path"
      ],
      "metadata": {
        "colab": {
          "base_uri": "https://localhost:8080/",
          "height": 35
        },
        "id": "WMELSXLw-YPo",
        "outputId": "e148a8b0-ecfd-4441-e152-da6c47961e7b"
      },
      "execution_count": null,
      "outputs": [
        {
          "output_type": "execute_result",
          "data": {
            "text/plain": [
              "'tile_11505_14160.png'"
            ],
            "application/vnd.google.colaboratory.intrinsic+json": {
              "type": "string"
            }
          },
          "metadata": {},
          "execution_count": 5
        }
      ]
    },
    {
      "cell_type": "code",
      "source": [
        "#@title 🚀 Inferencia Grounded-SAM-2 para retornar una carpeta de imagenes\n",
        "import supervision as sv\n",
        "from supervision.draw.color import ColorPalette\n",
        "import pycocotools.mask as mask_util\n",
        "from PIL import Image\n",
        "from sam2.build_sam import build_sam2\n",
        "from sam2.sam2_image_predictor import SAM2ImagePredictor\n",
        "from transformers import AutoProcessor, AutoModelForZeroShotObjectDetection\n",
        "import torch\n",
        "\n",
        "# Parámetros\n",
        "TEXT_PROMPT = \"trees shrubs. trees. natural vegetation. parks\" #\"natural vegetation. grass. trees. shrubs. parks. gardens. lawns\"\n",
        "SAM2_CFG    = \"configs/sam2.1/sam2.1_hiera_l.yaml\"\n",
        "DEVICE      = \"cuda\" if torch.cuda.is_available() else \"cpu\"\n",
        "\n",
        "# SAM-2\n",
        "sam2_model = build_sam2(SAM2_CFG, \"checkpoints/\"+str(sam2_ckpt_path), device=DEVICE)\n",
        "sam2_pred  = SAM2ImagePredictor(sam2_model)\n",
        "\n",
        "# Grounding DINO vía HF\n",
        "gd_model_id = \"IDEA-Research/grounding-dino-base\"\n",
        "processor   = AutoProcessor.from_pretrained(gd_model_id)\n",
        "gd_model    = AutoModelForZeroShotObjectDetection.from_pretrained(gd_model_id).to(DEVICE)\n",
        "\n",
        "import json  # <-- añadido para guardar los datos\n",
        "from tqdm import tqdm  # para mostrar barra de progreso\n",
        "\n",
        "# 🔁Itera sobre cada imagen\n",
        "# Procesar en paquetes de 50\n",
        "for filename in tqdm(os.listdir(input_folder)):\n",
        "    img_path = os.path.join(input_folder, filename)\n",
        "    image = Image.open(img_path).convert(\"RGB\")\n",
        "    sam2_pred.set_image(np.array(image))\n",
        "\n",
        "    # Grounding DINO → cajas\n",
        "    inputs = processor(images=image, text=TEXT_PROMPT, return_tensors=\"pt\").to(DEVICE)\n",
        "    with torch.no_grad():\n",
        "        out = gd_model(**inputs)\n",
        "\n",
        "    result = processor.post_process_grounded_object_detection(\n",
        "        out, inputs.input_ids,\n",
        "        box_threshold=0.2, text_threshold=0.19,\n",
        "        target_sizes=[image.size[::-1]]\n",
        "    )[0]\n",
        "\n",
        "    boxes   = result[\"boxes\"].cpu().numpy()\n",
        "    labels  = result[\"labels\"]\n",
        "    scores  = result[\"scores\"].cpu().numpy().tolist()\n",
        "    class_ids = np.arange(len(labels))\n",
        "\n",
        "    # SAM-2 → máscaras\n",
        "    masks, _, _ = sam2_pred.predict(\n",
        "        box=boxes, point_coords=None, point_labels=None,\n",
        "        multimask_output=False,\n",
        "    )\n",
        "    if masks.ndim == 4:\n",
        "        masks = masks.squeeze(1)\n",
        "\n",
        "    # 📦 Filtrado por tamaño de caja\n",
        "    img_w, img_h = image.size\n",
        "    image_area = img_w * img_h\n",
        "    max_area_ratio = 0.3\n",
        "\n",
        "    filtered_boxes = []\n",
        "    filtered_labels = []\n",
        "    filtered_scores = []\n",
        "    valid_indices = []\n",
        "\n",
        "    for i, (box, label, score) in enumerate(zip(boxes, labels, scores)):\n",
        "        x1, y1, x2, y2 = box\n",
        "        box_area = (x2 - x1) * (y2 - y1)\n",
        "        if box_area / image_area <= max_area_ratio:\n",
        "            filtered_boxes.append(box.tolist())  # convierte a lista para JSON\n",
        "            filtered_labels.append(label)\n",
        "            filtered_scores.append(score)\n",
        "            valid_indices.append(i)\n",
        "\n",
        "    filtered_boxes = np.array(filtered_boxes)\n",
        "    masks = masks[valid_indices]\n",
        "    class_ids = np.arange(len(filtered_labels))\n",
        "\n",
        "    # 🎨 Visualización\n",
        "    frame = cv2.imread(img_path)\n",
        "    dets = sv.Detections(xyxy=filtered_boxes, mask=masks.astype(bool), class_id=class_ids)\n",
        "    from supervision.draw.color import ColorPalette, Color\n",
        "    try:\n",
        "        palette = ColorPalette.default()\n",
        "    except AttributeError:\n",
        "        palette = ColorPalette([\n",
        "            Color(20, 200, 50)\n",
        "        ])\n",
        "\n",
        "    frame = sv.BoxAnnotator(color=palette).annotate(frame, dets)\n",
        "    frame = sv.LabelAnnotator(color=palette).annotate(frame, dets,\n",
        "             labels=[f\"{n} {s:.2f}\" for n, s in zip(filtered_labels, filtered_scores)])\n",
        "    frame = sv.MaskAnnotator(color=palette).annotate(frame, dets)\n",
        "\n",
        "    # Guarda imagen segmentada\n",
        "    #output_img_path = os.path.join(output_folder, filename)\n",
        "    #cv2.imwrite(output_img_path, frame)\n",
        "\n",
        "    json_data = {\"masks\": []}\n",
        "\n",
        "    for i in range(len(masks)):\n",
        "        mask = masks[i].astype(np.uint8)\n",
        "        rle = mask_util.encode(np.asfortranarray(mask))\n",
        "        rle[\"counts\"] = rle[\"counts\"].decode(\"utf-8\")  # JSON friendly\n",
        "\n",
        "        json_data[\"masks\"].append({\n",
        "            \"segmentation\": rle,\n",
        "            \"label\": str(filtered_labels[i]),\n",
        "            \"score\": float(filtered_scores[i])\n",
        "        })\n",
        "\n",
        "    # Guardar el JSON con el mismo nombre de la imagen\n",
        "    json_filename = os.path.splitext(filename)[0] + \".json\"\n",
        "    json_path = os.path.join(output_folder, json_filename)\n",
        "\n",
        "    with open(json_path, \"w\") as f:\n",
        "        json.dump(json_data, f, indent=2)\n",
        "\n",
        "    print(f\"✅ {filename} procesado, imagen y JSON guardados.\")"
      ],
      "metadata": {
        "colab": {
          "base_uri": "https://localhost:8080/",
          "height": 373
        },
        "id": "Z5o2g9I7yZ4n",
        "outputId": "fbc905ea-d20f-41bb-e077-1c0e27e53746",
        "cellView": "form",
        "collapsed": true
      },
      "execution_count": null,
      "outputs": [
        {
          "output_type": "stream",
          "name": "stderr",
          "text": [
            "  0%|          | 0/4 [00:01<?, ?it/s]\n"
          ]
        },
        {
          "output_type": "error",
          "ename": "ValueError",
          "evalue": "xyxy must be a 2D np.ndarray with shape (_, 4), but got shape (0,)",
          "traceback": [
            "\u001b[0;31m---------------------------------------------------------------------------\u001b[0m",
            "\u001b[0;31mValueError\u001b[0m                                Traceback (most recent call last)",
            "\u001b[0;32m<ipython-input-16-5883428b0e31>\u001b[0m in \u001b[0;36m<cell line: 0>\u001b[0;34m()\u001b[0m\n\u001b[1;32m     82\u001b[0m     \u001b[0;31m# 🎨 Visualización\u001b[0m\u001b[0;34m\u001b[0m\u001b[0;34m\u001b[0m\u001b[0m\n\u001b[1;32m     83\u001b[0m     \u001b[0mframe\u001b[0m \u001b[0;34m=\u001b[0m \u001b[0mcv2\u001b[0m\u001b[0;34m.\u001b[0m\u001b[0mimread\u001b[0m\u001b[0;34m(\u001b[0m\u001b[0mimg_path\u001b[0m\u001b[0;34m)\u001b[0m\u001b[0;34m\u001b[0m\u001b[0;34m\u001b[0m\u001b[0m\n\u001b[0;32m---> 84\u001b[0;31m     \u001b[0mdets\u001b[0m \u001b[0;34m=\u001b[0m \u001b[0msv\u001b[0m\u001b[0;34m.\u001b[0m\u001b[0mDetections\u001b[0m\u001b[0;34m(\u001b[0m\u001b[0mxyxy\u001b[0m\u001b[0;34m=\u001b[0m\u001b[0mfiltered_boxes\u001b[0m\u001b[0;34m,\u001b[0m \u001b[0mmask\u001b[0m\u001b[0;34m=\u001b[0m\u001b[0mmasks\u001b[0m\u001b[0;34m.\u001b[0m\u001b[0mastype\u001b[0m\u001b[0;34m(\u001b[0m\u001b[0mbool\u001b[0m\u001b[0;34m)\u001b[0m\u001b[0;34m,\u001b[0m \u001b[0mclass_id\u001b[0m\u001b[0;34m=\u001b[0m\u001b[0mclass_ids\u001b[0m\u001b[0;34m)\u001b[0m\u001b[0;34m\u001b[0m\u001b[0;34m\u001b[0m\u001b[0m\n\u001b[0m\u001b[1;32m     85\u001b[0m     \u001b[0;32mfrom\u001b[0m \u001b[0msupervision\u001b[0m\u001b[0;34m.\u001b[0m\u001b[0mdraw\u001b[0m\u001b[0;34m.\u001b[0m\u001b[0mcolor\u001b[0m \u001b[0;32mimport\u001b[0m \u001b[0mColorPalette\u001b[0m\u001b[0;34m,\u001b[0m \u001b[0mColor\u001b[0m\u001b[0;34m\u001b[0m\u001b[0;34m\u001b[0m\u001b[0m\n\u001b[1;32m     86\u001b[0m     \u001b[0;32mtry\u001b[0m\u001b[0;34m:\u001b[0m\u001b[0;34m\u001b[0m\u001b[0;34m\u001b[0m\u001b[0m\n",
            "\u001b[0;32m/usr/local/lib/python3.11/dist-packages/supervision/detection/core.py\u001b[0m in \u001b[0;36m__init__\u001b[0;34m(self, xyxy, mask, confidence, class_id, tracker_id, data, metadata)\u001b[0m\n",
            "\u001b[0;32m/usr/local/lib/python3.11/dist-packages/supervision/detection/core.py\u001b[0m in \u001b[0;36m__post_init__\u001b[0;34m(self)\u001b[0m\n\u001b[1;32m    142\u001b[0m \u001b[0;34m\u001b[0m\u001b[0m\n\u001b[1;32m    143\u001b[0m     \u001b[0;32mdef\u001b[0m \u001b[0m__post_init__\u001b[0m\u001b[0;34m(\u001b[0m\u001b[0mself\u001b[0m\u001b[0;34m)\u001b[0m\u001b[0;34m:\u001b[0m\u001b[0;34m\u001b[0m\u001b[0;34m\u001b[0m\u001b[0m\n\u001b[0;32m--> 144\u001b[0;31m         validate_detections_fields(\n\u001b[0m\u001b[1;32m    145\u001b[0m             \u001b[0mxyxy\u001b[0m\u001b[0;34m=\u001b[0m\u001b[0mself\u001b[0m\u001b[0;34m.\u001b[0m\u001b[0mxyxy\u001b[0m\u001b[0;34m,\u001b[0m\u001b[0;34m\u001b[0m\u001b[0;34m\u001b[0m\u001b[0m\n\u001b[1;32m    146\u001b[0m             \u001b[0mmask\u001b[0m\u001b[0;34m=\u001b[0m\u001b[0mself\u001b[0m\u001b[0;34m.\u001b[0m\u001b[0mmask\u001b[0m\u001b[0;34m,\u001b[0m\u001b[0;34m\u001b[0m\u001b[0;34m\u001b[0m\u001b[0m\n",
            "\u001b[0;32m/usr/local/lib/python3.11/dist-packages/supervision/validators/__init__.py\u001b[0m in \u001b[0;36mvalidate_detections_fields\u001b[0;34m(xyxy, mask, class_id, confidence, tracker_id, data)\u001b[0m\n\u001b[1;32m    118\u001b[0m     \u001b[0mdata\u001b[0m\u001b[0;34m:\u001b[0m \u001b[0mDict\u001b[0m\u001b[0;34m[\u001b[0m\u001b[0mstr\u001b[0m\u001b[0;34m,\u001b[0m \u001b[0mAny\u001b[0m\u001b[0;34m]\u001b[0m\u001b[0;34m,\u001b[0m\u001b[0;34m\u001b[0m\u001b[0;34m\u001b[0m\u001b[0m\n\u001b[1;32m    119\u001b[0m ) -> None:\n\u001b[0;32m--> 120\u001b[0;31m     \u001b[0mvalidate_xyxy\u001b[0m\u001b[0;34m(\u001b[0m\u001b[0mxyxy\u001b[0m\u001b[0;34m)\u001b[0m\u001b[0;34m\u001b[0m\u001b[0;34m\u001b[0m\u001b[0m\n\u001b[0m\u001b[1;32m    121\u001b[0m     \u001b[0mn\u001b[0m \u001b[0;34m=\u001b[0m \u001b[0mlen\u001b[0m\u001b[0;34m(\u001b[0m\u001b[0mxyxy\u001b[0m\u001b[0;34m)\u001b[0m\u001b[0;34m\u001b[0m\u001b[0;34m\u001b[0m\u001b[0m\n\u001b[1;32m    122\u001b[0m     \u001b[0mvalidate_mask\u001b[0m\u001b[0;34m(\u001b[0m\u001b[0mmask\u001b[0m\u001b[0;34m,\u001b[0m \u001b[0mn\u001b[0m\u001b[0;34m)\u001b[0m\u001b[0;34m\u001b[0m\u001b[0;34m\u001b[0m\u001b[0m\n",
            "\u001b[0;32m/usr/local/lib/python3.11/dist-packages/supervision/validators/__init__.py\u001b[0m in \u001b[0;36mvalidate_xyxy\u001b[0;34m(xyxy)\u001b[0m\n\u001b[1;32m      9\u001b[0m     \u001b[0mis_valid\u001b[0m \u001b[0;34m=\u001b[0m \u001b[0misinstance\u001b[0m\u001b[0;34m(\u001b[0m\u001b[0mxyxy\u001b[0m\u001b[0;34m,\u001b[0m \u001b[0mnp\u001b[0m\u001b[0;34m.\u001b[0m\u001b[0mndarray\u001b[0m\u001b[0;34m)\u001b[0m \u001b[0;32mand\u001b[0m \u001b[0mxyxy\u001b[0m\u001b[0;34m.\u001b[0m\u001b[0mndim\u001b[0m \u001b[0;34m==\u001b[0m \u001b[0;36m2\u001b[0m \u001b[0;32mand\u001b[0m \u001b[0mxyxy\u001b[0m\u001b[0;34m.\u001b[0m\u001b[0mshape\u001b[0m\u001b[0;34m[\u001b[0m\u001b[0;36m1\u001b[0m\u001b[0;34m]\u001b[0m \u001b[0;34m==\u001b[0m \u001b[0;36m4\u001b[0m\u001b[0;34m\u001b[0m\u001b[0;34m\u001b[0m\u001b[0m\n\u001b[1;32m     10\u001b[0m     \u001b[0;32mif\u001b[0m \u001b[0;32mnot\u001b[0m \u001b[0mis_valid\u001b[0m\u001b[0;34m:\u001b[0m\u001b[0;34m\u001b[0m\u001b[0;34m\u001b[0m\u001b[0m\n\u001b[0;32m---> 11\u001b[0;31m         raise ValueError(\n\u001b[0m\u001b[1;32m     12\u001b[0m             \u001b[0;34mf\"xyxy must be a 2D np.ndarray with shape {expected_shape}, but got shape \"\u001b[0m\u001b[0;34m\u001b[0m\u001b[0;34m\u001b[0m\u001b[0m\n\u001b[1;32m     13\u001b[0m             \u001b[0;34mf\"{actual_shape}\"\u001b[0m\u001b[0;34m\u001b[0m\u001b[0;34m\u001b[0m\u001b[0m\n",
            "\u001b[0;31mValueError\u001b[0m: xyxy must be a 2D np.ndarray with shape (_, 4), but got shape (0,)"
          ]
        }
      ]
    },
    {
      "cell_type": "code",
      "source": [
        "#@title Descargar carpeta de segmentados_output\n",
        "import shutil\n",
        "shutil.make_archive(\"output_mask_folder\", 'zip', \"/content/output_mask_folder\")\n",
        "\n",
        "from google.colab import files\n",
        "files.download(\"output_mask_folder.zip\")"
      ],
      "metadata": {
        "colab": {
          "base_uri": "https://localhost:8080/",
          "height": 17
        },
        "id": "b2ofqo1tFhVX",
        "outputId": "b7ae98dc-cf51-4afd-e74a-09943c87d863",
        "cellView": "form"
      },
      "execution_count": null,
      "outputs": [
        {
          "output_type": "display_data",
          "data": {
            "text/plain": [
              "<IPython.core.display.Javascript object>"
            ],
            "application/javascript": [
              "\n",
              "    async function download(id, filename, size) {\n",
              "      if (!google.colab.kernel.accessAllowed) {\n",
              "        return;\n",
              "      }\n",
              "      const div = document.createElement('div');\n",
              "      const label = document.createElement('label');\n",
              "      label.textContent = `Downloading \"${filename}\": `;\n",
              "      div.appendChild(label);\n",
              "      const progress = document.createElement('progress');\n",
              "      progress.max = size;\n",
              "      div.appendChild(progress);\n",
              "      document.body.appendChild(div);\n",
              "\n",
              "      const buffers = [];\n",
              "      let downloaded = 0;\n",
              "\n",
              "      const channel = await google.colab.kernel.comms.open(id);\n",
              "      // Send a message to notify the kernel that we're ready.\n",
              "      channel.send({})\n",
              "\n",
              "      for await (const message of channel.messages) {\n",
              "        // Send a message to notify the kernel that we're ready.\n",
              "        channel.send({})\n",
              "        if (message.buffers) {\n",
              "          for (const buffer of message.buffers) {\n",
              "            buffers.push(buffer);\n",
              "            downloaded += buffer.byteLength;\n",
              "            progress.value = downloaded;\n",
              "          }\n",
              "        }\n",
              "      }\n",
              "      const blob = new Blob(buffers, {type: 'application/binary'});\n",
              "      const a = document.createElement('a');\n",
              "      a.href = window.URL.createObjectURL(blob);\n",
              "      a.download = filename;\n",
              "      div.appendChild(a);\n",
              "      a.click();\n",
              "      div.remove();\n",
              "    }\n",
              "  "
            ]
          },
          "metadata": {}
        },
        {
          "output_type": "display_data",
          "data": {
            "text/plain": [
              "<IPython.core.display.Javascript object>"
            ],
            "application/javascript": [
              "download(\"download_030ae9db-2a12-494f-bd55-d0b89781f7d2\", \"output_mask_folder.zip\", 3360301)"
            ]
          },
          "metadata": {}
        }
      ]
    },
    {
      "cell_type": "code",
      "source": [
        "#@title Convertir json en mascara binaria\n",
        "import json\n",
        "import numpy as np\n",
        "from pycocotools import mask as maskUtils\n",
        "from PIL import Image\n",
        "\n",
        "# Cargar archivo JSON\n",
        "for filename in os.listdir(\"/content/json_folder\"):\n",
        "  if filename.endswith(\".json\"):\n",
        "    json_path = os.path.join(\"/content/json_folder\", filename)\n",
        "    with open(json_path, \"r\") as f:\n",
        "        data = json.load(f)\n",
        "\n",
        "    # Obtener tamaño\n",
        "    height, width = data[\"masks\"][0][\"segmentation\"][\"size\"]\n",
        "    mask_total = np.zeros((height, width), dtype=np.uint8)\n",
        "\n",
        "    # Decodificar cada máscara y combinarlas\n",
        "    for mask in data[\"masks\"]:\n",
        "        rle = mask[\"segmentation\"]\n",
        "        binary_mask = maskUtils.decode(rle)\n",
        "        mask_total = np.maximum(mask_total, binary_mask.astype(np.uint8))\n",
        "\n",
        "    # Guardar máscara binaria\n",
        "    base_name = os.path.splitext(filename)[0]\n",
        "    output_path = os.path.join(\"/content/output_mask_folder\", f\"{base_name}_mascara_binaria.png\")\n",
        "    Image.fromarray(mask_total * 255).save(output_path)\n",
        "\n",
        "    print(f\"✅ Máscara binaria guardada como: {output_path}\")"
      ],
      "metadata": {
        "cellView": "form",
        "id": "7-smpthWTnFb",
        "colab": {
          "base_uri": "https://localhost:8080/"
        },
        "collapsed": true,
        "outputId": "cd5b87bd-780d-4a09-f2a3-e43cf7f69051"
      },
      "execution_count": null,
      "outputs": [
        {
          "output_type": "stream",
          "name": "stdout",
          "text": [
            "✅ Máscara binaria guardada como: /content/output_mask_folder/tile_13275_16815_mascara_binaria.png\n",
            "✅ Máscara binaria guardada como: /content/output_mask_folder/tile_11505_11505_mascara_binaria.png\n",
            "✅ Máscara binaria guardada como: /content/output_mask_folder/tile_8850_26550_mascara_binaria.png\n",
            "✅ Máscara binaria guardada como: /content/output_mask_folder/tile_23010_20355_mascara_binaria.png\n",
            "✅ Máscara binaria guardada como: /content/output_mask_folder/tile_885_20355_mascara_binaria.png\n",
            "✅ Máscara binaria guardada como: /content/output_mask_folder/tile_4425_13275_mascara_binaria.png\n",
            "✅ Máscara binaria guardada como: /content/output_mask_folder/tile_18585_18585_mascara_binaria.png\n",
            "✅ Máscara binaria guardada como: /content/output_mask_folder/tile_12390_6195_mascara_binaria.png\n",
            "✅ Máscara binaria guardada como: /content/output_mask_folder/tile_18585_12390_mascara_binaria.png\n",
            "✅ Máscara binaria guardada como: /content/output_mask_folder/tile_1770_18585_mascara_binaria.png\n",
            "✅ Máscara binaria guardada como: /content/output_mask_folder/tile_16815_25665_mascara_binaria.png\n",
            "✅ Máscara binaria guardada como: /content/output_mask_folder/tile_8850_3540_mascara_binaria.png\n",
            "✅ Máscara binaria guardada como: /content/output_mask_folder/tile_5310_10620_mascara_binaria.png\n",
            "✅ Máscara binaria guardada como: /content/output_mask_folder/tile_15045_18585_mascara_binaria.png\n",
            "✅ Máscara binaria guardada como: /content/output_mask_folder/tile_20355_10620_mascara_binaria.png\n",
            "✅ Máscara binaria guardada como: /content/output_mask_folder/tile_16815_18585_mascara_binaria.png\n",
            "✅ Máscara binaria guardada como: /content/output_mask_folder/tile_11505_16815_mascara_binaria.png\n",
            "✅ Máscara binaria guardada como: /content/output_mask_folder/tile_14160_15930_mascara_binaria.png\n",
            "✅ Máscara binaria guardada como: /content/output_mask_folder/tile_5310_7080_mascara_binaria.png\n",
            "✅ Máscara binaria guardada como: /content/output_mask_folder/tile_11505_4425_mascara_binaria.png\n",
            "✅ Máscara binaria guardada como: /content/output_mask_folder/tile_9735_14160_mascara_binaria.png\n",
            "✅ Máscara binaria guardada como: /content/output_mask_folder/tile_8850_1770_mascara_binaria.png\n",
            "✅ Máscara binaria guardada como: /content/output_mask_folder/tile_15930_9735_mascara_binaria.png\n",
            "✅ Máscara binaria guardada como: /content/output_mask_folder/tile_11505_14160_mascara_binaria.png\n",
            "✅ Máscara binaria guardada como: /content/output_mask_folder/tile_14160_6195_mascara_binaria.png\n",
            "✅ Máscara binaria guardada como: /content/output_mask_folder/tile_15930_8850_mascara_binaria.png\n",
            "✅ Máscara binaria guardada como: /content/output_mask_folder/tile_11505_6195_mascara_binaria.png\n",
            "✅ Máscara binaria guardada como: /content/output_mask_folder/tile_19470_12390_mascara_binaria.png\n",
            "✅ Máscara binaria guardada como: /content/output_mask_folder/tile_12390_2655_mascara_binaria.png\n",
            "✅ Máscara binaria guardada como: /content/output_mask_folder/tile_15930_22125_mascara_binaria.png\n",
            "✅ Máscara binaria guardada como: /content/output_mask_folder/tile_13275_11505_mascara_binaria.png\n",
            "✅ Máscara binaria guardada como: /content/output_mask_folder/tile_5310_11505_mascara_binaria.png\n",
            "✅ Máscara binaria guardada como: /content/output_mask_folder/tile_18585_22125_mascara_binaria.png\n",
            "✅ Máscara binaria guardada como: /content/output_mask_folder/tile_22125_20355_mascara_binaria.png\n",
            "✅ Máscara binaria guardada como: /content/output_mask_folder/tile_8850_0_mascara_binaria.png\n",
            "✅ Máscara binaria guardada como: /content/output_mask_folder/tile_9735_20355_mascara_binaria.png\n",
            "✅ Máscara binaria guardada como: /content/output_mask_folder/tile_1770_21240_mascara_binaria.png\n",
            "✅ Máscara binaria guardada como: /content/output_mask_folder/tile_11505_3540_mascara_binaria.png\n",
            "✅ Máscara binaria guardada como: /content/output_mask_folder/tile_22125_21240_mascara_binaria.png\n",
            "✅ Máscara binaria guardada como: /content/output_mask_folder/tile_15045_25665_mascara_binaria.png\n",
            "✅ Máscara binaria guardada como: /content/output_mask_folder/tile_16815_13275_mascara_binaria.png\n",
            "✅ Máscara binaria guardada como: /content/output_mask_folder/tile_17700_9735_mascara_binaria.png\n",
            "✅ Máscara binaria guardada como: /content/output_mask_folder/tile_19470_8850_mascara_binaria.png\n",
            "✅ Máscara binaria guardada como: /content/output_mask_folder/tile_0_20355_mascara_binaria.png\n",
            "✅ Máscara binaria guardada como: /content/output_mask_folder/tile_15930_15045_mascara_binaria.png\n",
            "✅ Máscara binaria guardada como: /content/output_mask_folder/tile_13275_15930_mascara_binaria.png\n",
            "✅ Máscara binaria guardada como: /content/output_mask_folder/tile_21240_11505_mascara_binaria.png\n",
            "✅ Máscara binaria guardada como: /content/output_mask_folder/tile_10620_23010_mascara_binaria.png\n",
            "✅ Máscara binaria guardada como: /content/output_mask_folder/tile_10620_2655_mascara_binaria.png\n",
            "✅ Máscara binaria guardada como: /content/output_mask_folder/tile_21240_14160_mascara_binaria.png\n",
            "✅ Máscara binaria guardada como: /content/output_mask_folder/tile_20355_12390_mascara_binaria.png\n",
            "✅ Máscara binaria guardada como: /content/output_mask_folder/tile_17700_15045_mascara_binaria.png\n",
            "✅ Máscara binaria guardada como: /content/output_mask_folder/tile_15930_17700_mascara_binaria.png\n",
            "✅ Máscara binaria guardada como: /content/output_mask_folder/tile_13275_8850_mascara_binaria.png\n",
            "✅ Máscara binaria guardada como: /content/output_mask_folder/tile_11505_23895_mascara_binaria.png\n",
            "✅ Máscara binaria guardada como: /content/output_mask_folder/tile_6195_7965_mascara_binaria.png\n",
            "✅ Máscara binaria guardada como: /content/output_mask_folder/tile_22125_15930_mascara_binaria.png\n",
            "✅ Máscara binaria guardada como: /content/output_mask_folder/tile_20355_25665_mascara_binaria.png\n",
            "✅ Máscara binaria guardada como: /content/output_mask_folder/tile_13275_23010_mascara_binaria.png\n",
            "✅ Máscara binaria guardada como: /content/output_mask_folder/tile_14160_15045_mascara_binaria.png\n",
            "✅ Máscara binaria guardada como: /content/output_mask_folder/tile_10620_3540_mascara_binaria.png\n",
            "✅ Máscara binaria guardada como: /content/output_mask_folder/tile_3540_13275_mascara_binaria.png\n",
            "✅ Máscara binaria guardada como: /content/output_mask_folder/tile_14160_7965_mascara_binaria.png\n",
            "✅ Máscara binaria guardada como: /content/output_mask_folder/tile_12390_15045_mascara_binaria.png\n",
            "✅ Máscara binaria guardada como: /content/output_mask_folder/tile_15930_12390_mascara_binaria.png\n",
            "✅ Máscara binaria guardada como: /content/output_mask_folder/tile_17700_22125_mascara_binaria.png\n",
            "✅ Máscara binaria guardada como: /content/output_mask_folder/tile_21240_15930_mascara_binaria.png\n",
            "✅ Máscara binaria guardada como: /content/output_mask_folder/tile_15930_21240_mascara_binaria.png\n",
            "✅ Máscara binaria guardada como: /content/output_mask_folder/tile_10620_0_mascara_binaria.png\n",
            "✅ Máscara binaria guardada como: /content/output_mask_folder/tile_18585_15045_mascara_binaria.png\n",
            "✅ Máscara binaria guardada como: /content/output_mask_folder/tile_13275_21240_mascara_binaria.png\n",
            "✅ Máscara binaria guardada como: /content/output_mask_folder/tile_8850_18585_mascara_binaria.png\n",
            "✅ Máscara binaria guardada como: /content/output_mask_folder/tile_9735_23895_mascara_binaria.png\n",
            "✅ Máscara binaria guardada como: /content/output_mask_folder/tile_22125_9735_mascara_binaria.png\n",
            "✅ Máscara binaria guardada como: /content/output_mask_folder/tile_12390_15930_mascara_binaria.png\n",
            "✅ Máscara binaria guardada como: /content/output_mask_folder/tile_10620_21240_mascara_binaria.png\n",
            "✅ Máscara binaria guardada como: /content/output_mask_folder/tile_21240_21240_mascara_binaria.png\n",
            "✅ Máscara binaria guardada como: /content/output_mask_folder/tile_11505_15930_mascara_binaria.png\n",
            "✅ Máscara binaria guardada como: /content/output_mask_folder/tile_2655_18585_mascara_binaria.png\n",
            "✅ Máscara binaria guardada como: /content/output_mask_folder/tile_10620_15930_mascara_binaria.png\n",
            "✅ Máscara binaria guardada como: /content/output_mask_folder/tile_18585_15930_mascara_binaria.png\n",
            "✅ Máscara binaria guardada como: /content/output_mask_folder/tile_3540_16815_mascara_binaria.png\n",
            "✅ Máscara binaria guardada como: /content/output_mask_folder/tile_11505_17700_mascara_binaria.png\n",
            "✅ Máscara binaria guardada como: /content/output_mask_folder/tile_7080_4425_mascara_binaria.png\n",
            "✅ Máscara binaria guardada como: /content/output_mask_folder/tile_13275_5310_mascara_binaria.png\n",
            "✅ Máscara binaria guardada como: /content/output_mask_folder/tile_9735_1770_mascara_binaria.png\n",
            "✅ Máscara binaria guardada como: /content/output_mask_folder/tile_20355_23895_mascara_binaria.png\n",
            "✅ Máscara binaria guardada como: /content/output_mask_folder/tile_14160_17700_mascara_binaria.png\n",
            "✅ Máscara binaria guardada como: /content/output_mask_folder/tile_12390_13275_mascara_binaria.png\n",
            "✅ Máscara binaria guardada como: /content/output_mask_folder/tile_15045_26550_mascara_binaria.png\n",
            "✅ Máscara binaria guardada como: /content/output_mask_folder/tile_13275_10620_mascara_binaria.png\n",
            "✅ Máscara binaria guardada como: /content/output_mask_folder/tile_9735_15930_mascara_binaria.png\n",
            "✅ Máscara binaria guardada como: /content/output_mask_folder/tile_19470_9735_mascara_binaria.png\n",
            "✅ Máscara binaria guardada como: /content/output_mask_folder/tile_14160_7080_mascara_binaria.png\n",
            "✅ Máscara binaria guardada como: /content/output_mask_folder/tile_9735_18585_mascara_binaria.png\n",
            "✅ Máscara binaria guardada como: /content/output_mask_folder/tile_11505_5310_mascara_binaria.png\n",
            "✅ Máscara binaria guardada como: /content/output_mask_folder/tile_17700_19470_mascara_binaria.png\n",
            "✅ Máscara binaria guardada como: /content/output_mask_folder/tile_13275_17700_mascara_binaria.png\n",
            "✅ Máscara binaria guardada como: /content/output_mask_folder/tile_15930_20355_mascara_binaria.png\n",
            "✅ Máscara binaria guardada como: /content/output_mask_folder/tile_12390_3540_mascara_binaria.png\n",
            "✅ Máscara binaria guardada como: /content/output_mask_folder/tile_19470_14160_mascara_binaria.png\n",
            "✅ Máscara binaria guardada como: /content/output_mask_folder/tile_19470_17700_mascara_binaria.png\n",
            "✅ Máscara binaria guardada como: /content/output_mask_folder/tile_23010_11505_mascara_binaria.png\n",
            "✅ Máscara binaria guardada como: /content/output_mask_folder/tile_20355_23010_mascara_binaria.png\n",
            "✅ Máscara binaria guardada como: /content/output_mask_folder/tile_16815_29205_mascara_binaria.png\n",
            "✅ Máscara binaria guardada como: /content/output_mask_folder/tile_19470_25665_mascara_binaria.png\n",
            "✅ Máscara binaria guardada como: /content/output_mask_folder/tile_7965_17700_mascara_binaria.png\n",
            "✅ Máscara binaria guardada como: /content/output_mask_folder/tile_14160_23895_mascara_binaria.png\n",
            "✅ Máscara binaria guardada como: /content/output_mask_folder/tile_18585_26550_mascara_binaria.png\n",
            "✅ Máscara binaria guardada como: /content/output_mask_folder/tile_15045_21240_mascara_binaria.png\n",
            "✅ Máscara binaria guardada como: /content/output_mask_folder/tile_10620_16815_mascara_binaria.png\n",
            "✅ Máscara binaria guardada como: /content/output_mask_folder/tile_18585_11505_mascara_binaria.png\n",
            "✅ Máscara binaria guardada como: /content/output_mask_folder/tile_19470_19470_mascara_binaria.png\n",
            "✅ Máscara binaria guardada como: /content/output_mask_folder/tile_19470_23895_mascara_binaria.png\n",
            "✅ Máscara binaria guardada como: /content/output_mask_folder/tile_14160_28320_mascara_binaria.png\n",
            "✅ Máscara binaria guardada como: /content/output_mask_folder/tile_17700_29205_mascara_binaria.png\n",
            "✅ Máscara binaria guardada como: /content/output_mask_folder/tile_10620_26550_mascara_binaria.png\n",
            "✅ Máscara binaria guardada como: /content/output_mask_folder/tile_16815_23895_mascara_binaria.png\n",
            "✅ Máscara binaria guardada como: /content/output_mask_folder/tile_16815_12390_mascara_binaria.png\n",
            "✅ Máscara binaria guardada como: /content/output_mask_folder/tile_2655_20355_mascara_binaria.png\n",
            "✅ Máscara binaria guardada como: /content/output_mask_folder/tile_21240_17700_mascara_binaria.png\n",
            "✅ Máscara binaria guardada como: /content/output_mask_folder/tile_13275_27435_mascara_binaria.png\n",
            "✅ Máscara binaria guardada como: /content/output_mask_folder/tile_10620_20355_mascara_binaria.png\n",
            "✅ Máscara binaria guardada como: /content/output_mask_folder/tile_22125_19470_mascara_binaria.png\n",
            "✅ Máscara binaria guardada como: /content/output_mask_folder/tile_14160_23010_mascara_binaria.png\n",
            "✅ Máscara binaria guardada como: /content/output_mask_folder/tile_13275_2655_mascara_binaria.png\n",
            "✅ Máscara binaria guardada como: /content/output_mask_folder/tile_16815_9735_mascara_binaria.png\n",
            "✅ Máscara binaria guardada como: /content/output_mask_folder/tile_14160_18585_mascara_binaria.png\n",
            "✅ Máscara binaria guardada como: /content/output_mask_folder/tile_23010_22125_mascara_binaria.png\n",
            "✅ Máscara binaria guardada como: /content/output_mask_folder/tile_21240_18585_mascara_binaria.png\n",
            "✅ Máscara binaria guardada como: /content/output_mask_folder/tile_18585_28320_mascara_binaria.png\n",
            "✅ Máscara binaria guardada como: /content/output_mask_folder/tile_13275_23895_mascara_binaria.png\n",
            "✅ Máscara binaria guardada como: /content/output_mask_folder/tile_16815_11505_mascara_binaria.png\n",
            "✅ Máscara binaria guardada como: /content/output_mask_folder/tile_20355_17700_mascara_binaria.png\n",
            "✅ Máscara binaria guardada como: /content/output_mask_folder/tile_14160_21240_mascara_binaria.png\n",
            "✅ Máscara binaria guardada como: /content/output_mask_folder/tile_22125_22125_mascara_binaria.png\n",
            "✅ Máscara binaria guardada como: /content/output_mask_folder/tile_19470_18585_mascara_binaria.png\n",
            "✅ Máscara binaria guardada como: /content/output_mask_folder/tile_15045_9735_mascara_binaria.png\n",
            "✅ Máscara binaria guardada como: /content/output_mask_folder/tile_17700_8850_mascara_binaria.png\n",
            "✅ Máscara binaria guardada como: /content/output_mask_folder/tile_17700_16815_mascara_binaria.png\n",
            "✅ Máscara binaria guardada como: /content/output_mask_folder/tile_17700_28320_mascara_binaria.png\n",
            "✅ Máscara binaria guardada como: /content/output_mask_folder/tile_13275_9735_mascara_binaria.png\n",
            "✅ Máscara binaria guardada como: /content/output_mask_folder/tile_21240_23010_mascara_binaria.png\n",
            "✅ Máscara binaria guardada como: /content/output_mask_folder/tile_17700_18585_mascara_binaria.png\n",
            "✅ Máscara binaria guardada como: /content/output_mask_folder/tile_15930_23895_mascara_binaria.png\n",
            "✅ Máscara binaria guardada como: /content/output_mask_folder/tile_17700_26550_mascara_binaria.png\n",
            "✅ Máscara binaria guardada como: /content/output_mask_folder/tile_12390_20355_mascara_binaria.png\n",
            "✅ Máscara binaria guardada como: /content/output_mask_folder/tile_15045_16815_mascara_binaria.png\n",
            "✅ Máscara binaria guardada como: /content/output_mask_folder/tile_12390_8850_mascara_binaria.png\n",
            "✅ Máscara binaria guardada como: /content/output_mask_folder/tile_18585_13275_mascara_binaria.png\n",
            "✅ Máscara binaria guardada como: /content/output_mask_folder/tile_20355_11505_mascara_binaria.png\n",
            "✅ Máscara binaria guardada como: /content/output_mask_folder/tile_11505_25665_mascara_binaria.png\n",
            "✅ Máscara binaria guardada como: /content/output_mask_folder/tile_13275_7965_mascara_binaria.png\n",
            "✅ Máscara binaria guardada como: /content/output_mask_folder/tile_16815_19470_mascara_binaria.png\n",
            "✅ Máscara binaria guardada como: /content/output_mask_folder/tile_5310_9735_mascara_binaria.png\n",
            "✅ Máscara binaria guardada como: /content/output_mask_folder/tile_11505_23010_mascara_binaria.png\n",
            "✅ Máscara binaria guardada como: /content/output_mask_folder/tile_14160_22125_mascara_binaria.png\n",
            "✅ Máscara binaria guardada como: /content/output_mask_folder/tile_2655_16815_mascara_binaria.png\n",
            "✅ Máscara binaria guardada como: /content/output_mask_folder/tile_15045_23895_mascara_binaria.png\n",
            "✅ Máscara binaria guardada como: /content/output_mask_folder/tile_15930_7080_mascara_binaria.png\n",
            "✅ Máscara binaria guardada como: /content/output_mask_folder/tile_13275_20355_mascara_binaria.png\n",
            "✅ Máscara binaria guardada como: /content/output_mask_folder/tile_13275_3540_mascara_binaria.png\n",
            "✅ Máscara binaria guardada como: /content/output_mask_folder/tile_20355_19470_mascara_binaria.png\n",
            "✅ Máscara binaria guardada como: /content/output_mask_folder/tile_3540_17700_mascara_binaria.png\n",
            "✅ Máscara binaria guardada como: /content/output_mask_folder/tile_7965_3540_mascara_binaria.png\n",
            "✅ Máscara binaria guardada como: /content/output_mask_folder/tile_20355_8850_mascara_binaria.png\n",
            "✅ Máscara binaria guardada como: /content/output_mask_folder/tile_7080_5310_mascara_binaria.png\n",
            "✅ Máscara binaria guardada como: /content/output_mask_folder/tile_23895_19470_mascara_binaria.png\n",
            "✅ Máscara binaria guardada como: /content/output_mask_folder/tile_14160_5310_mascara_binaria.png\n",
            "✅ Máscara binaria guardada como: /content/output_mask_folder/tile_14160_25665_mascara_binaria.png\n",
            "✅ Máscara binaria guardada como: /content/output_mask_folder/tile_12390_17700_mascara_binaria.png\n",
            "✅ Máscara binaria guardada como: /content/output_mask_folder/tile_7080_7080_mascara_binaria.png\n",
            "✅ Máscara binaria guardada como: /content/output_mask_folder/tile_10620_25665_mascara_binaria.png\n",
            "✅ Máscara binaria guardada como: /content/output_mask_folder/tile_13275_7080_mascara_binaria.png\n",
            "✅ Máscara binaria guardada como: /content/output_mask_folder/tile_15045_4425_mascara_binaria.png\n",
            "✅ Máscara binaria guardada como: /content/output_mask_folder/tile_12390_7965_mascara_binaria.png\n",
            "✅ Máscara binaria guardada como: /content/output_mask_folder/tile_22125_16815_mascara_binaria.png\n",
            "✅ Máscara binaria guardada como: /content/output_mask_folder/tile_21240_13275_mascara_binaria.png\n",
            "✅ Máscara binaria guardada como: /content/output_mask_folder/tile_10620_13275_mascara_binaria.png\n",
            "✅ Máscara binaria guardada como: /content/output_mask_folder/tile_21240_9735_mascara_binaria.png\n",
            "✅ Máscara binaria guardada como: /content/output_mask_folder/tile_15930_30090_mascara_binaria.png\n",
            "✅ Máscara binaria guardada como: /content/output_mask_folder/tile_11505_10620_mascara_binaria.png\n",
            "✅ Máscara binaria guardada como: /content/output_mask_folder/tile_16815_26550_mascara_binaria.png\n",
            "✅ Máscara binaria guardada como: /content/output_mask_folder/tile_19470_20355_mascara_binaria.png\n",
            "✅ Máscara binaria guardada como: /content/output_mask_folder/tile_19470_11505_mascara_binaria.png\n",
            "✅ Máscara binaria guardada como: /content/output_mask_folder/tile_14160_11505_mascara_binaria.png\n",
            "✅ Máscara binaria guardada como: /content/output_mask_folder/tile_14160_16815_mascara_binaria.png\n",
            "✅ Máscara binaria guardada como: /content/output_mask_folder/tile_15045_27435_mascara_binaria.png\n",
            "✅ Máscara binaria guardada como: /content/output_mask_folder/tile_18585_17700_mascara_binaria.png\n",
            "✅ Máscara binaria guardada como: /content/output_mask_folder/tile_11505_19470_mascara_binaria.png\n",
            "✅ Máscara binaria guardada como: /content/output_mask_folder/tile_13275_12390_mascara_binaria.png\n",
            "✅ Máscara binaria guardada como: /content/output_mask_folder/tile_12390_23895_mascara_binaria.png\n",
            "✅ Máscara binaria guardada como: /content/output_mask_folder/tile_15045_28320_mascara_binaria.png\n",
            "✅ Máscara binaria guardada como: /content/output_mask_folder/tile_12390_10620_mascara_binaria.png\n",
            "✅ Máscara binaria guardada como: /content/output_mask_folder/tile_10620_14160_mascara_binaria.png\n",
            "✅ Máscara binaria guardada como: /content/output_mask_folder/tile_15930_10620_mascara_binaria.png\n",
            "✅ Máscara binaria guardada como: /content/output_mask_folder/tile_19470_13275_mascara_binaria.png\n",
            "✅ Máscara binaria guardada como: /content/output_mask_folder/tile_19470_21240_mascara_binaria.png\n",
            "✅ Máscara binaria guardada como: /content/output_mask_folder/tile_12390_7080_mascara_binaria.png\n",
            "✅ Máscara binaria guardada como: /content/output_mask_folder/tile_10620_5310_mascara_binaria.png\n",
            "✅ Máscara binaria guardada como: /content/output_mask_folder/tile_15045_30090_mascara_binaria.png\n",
            "✅ Máscara binaria guardada como: /content/output_mask_folder/tile_15930_29205_mascara_binaria.png\n",
            "✅ Máscara binaria guardada como: /content/output_mask_folder/tile_4425_10620_mascara_binaria.png\n",
            "✅ Máscara binaria guardada como: /content/output_mask_folder/tile_16815_24780_mascara_binaria.png\n",
            "✅ Máscara binaria guardada como: /content/output_mask_folder/tile_23895_10620_mascara_binaria.png\n",
            "✅ Máscara binaria guardada como: /content/output_mask_folder/tile_14160_14160_mascara_binaria.png\n",
            "✅ Máscara binaria guardada como: /content/output_mask_folder/tile_6195_12390_mascara_binaria.png\n",
            "✅ Máscara binaria guardada como: /content/output_mask_folder/tile_16815_16815_mascara_binaria.png\n",
            "✅ Máscara binaria guardada como: /content/output_mask_folder/tile_2655_17700_mascara_binaria.png\n",
            "✅ Máscara binaria guardada como: /content/output_mask_folder/tile_15930_5310_mascara_binaria.png\n",
            "✅ Máscara binaria guardada como: /content/output_mask_folder/tile_20355_15930_mascara_binaria.png\n",
            "✅ Máscara binaria guardada como: /content/output_mask_folder/tile_17700_24780_mascara_binaria.png\n",
            "✅ Máscara binaria guardada como: /content/output_mask_folder/tile_19470_27435_mascara_binaria.png\n",
            "✅ Máscara binaria guardada como: /content/output_mask_folder/tile_17700_10620_mascara_binaria.png\n",
            "✅ Máscara binaria guardada como: /content/output_mask_folder/tile_17700_11505_mascara_binaria.png\n",
            "✅ Máscara binaria guardada como: /content/output_mask_folder/tile_19470_15045_mascara_binaria.png\n",
            "✅ Máscara binaria guardada como: /content/output_mask_folder/tile_9735_3540_mascara_binaria.png\n",
            "✅ Máscara binaria guardada como: /content/output_mask_folder/tile_19470_26550_mascara_binaria.png\n",
            "✅ Máscara binaria guardada como: /content/output_mask_folder/tile_12390_18585_mascara_binaria.png\n",
            "✅ Máscara binaria guardada como: /content/output_mask_folder/tile_8850_21240_mascara_binaria.png\n",
            "✅ Máscara binaria guardada como: /content/output_mask_folder/tile_11505_7965_mascara_binaria.png\n",
            "✅ Máscara binaria guardada como: /content/output_mask_folder/tile_23895_23010_mascara_binaria.png\n",
            "✅ Máscara binaria guardada como: /content/output_mask_folder/tile_20355_14160_mascara_binaria.png\n",
            "✅ Máscara binaria guardada como: /content/output_mask_folder/tile_18585_23010_mascara_binaria.png\n",
            "✅ Máscara binaria guardada como: /content/output_mask_folder/tile_11505_7080_mascara_binaria.png\n",
            "✅ Máscara binaria guardada como: /content/output_mask_folder/tile_18585_10620_mascara_binaria.png\n",
            "✅ Máscara binaria guardada como: /content/output_mask_folder/tile_5310_8850_mascara_binaria.png\n",
            "✅ Máscara binaria guardada como: /content/output_mask_folder/tile_19470_24780_mascara_binaria.png\n",
            "✅ Máscara binaria guardada como: /content/output_mask_folder/tile_19470_10620_mascara_binaria.png\n",
            "✅ Máscara binaria guardada como: /content/output_mask_folder/tile_23010_10620_mascara_binaria.png\n",
            "✅ Máscara binaria guardada como: /content/output_mask_folder/tile_23010_16815_mascara_binaria.png\n",
            "✅ Máscara binaria guardada como: /content/output_mask_folder/tile_20355_7965_mascara_binaria.png\n",
            "✅ Máscara binaria guardada como: /content/output_mask_folder/tile_11505_13275_mascara_binaria.png\n",
            "✅ Máscara binaria guardada como: /content/output_mask_folder/tile_6195_6195_mascara_binaria.png\n",
            "✅ Máscara binaria guardada como: /content/output_mask_folder/tile_13275_15045_mascara_binaria.png\n",
            "✅ Máscara binaria guardada como: /content/output_mask_folder/tile_23895_21240_mascara_binaria.png\n",
            "✅ Máscara binaria guardada como: /content/output_mask_folder/tile_4425_12390_mascara_binaria.png\n",
            "✅ Máscara binaria guardada como: /content/output_mask_folder/tile_15930_14160_mascara_binaria.png\n",
            "✅ Máscara binaria guardada como: /content/output_mask_folder/tile_1770_20355_mascara_binaria.png\n",
            "✅ Máscara binaria guardada como: /content/output_mask_folder/tile_22125_17700_mascara_binaria.png\n",
            "✅ Máscara binaria guardada como: /content/output_mask_folder/tile_15930_27435_mascara_binaria.png\n",
            "✅ Máscara binaria guardada como: /content/output_mask_folder/tile_15045_8850_mascara_binaria.png\n",
            "✅ Máscara binaria guardada como: /content/output_mask_folder/tile_21240_23895_mascara_binaria.png\n",
            "✅ Máscara binaria guardada como: /content/output_mask_folder/tile_13275_26550_mascara_binaria.png\n",
            "✅ Máscara binaria guardada como: /content/output_mask_folder/tile_17700_20355_mascara_binaria.png\n",
            "✅ Máscara binaria guardada como: /content/output_mask_folder/tile_15045_23010_mascara_binaria.png\n",
            "✅ Máscara binaria guardada como: /content/output_mask_folder/tile_14160_4425_mascara_binaria.png\n",
            "✅ Máscara binaria guardada como: /content/output_mask_folder/tile_11505_18585_mascara_binaria.png\n",
            "✅ Máscara binaria guardada como: /content/output_mask_folder/tile_21240_15045_mascara_binaria.png\n",
            "✅ Máscara binaria guardada como: /content/output_mask_folder/tile_16815_15930_mascara_binaria.png\n",
            "✅ Máscara binaria guardada como: /content/output_mask_folder/tile_18585_27435_mascara_binaria.png\n",
            "✅ Máscara binaria guardada como: /content/output_mask_folder/tile_3540_14160_mascara_binaria.png\n",
            "✅ Máscara binaria guardada como: /content/output_mask_folder/tile_8850_4425_mascara_binaria.png\n",
            "✅ Máscara binaria guardada como: /content/output_mask_folder/tile_7965_15930_mascara_binaria.png\n",
            "✅ Máscara binaria guardada como: /content/output_mask_folder/tile_20355_22125_mascara_binaria.png\n",
            "✅ Máscara binaria guardada como: /content/output_mask_folder/tile_12390_26550_mascara_binaria.png\n",
            "✅ Máscara binaria guardada como: /content/output_mask_folder/tile_22125_10620_mascara_binaria.png\n",
            "✅ Máscara binaria guardada como: /content/output_mask_folder/tile_4425_15045_mascara_binaria.png\n",
            "✅ Máscara binaria guardada como: /content/output_mask_folder/tile_15045_7080_mascara_binaria.png\n",
            "✅ Máscara binaria guardada como: /content/output_mask_folder/tile_20355_24780_mascara_binaria.png\n",
            "✅ Máscara binaria guardada como: /content/output_mask_folder/tile_15045_14160_mascara_binaria.png\n",
            "✅ Máscara binaria guardada como: /content/output_mask_folder/tile_4425_14160_mascara_binaria.png\n",
            "✅ Máscara binaria guardada como: /content/output_mask_folder/tile_15930_16815_mascara_binaria.png\n",
            "✅ Máscara binaria guardada como: /content/output_mask_folder/tile_14160_10620_mascara_binaria.png\n",
            "✅ Máscara binaria guardada como: /content/output_mask_folder/tile_8850_885_mascara_binaria.png\n",
            "✅ Máscara binaria guardada como: /content/output_mask_folder/tile_18585_8850_mascara_binaria.png\n",
            "✅ Máscara binaria guardada como: /content/output_mask_folder/tile_12390_22125_mascara_binaria.png\n",
            "✅ Máscara binaria guardada como: /content/output_mask_folder/tile_10620_885_mascara_binaria.png\n",
            "✅ Máscara binaria guardada como: /content/output_mask_folder/tile_24780_21240_mascara_binaria.png\n",
            "✅ Máscara binaria guardada como: /content/output_mask_folder/tile_18585_14160_mascara_binaria.png\n",
            "✅ Máscara binaria guardada como: /content/output_mask_folder/tile_21240_24780_mascara_binaria.png\n",
            "✅ Máscara binaria guardada como: /content/output_mask_folder/tile_11505_8850_mascara_binaria.png\n",
            "✅ Máscara binaria guardada como: /content/output_mask_folder/tile_1770_17700_mascara_binaria.png\n",
            "✅ Máscara binaria guardada como: /content/output_mask_folder/tile_18585_19470_mascara_binaria.png\n",
            "✅ Máscara binaria guardada como: /content/output_mask_folder/tile_7965_4425_mascara_binaria.png\n",
            "✅ Máscara binaria guardada como: /content/output_mask_folder/tile_13275_25665_mascara_binaria.png\n",
            "✅ Máscara binaria guardada como: /content/output_mask_folder/tile_15930_15930_mascara_binaria.png\n",
            "✅ Máscara binaria guardada como: /content/output_mask_folder/tile_23010_23010_mascara_binaria.png\n",
            "✅ Máscara binaria guardada como: /content/output_mask_folder/tile_9735_26550_mascara_binaria.png\n",
            "✅ Máscara binaria guardada como: /content/output_mask_folder/tile_19470_23010_mascara_binaria.png\n",
            "✅ Máscara binaria guardada como: /content/output_mask_folder/tile_12390_16815_mascara_binaria.png\n",
            "✅ Máscara binaria guardada como: /content/output_mask_folder/tile_15930_11505_mascara_binaria.png\n",
            "✅ Máscara binaria guardada como: /content/output_mask_folder/tile_17700_12390_mascara_binaria.png\n",
            "✅ Máscara binaria guardada como: /content/output_mask_folder/tile_12390_27435_mascara_binaria.png\n",
            "✅ Máscara binaria guardada como: /content/output_mask_folder/tile_12390_25665_mascara_binaria.png\n",
            "✅ Máscara binaria guardada como: /content/output_mask_folder/tile_12390_5310_mascara_binaria.png\n",
            "✅ Máscara binaria guardada como: /content/output_mask_folder/tile_3540_15930_mascara_binaria.png\n",
            "✅ Máscara binaria guardada como: /content/output_mask_folder/tile_17700_7965_mascara_binaria.png\n",
            "✅ Máscara binaria guardada como: /content/output_mask_folder/tile_17700_17700_mascara_binaria.png\n",
            "✅ Máscara binaria guardada como: /content/output_mask_folder/tile_13275_6195_mascara_binaria.png\n",
            "✅ Máscara binaria guardada como: /content/output_mask_folder/tile_6195_13275_mascara_binaria.png\n",
            "✅ Máscara binaria guardada como: /content/output_mask_folder/tile_4425_11505_mascara_binaria.png\n",
            "✅ Máscara binaria guardada como: /content/output_mask_folder/tile_13275_19470_mascara_binaria.png\n",
            "✅ Máscara binaria guardada como: /content/output_mask_folder/tile_15045_15045_mascara_binaria.png\n",
            "✅ Máscara binaria guardada como: /content/output_mask_folder/tile_9735_5310_mascara_binaria.png\n",
            "✅ Máscara binaria guardada como: /content/output_mask_folder/tile_24780_20355_mascara_binaria.png\n",
            "✅ Máscara binaria guardada como: /content/output_mask_folder/tile_16815_23010_mascara_binaria.png\n",
            "✅ Máscara binaria guardada como: /content/output_mask_folder/tile_8850_23895_mascara_binaria.png\n",
            "✅ Máscara binaria guardada como: /content/output_mask_folder/tile_16815_22125_mascara_binaria.png\n",
            "✅ Máscara binaria guardada como: /content/output_mask_folder/tile_9735_885_mascara_binaria.png\n",
            "✅ Máscara binaria guardada como: /content/output_mask_folder/tile_23895_11505_mascara_binaria.png\n",
            "✅ Máscara binaria guardada como: /content/output_mask_folder/tile_13275_4425_mascara_binaria.png\n",
            "✅ Máscara binaria guardada como: /content/output_mask_folder/tile_5310_7965_mascara_binaria.png\n",
            "✅ Máscara binaria guardada como: /content/output_mask_folder/tile_21240_12390_mascara_binaria.png\n",
            "✅ Máscara binaria guardada como: /content/output_mask_folder/tile_14160_3540_mascara_binaria.png\n",
            "✅ Máscara binaria guardada como: /content/output_mask_folder/tile_15930_19470_mascara_binaria.png\n",
            "✅ Máscara binaria guardada como: /content/output_mask_folder/tile_1770_19470_mascara_binaria.png\n",
            "✅ Máscara binaria guardada como: /content/output_mask_folder/tile_22125_15045_mascara_binaria.png\n",
            "✅ Máscara binaria guardada como: /content/output_mask_folder/tile_15930_25665_mascara_binaria.png\n",
            "✅ Máscara binaria guardada como: /content/output_mask_folder/tile_18585_9735_mascara_binaria.png\n",
            "✅ Máscara binaria guardada como: /content/output_mask_folder/tile_16815_21240_mascara_binaria.png\n",
            "✅ Máscara binaria guardada como: /content/output_mask_folder/tile_9735_4425_mascara_binaria.png\n",
            "✅ Máscara binaria guardada como: /content/output_mask_folder/tile_16815_20355_mascara_binaria.png\n",
            "✅ Máscara binaria guardada como: /content/output_mask_folder/tile_18585_23895_mascara_binaria.png\n",
            "✅ Máscara binaria guardada como: /content/output_mask_folder/tile_20355_20355_mascara_binaria.png\n",
            "✅ Máscara binaria guardada como: /content/output_mask_folder/tile_15930_24780_mascara_binaria.png\n",
            "✅ Máscara binaria guardada como: /content/output_mask_folder/tile_20355_13275_mascara_binaria.png\n",
            "✅ Máscara binaria guardada como: /content/output_mask_folder/tile_15045_11505_mascara_binaria.png\n",
            "✅ Máscara binaria guardada como: /content/output_mask_folder/tile_23010_15930_mascara_binaria.png\n",
            "✅ Máscara binaria guardada como: /content/output_mask_folder/tile_14160_19470_mascara_binaria.png\n",
            "✅ Máscara binaria guardada como: /content/output_mask_folder/tile_15930_13275_mascara_binaria.png\n",
            "✅ Máscara binaria guardada como: /content/output_mask_folder/tile_22125_23010_mascara_binaria.png\n",
            "✅ Máscara binaria guardada como: /content/output_mask_folder/tile_15930_18585_mascara_binaria.png\n",
            "✅ Máscara binaria guardada como: /content/output_mask_folder/tile_17700_23010_mascara_binaria.png\n",
            "✅ Máscara binaria guardada como: /content/output_mask_folder/tile_15045_19470_mascara_binaria.png\n",
            "✅ Máscara binaria guardada como: /content/output_mask_folder/tile_21240_16815_mascara_binaria.png\n",
            "✅ Máscara binaria guardada como: /content/output_mask_folder/tile_9735_17700_mascara_binaria.png\n",
            "✅ Máscara binaria guardada como: /content/output_mask_folder/tile_12390_24780_mascara_binaria.png\n",
            "✅ Máscara binaria guardada como: /content/output_mask_folder/tile_15045_12390_mascara_binaria.png\n",
            "✅ Máscara binaria guardada como: /content/output_mask_folder/tile_21240_19470_mascara_binaria.png\n",
            "✅ Máscara binaria guardada como: /content/output_mask_folder/tile_12390_28320_mascara_binaria.png\n",
            "✅ Máscara binaria guardada como: /content/output_mask_folder/tile_20355_16815_mascara_binaria.png\n",
            "✅ Máscara binaria guardada como: /content/output_mask_folder/tile_13275_18585_mascara_binaria.png\n",
            "✅ Máscara binaria guardada como: /content/output_mask_folder/tile_18585_16815_mascara_binaria.png\n",
            "✅ Máscara binaria guardada como: /content/output_mask_folder/tile_1770_22125_mascara_binaria.png\n",
            "✅ Máscara binaria guardada como: /content/output_mask_folder/tile_12390_23010_mascara_binaria.png\n",
            "✅ Máscara binaria guardada como: /content/output_mask_folder/tile_11505_15045_mascara_binaria.png\n",
            "✅ Máscara binaria guardada como: /content/output_mask_folder/tile_16815_10620_mascara_binaria.png\n",
            "✅ Máscara binaria guardada como: /content/output_mask_folder/tile_9735_2655_mascara_binaria.png\n",
            "✅ Máscara binaria guardada como: /content/output_mask_folder/tile_14160_9735_mascara_binaria.png\n",
            "✅ Máscara binaria guardada como: /content/output_mask_folder/tile_14160_20355_mascara_binaria.png\n",
            "✅ Máscara binaria guardada como: /content/output_mask_folder/tile_0_21240_mascara_binaria.png\n",
            "✅ Máscara binaria guardada como: /content/output_mask_folder/tile_15930_26550_mascara_binaria.png\n",
            "✅ Máscara binaria guardada como: /content/output_mask_folder/tile_21240_8850_mascara_binaria.png\n",
            "✅ Máscara binaria guardada como: /content/output_mask_folder/tile_14160_29205_mascara_binaria.png\n",
            "✅ Máscara binaria guardada como: /content/output_mask_folder/tile_16815_27435_mascara_binaria.png\n",
            "✅ Máscara binaria guardada como: /content/output_mask_folder/tile_16815_28320_mascara_binaria.png\n",
            "✅ Máscara binaria guardada como: /content/output_mask_folder/tile_15930_28320_mascara_binaria.png\n",
            "✅ Máscara binaria guardada como: /content/output_mask_folder/tile_11505_885_mascara_binaria.png\n",
            "✅ Máscara binaria guardada como: /content/output_mask_folder/tile_10620_19470_mascara_binaria.png\n",
            "✅ Máscara binaria guardada como: /content/output_mask_folder/tile_21240_22125_mascara_binaria.png\n",
            "✅ Máscara binaria guardada como: /content/output_mask_folder/tile_12390_11505_mascara_binaria.png\n",
            "✅ Máscara binaria guardada como: /content/output_mask_folder/tile_9735_16815_mascara_binaria.png\n",
            "✅ Máscara binaria guardada como: /content/output_mask_folder/tile_20355_18585_mascara_binaria.png\n",
            "✅ Máscara binaria guardada como: /content/output_mask_folder/tile_15045_5310_mascara_binaria.png\n",
            "✅ Máscara binaria guardada como: /content/output_mask_folder/tile_12390_14160_mascara_binaria.png\n",
            "✅ Máscara binaria guardada como: /content/output_mask_folder/tile_13275_14160_mascara_binaria.png\n",
            "✅ Máscara binaria guardada como: /content/output_mask_folder/tile_13275_22125_mascara_binaria.png\n",
            "✅ Máscara binaria guardada como: /content/output_mask_folder/tile_15045_15930_mascara_binaria.png\n",
            "✅ Máscara binaria guardada como: /content/output_mask_folder/tile_15045_6195_mascara_binaria.png\n",
            "✅ Máscara binaria guardada como: /content/output_mask_folder/tile_12390_885_mascara_binaria.png\n",
            "✅ Máscara binaria guardada como: /content/output_mask_folder/tile_9735_0_mascara_binaria.png\n",
            "✅ Máscara binaria guardada como: /content/output_mask_folder/tile_22125_11505_mascara_binaria.png\n",
            "✅ Máscara binaria guardada como: /content/output_mask_folder/tile_15045_20355_mascara_binaria.png\n",
            "✅ Máscara binaria guardada como: /content/output_mask_folder/tile_9735_21240_mascara_binaria.png\n",
            "✅ Máscara binaria guardada como: /content/output_mask_folder/tile_14160_13275_mascara_binaria.png\n",
            "✅ Máscara binaria guardada como: /content/output_mask_folder/tile_10620_17700_mascara_binaria.png\n",
            "✅ Máscara binaria guardada como: /content/output_mask_folder/tile_15045_17700_mascara_binaria.png\n",
            "✅ Máscara binaria guardada como: /content/output_mask_folder/tile_15045_10620_mascara_binaria.png\n",
            "✅ Máscara binaria guardada como: /content/output_mask_folder/tile_9735_19470_mascara_binaria.png\n",
            "✅ Máscara binaria guardada como: /content/output_mask_folder/tile_12390_21240_mascara_binaria.png\n",
            "✅ Máscara binaria guardada como: /content/output_mask_folder/tile_11505_24780_mascara_binaria.png\n",
            "✅ Máscara binaria guardada como: /content/output_mask_folder/tile_8850_16815_mascara_binaria.png\n",
            "✅ Máscara binaria guardada como: /content/output_mask_folder/tile_14160_30090_mascara_binaria.png\n",
            "✅ Máscara binaria guardada como: /content/output_mask_folder/tile_23010_19470_mascara_binaria.png\n",
            "✅ Máscara binaria guardada como: /content/output_mask_folder/tile_10620_24780_mascara_binaria.png\n",
            "✅ Máscara binaria guardada como: /content/output_mask_folder/tile_11505_26550_mascara_binaria.png\n",
            "✅ Máscara binaria guardada como: /content/output_mask_folder/tile_20355_15045_mascara_binaria.png\n",
            "✅ Máscara binaria guardada como: /content/output_mask_folder/tile_23010_21240_mascara_binaria.png\n",
            "✅ Máscara binaria guardada como: /content/output_mask_folder/tile_14160_12390_mascara_binaria.png\n",
            "✅ Máscara binaria guardada como: /content/output_mask_folder/tile_16815_7080_mascara_binaria.png\n",
            "✅ Máscara binaria guardada como: /content/output_mask_folder/tile_8850_24780_mascara_binaria.png\n",
            "✅ Máscara binaria guardada como: /content/output_mask_folder/tile_10620_18585_mascara_binaria.png\n",
            "✅ Máscara binaria guardada como: /content/output_mask_folder/tile_19470_15930_mascara_binaria.png\n",
            "✅ Máscara binaria guardada como: /content/output_mask_folder/tile_17700_21240_mascara_binaria.png\n",
            "✅ Máscara binaria guardada como: /content/output_mask_folder/tile_13275_24780_mascara_binaria.png\n",
            "✅ Máscara binaria guardada como: /content/output_mask_folder/tile_14160_27435_mascara_binaria.png\n",
            "✅ Máscara binaria guardada como: /content/output_mask_folder/tile_14160_8850_mascara_binaria.png\n",
            "✅ Máscara binaria guardada como: /content/output_mask_folder/tile_19470_22125_mascara_binaria.png\n",
            "✅ Máscara binaria guardada como: /content/output_mask_folder/tile_17700_27435_mascara_binaria.png\n",
            "✅ Máscara binaria guardada como: /content/output_mask_folder/tile_12390_4425_mascara_binaria.png\n",
            "✅ Máscara binaria guardada como: /content/output_mask_folder/tile_17700_25665_mascara_binaria.png\n",
            "✅ Máscara binaria guardada como: /content/output_mask_folder/tile_19470_16815_mascara_binaria.png\n",
            "✅ Máscara binaria guardada como: /content/output_mask_folder/tile_24780_11505_mascara_binaria.png\n",
            "✅ Máscara binaria guardada como: /content/output_mask_folder/tile_3540_15045_mascara_binaria.png\n",
            "✅ Máscara binaria guardada como: /content/output_mask_folder/tile_16815_14160_mascara_binaria.png\n",
            "✅ Máscara binaria guardada como: /content/output_mask_folder/tile_23895_22125_mascara_binaria.png\n",
            "✅ Máscara binaria guardada como: /content/output_mask_folder/tile_18585_25665_mascara_binaria.png\n",
            "✅ Máscara binaria guardada como: /content/output_mask_folder/tile_5310_12390_mascara_binaria.png\n",
            "✅ Máscara binaria guardada como: /content/output_mask_folder/tile_15045_22125_mascara_binaria.png\n",
            "✅ Máscara binaria guardada como: /content/output_mask_folder/tile_16815_15045_mascara_binaria.png\n",
            "✅ Máscara binaria guardada como: /content/output_mask_folder/tile_18585_20355_mascara_binaria.png\n",
            "✅ Máscara binaria guardada como: /content/output_mask_folder/tile_14160_26550_mascara_binaria.png\n",
            "✅ Máscara binaria guardada como: /content/output_mask_folder/tile_15045_24780_mascara_binaria.png\n",
            "✅ Máscara binaria guardada como: /content/output_mask_folder/tile_15045_7965_mascara_binaria.png\n",
            "✅ Máscara binaria guardada como: /content/output_mask_folder/tile_16815_8850_mascara_binaria.png\n",
            "✅ Máscara binaria guardada como: /content/output_mask_folder/tile_17700_23895_mascara_binaria.png\n",
            "✅ Máscara binaria guardada como: /content/output_mask_folder/tile_23895_20355_mascara_binaria.png\n",
            "✅ Máscara binaria guardada como: /content/output_mask_folder/tile_9735_25665_mascara_binaria.png\n",
            "✅ Máscara binaria guardada como: /content/output_mask_folder/tile_15930_6195_mascara_binaria.png\n",
            "✅ Máscara binaria guardada como: /content/output_mask_folder/tile_15930_30975_mascara_binaria.png\n",
            "✅ Máscara binaria guardada como: /content/output_mask_folder/tile_11505_2655_mascara_binaria.png\n",
            "✅ Máscara binaria guardada como: /content/output_mask_folder/tile_6195_8850_mascara_binaria.png\n",
            "✅ Máscara binaria guardada como: /content/output_mask_folder/tile_10620_15045_mascara_binaria.png\n",
            "✅ Máscara binaria guardada como: /content/output_mask_folder/tile_18585_21240_mascara_binaria.png\n",
            "✅ Máscara binaria guardada como: /content/output_mask_folder/tile_17700_15930_mascara_binaria.png\n",
            "✅ Máscara binaria guardada como: /content/output_mask_folder/tile_15045_29205_mascara_binaria.png\n",
            "✅ Máscara binaria guardada como: /content/output_mask_folder/tile_0_22125_mascara_binaria.png\n",
            "✅ Máscara binaria guardada como: /content/output_mask_folder/tile_16815_30090_mascara_binaria.png\n",
            "✅ Máscara binaria guardada como: /content/output_mask_folder/tile_9735_15045_mascara_binaria.png\n",
            "✅ Máscara binaria guardada como: /content/output_mask_folder/tile_885_21240_mascara_binaria.png\n",
            "✅ Máscara binaria guardada como: /content/output_mask_folder/tile_20355_21240_mascara_binaria.png\n",
            "✅ Máscara binaria guardada como: /content/output_mask_folder/tile_15045_13275_mascara_binaria.png\n",
            "✅ Máscara binaria guardada como: /content/output_mask_folder/tile_12390_1770_mascara_binaria.png\n",
            "✅ Máscara binaria guardada como: /content/output_mask_folder/tile_6195_7080_mascara_binaria.png\n",
            "✅ Máscara binaria guardada como: /content/output_mask_folder/tile_20355_9735_mascara_binaria.png\n",
            "✅ Máscara binaria guardada como: /content/output_mask_folder/tile_16815_7965_mascara_binaria.png\n",
            "✅ Máscara binaria guardada como: /content/output_mask_folder/tile_15930_7965_mascara_binaria.png\n",
            "✅ Máscara binaria guardada como: /content/output_mask_folder/tile_7965_5310_mascara_binaria.png\n",
            "✅ Máscara binaria guardada como: /content/output_mask_folder/tile_17700_7080_mascara_binaria.png\n",
            "✅ Máscara binaria guardada como: /content/output_mask_folder/tile_18585_24780_mascara_binaria.png\n",
            "✅ Máscara binaria guardada como: /content/output_mask_folder/tile_17700_14160_mascara_binaria.png\n",
            "✅ Máscara binaria guardada como: /content/output_mask_folder/tile_13275_1770_mascara_binaria.png\n",
            "✅ Máscara binaria guardada como: /content/output_mask_folder/tile_16815_17700_mascara_binaria.png\n",
            "✅ Máscara binaria guardada como: /content/output_mask_folder/tile_10620_1770_mascara_binaria.png\n",
            "✅ Máscara binaria guardada como: /content/output_mask_folder/tile_12390_12390_mascara_binaria.png\n",
            "✅ Máscara binaria guardada como: /content/output_mask_folder/tile_15930_23010_mascara_binaria.png\n",
            "✅ Máscara binaria guardada como: /content/output_mask_folder/tile_8850_15045_mascara_binaria.png\n",
            "✅ Máscara binaria guardada como: /content/output_mask_folder/tile_14160_24780_mascara_binaria.png\n",
            "✅ Máscara binaria guardada como: /content/output_mask_folder/tile_885_22125_mascara_binaria.png\n",
            "✅ Máscara binaria guardada como: /content/output_mask_folder/tile_21240_10620_mascara_binaria.png\n",
            "✅ Máscara binaria guardada como: /content/output_mask_folder/tile_17700_13275_mascara_binaria.png\n",
            "✅ Máscara binaria guardada como: /content/output_mask_folder/tile_21240_20355_mascara_binaria.png\n"
          ]
        }
      ]
    },
    {
      "cell_type": "code",
      "source": [
        "#@title 🚀 Inferencia Grounded-SAM-2 para retornar json de una carpeta del drive\n",
        "import supervision as sv\n",
        "from supervision.draw.color import ColorPalette\n",
        "import pycocotools.mask as mask_util\n",
        "from PIL import Image\n",
        "from sam2.build_sam import build_sam2\n",
        "from sam2.sam2_image_predictor import SAM2ImagePredictor\n",
        "from transformers import AutoProcessor, AutoModelForZeroShotObjectDetection\n",
        "import torch\n",
        "\n",
        "# Parámetros\n",
        "TEXT_PROMPT = \"trees shrubs. trees. natural vegetation. parks. vegetation. forest\" #\"natural vegetation. grass. trees. shrubs. parks. gardens. lawns\"\n",
        "SAM2_CFG    = \"configs/sam2.1/sam2.1_hiera_l.yaml\"\n",
        "DEVICE      = \"cuda\" if torch.cuda.is_available() else \"cpu\"\n",
        "\n",
        "# Rutas en tu Google Drive\n",
        "input_folder = \"/content/drive/MyDrive/images\"\n",
        "output_folder = \"/content/drive/MyDrive/imagenes_json\"\n",
        "os.makedirs(output_folder, exist_ok=True)\n",
        "\n",
        "# SAM-2 y GroundingDINO\n",
        "sam2_model = build_sam2(SAM2_CFG, \"checkpoints/\"+str(sam2_ckpt_path), device=DEVICE)\n",
        "sam2_pred = SAM2ImagePredictor(sam2_model)\n",
        "\n",
        "gd_model_id = \"IDEA-Research/grounding-dino-base\"\n",
        "processor = AutoProcessor.from_pretrained(gd_model_id)\n",
        "gd_model = AutoModelForZeroShotObjectDetection.from_pretrained(gd_model_id).to(DEVICE)\n",
        "\n",
        "# Procesar cada imagen\n",
        "image_files = [f for f in os.listdir(input_folder) if f.lower().endswith(('.jpg', '.png'))]\n",
        "\n",
        "for filename in tqdm(image_files, desc=\"Procesando imágenes\"):\n",
        "    img_path = os.path.join(input_folder, filename)\n",
        "    image = Image.open(img_path).convert(\"RGB\")\n",
        "    sam2_pred.set_image(np.array(image))\n",
        "\n",
        "    # DINO\n",
        "    inputs = processor(images=image, text=TEXT_PROMPT, return_tensors=\"pt\").to(DEVICE)\n",
        "    with torch.no_grad():\n",
        "        out = gd_model(**inputs)\n",
        "\n",
        "    result = processor.post_process_grounded_object_detection(\n",
        "        out, inputs.input_ids,\n",
        "        box_threshold=0.2, text_threshold=0.19,\n",
        "        target_sizes=[image.size[::-1]]\n",
        "    )[0]\n",
        "\n",
        "    boxes = result[\"boxes\"].cpu().numpy()\n",
        "    labels = result[\"labels\"]\n",
        "    scores = result[\"scores\"].cpu().numpy().tolist()\n",
        "    class_ids = np.arange(len(labels))\n",
        "\n",
        "    img_w, img_h = image.size\n",
        "    image_area = img_w * img_h\n",
        "    max_area_ratio = 0.7\n",
        "\n",
        "    filtered_boxes = []\n",
        "    filtered_labels = []\n",
        "    filtered_scores = []\n",
        "    valid_indices = []\n",
        "\n",
        "    for i, (box, label, score) in enumerate(zip(boxes, labels, scores)):\n",
        "        x1, y1, x2, y2 = box\n",
        "        box_area = (x2 - x1) * (y2 - y1)\n",
        "        if box_area / image_area <= max_area_ratio:\n",
        "            filtered_boxes.append(box)\n",
        "            filtered_labels.append(label)\n",
        "            filtered_scores.append(score)\n",
        "            valid_indices.append(i)\n",
        "\n",
        "    boxes = np.array(filtered_boxes)\n",
        "    labels = filtered_labels\n",
        "    scores = filtered_scores\n",
        "    class_ids = np.arange(len(labels))\n",
        "\n",
        "    if len(filtered_boxes) == 0:\n",
        "        print(f\"🔔 Sin cajas válidas para {filename}. Saltando...\")\n",
        "        continue\n",
        "    # SAM-2\n",
        "    masks, _, _ = sam2_pred.predict(\n",
        "        box=boxes, point_coords=None, point_labels=None,\n",
        "        multimask_output=False,\n",
        "    )\n",
        "    if masks.ndim == 4:\n",
        "        masks = masks.squeeze(1)\n",
        "    #masks = masks[valid_indices]\n",
        "\n",
        "    # Guardar JSON\n",
        "    json_data = {\"masks\": []}\n",
        "    for i in range(len(masks)):\n",
        "        mask = masks[i].astype(np.uint8)\n",
        "        rle = mask_util.encode(np.asfortranarray(mask))\n",
        "        rle[\"counts\"] = rle[\"counts\"].decode(\"utf-8\")  # para JSON\n",
        "\n",
        "        json_data[\"masks\"].append({\n",
        "            \"segmentation\": rle,\n",
        "            \"label\": str(labels[i]),\n",
        "            \"score\": float(scores[i])\n",
        "        })\n",
        "\n",
        "    json_filename = os.path.splitext(filename)[0] + \".json\"\n",
        "    json_path = os.path.join(output_folder, json_filename)\n",
        "    with open(json_path, \"w\") as f:\n",
        "        json.dump(json_data, f, indent=2)\n",
        "\n",
        "    print(f\"✅ {filename} procesado y guardado como {json_filename}\")"
      ],
      "metadata": {
        "colab": {
          "base_uri": "https://localhost:8080/",
          "height": 1000,
          "referenced_widgets": [
            "daffd1240607405982364279f9d94e59",
            "0228cfbc216348ceb3cc1deb454107ac",
            "43f0ffd2914c4434bf02e1518cec4d59",
            "c636942465c0445a988b5c99ca95c152",
            "477990fccc0a4ccf9c31c94d2c7fe88d",
            "b558f1be99a14848a87295e2f4095984",
            "e3568437250946e5affc8a40917d4702",
            "6801183cfb014b35bbc7206884a23b12",
            "4b02643548ba45699756f7f2bdf19c50",
            "73a9a7032fca435ca96ff2d3e2c6a86e",
            "f04a8c3b98164f02be58ee6768d227f3",
            "9fbf3210faee4100a258145a0a8fcc76",
            "a42d030b137248aa9530b227aa4227bc",
            "cd0346b2d6c34ede96b19eb6b10d484b",
            "e9ec03b2e4f5407ba5486558cafa7cd6",
            "63707afb39ff435c816ca8abfe2a1748",
            "ae917a02428b48df8ece2c2f2e93bee4",
            "cf0ba10a977147fd8f6fe9545441c7ac",
            "1de0ab7ea23f49d7914ad34884a4040e",
            "1d9de0a4401d447586cf06efabb2e4ea",
            "1f0a08df4e3e4433887d89663056cf0e",
            "2b2e136ba43a4950afe7968a4fec195d",
            "dc20b3c9447e4b11b76b1ade9f1c97e3",
            "0da97eaf833a4061bf43687299a369c6",
            "00105eb1b50b499da5b06ba2648ccfc4",
            "e107a32a1a1f47008ad76debc75a500e",
            "e9bd9a28ea8541a1b859f647b7ae2c33",
            "1afb87c0b4ed4f53ab12639b7fb154d0",
            "fcc0575875784cb5967fb7d87b830c23",
            "c35405f4ef9b4a07a97a99af3fe36660",
            "465d4104afad49a6b8ad8ad958b34596",
            "92858520adb346fc9bd578e9529329c9",
            "e1b00f4b457d4498ae488ae8dd3310e5",
            "25081fc2feef4fc0a8fb58ea7d1e8f28",
            "2512f96386f44384b290b1665dd195e8",
            "1fbf31c7cbf94194809874ef637a45b2",
            "a9276fb610d944d9a5f986c363e64d7d",
            "7d646e1707bb4337aea9182fa88071a1",
            "1cfc79bdd1cc4782be54d7d0a363e799",
            "9aad02b538b14e34bb950cafdce20a28",
            "4dd59cc85e294618aa7faf993650065e",
            "8ba27e0cea694c3fb4cb282b5887771f",
            "2dd9bde084fa4786b89547c2b74fc08d",
            "879ff2ec7f1047e48b3bd03c27274a5b",
            "a2d92ae7aed04af99c6fcb08b04fc609",
            "53fa09cfd3d04f0fad0789010384fcd2",
            "21f6a0bd1ea648afaf798fdcc841fb73",
            "dfba6d8ed3354aa8af1d7aa372ea461d",
            "b967af0fa6e0440592d8752cefda1926",
            "7ad56c8649aa46a5bd2e61adf132865f",
            "94bcd7b9150e483eb5920c63d53e2522",
            "6f9734a5ec804b62b6d495850161532d",
            "37ce3356bd1340a69fcb3cf2d42d53fc",
            "80bda07bcf284cbb8e4ed96ece0172b6",
            "815314bd1e17434fac73de3c1a2bfee6",
            "622fe43a9e09478eb63eac6f646afab3",
            "7ad2ae123c044a6bb138f9fe1fdbe753",
            "d74f3e76a47842e383c3b693fc1fb12b",
            "ae5ea0b58c864d3ab61b02c2803200c0",
            "09057aeec9e447c7983eeb46248ca3e7",
            "4760fcad360b4dfcade73e0ce86b62bf",
            "eee5078f53d84215b082f5c5df3bd107",
            "c1b07aa14cdf477fba4afa98ec2b45b6",
            "e97564bb5f0a4da4b907a63288d9690c",
            "11a0076576844492a1ba4e6d1830ae96",
            "b87cfca9b166447f9e25e814980b0280",
            "f32d4ae9683744c789e92683aaf97178",
            "1ed37ece83534d6d924107acc50bc838",
            "e98320083ba64bfeae40ed07e9701928",
            "db3e0bef89524e4c99dc3c159a8747ef",
            "24981f684177408f865e5438cf7ea9d7",
            "abc18d57912b42b8bc4b339ad646d596",
            "4118bb5efe7f4aa3a3d7c9ca22d95d22",
            "9eb119e34a1240538f802e7c47eb9e8d",
            "b1665b180c274963840deabdf8eb3d47",
            "8e26fdc2e2464323beca36d8b10a8f55",
            "b608eab745b54a4cb515bba99898bd48"
          ]
        },
        "id": "V-lYM-7eyhXH",
        "outputId": "631a77b3-2bd8-4b08-da70-b68c7b7844dd",
        "collapsed": true,
        "cellView": "form"
      },
      "execution_count": null,
      "outputs": [
        {
          "output_type": "stream",
          "name": "stderr",
          "text": [
            "UserWarning: Flash Attention is disabled as it requires a GPU with Ampere (8.0) CUDA capability.\n",
            "UserWarning: \n",
            "The secret `HF_TOKEN` does not exist in your Colab secrets.\n",
            "To authenticate with the Hugging Face Hub, create a token in your settings tab (https://huggingface.co/settings/tokens), set it as secret in your Google Colab and restart your session.\n",
            "You will be able to reuse this secret in all of your notebooks.\n",
            "Please note that authentication is recommended but still optional to access public models or datasets.\n"
          ]
        },
        {
          "output_type": "display_data",
          "data": {
            "text/plain": [
              "preprocessor_config.json:   0%|          | 0.00/457 [00:00<?, ?B/s]"
            ],
            "application/vnd.jupyter.widget-view+json": {
              "version_major": 2,
              "version_minor": 0,
              "model_id": "daffd1240607405982364279f9d94e59"
            }
          },
          "metadata": {}
        },
        {
          "output_type": "display_data",
          "data": {
            "text/plain": [
              "tokenizer_config.json:   0%|          | 0.00/1.24k [00:00<?, ?B/s]"
            ],
            "application/vnd.jupyter.widget-view+json": {
              "version_major": 2,
              "version_minor": 0,
              "model_id": "9fbf3210faee4100a258145a0a8fcc76"
            }
          },
          "metadata": {}
        },
        {
          "output_type": "display_data",
          "data": {
            "text/plain": [
              "vocab.txt:   0%|          | 0.00/232k [00:00<?, ?B/s]"
            ],
            "application/vnd.jupyter.widget-view+json": {
              "version_major": 2,
              "version_minor": 0,
              "model_id": "dc20b3c9447e4b11b76b1ade9f1c97e3"
            }
          },
          "metadata": {}
        },
        {
          "output_type": "display_data",
          "data": {
            "text/plain": [
              "tokenizer.json:   0%|          | 0.00/711k [00:00<?, ?B/s]"
            ],
            "application/vnd.jupyter.widget-view+json": {
              "version_major": 2,
              "version_minor": 0,
              "model_id": "25081fc2feef4fc0a8fb58ea7d1e8f28"
            }
          },
          "metadata": {}
        },
        {
          "output_type": "display_data",
          "data": {
            "text/plain": [
              "special_tokens_map.json:   0%|          | 0.00/125 [00:00<?, ?B/s]"
            ],
            "application/vnd.jupyter.widget-view+json": {
              "version_major": 2,
              "version_minor": 0,
              "model_id": "a2d92ae7aed04af99c6fcb08b04fc609"
            }
          },
          "metadata": {}
        },
        {
          "output_type": "display_data",
          "data": {
            "text/plain": [
              "config.json:   0%|          | 0.00/1.74k [00:00<?, ?B/s]"
            ],
            "application/vnd.jupyter.widget-view+json": {
              "version_major": 2,
              "version_minor": 0,
              "model_id": "622fe43a9e09478eb63eac6f646afab3"
            }
          },
          "metadata": {}
        },
        {
          "output_type": "display_data",
          "data": {
            "text/plain": [
              "model.safetensors:   0%|          | 0.00/933M [00:00<?, ?B/s]"
            ],
            "application/vnd.jupyter.widget-view+json": {
              "version_major": 2,
              "version_minor": 0,
              "model_id": "f32d4ae9683744c789e92683aaf97178"
            }
          },
          "metadata": {}
        },
        {
          "output_type": "stream",
          "name": "stderr",
          "text": [
            "Procesando imágenes:   0%|          | 1/448 [00:05<40:45,  5.47s/it]"
          ]
        },
        {
          "output_type": "stream",
          "name": "stdout",
          "text": [
            "✅ tile_23895_10620.png procesado y guardado como tile_23895_10620.json\n"
          ]
        },
        {
          "output_type": "stream",
          "name": "stderr",
          "text": [
            "\rProcesando imágenes:   0%|          | 2/448 [00:07<25:41,  3.46s/it]"
          ]
        },
        {
          "output_type": "stream",
          "name": "stdout",
          "text": [
            "✅ tile_23895_20355.png procesado y guardado como tile_23895_20355.json\n"
          ]
        },
        {
          "output_type": "stream",
          "name": "stderr",
          "text": [
            "\rProcesando imágenes:   1%|          | 3/448 [00:09<20:55,  2.82s/it]"
          ]
        },
        {
          "output_type": "stream",
          "name": "stdout",
          "text": [
            "✅ tile_23895_11505.png procesado y guardado como tile_23895_11505.json\n"
          ]
        },
        {
          "output_type": "stream",
          "name": "stderr",
          "text": [
            "\rProcesando imágenes:   1%|          | 4/448 [00:11<19:03,  2.58s/it]"
          ]
        },
        {
          "output_type": "stream",
          "name": "stdout",
          "text": [
            "✅ tile_23010_20355.png procesado y guardado como tile_23010_20355.json\n"
          ]
        },
        {
          "output_type": "stream",
          "name": "stderr",
          "text": [
            "\rProcesando imágenes:   1%|          | 5/448 [00:22<41:24,  5.61s/it]"
          ]
        },
        {
          "output_type": "stream",
          "name": "stdout",
          "text": [
            "✅ tile_23010_22125.png procesado y guardado como tile_23010_22125.json\n"
          ]
        },
        {
          "output_type": "stream",
          "name": "stderr",
          "text": [
            "\rProcesando imágenes:   1%|▏         | 6/448 [00:24<30:28,  4.14s/it]"
          ]
        },
        {
          "output_type": "stream",
          "name": "stdout",
          "text": [
            "✅ tile_22125_20355.png procesado y guardado como tile_22125_20355.json\n"
          ]
        },
        {
          "output_type": "stream",
          "name": "stderr",
          "text": [
            "\rProcesando imágenes:   2%|▏         | 7/448 [00:25<23:37,  3.21s/it]"
          ]
        },
        {
          "output_type": "stream",
          "name": "stdout",
          "text": [
            "✅ tile_23895_21240.png procesado y guardado como tile_23895_21240.json\n"
          ]
        },
        {
          "output_type": "stream",
          "name": "stderr",
          "text": [
            "\rProcesando imágenes:   2%|▏         | 8/448 [00:26<18:51,  2.57s/it]"
          ]
        },
        {
          "output_type": "stream",
          "name": "stdout",
          "text": [
            "✅ tile_22125_19470.png procesado y guardado como tile_22125_19470.json\n"
          ]
        },
        {
          "output_type": "stream",
          "name": "stderr",
          "text": [
            "\rProcesando imágenes:   2%|▏         | 9/448 [00:27<15:39,  2.14s/it]"
          ]
        },
        {
          "output_type": "stream",
          "name": "stdout",
          "text": [
            "✅ tile_22125_17700.png procesado y guardado como tile_22125_17700.json\n"
          ]
        },
        {
          "output_type": "stream",
          "name": "stderr",
          "text": [
            "\rProcesando imágenes:   2%|▏         | 10/448 [00:29<13:56,  1.91s/it]"
          ]
        },
        {
          "output_type": "stream",
          "name": "stdout",
          "text": [
            "✅ tile_22125_21240.png procesado y guardado como tile_22125_21240.json\n"
          ]
        },
        {
          "output_type": "stream",
          "name": "stderr",
          "text": [
            "\rProcesando imágenes:   2%|▏         | 11/448 [00:30<12:20,  1.69s/it]"
          ]
        },
        {
          "output_type": "stream",
          "name": "stdout",
          "text": [
            "✅ tile_22125_16815.png procesado y guardado como tile_22125_16815.json\n"
          ]
        },
        {
          "output_type": "stream",
          "name": "stderr",
          "text": [
            "\rProcesando imágenes:   3%|▎         | 12/448 [00:31<11:37,  1.60s/it]"
          ]
        },
        {
          "output_type": "stream",
          "name": "stdout",
          "text": [
            "✅ tile_24780_20355.png procesado y guardado como tile_24780_20355.json\n"
          ]
        },
        {
          "output_type": "stream",
          "name": "stderr",
          "text": [
            "\rProcesando imágenes:   3%|▎         | 13/448 [00:33<10:58,  1.51s/it]"
          ]
        },
        {
          "output_type": "stream",
          "name": "stdout",
          "text": [
            "✅ tile_23010_10620.png procesado y guardado como tile_23010_10620.json\n"
          ]
        },
        {
          "output_type": "stream",
          "name": "stderr",
          "text": [
            "\rProcesando imágenes:   3%|▎         | 14/448 [00:34<10:43,  1.48s/it]"
          ]
        },
        {
          "output_type": "stream",
          "name": "stdout",
          "text": [
            "✅ tile_22125_23010.png procesado y guardado como tile_22125_23010.json\n"
          ]
        },
        {
          "output_type": "stream",
          "name": "stderr",
          "text": [
            "\rProcesando imágenes:   3%|▎         | 15/448 [00:36<11:14,  1.56s/it]"
          ]
        },
        {
          "output_type": "stream",
          "name": "stdout",
          "text": [
            "✅ tile_23010_16815.png procesado y guardado como tile_23010_16815.json\n"
          ]
        },
        {
          "output_type": "stream",
          "name": "stderr",
          "text": [
            "\rProcesando imágenes:   4%|▎         | 16/448 [00:37<10:58,  1.52s/it]"
          ]
        },
        {
          "output_type": "stream",
          "name": "stdout",
          "text": [
            "✅ tile_24780_21240.png procesado y guardado como tile_24780_21240.json\n"
          ]
        },
        {
          "output_type": "stream",
          "name": "stderr",
          "text": [
            "\rProcesando imágenes:   4%|▍         | 17/448 [00:38<10:21,  1.44s/it]"
          ]
        },
        {
          "output_type": "stream",
          "name": "stdout",
          "text": [
            "✅ tile_23010_11505.png procesado y guardado como tile_23010_11505.json\n"
          ]
        },
        {
          "output_type": "stream",
          "name": "stderr",
          "text": [
            "\rProcesando imágenes:   4%|▍         | 18/448 [00:40<10:06,  1.41s/it]"
          ]
        },
        {
          "output_type": "stream",
          "name": "stdout",
          "text": [
            "✅ tile_24780_11505.png procesado y guardado como tile_24780_11505.json\n"
          ]
        },
        {
          "output_type": "stream",
          "name": "stderr",
          "text": [
            "\rProcesando imágenes:   4%|▍         | 19/448 [00:41<09:37,  1.35s/it]"
          ]
        },
        {
          "output_type": "stream",
          "name": "stdout",
          "text": [
            "✅ tile_23010_23010.png procesado y guardado como tile_23010_23010.json\n"
          ]
        },
        {
          "output_type": "stream",
          "name": "stderr",
          "text": [
            "\rProcesando imágenes:   4%|▍         | 20/448 [00:42<09:14,  1.30s/it]"
          ]
        },
        {
          "output_type": "stream",
          "name": "stdout",
          "text": [
            "✅ tile_23010_15930.png procesado y guardado como tile_23010_15930.json\n"
          ]
        },
        {
          "output_type": "stream",
          "name": "stderr",
          "text": [
            "\rProcesando imágenes:   5%|▍         | 21/448 [00:43<09:14,  1.30s/it]"
          ]
        },
        {
          "output_type": "stream",
          "name": "stdout",
          "text": [
            "✅ tile_23010_19470.png procesado y guardado como tile_23010_19470.json\n"
          ]
        },
        {
          "output_type": "stream",
          "name": "stderr",
          "text": [
            "\rProcesando imágenes:   5%|▍         | 22/448 [00:45<09:18,  1.31s/it]"
          ]
        },
        {
          "output_type": "stream",
          "name": "stdout",
          "text": [
            "✅ tile_22125_11505.png procesado y guardado como tile_22125_11505.json\n"
          ]
        },
        {
          "output_type": "stream",
          "name": "stderr",
          "text": [
            "\rProcesando imágenes:   5%|▌         | 23/448 [00:46<09:10,  1.30s/it]"
          ]
        },
        {
          "output_type": "stream",
          "name": "stdout",
          "text": [
            "✅ tile_21240_20355.png procesado y guardado como tile_21240_20355.json\n"
          ]
        },
        {
          "output_type": "stream",
          "name": "stderr",
          "text": [
            "\rProcesando imágenes:   5%|▌         | 24/448 [00:47<09:13,  1.30s/it]"
          ]
        },
        {
          "output_type": "stream",
          "name": "stdout",
          "text": [
            "✅ tile_21240_23010.png procesado y guardado como tile_21240_23010.json\n"
          ]
        },
        {
          "output_type": "stream",
          "name": "stderr",
          "text": [
            "\rProcesando imágenes:   6%|▌         | 25/448 [00:49<09:06,  1.29s/it]"
          ]
        },
        {
          "output_type": "stream",
          "name": "stdout",
          "text": [
            "✅ tile_21240_15930.png procesado y guardado como tile_21240_15930.json\n"
          ]
        },
        {
          "output_type": "stream",
          "name": "stderr",
          "text": [
            "\rProcesando imágenes:   6%|▌         | 26/448 [00:50<09:23,  1.34s/it]"
          ]
        },
        {
          "output_type": "stream",
          "name": "stdout",
          "text": [
            "✅ tile_20355_25665.png procesado y guardado como tile_20355_25665.json\n"
          ]
        },
        {
          "output_type": "stream",
          "name": "stderr",
          "text": [
            "\rProcesando imágenes:   6%|▌         | 27/448 [00:51<09:08,  1.30s/it]"
          ]
        },
        {
          "output_type": "stream",
          "name": "stdout",
          "text": [
            "✅ tile_22125_15045.png procesado y guardado como tile_22125_15045.json\n"
          ]
        },
        {
          "output_type": "stream",
          "name": "stderr",
          "text": [
            "\rProcesando imágenes:   6%|▋         | 28/448 [00:52<08:55,  1.28s/it]"
          ]
        },
        {
          "output_type": "stream",
          "name": "stdout",
          "text": [
            "✅ tile_21240_13275.png procesado y guardado como tile_21240_13275.json\n"
          ]
        },
        {
          "output_type": "stream",
          "name": "stderr",
          "text": [
            "\rProcesando imágenes:   6%|▋         | 29/448 [00:54<08:40,  1.24s/it]"
          ]
        },
        {
          "output_type": "stream",
          "name": "stdout",
          "text": [
            "✅ tile_21240_9735.png procesado y guardado como tile_21240_9735.json\n"
          ]
        },
        {
          "output_type": "stream",
          "name": "stderr",
          "text": [
            "\rProcesando imágenes:   7%|▋         | 30/448 [00:55<08:44,  1.26s/it]"
          ]
        },
        {
          "output_type": "stream",
          "name": "stdout",
          "text": [
            "✅ tile_22125_22125.png procesado y guardado como tile_22125_22125.json\n"
          ]
        },
        {
          "output_type": "stream",
          "name": "stderr",
          "text": [
            "\rProcesando imágenes:   7%|▋         | 31/448 [00:56<08:53,  1.28s/it]"
          ]
        },
        {
          "output_type": "stream",
          "name": "stdout",
          "text": [
            "✅ tile_21240_23895.png procesado y guardado como tile_21240_23895.json\n"
          ]
        },
        {
          "output_type": "stream",
          "name": "stderr",
          "text": [
            "\rProcesando imágenes:   7%|▋         | 32/448 [00:57<08:46,  1.27s/it]"
          ]
        },
        {
          "output_type": "stream",
          "name": "stdout",
          "text": [
            "✅ tile_23010_21240.png procesado y guardado como tile_23010_21240.json\n"
          ]
        },
        {
          "output_type": "stream",
          "name": "stderr",
          "text": [
            "\rProcesando imágenes:   7%|▋         | 33/448 [00:59<09:00,  1.30s/it]"
          ]
        },
        {
          "output_type": "stream",
          "name": "stdout",
          "text": [
            "✅ tile_21240_17700.png procesado y guardado como tile_21240_17700.json\n"
          ]
        },
        {
          "output_type": "stream",
          "name": "stderr",
          "text": [
            "\rProcesando imágenes:   8%|▊         | 34/448 [01:00<08:46,  1.27s/it]"
          ]
        },
        {
          "output_type": "stream",
          "name": "stdout",
          "text": [
            "✅ tile_21240_8850.png procesado y guardado como tile_21240_8850.json\n"
          ]
        },
        {
          "output_type": "stream",
          "name": "stderr",
          "text": [
            "\rProcesando imágenes:   8%|▊         | 35/448 [01:01<08:59,  1.31s/it]"
          ]
        },
        {
          "output_type": "stream",
          "name": "stdout",
          "text": [
            "✅ tile_23895_19470.png procesado y guardado como tile_23895_19470.json\n"
          ]
        },
        {
          "output_type": "stream",
          "name": "stderr",
          "text": [
            "\rProcesando imágenes:   8%|▊         | 36/448 [01:03<09:05,  1.32s/it]"
          ]
        },
        {
          "output_type": "stream",
          "name": "stdout",
          "text": [
            "✅ tile_22125_9735.png procesado y guardado como tile_22125_9735.json\n"
          ]
        },
        {
          "output_type": "stream",
          "name": "stderr",
          "text": [
            "\rProcesando imágenes:   8%|▊         | 37/448 [01:04<08:46,  1.28s/it]"
          ]
        },
        {
          "output_type": "stream",
          "name": "stdout",
          "text": [
            "✅ tile_22125_15930.png procesado y guardado como tile_22125_15930.json\n"
          ]
        },
        {
          "output_type": "stream",
          "name": "stderr",
          "text": [
            "\rProcesando imágenes:   8%|▊         | 38/448 [01:05<08:34,  1.25s/it]"
          ]
        },
        {
          "output_type": "stream",
          "name": "stdout",
          "text": [
            "✅ tile_21240_24780.png procesado y guardado como tile_21240_24780.json\n"
          ]
        },
        {
          "output_type": "stream",
          "name": "stderr",
          "text": [
            "\rProcesando imágenes:   9%|▊         | 39/448 [01:07<08:49,  1.30s/it]"
          ]
        },
        {
          "output_type": "stream",
          "name": "stdout",
          "text": [
            "✅ tile_21240_21240.png procesado y guardado como tile_21240_21240.json\n"
          ]
        },
        {
          "output_type": "stream",
          "name": "stderr",
          "text": [
            "\rProcesando imágenes:   9%|▉         | 40/448 [01:08<08:51,  1.30s/it]"
          ]
        },
        {
          "output_type": "stream",
          "name": "stdout",
          "text": [
            "✅ tile_21240_22125.png procesado y guardado como tile_21240_22125.json\n"
          ]
        },
        {
          "output_type": "stream",
          "name": "stderr",
          "text": [
            "\rProcesando imágenes:   9%|▉         | 41/448 [01:09<08:37,  1.27s/it]"
          ]
        },
        {
          "output_type": "stream",
          "name": "stdout",
          "text": [
            "✅ tile_23895_22125.png procesado y guardado como tile_23895_22125.json\n"
          ]
        },
        {
          "output_type": "stream",
          "name": "stderr",
          "text": [
            "\rProcesando imágenes:   9%|▉         | 42/448 [01:10<08:39,  1.28s/it]"
          ]
        },
        {
          "output_type": "stream",
          "name": "stdout",
          "text": [
            "✅ tile_22125_10620.png procesado y guardado como tile_22125_10620.json\n"
          ]
        },
        {
          "output_type": "stream",
          "name": "stderr",
          "text": [
            "\rProcesando imágenes:  10%|▉         | 43/448 [01:12<08:54,  1.32s/it]"
          ]
        },
        {
          "output_type": "stream",
          "name": "stdout",
          "text": [
            "✅ tile_23895_23010.png procesado y guardado como tile_23895_23010.json\n"
          ]
        },
        {
          "output_type": "stream",
          "name": "stderr",
          "text": [
            "\rProcesando imágenes:  10%|▉         | 44/448 [01:13<08:51,  1.32s/it]"
          ]
        },
        {
          "output_type": "stream",
          "name": "stdout",
          "text": [
            "✅ tile_21240_10620.png procesado y guardado como tile_21240_10620.json\n"
          ]
        },
        {
          "output_type": "stream",
          "name": "stderr",
          "text": [
            "\rProcesando imágenes:  10%|█         | 45/448 [01:14<08:45,  1.30s/it]"
          ]
        },
        {
          "output_type": "stream",
          "name": "stdout",
          "text": [
            "✅ tile_21240_19470.png procesado y guardado como tile_21240_19470.json\n"
          ]
        },
        {
          "output_type": "stream",
          "name": "stderr",
          "text": [
            "\rProcesando imágenes:  10%|█         | 46/448 [01:16<08:40,  1.29s/it]"
          ]
        },
        {
          "output_type": "stream",
          "name": "stdout",
          "text": [
            "✅ tile_21240_11505.png procesado y guardado como tile_21240_11505.json\n"
          ]
        },
        {
          "output_type": "stream",
          "name": "stderr",
          "text": [
            "\rProcesando imágenes:  10%|█         | 47/448 [01:17<08:45,  1.31s/it]"
          ]
        },
        {
          "output_type": "stream",
          "name": "stdout",
          "text": [
            "✅ tile_21240_14160.png procesado y guardado como tile_21240_14160.json\n"
          ]
        },
        {
          "output_type": "stream",
          "name": "stderr",
          "text": [
            "\rProcesando imágenes:  11%|█         | 48/448 [01:18<08:51,  1.33s/it]"
          ]
        },
        {
          "output_type": "stream",
          "name": "stdout",
          "text": [
            "✅ tile_19470_24780.png procesado y guardado como tile_19470_24780.json\n"
          ]
        },
        {
          "output_type": "stream",
          "name": "stderr",
          "text": [
            "\rProcesando imágenes:  11%|█         | 49/448 [01:20<08:31,  1.28s/it]"
          ]
        },
        {
          "output_type": "stream",
          "name": "stdout",
          "text": [
            "✅ tile_21240_16815.png procesado y guardado como tile_21240_16815.json\n"
          ]
        },
        {
          "output_type": "stream",
          "name": "stderr",
          "text": [
            "\rProcesando imágenes:  11%|█         | 50/448 [01:21<08:33,  1.29s/it]"
          ]
        },
        {
          "output_type": "stream",
          "name": "stdout",
          "text": [
            "✅ tile_20355_13275.png procesado y guardado como tile_20355_13275.json\n"
          ]
        },
        {
          "output_type": "stream",
          "name": "stderr",
          "text": [
            "\rProcesando imágenes:  11%|█▏        | 51/448 [01:22<08:29,  1.28s/it]"
          ]
        },
        {
          "output_type": "stream",
          "name": "stdout",
          "text": [
            "✅ tile_21240_12390.png procesado y guardado como tile_21240_12390.json\n"
          ]
        },
        {
          "output_type": "stream",
          "name": "stderr",
          "text": [
            "\rProcesando imágenes:  12%|█▏        | 52/448 [01:23<08:28,  1.28s/it]"
          ]
        },
        {
          "output_type": "stream",
          "name": "stdout",
          "text": [
            "✅ tile_20355_21240.png procesado y guardado como tile_20355_21240.json\n"
          ]
        },
        {
          "output_type": "stream",
          "name": "stderr",
          "text": [
            "\rProcesando imágenes:  12%|█▏        | 53/448 [01:25<08:31,  1.30s/it]"
          ]
        },
        {
          "output_type": "stream",
          "name": "stdout",
          "text": [
            "✅ tile_20355_24780.png procesado y guardado como tile_20355_24780.json\n"
          ]
        },
        {
          "output_type": "stream",
          "name": "stderr",
          "text": [
            "\rProcesando imágenes:  12%|█▏        | 54/448 [01:26<08:48,  1.34s/it]"
          ]
        },
        {
          "output_type": "stream",
          "name": "stdout",
          "text": [
            "✅ tile_20355_17700.png procesado y guardado como tile_20355_17700.json\n"
          ]
        },
        {
          "output_type": "stream",
          "name": "stderr",
          "text": [
            "\rProcesando imágenes:  12%|█▏        | 55/448 [01:28<08:52,  1.35s/it]"
          ]
        },
        {
          "output_type": "stream",
          "name": "stdout",
          "text": [
            "✅ tile_20355_12390.png procesado y guardado como tile_20355_12390.json\n"
          ]
        },
        {
          "output_type": "stream",
          "name": "stderr",
          "text": [
            "\rProcesando imágenes:  12%|█▎        | 56/448 [01:29<08:50,  1.35s/it]"
          ]
        },
        {
          "output_type": "stream",
          "name": "stdout",
          "text": [
            "✅ tile_20355_14160.png procesado y guardado como tile_20355_14160.json\n"
          ]
        },
        {
          "output_type": "stream",
          "name": "stderr",
          "text": [
            "\rProcesando imágenes:  13%|█▎        | 57/448 [01:30<08:43,  1.34s/it]"
          ]
        },
        {
          "output_type": "stream",
          "name": "stdout",
          "text": [
            "✅ tile_20355_15045.png procesado y guardado como tile_20355_15045.json\n"
          ]
        },
        {
          "output_type": "stream",
          "name": "stderr",
          "text": [
            "\rProcesando imágenes:  13%|█▎        | 58/448 [01:32<08:44,  1.35s/it]"
          ]
        },
        {
          "output_type": "stream",
          "name": "stdout",
          "text": [
            "✅ tile_20355_10620.png procesado y guardado como tile_20355_10620.json\n"
          ]
        },
        {
          "output_type": "stream",
          "name": "stderr",
          "text": [
            "\rProcesando imágenes:  13%|█▎        | 59/448 [01:33<08:54,  1.37s/it]"
          ]
        },
        {
          "output_type": "stream",
          "name": "stdout",
          "text": [
            "✅ tile_20355_19470.png procesado y guardado como tile_20355_19470.json\n"
          ]
        },
        {
          "output_type": "stream",
          "name": "stderr",
          "text": [
            "\rProcesando imágenes:  13%|█▎        | 60/448 [01:34<08:37,  1.33s/it]"
          ]
        },
        {
          "output_type": "stream",
          "name": "stdout",
          "text": [
            "✅ tile_19470_22125.png procesado y guardado como tile_19470_22125.json\n"
          ]
        },
        {
          "output_type": "stream",
          "name": "stderr",
          "text": [
            "\rProcesando imágenes:  14%|█▎        | 61/448 [01:35<08:20,  1.29s/it]"
          ]
        },
        {
          "output_type": "stream",
          "name": "stdout",
          "text": [
            "✅ tile_21240_18585.png procesado y guardado como tile_21240_18585.json\n"
          ]
        },
        {
          "output_type": "stream",
          "name": "stderr",
          "text": [
            "\rProcesando imágenes:  14%|█▍        | 62/448 [01:37<08:08,  1.27s/it]"
          ]
        },
        {
          "output_type": "stream",
          "name": "stdout",
          "text": [
            "✅ tile_20355_8850.png procesado y guardado como tile_20355_8850.json\n"
          ]
        },
        {
          "output_type": "stream",
          "name": "stderr",
          "text": [
            "\rProcesando imágenes:  14%|█▍        | 63/448 [01:38<08:13,  1.28s/it]"
          ]
        },
        {
          "output_type": "stream",
          "name": "stdout",
          "text": [
            "✅ tile_20355_23895.png procesado y guardado como tile_20355_23895.json\n"
          ]
        },
        {
          "output_type": "stream",
          "name": "stderr",
          "text": [
            "\rProcesando imágenes:  14%|█▍        | 64/448 [01:40<08:41,  1.36s/it]"
          ]
        },
        {
          "output_type": "stream",
          "name": "stdout",
          "text": [
            "✅ tile_19470_26550.png procesado y guardado como tile_19470_26550.json\n"
          ]
        },
        {
          "output_type": "stream",
          "name": "stderr",
          "text": [
            "\rProcesando imágenes:  15%|█▍        | 65/448 [01:41<08:34,  1.34s/it]"
          ]
        },
        {
          "output_type": "stream",
          "name": "stdout",
          "text": [
            "✅ tile_20355_22125.png procesado y guardado como tile_20355_22125.json\n"
          ]
        },
        {
          "output_type": "stream",
          "name": "stderr",
          "text": [
            "\rProcesando imágenes:  15%|█▍        | 66/448 [01:42<08:34,  1.35s/it]"
          ]
        },
        {
          "output_type": "stream",
          "name": "stdout",
          "text": [
            "✅ tile_20355_23010.png procesado y guardado como tile_20355_23010.json\n"
          ]
        },
        {
          "output_type": "stream",
          "name": "stderr",
          "text": [
            "\rProcesando imágenes:  15%|█▍        | 67/448 [01:43<08:21,  1.32s/it]"
          ]
        },
        {
          "output_type": "stream",
          "name": "stdout",
          "text": [
            "✅ tile_20355_20355.png procesado y guardado como tile_20355_20355.json\n"
          ]
        },
        {
          "output_type": "stream",
          "name": "stderr",
          "text": [
            "\rProcesando imágenes:  15%|█▌        | 68/448 [01:45<08:17,  1.31s/it]"
          ]
        },
        {
          "output_type": "stream",
          "name": "stdout",
          "text": [
            "✅ tile_20355_9735.png procesado y guardado como tile_20355_9735.json\n"
          ]
        },
        {
          "output_type": "stream",
          "name": "stderr",
          "text": [
            "\rProcesando imágenes:  15%|█▌        | 69/448 [01:46<08:31,  1.35s/it]"
          ]
        },
        {
          "output_type": "stream",
          "name": "stdout",
          "text": [
            "✅ tile_20355_18585.png procesado y guardado como tile_20355_18585.json\n"
          ]
        },
        {
          "output_type": "stream",
          "name": "stderr",
          "text": [
            "\rProcesando imágenes:  16%|█▌        | 70/448 [01:48<08:34,  1.36s/it]"
          ]
        },
        {
          "output_type": "stream",
          "name": "stdout",
          "text": [
            "✅ tile_20355_11505.png procesado y guardado como tile_20355_11505.json\n"
          ]
        },
        {
          "output_type": "stream",
          "name": "stderr",
          "text": [
            "\rProcesando imágenes:  16%|█▌        | 71/448 [01:49<08:17,  1.32s/it]"
          ]
        },
        {
          "output_type": "stream",
          "name": "stdout",
          "text": [
            "✅ tile_20355_7965.png procesado y guardado como tile_20355_7965.json\n"
          ]
        },
        {
          "output_type": "stream",
          "name": "stderr",
          "text": [
            "\rProcesando imágenes:  16%|█▌        | 72/448 [01:50<08:28,  1.35s/it]"
          ]
        },
        {
          "output_type": "stream",
          "name": "stdout",
          "text": [
            "✅ tile_20355_16815.png procesado y guardado como tile_20355_16815.json\n"
          ]
        },
        {
          "output_type": "stream",
          "name": "stderr",
          "text": [
            "\rProcesando imágenes:  16%|█▋        | 73/448 [01:52<08:28,  1.36s/it]"
          ]
        },
        {
          "output_type": "stream",
          "name": "stdout",
          "text": [
            "✅ tile_19470_19470.png procesado y guardado como tile_19470_19470.json\n"
          ]
        },
        {
          "output_type": "stream",
          "name": "stderr",
          "text": [
            "\rProcesando imágenes:  17%|█▋        | 74/448 [01:53<08:48,  1.41s/it]"
          ]
        },
        {
          "output_type": "stream",
          "name": "stdout",
          "text": [
            "✅ tile_20355_15930.png procesado y guardado como tile_20355_15930.json\n"
          ]
        },
        {
          "output_type": "stream",
          "name": "stderr",
          "text": [
            "\rProcesando imágenes:  17%|█▋        | 75/448 [01:55<08:45,  1.41s/it]"
          ]
        },
        {
          "output_type": "stream",
          "name": "stdout",
          "text": [
            "✅ tile_19470_23010.png procesado y guardado como tile_19470_23010.json\n"
          ]
        },
        {
          "output_type": "stream",
          "name": "stderr",
          "text": [
            "\rProcesando imágenes:  17%|█▋        | 76/448 [01:56<08:22,  1.35s/it]"
          ]
        },
        {
          "output_type": "stream",
          "name": "stdout",
          "text": [
            "✅ tile_18585_25665.png procesado y guardado como tile_18585_25665.json\n"
          ]
        },
        {
          "output_type": "stream",
          "name": "stderr",
          "text": [
            "\rProcesando imágenes:  17%|█▋        | 77/448 [01:57<08:39,  1.40s/it]"
          ]
        },
        {
          "output_type": "stream",
          "name": "stdout",
          "text": [
            "✅ tile_19470_10620.png procesado y guardado como tile_19470_10620.json\n"
          ]
        },
        {
          "output_type": "stream",
          "name": "stderr",
          "text": [
            "\rProcesando imágenes:  17%|█▋        | 78/448 [01:59<08:23,  1.36s/it]"
          ]
        },
        {
          "output_type": "stream",
          "name": "stdout",
          "text": [
            "✅ tile_18585_28320.png procesado y guardado como tile_18585_28320.json\n"
          ]
        },
        {
          "output_type": "stream",
          "name": "stderr",
          "text": [
            "\rProcesando imágenes:  18%|█▊        | 79/448 [02:00<08:32,  1.39s/it]"
          ]
        },
        {
          "output_type": "stream",
          "name": "stdout",
          "text": [
            "✅ tile_18585_18585.png procesado y guardado como tile_18585_18585.json\n"
          ]
        },
        {
          "output_type": "stream",
          "name": "stderr",
          "text": [
            "\rProcesando imágenes:  18%|█▊        | 80/448 [02:01<08:33,  1.40s/it]"
          ]
        },
        {
          "output_type": "stream",
          "name": "stdout",
          "text": [
            "✅ tile_19470_14160.png procesado y guardado como tile_19470_14160.json\n"
          ]
        },
        {
          "output_type": "stream",
          "name": "stderr",
          "text": [
            "\rProcesando imágenes:  18%|█▊        | 81/448 [02:03<08:34,  1.40s/it]"
          ]
        },
        {
          "output_type": "stream",
          "name": "stdout",
          "text": [
            "✅ tile_19470_16815.png procesado y guardado como tile_19470_16815.json\n"
          ]
        },
        {
          "output_type": "stream",
          "name": "stderr",
          "text": [
            "\rProcesando imágenes:  18%|█▊        | 82/448 [02:04<08:23,  1.37s/it]"
          ]
        },
        {
          "output_type": "stream",
          "name": "stdout",
          "text": [
            "✅ tile_18585_22125.png procesado y guardado como tile_18585_22125.json\n"
          ]
        },
        {
          "output_type": "stream",
          "name": "stderr",
          "text": [
            "\rProcesando imágenes:  19%|█▊        | 83/448 [02:05<08:11,  1.35s/it]"
          ]
        },
        {
          "output_type": "stream",
          "name": "stdout",
          "text": [
            "✅ tile_18585_23010.png procesado y guardado como tile_18585_23010.json\n"
          ]
        },
        {
          "output_type": "stream",
          "name": "stderr",
          "text": [
            "\rProcesando imágenes:  19%|█▉        | 84/448 [02:07<08:44,  1.44s/it]"
          ]
        },
        {
          "output_type": "stream",
          "name": "stdout",
          "text": [
            "✅ tile_19470_20355.png procesado y guardado como tile_19470_20355.json\n"
          ]
        },
        {
          "output_type": "stream",
          "name": "stderr",
          "text": [
            "\rProcesando imágenes:  19%|█▉        | 85/448 [02:08<08:21,  1.38s/it]"
          ]
        },
        {
          "output_type": "stream",
          "name": "stdout",
          "text": [
            "✅ tile_19470_25665.png procesado y guardado como tile_19470_25665.json\n"
          ]
        },
        {
          "output_type": "stream",
          "name": "stderr",
          "text": [
            "\rProcesando imágenes:  19%|█▉        | 86/448 [02:10<08:32,  1.41s/it]"
          ]
        },
        {
          "output_type": "stream",
          "name": "stdout",
          "text": [
            "✅ tile_19470_11505.png procesado y guardado como tile_19470_11505.json\n"
          ]
        },
        {
          "output_type": "stream",
          "name": "stderr",
          "text": [
            "\rProcesando imágenes:  19%|█▉        | 87/448 [02:11<08:16,  1.38s/it]"
          ]
        },
        {
          "output_type": "stream",
          "name": "stdout",
          "text": [
            "✅ tile_21240_15045.png procesado y guardado como tile_21240_15045.json\n"
          ]
        },
        {
          "output_type": "stream",
          "name": "stderr",
          "text": [
            "\rProcesando imágenes:  20%|█▉        | 88/448 [02:13<08:21,  1.39s/it]"
          ]
        },
        {
          "output_type": "stream",
          "name": "stdout",
          "text": [
            "✅ tile_19470_15045.png procesado y guardado como tile_19470_15045.json\n"
          ]
        },
        {
          "output_type": "stream",
          "name": "stderr",
          "text": [
            "\rProcesando imágenes:  20%|█▉        | 89/448 [02:14<08:31,  1.43s/it]"
          ]
        },
        {
          "output_type": "stream",
          "name": "stdout",
          "text": [
            "✅ tile_19470_13275.png procesado y guardado como tile_19470_13275.json\n"
          ]
        },
        {
          "output_type": "stream",
          "name": "stderr",
          "text": [
            "\rProcesando imágenes:  20%|██        | 90/448 [02:15<08:34,  1.44s/it]"
          ]
        },
        {
          "output_type": "stream",
          "name": "stdout",
          "text": [
            "✅ tile_18585_17700.png procesado y guardado como tile_18585_17700.json\n"
          ]
        },
        {
          "output_type": "stream",
          "name": "stderr",
          "text": [
            "\rProcesando imágenes:  20%|██        | 91/448 [02:17<08:56,  1.50s/it]"
          ]
        },
        {
          "output_type": "stream",
          "name": "stdout",
          "text": [
            "✅ tile_19470_21240.png procesado y guardado como tile_19470_21240.json\n"
          ]
        },
        {
          "output_type": "stream",
          "name": "stderr",
          "text": [
            "\rProcesando imágenes:  21%|██        | 92/448 [02:19<08:53,  1.50s/it]"
          ]
        },
        {
          "output_type": "stream",
          "name": "stdout",
          "text": [
            "✅ tile_18585_26550.png procesado y guardado como tile_18585_26550.json\n"
          ]
        },
        {
          "output_type": "stream",
          "name": "stderr",
          "text": [
            "\rProcesando imágenes:  21%|██        | 93/448 [02:20<08:58,  1.52s/it]"
          ]
        },
        {
          "output_type": "stream",
          "name": "stdout",
          "text": [
            "✅ tile_19470_18585.png procesado y guardado como tile_19470_18585.json\n"
          ]
        },
        {
          "output_type": "stream",
          "name": "stderr",
          "text": [
            "\rProcesando imágenes:  21%|██        | 94/448 [02:22<08:53,  1.51s/it]"
          ]
        },
        {
          "output_type": "stream",
          "name": "stdout",
          "text": [
            "✅ tile_18585_20355.png procesado y guardado como tile_18585_20355.json\n"
          ]
        },
        {
          "output_type": "stream",
          "name": "stderr",
          "text": [
            "\rProcesando imágenes:  21%|██        | 95/448 [02:23<09:21,  1.59s/it]"
          ]
        },
        {
          "output_type": "stream",
          "name": "stdout",
          "text": [
            "✅ tile_18585_24780.png procesado y guardado como tile_18585_24780.json\n"
          ]
        },
        {
          "output_type": "stream",
          "name": "stderr",
          "text": [
            "\rProcesando imágenes:  21%|██▏       | 96/448 [02:25<09:34,  1.63s/it]"
          ]
        },
        {
          "output_type": "stream",
          "name": "stdout",
          "text": [
            "✅ tile_19470_23895.png procesado y guardado como tile_19470_23895.json\n"
          ]
        },
        {
          "output_type": "stream",
          "name": "stderr",
          "text": [
            "\rProcesando imágenes:  22%|██▏       | 97/448 [02:27<09:13,  1.58s/it]"
          ]
        },
        {
          "output_type": "stream",
          "name": "stdout",
          "text": [
            "✅ tile_19470_15930.png procesado y guardado como tile_19470_15930.json\n"
          ]
        },
        {
          "output_type": "stream",
          "name": "stderr",
          "text": [
            "\rProcesando imágenes:  22%|██▏       | 98/448 [02:28<09:01,  1.55s/it]"
          ]
        },
        {
          "output_type": "stream",
          "name": "stdout",
          "text": [
            "✅ tile_19470_12390.png procesado y guardado como tile_19470_12390.json\n"
          ]
        },
        {
          "output_type": "stream",
          "name": "stderr",
          "text": [
            "\rProcesando imágenes:  22%|██▏       | 99/448 [02:29<08:27,  1.45s/it]"
          ]
        },
        {
          "output_type": "stream",
          "name": "stdout",
          "text": [
            "✅ tile_17700_23010.png procesado y guardado como tile_17700_23010.json\n"
          ]
        },
        {
          "output_type": "stream",
          "name": "stderr",
          "text": [
            "\rProcesando imágenes:  22%|██▏       | 100/448 [02:31<08:23,  1.45s/it]"
          ]
        },
        {
          "output_type": "stream",
          "name": "stdout",
          "text": [
            "✅ tile_18585_15045.png procesado y guardado como tile_18585_15045.json\n"
          ]
        },
        {
          "output_type": "stream",
          "name": "stderr",
          "text": [
            "\rProcesando imágenes:  23%|██▎       | 101/448 [02:32<08:13,  1.42s/it]"
          ]
        },
        {
          "output_type": "stream",
          "name": "stdout",
          "text": [
            "✅ tile_17700_19470.png procesado y guardado como tile_17700_19470.json\n"
          ]
        },
        {
          "output_type": "stream",
          "name": "stderr",
          "text": [
            "\rProcesando imágenes:  23%|██▎       | 102/448 [02:34<08:15,  1.43s/it]"
          ]
        },
        {
          "output_type": "stream",
          "name": "stdout",
          "text": [
            "✅ tile_17700_26550.png procesado y guardado como tile_17700_26550.json\n"
          ]
        },
        {
          "output_type": "stream",
          "name": "stderr",
          "text": [
            "\rProcesando imágenes:  23%|██▎       | 103/448 [02:35<08:30,  1.48s/it]"
          ]
        },
        {
          "output_type": "stream",
          "name": "stdout",
          "text": [
            "✅ tile_19470_9735.png procesado y guardado como tile_19470_9735.json\n"
          ]
        },
        {
          "output_type": "stream",
          "name": "stderr",
          "text": [
            "\rProcesando imágenes:  23%|██▎       | 104/448 [02:37<08:27,  1.48s/it]"
          ]
        },
        {
          "output_type": "stream",
          "name": "stdout",
          "text": [
            "✅ tile_18585_19470.png procesado y guardado como tile_18585_19470.json\n"
          ]
        },
        {
          "output_type": "stream",
          "name": "stderr",
          "text": [
            "\rProcesando imágenes:  23%|██▎       | 105/448 [02:38<08:49,  1.54s/it]"
          ]
        },
        {
          "output_type": "stream",
          "name": "stdout",
          "text": [
            "✅ tile_18585_16815.png procesado y guardado como tile_18585_16815.json\n"
          ]
        },
        {
          "output_type": "stream",
          "name": "stderr",
          "text": [
            "\rProcesando imágenes:  24%|██▎       | 106/448 [02:40<08:31,  1.50s/it]"
          ]
        },
        {
          "output_type": "stream",
          "name": "stdout",
          "text": [
            "✅ tile_17700_25665.png procesado y guardado como tile_17700_25665.json\n"
          ]
        },
        {
          "output_type": "stream",
          "name": "stderr",
          "text": [
            "\rProcesando imágenes:  24%|██▍       | 107/448 [02:41<08:23,  1.48s/it]"
          ]
        },
        {
          "output_type": "stream",
          "name": "stdout",
          "text": [
            "✅ tile_18585_15930.png procesado y guardado como tile_18585_15930.json\n"
          ]
        },
        {
          "output_type": "stream",
          "name": "stderr",
          "text": [
            "\rProcesando imágenes:  24%|██▍       | 108/448 [02:42<07:57,  1.41s/it]"
          ]
        },
        {
          "output_type": "stream",
          "name": "stdout",
          "text": [
            "✅ tile_19470_27435.png procesado y guardado como tile_19470_27435.json\n"
          ]
        },
        {
          "output_type": "stream",
          "name": "stderr",
          "text": [
            "\rProcesando imágenes:  24%|██▍       | 109/448 [02:44<07:49,  1.38s/it]"
          ]
        },
        {
          "output_type": "stream",
          "name": "stdout",
          "text": [
            "✅ tile_17700_29205.png procesado y guardado como tile_17700_29205.json\n"
          ]
        },
        {
          "output_type": "stream",
          "name": "stderr",
          "text": [
            "\rProcesando imágenes:  25%|██▍       | 110/448 [02:45<08:08,  1.45s/it]"
          ]
        },
        {
          "output_type": "stream",
          "name": "stdout",
          "text": [
            "✅ tile_18585_21240.png procesado y guardado como tile_18585_21240.json\n"
          ]
        },
        {
          "output_type": "stream",
          "name": "stderr",
          "text": [
            "\rProcesando imágenes:  25%|██▍       | 111/448 [02:47<08:06,  1.44s/it]"
          ]
        },
        {
          "output_type": "stream",
          "name": "stdout",
          "text": [
            "✅ tile_18585_23895.png procesado y guardado como tile_18585_23895.json\n"
          ]
        },
        {
          "output_type": "stream",
          "name": "stderr",
          "text": [
            "\rProcesando imágenes:  25%|██▌       | 112/448 [02:48<07:43,  1.38s/it]"
          ]
        },
        {
          "output_type": "stream",
          "name": "stdout",
          "text": [
            "✅ tile_18585_10620.png procesado y guardado como tile_18585_10620.json\n"
          ]
        },
        {
          "output_type": "stream",
          "name": "stderr",
          "text": [
            "\rProcesando imágenes:  25%|██▌       | 113/448 [02:50<07:58,  1.43s/it]"
          ]
        },
        {
          "output_type": "stream",
          "name": "stdout",
          "text": [
            "✅ tile_19470_8850.png procesado y guardado como tile_19470_8850.json\n"
          ]
        },
        {
          "output_type": "stream",
          "name": "stderr",
          "text": [
            "\rProcesando imágenes:  25%|██▌       | 114/448 [02:51<07:40,  1.38s/it]"
          ]
        },
        {
          "output_type": "stream",
          "name": "stdout",
          "text": [
            "✅ tile_17700_23895.png procesado y guardado como tile_17700_23895.json\n"
          ]
        },
        {
          "output_type": "stream",
          "name": "stderr",
          "text": [
            "\rProcesando imágenes:  26%|██▌       | 115/448 [02:52<07:25,  1.34s/it]"
          ]
        },
        {
          "output_type": "stream",
          "name": "stdout",
          "text": [
            "✅ tile_17700_24780.png procesado y guardado como tile_17700_24780.json\n"
          ]
        },
        {
          "output_type": "stream",
          "name": "stderr",
          "text": [
            "\rProcesando imágenes:  26%|██▌       | 116/448 [02:54<07:45,  1.40s/it]"
          ]
        },
        {
          "output_type": "stream",
          "name": "stdout",
          "text": [
            "✅ tile_18585_8850.png procesado y guardado como tile_18585_8850.json\n"
          ]
        },
        {
          "output_type": "stream",
          "name": "stderr",
          "text": [
            "\rProcesando imágenes:  26%|██▌       | 117/448 [02:55<07:52,  1.43s/it]"
          ]
        },
        {
          "output_type": "stream",
          "name": "stdout",
          "text": [
            "✅ tile_19470_17700.png procesado y guardado como tile_19470_17700.json\n"
          ]
        },
        {
          "output_type": "stream",
          "name": "stderr",
          "text": [
            "\rProcesando imágenes:  26%|██▋       | 118/448 [02:57<07:54,  1.44s/it]"
          ]
        },
        {
          "output_type": "stream",
          "name": "stdout",
          "text": [
            "✅ tile_18585_13275.png procesado y guardado como tile_18585_13275.json\n"
          ]
        },
        {
          "output_type": "stream",
          "name": "stderr",
          "text": [
            "\rProcesando imágenes:  27%|██▋       | 119/448 [02:58<07:48,  1.42s/it]"
          ]
        },
        {
          "output_type": "stream",
          "name": "stdout",
          "text": [
            "✅ tile_18585_14160.png procesado y guardado como tile_18585_14160.json\n"
          ]
        },
        {
          "output_type": "stream",
          "name": "stderr",
          "text": [
            "\rProcesando imágenes:  27%|██▋       | 120/448 [03:00<08:09,  1.49s/it]"
          ]
        },
        {
          "output_type": "stream",
          "name": "stdout",
          "text": [
            "✅ tile_17700_22125.png procesado y guardado como tile_17700_22125.json\n"
          ]
        },
        {
          "output_type": "stream",
          "name": "stderr",
          "text": [
            "\rProcesando imágenes:  27%|██▋       | 121/448 [03:01<08:02,  1.48s/it]"
          ]
        },
        {
          "output_type": "stream",
          "name": "stdout",
          "text": [
            "✅ tile_18585_27435.png procesado y guardado como tile_18585_27435.json\n"
          ]
        },
        {
          "output_type": "stream",
          "name": "stderr",
          "text": [
            "\rProcesando imágenes:  27%|██▋       | 122/448 [03:02<07:46,  1.43s/it]"
          ]
        },
        {
          "output_type": "stream",
          "name": "stdout",
          "text": [
            "✅ tile_17700_27435.png procesado y guardado como tile_17700_27435.json\n"
          ]
        },
        {
          "output_type": "stream",
          "name": "stderr",
          "text": [
            "\rProcesando imágenes:  27%|██▋       | 123/448 [03:04<07:44,  1.43s/it]"
          ]
        },
        {
          "output_type": "stream",
          "name": "stdout",
          "text": [
            "✅ tile_17700_28320.png procesado y guardado como tile_17700_28320.json\n"
          ]
        },
        {
          "output_type": "stream",
          "name": "stderr",
          "text": [
            "\rProcesando imágenes:  28%|██▊       | 124/448 [03:05<07:51,  1.46s/it]"
          ]
        },
        {
          "output_type": "stream",
          "name": "stdout",
          "text": [
            "✅ tile_18585_11505.png procesado y guardado como tile_18585_11505.json\n"
          ]
        },
        {
          "output_type": "stream",
          "name": "stderr",
          "text": [
            "\rProcesando imágenes:  28%|██▊       | 125/448 [03:07<07:56,  1.48s/it]"
          ]
        },
        {
          "output_type": "stream",
          "name": "stdout",
          "text": [
            "✅ tile_18585_12390.png procesado y guardado como tile_18585_12390.json\n"
          ]
        },
        {
          "output_type": "stream",
          "name": "stderr",
          "text": [
            "\rProcesando imágenes:  28%|██▊       | 126/448 [03:09<08:17,  1.55s/it]"
          ]
        },
        {
          "output_type": "stream",
          "name": "stdout",
          "text": [
            "✅ tile_16815_26550.png procesado y guardado como tile_16815_26550.json\n"
          ]
        },
        {
          "output_type": "stream",
          "name": "stderr",
          "text": [
            "\rProcesando imágenes:  28%|██▊       | 127/448 [03:10<07:46,  1.45s/it]"
          ]
        },
        {
          "output_type": "stream",
          "name": "stdout",
          "text": [
            "✅ tile_16815_14160.png procesado y guardado como tile_16815_14160.json\n"
          ]
        },
        {
          "output_type": "stream",
          "name": "stderr",
          "text": [
            "\rProcesando imágenes:  29%|██▊       | 128/448 [03:11<07:37,  1.43s/it]"
          ]
        },
        {
          "output_type": "stream",
          "name": "stdout",
          "text": [
            "✅ tile_17700_7965.png procesado y guardado como tile_17700_7965.json\n"
          ]
        },
        {
          "output_type": "stream",
          "name": "stderr",
          "text": [
            "\rProcesando imágenes:  29%|██▉       | 129/448 [03:13<08:05,  1.52s/it]"
          ]
        },
        {
          "output_type": "stream",
          "name": "stdout",
          "text": [
            "✅ tile_17700_9735.png procesado y guardado como tile_17700_9735.json\n"
          ]
        },
        {
          "output_type": "stream",
          "name": "stderr",
          "text": [
            "\rProcesando imágenes:  29%|██▉       | 130/448 [03:14<07:49,  1.48s/it]"
          ]
        },
        {
          "output_type": "stream",
          "name": "stdout",
          "text": [
            "✅ tile_17700_16815.png procesado y guardado como tile_17700_16815.json\n"
          ]
        },
        {
          "output_type": "stream",
          "name": "stderr",
          "text": [
            "\rProcesando imágenes:  29%|██▉       | 131/448 [03:16<07:51,  1.49s/it]"
          ]
        },
        {
          "output_type": "stream",
          "name": "stdout",
          "text": [
            "✅ tile_17700_18585.png procesado y guardado como tile_17700_18585.json\n"
          ]
        },
        {
          "output_type": "stream",
          "name": "stderr",
          "text": [
            "\rProcesando imágenes:  29%|██▉       | 132/448 [03:17<07:41,  1.46s/it]"
          ]
        },
        {
          "output_type": "stream",
          "name": "stdout",
          "text": [
            "✅ tile_16815_20355.png procesado y guardado como tile_16815_20355.json\n"
          ]
        },
        {
          "output_type": "stream",
          "name": "stderr",
          "text": [
            "\rProcesando imágenes:  30%|██▉       | 133/448 [03:19<07:36,  1.45s/it]"
          ]
        },
        {
          "output_type": "stream",
          "name": "stdout",
          "text": [
            "✅ tile_17700_13275.png procesado y guardado como tile_17700_13275.json\n"
          ]
        },
        {
          "output_type": "stream",
          "name": "stderr",
          "text": [
            "\rProcesando imágenes:  30%|██▉       | 134/448 [03:20<07:30,  1.43s/it]"
          ]
        },
        {
          "output_type": "stream",
          "name": "stdout",
          "text": [
            "✅ tile_16815_23895.png procesado y guardado como tile_16815_23895.json\n"
          ]
        },
        {
          "output_type": "stream",
          "name": "stderr",
          "text": [
            "\rProcesando imágenes:  30%|███       | 135/448 [03:21<07:12,  1.38s/it]"
          ]
        },
        {
          "output_type": "stream",
          "name": "stdout",
          "text": [
            "✅ tile_16815_28320.png procesado y guardado como tile_16815_28320.json\n"
          ]
        },
        {
          "output_type": "stream",
          "name": "stderr",
          "text": [
            "\rProcesando imágenes:  30%|███       | 136/448 [03:23<07:42,  1.48s/it]"
          ]
        },
        {
          "output_type": "stream",
          "name": "stdout",
          "text": [
            "✅ tile_17700_8850.png procesado y guardado como tile_17700_8850.json\n"
          ]
        },
        {
          "output_type": "stream",
          "name": "stderr",
          "text": [
            "\rProcesando imágenes:  31%|███       | 137/448 [03:25<07:48,  1.51s/it]"
          ]
        },
        {
          "output_type": "stream",
          "name": "stdout",
          "text": [
            "✅ tile_17700_10620.png procesado y guardado como tile_17700_10620.json\n"
          ]
        },
        {
          "output_type": "stream",
          "name": "stderr",
          "text": [
            "\rProcesando imágenes:  31%|███       | 138/448 [03:26<07:48,  1.51s/it]"
          ]
        },
        {
          "output_type": "stream",
          "name": "stdout",
          "text": [
            "✅ tile_17700_21240.png procesado y guardado como tile_17700_21240.json\n"
          ]
        },
        {
          "output_type": "stream",
          "name": "stderr",
          "text": [
            "\rProcesando imágenes:  31%|███       | 139/448 [03:27<07:40,  1.49s/it]"
          ]
        },
        {
          "output_type": "stream",
          "name": "stdout",
          "text": [
            "✅ tile_16815_17700.png procesado y guardado como tile_16815_17700.json\n"
          ]
        },
        {
          "output_type": "stream",
          "name": "stderr",
          "text": [
            "\rProcesando imágenes:  31%|███▏      | 140/448 [03:29<07:22,  1.44s/it]"
          ]
        },
        {
          "output_type": "stream",
          "name": "stdout",
          "text": [
            "✅ tile_17700_20355.png procesado y guardado como tile_17700_20355.json\n"
          ]
        },
        {
          "output_type": "stream",
          "name": "stderr",
          "text": [
            "\rProcesando imágenes:  31%|███▏      | 141/448 [03:31<08:17,  1.62s/it]"
          ]
        },
        {
          "output_type": "stream",
          "name": "stdout",
          "text": [
            "✅ tile_17700_14160.png procesado y guardado como tile_17700_14160.json\n"
          ]
        },
        {
          "output_type": "stream",
          "name": "stderr",
          "text": [
            "\rProcesando imágenes:  32%|███▏      | 142/448 [03:33<08:38,  1.70s/it]"
          ]
        },
        {
          "output_type": "stream",
          "name": "stdout",
          "text": [
            "✅ tile_18585_9735.png procesado y guardado como tile_18585_9735.json\n"
          ]
        },
        {
          "output_type": "stream",
          "name": "stderr",
          "text": [
            "\rProcesando imágenes:  32%|███▏      | 143/448 [03:34<08:00,  1.58s/it]"
          ]
        },
        {
          "output_type": "stream",
          "name": "stdout",
          "text": [
            "✅ tile_17700_7080.png procesado y guardado como tile_17700_7080.json\n"
          ]
        },
        {
          "output_type": "stream",
          "name": "stderr",
          "text": [
            "\rProcesando imágenes:  32%|███▏      | 144/448 [03:35<07:37,  1.50s/it]"
          ]
        },
        {
          "output_type": "stream",
          "name": "stdout",
          "text": [
            "✅ tile_16815_16815.png procesado y guardado como tile_16815_16815.json\n"
          ]
        },
        {
          "output_type": "stream",
          "name": "stderr",
          "text": [
            "\rProcesando imágenes:  32%|███▏      | 145/448 [03:37<07:19,  1.45s/it]"
          ]
        },
        {
          "output_type": "stream",
          "name": "stdout",
          "text": [
            "✅ tile_16815_29205.png procesado y guardado como tile_16815_29205.json\n"
          ]
        },
        {
          "output_type": "stream",
          "name": "stderr",
          "text": [
            "\rProcesando imágenes:  33%|███▎      | 146/448 [03:38<07:21,  1.46s/it]"
          ]
        },
        {
          "output_type": "stream",
          "name": "stdout",
          "text": [
            "✅ tile_17700_12390.png procesado y guardado como tile_17700_12390.json\n"
          ]
        },
        {
          "output_type": "stream",
          "name": "stderr",
          "text": [
            "\rProcesando imágenes:  33%|███▎      | 147/448 [03:40<07:15,  1.45s/it]"
          ]
        },
        {
          "output_type": "stream",
          "name": "stdout",
          "text": [
            "✅ tile_16815_18585.png procesado y guardado como tile_16815_18585.json\n"
          ]
        },
        {
          "output_type": "stream",
          "name": "stderr",
          "text": [
            "\rProcesando imágenes:  33%|███▎      | 148/448 [03:41<07:04,  1.41s/it]"
          ]
        },
        {
          "output_type": "stream",
          "name": "stdout",
          "text": [
            "✅ tile_17700_15930.png procesado y guardado como tile_17700_15930.json\n"
          ]
        },
        {
          "output_type": "stream",
          "name": "stderr",
          "text": [
            "\rProcesando imágenes:  33%|███▎      | 149/448 [03:42<06:49,  1.37s/it]"
          ]
        },
        {
          "output_type": "stream",
          "name": "stdout",
          "text": [
            "✅ tile_16815_27435.png procesado y guardado como tile_16815_27435.json\n"
          ]
        },
        {
          "output_type": "stream",
          "name": "stderr",
          "text": [
            "\rProcesando imágenes:  33%|███▎      | 150/448 [03:44<06:53,  1.39s/it]"
          ]
        },
        {
          "output_type": "stream",
          "name": "stdout",
          "text": [
            "✅ tile_17700_11505.png procesado y guardado como tile_17700_11505.json\n"
          ]
        },
        {
          "output_type": "stream",
          "name": "stderr",
          "text": [
            "\rProcesando imágenes:  34%|███▎      | 151/448 [03:45<06:56,  1.40s/it]"
          ]
        },
        {
          "output_type": "stream",
          "name": "stdout",
          "text": [
            "✅ tile_16815_21240.png procesado y guardado como tile_16815_21240.json\n"
          ]
        },
        {
          "output_type": "stream",
          "name": "stderr",
          "text": [
            "\rProcesando imágenes:  34%|███▍      | 152/448 [03:47<07:11,  1.46s/it]"
          ]
        },
        {
          "output_type": "stream",
          "name": "stdout",
          "text": [
            "✅ tile_16815_11505.png procesado y guardado como tile_16815_11505.json\n"
          ]
        },
        {
          "output_type": "stream",
          "name": "stderr",
          "text": [
            "\rProcesando imágenes:  34%|███▍      | 153/448 [03:48<06:55,  1.41s/it]"
          ]
        },
        {
          "output_type": "stream",
          "name": "stdout",
          "text": [
            "✅ tile_16815_24780.png procesado y guardado como tile_16815_24780.json\n"
          ]
        },
        {
          "output_type": "stream",
          "name": "stderr",
          "text": [
            "\rProcesando imágenes:  34%|███▍      | 154/448 [03:49<06:41,  1.37s/it]"
          ]
        },
        {
          "output_type": "stream",
          "name": "stdout",
          "text": [
            "✅ tile_15930_18585.png procesado y guardado como tile_15930_18585.json\n"
          ]
        },
        {
          "output_type": "stream",
          "name": "stderr",
          "text": [
            "\rProcesando imágenes:  35%|███▍      | 155/448 [03:51<06:48,  1.39s/it]"
          ]
        },
        {
          "output_type": "stream",
          "name": "stdout",
          "text": [
            "✅ tile_15930_6195.png procesado y guardado como tile_15930_6195.json\n"
          ]
        },
        {
          "output_type": "stream",
          "name": "stderr",
          "text": [
            "\rProcesando imágenes:  35%|███▍      | 156/448 [03:52<06:52,  1.41s/it]"
          ]
        },
        {
          "output_type": "stream",
          "name": "stdout",
          "text": [
            "✅ tile_15930_25665.png procesado y guardado como tile_15930_25665.json\n"
          ]
        },
        {
          "output_type": "stream",
          "name": "stderr",
          "text": [
            "\rProcesando imágenes:  35%|███▌      | 157/448 [03:54<06:53,  1.42s/it]"
          ]
        },
        {
          "output_type": "stream",
          "name": "stdout",
          "text": [
            "✅ tile_16815_15045.png procesado y guardado como tile_16815_15045.json\n"
          ]
        },
        {
          "output_type": "stream",
          "name": "stderr",
          "text": [
            "\rProcesando imágenes:  35%|███▌      | 158/448 [03:55<06:56,  1.44s/it]"
          ]
        },
        {
          "output_type": "stream",
          "name": "stdout",
          "text": [
            "✅ tile_16815_10620.png procesado y guardado como tile_16815_10620.json\n"
          ]
        },
        {
          "output_type": "stream",
          "name": "stderr",
          "text": [
            "\rProcesando imágenes:  35%|███▌      | 159/448 [03:56<06:40,  1.39s/it]"
          ]
        },
        {
          "output_type": "stream",
          "name": "stdout",
          "text": [
            "✅ tile_15930_30090.png procesado y guardado como tile_15930_30090.json\n"
          ]
        },
        {
          "output_type": "stream",
          "name": "stderr",
          "text": [
            "\rProcesando imágenes:  36%|███▌      | 160/448 [03:58<06:57,  1.45s/it]"
          ]
        },
        {
          "output_type": "stream",
          "name": "stdout",
          "text": [
            "✅ tile_15930_28320.png procesado y guardado como tile_15930_28320.json\n"
          ]
        },
        {
          "output_type": "stream",
          "name": "stderr",
          "text": [
            "\rProcesando imágenes:  36%|███▌      | 161/448 [03:59<06:54,  1.44s/it]"
          ]
        },
        {
          "output_type": "stream",
          "name": "stdout",
          "text": [
            "✅ tile_16815_13275.png procesado y guardado como tile_16815_13275.json\n"
          ]
        },
        {
          "output_type": "stream",
          "name": "stderr",
          "text": [
            "\rProcesando imágenes:  36%|███▌      | 162/448 [04:01<07:04,  1.49s/it]"
          ]
        },
        {
          "output_type": "stream",
          "name": "stdout",
          "text": [
            "✅ tile_16815_12390.png procesado y guardado como tile_16815_12390.json\n"
          ]
        },
        {
          "output_type": "stream",
          "name": "stderr",
          "text": [
            "\rProcesando imágenes:  36%|███▋      | 163/448 [04:02<07:04,  1.49s/it]"
          ]
        },
        {
          "output_type": "stream",
          "name": "stdout",
          "text": [
            "✅ tile_15930_29205.png procesado y guardado como tile_15930_29205.json\n"
          ]
        },
        {
          "output_type": "stream",
          "name": "stderr",
          "text": [
            "\rProcesando imágenes:  37%|███▋      | 164/448 [04:04<07:08,  1.51s/it]"
          ]
        },
        {
          "output_type": "stream",
          "name": "stdout",
          "text": [
            "✅ tile_16815_15930.png procesado y guardado como tile_16815_15930.json\n"
          ]
        },
        {
          "output_type": "stream",
          "name": "stderr",
          "text": [
            "\rProcesando imágenes:  37%|███▋      | 165/448 [04:06<07:26,  1.58s/it]"
          ]
        },
        {
          "output_type": "stream",
          "name": "stdout",
          "text": [
            "✅ tile_16815_8850.png procesado y guardado como tile_16815_8850.json\n"
          ]
        },
        {
          "output_type": "stream",
          "name": "stderr",
          "text": [
            "\rProcesando imágenes:  37%|███▋      | 166/448 [04:07<07:16,  1.55s/it]"
          ]
        },
        {
          "output_type": "stream",
          "name": "stdout",
          "text": [
            "✅ tile_15930_23895.png procesado y guardado como tile_15930_23895.json\n"
          ]
        },
        {
          "output_type": "stream",
          "name": "stderr",
          "text": [
            "\rProcesando imágenes:  37%|███▋      | 167/448 [04:08<06:51,  1.46s/it]"
          ]
        },
        {
          "output_type": "stream",
          "name": "stdout",
          "text": [
            "✅ tile_16815_7080.png procesado y guardado como tile_16815_7080.json\n"
          ]
        },
        {
          "output_type": "stream",
          "name": "stderr",
          "text": [
            "\rProcesando imágenes:  38%|███▊      | 168/448 [04:10<06:47,  1.46s/it]"
          ]
        },
        {
          "output_type": "stream",
          "name": "stdout",
          "text": [
            "✅ tile_16815_23010.png procesado y guardado como tile_16815_23010.json\n"
          ]
        },
        {
          "output_type": "stream",
          "name": "stderr",
          "text": [
            "\rProcesando imágenes:  38%|███▊      | 169/448 [04:11<06:51,  1.47s/it]"
          ]
        },
        {
          "output_type": "stream",
          "name": "stdout",
          "text": [
            "✅ tile_16815_19470.png procesado y guardado como tile_16815_19470.json\n"
          ]
        },
        {
          "output_type": "stream",
          "name": "stderr",
          "text": [
            "\rProcesando imágenes:  38%|███▊      | 170/448 [04:13<06:38,  1.43s/it]"
          ]
        },
        {
          "output_type": "stream",
          "name": "stdout",
          "text": [
            "✅ tile_17700_15045.png procesado y guardado como tile_17700_15045.json\n"
          ]
        },
        {
          "output_type": "stream",
          "name": "stderr",
          "text": [
            "\rProcesando imágenes:  38%|███▊      | 171/448 [04:14<06:35,  1.43s/it]"
          ]
        },
        {
          "output_type": "stream",
          "name": "stdout",
          "text": [
            "✅ tile_15930_27435.png procesado y guardado como tile_15930_27435.json\n"
          ]
        },
        {
          "output_type": "stream",
          "name": "stderr",
          "text": [
            "\rProcesando imágenes:  38%|███▊      | 172/448 [04:16<06:30,  1.42s/it]"
          ]
        },
        {
          "output_type": "stream",
          "name": "stdout",
          "text": [
            "✅ tile_16815_9735.png procesado y guardado como tile_16815_9735.json\n"
          ]
        },
        {
          "output_type": "stream",
          "name": "stderr",
          "text": [
            "\rProcesando imágenes:  39%|███▊      | 173/448 [04:17<06:42,  1.47s/it]"
          ]
        },
        {
          "output_type": "stream",
          "name": "stdout",
          "text": [
            "✅ tile_15930_16815.png procesado y guardado como tile_15930_16815.json\n"
          ]
        },
        {
          "output_type": "stream",
          "name": "stderr",
          "text": [
            "\rProcesando imágenes:  39%|███▉      | 174/448 [04:19<07:03,  1.54s/it]"
          ]
        },
        {
          "output_type": "stream",
          "name": "stdout",
          "text": [
            "✅ tile_15930_26550.png procesado y guardado como tile_15930_26550.json\n"
          ]
        },
        {
          "output_type": "stream",
          "name": "stderr",
          "text": [
            "\rProcesando imágenes:  39%|███▉      | 175/448 [04:20<06:54,  1.52s/it]"
          ]
        },
        {
          "output_type": "stream",
          "name": "stdout",
          "text": [
            "✅ tile_15930_24780.png procesado y guardado como tile_15930_24780.json\n"
          ]
        },
        {
          "output_type": "stream",
          "name": "stderr",
          "text": [
            "\rProcesando imágenes:  39%|███▉      | 176/448 [04:22<06:49,  1.50s/it]"
          ]
        },
        {
          "output_type": "stream",
          "name": "stdout",
          "text": [
            "✅ tile_15930_12390.png procesado y guardado como tile_15930_12390.json\n"
          ]
        },
        {
          "output_type": "stream",
          "name": "stderr",
          "text": [
            "\rProcesando imágenes:  40%|███▉      | 177/448 [04:23<06:53,  1.53s/it]"
          ]
        },
        {
          "output_type": "stream",
          "name": "stdout",
          "text": [
            "✅ tile_16815_30090.png procesado y guardado como tile_16815_30090.json\n"
          ]
        },
        {
          "output_type": "stream",
          "name": "stderr",
          "text": [
            "\rProcesando imágenes:  40%|███▉      | 178/448 [04:25<06:41,  1.49s/it]"
          ]
        },
        {
          "output_type": "stream",
          "name": "stdout",
          "text": [
            "✅ tile_16815_22125.png procesado y guardado como tile_16815_22125.json\n"
          ]
        },
        {
          "output_type": "stream",
          "name": "stderr",
          "text": [
            "\rProcesando imágenes:  40%|███▉      | 179/448 [04:26<06:26,  1.44s/it]"
          ]
        },
        {
          "output_type": "stream",
          "name": "stdout",
          "text": [
            "✅ tile_15045_15930.png procesado y guardado como tile_15045_15930.json\n"
          ]
        },
        {
          "output_type": "stream",
          "name": "stderr",
          "text": [
            "\rProcesando imágenes:  40%|████      | 180/448 [04:28<06:32,  1.47s/it]"
          ]
        },
        {
          "output_type": "stream",
          "name": "stdout",
          "text": [
            "✅ tile_15045_28320.png procesado y guardado como tile_15045_28320.json\n"
          ]
        },
        {
          "output_type": "stream",
          "name": "stderr",
          "text": [
            "\rProcesando imágenes:  40%|████      | 181/448 [04:29<06:36,  1.48s/it]"
          ]
        },
        {
          "output_type": "stream",
          "name": "stdout",
          "text": [
            "✅ tile_16815_7965.png procesado y guardado como tile_16815_7965.json\n"
          ]
        },
        {
          "output_type": "stream",
          "name": "stderr",
          "text": [
            "\rProcesando imágenes:  41%|████      | 182/448 [04:31<06:53,  1.55s/it]"
          ]
        },
        {
          "output_type": "stream",
          "name": "stdout",
          "text": [
            "✅ tile_15045_16815.png procesado y guardado como tile_15045_16815.json\n"
          ]
        },
        {
          "output_type": "stream",
          "name": "stderr",
          "text": [
            "\rProcesando imágenes:  41%|████      | 183/448 [04:32<06:52,  1.56s/it]"
          ]
        },
        {
          "output_type": "stream",
          "name": "stdout",
          "text": [
            "✅ tile_15045_21240.png procesado y guardado como tile_15045_21240.json\n"
          ]
        },
        {
          "output_type": "stream",
          "name": "stderr",
          "text": [
            "\rProcesando imágenes:  41%|████      | 184/448 [04:34<06:45,  1.53s/it]"
          ]
        },
        {
          "output_type": "stream",
          "name": "stdout",
          "text": [
            "✅ tile_15045_26550.png procesado y guardado como tile_15045_26550.json\n"
          ]
        },
        {
          "output_type": "stream",
          "name": "stderr",
          "text": [
            "\rProcesando imágenes:  41%|████▏     | 185/448 [04:35<06:40,  1.52s/it]"
          ]
        },
        {
          "output_type": "stream",
          "name": "stdout",
          "text": [
            "✅ tile_16815_25665.png procesado y guardado como tile_16815_25665.json\n"
          ]
        },
        {
          "output_type": "stream",
          "name": "stderr",
          "text": [
            "\rProcesando imágenes:  42%|████▏     | 186/448 [04:37<06:34,  1.51s/it]"
          ]
        },
        {
          "output_type": "stream",
          "name": "stdout",
          "text": [
            "✅ tile_15930_17700.png procesado y guardado como tile_15930_17700.json\n"
          ]
        },
        {
          "output_type": "stream",
          "name": "stderr",
          "text": [
            "\rProcesando imágenes:  42%|████▏     | 187/448 [04:38<06:29,  1.49s/it]"
          ]
        },
        {
          "output_type": "stream",
          "name": "stdout",
          "text": [
            "✅ tile_15930_30975.png procesado y guardado como tile_15930_30975.json\n"
          ]
        },
        {
          "output_type": "stream",
          "name": "stderr",
          "text": [
            "\rProcesando imágenes:  42%|████▏     | 188/448 [04:40<06:25,  1.48s/it]"
          ]
        },
        {
          "output_type": "stream",
          "name": "stdout",
          "text": [
            "✅ tile_15930_21240.png procesado y guardado como tile_15930_21240.json\n"
          ]
        },
        {
          "output_type": "stream",
          "name": "stderr",
          "text": [
            "\rProcesando imágenes:  42%|████▏     | 189/448 [04:41<06:23,  1.48s/it]"
          ]
        },
        {
          "output_type": "stream",
          "name": "stdout",
          "text": [
            "✅ tile_15045_30090.png procesado y guardado como tile_15045_30090.json\n"
          ]
        },
        {
          "output_type": "stream",
          "name": "stderr",
          "text": [
            "\rProcesando imágenes:  42%|████▏     | 190/448 [04:43<06:25,  1.49s/it]"
          ]
        },
        {
          "output_type": "stream",
          "name": "stdout",
          "text": [
            "✅ tile_15045_24780.png procesado y guardado como tile_15045_24780.json\n"
          ]
        },
        {
          "output_type": "stream",
          "name": "stderr",
          "text": [
            "\rProcesando imágenes:  43%|████▎     | 191/448 [04:44<06:15,  1.46s/it]"
          ]
        },
        {
          "output_type": "stream",
          "name": "stdout",
          "text": [
            "✅ tile_15930_15930.png procesado y guardado como tile_15930_15930.json\n"
          ]
        },
        {
          "output_type": "stream",
          "name": "stderr",
          "text": [
            "\rProcesando imágenes:  43%|████▎     | 192/448 [04:46<06:16,  1.47s/it]"
          ]
        },
        {
          "output_type": "stream",
          "name": "stdout",
          "text": [
            "✅ tile_15930_15045.png procesado y guardado como tile_15930_15045.json\n"
          ]
        },
        {
          "output_type": "stream",
          "name": "stderr",
          "text": [
            "\rProcesando imágenes:  43%|████▎     | 193/448 [04:47<06:14,  1.47s/it]"
          ]
        },
        {
          "output_type": "stream",
          "name": "stdout",
          "text": [
            "✅ tile_15930_7080.png procesado y guardado como tile_15930_7080.json\n"
          ]
        },
        {
          "output_type": "stream",
          "name": "stderr",
          "text": [
            "\rProcesando imágenes:  43%|████▎     | 194/448 [04:48<06:02,  1.43s/it]"
          ]
        },
        {
          "output_type": "stream",
          "name": "stdout",
          "text": [
            "✅ tile_15930_5310.png procesado y guardado como tile_15930_5310.json\n"
          ]
        },
        {
          "output_type": "stream",
          "name": "stderr",
          "text": [
            "\rProcesando imágenes:  44%|████▎     | 195/448 [04:50<06:09,  1.46s/it]"
          ]
        },
        {
          "output_type": "stream",
          "name": "stdout",
          "text": [
            "✅ tile_15045_23895.png procesado y guardado como tile_15045_23895.json\n"
          ]
        },
        {
          "output_type": "stream",
          "name": "stderr",
          "text": [
            "\rProcesando imágenes:  44%|████▍     | 196/448 [04:51<05:55,  1.41s/it]"
          ]
        },
        {
          "output_type": "stream",
          "name": "stdout",
          "text": [
            "✅ tile_15930_23010.png procesado y guardado como tile_15930_23010.json\n"
          ]
        },
        {
          "output_type": "stream",
          "name": "stderr",
          "text": [
            "\rProcesando imágenes:  44%|████▍     | 197/448 [04:53<06:06,  1.46s/it]"
          ]
        },
        {
          "output_type": "stream",
          "name": "stdout",
          "text": [
            "✅ tile_15930_19470.png procesado y guardado como tile_15930_19470.json\n"
          ]
        },
        {
          "output_type": "stream",
          "name": "stderr",
          "text": [
            "\rProcesando imágenes:  44%|████▍     | 198/448 [04:54<06:05,  1.46s/it]"
          ]
        },
        {
          "output_type": "stream",
          "name": "stdout",
          "text": [
            "✅ tile_15930_20355.png procesado y guardado como tile_15930_20355.json\n"
          ]
        },
        {
          "output_type": "stream",
          "name": "stderr",
          "text": [
            "\rProcesando imágenes:  44%|████▍     | 199/448 [04:56<06:12,  1.49s/it]"
          ]
        },
        {
          "output_type": "stream",
          "name": "stdout",
          "text": [
            "✅ tile_15930_8850.png procesado y guardado como tile_15930_8850.json\n"
          ]
        },
        {
          "output_type": "stream",
          "name": "stderr",
          "text": [
            "\rProcesando imágenes:  45%|████▍     | 200/448 [04:57<06:13,  1.50s/it]"
          ]
        },
        {
          "output_type": "stream",
          "name": "stdout",
          "text": [
            "✅ tile_15045_25665.png procesado y guardado como tile_15045_25665.json\n"
          ]
        },
        {
          "output_type": "stream",
          "name": "stderr",
          "text": [
            "\rProcesando imágenes:  45%|████▍     | 201/448 [04:59<06:10,  1.50s/it]"
          ]
        },
        {
          "output_type": "stream",
          "name": "stdout",
          "text": [
            "✅ tile_15045_22125.png procesado y guardado como tile_15045_22125.json\n"
          ]
        },
        {
          "output_type": "stream",
          "name": "stderr",
          "text": [
            "\rProcesando imágenes:  45%|████▌     | 202/448 [05:00<06:05,  1.49s/it]"
          ]
        },
        {
          "output_type": "stream",
          "name": "stdout",
          "text": [
            "✅ tile_15930_7965.png procesado y guardado como tile_15930_7965.json\n"
          ]
        },
        {
          "output_type": "stream",
          "name": "stderr",
          "text": [
            "\rProcesando imágenes:  45%|████▌     | 203/448 [05:02<06:02,  1.48s/it]"
          ]
        },
        {
          "output_type": "stream",
          "name": "stdout",
          "text": [
            "✅ tile_15930_22125.png procesado y guardado como tile_15930_22125.json\n"
          ]
        },
        {
          "output_type": "stream",
          "name": "stderr",
          "text": [
            "\rProcesando imágenes:  46%|████▌     | 204/448 [05:03<05:57,  1.46s/it]"
          ]
        },
        {
          "output_type": "stream",
          "name": "stdout",
          "text": [
            "✅ tile_15930_11505.png procesado y guardado como tile_15930_11505.json\n"
          ]
        },
        {
          "output_type": "stream",
          "name": "stderr",
          "text": [
            "\rProcesando imágenes:  46%|████▌     | 205/448 [05:05<05:42,  1.41s/it]"
          ]
        },
        {
          "output_type": "stream",
          "name": "stdout",
          "text": [
            "✅ tile_15045_17700.png procesado y guardado como tile_15045_17700.json\n"
          ]
        },
        {
          "output_type": "stream",
          "name": "stderr",
          "text": [
            "\rProcesando imágenes:  46%|████▌     | 206/448 [05:06<05:34,  1.38s/it]"
          ]
        },
        {
          "output_type": "stream",
          "name": "stdout",
          "text": [
            "✅ tile_15045_27435.png procesado y guardado como tile_15045_27435.json\n"
          ]
        },
        {
          "output_type": "stream",
          "name": "stderr",
          "text": [
            "\rProcesando imágenes:  46%|████▌     | 207/448 [05:07<05:49,  1.45s/it]"
          ]
        },
        {
          "output_type": "stream",
          "name": "stdout",
          "text": [
            "✅ tile_15045_12390.png procesado y guardado como tile_15045_12390.json\n"
          ]
        },
        {
          "output_type": "stream",
          "name": "stderr",
          "text": [
            "\rProcesando imágenes:  46%|████▋     | 208/448 [05:09<06:16,  1.57s/it]"
          ]
        },
        {
          "output_type": "stream",
          "name": "stdout",
          "text": [
            "✅ tile_14160_9735.png procesado y guardado como tile_14160_9735.json\n"
          ]
        },
        {
          "output_type": "stream",
          "name": "stderr",
          "text": [
            "\rProcesando imágenes:  47%|████▋     | 209/448 [05:11<06:13,  1.56s/it]"
          ]
        },
        {
          "output_type": "stream",
          "name": "stdout",
          "text": [
            "✅ tile_15045_20355.png procesado y guardado como tile_15045_20355.json\n"
          ]
        },
        {
          "output_type": "stream",
          "name": "stderr",
          "text": [
            "\rProcesando imágenes:  47%|████▋     | 210/448 [05:12<06:02,  1.52s/it]"
          ]
        },
        {
          "output_type": "stream",
          "name": "stdout",
          "text": [
            "✅ tile_15045_9735.png procesado y guardado como tile_15045_9735.json\n"
          ]
        },
        {
          "output_type": "stream",
          "name": "stderr",
          "text": [
            "\rProcesando imágenes:  47%|████▋     | 211/448 [05:14<05:47,  1.46s/it]"
          ]
        },
        {
          "output_type": "stream",
          "name": "stdout",
          "text": [
            "✅ tile_15045_15045.png procesado y guardado como tile_15045_15045.json\n"
          ]
        },
        {
          "output_type": "stream",
          "name": "stderr",
          "text": [
            "\rProcesando imágenes:  47%|████▋     | 212/448 [05:15<05:53,  1.50s/it]"
          ]
        },
        {
          "output_type": "stream",
          "name": "stdout",
          "text": [
            "✅ tile_15045_4425.png procesado y guardado como tile_15045_4425.json\n"
          ]
        },
        {
          "output_type": "stream",
          "name": "stderr",
          "text": [
            "\rProcesando imágenes:  48%|████▊     | 213/448 [05:17<05:53,  1.50s/it]"
          ]
        },
        {
          "output_type": "stream",
          "name": "stdout",
          "text": [
            "✅ tile_13275_27435.png procesado y guardado como tile_13275_27435.json\n"
          ]
        },
        {
          "output_type": "stream",
          "name": "stderr",
          "text": [
            "\rProcesando imágenes:  48%|████▊     | 214/448 [05:18<05:37,  1.44s/it]"
          ]
        },
        {
          "output_type": "stream",
          "name": "stdout",
          "text": [
            "✅ tile_14160_4425.png procesado y guardado como tile_14160_4425.json\n"
          ]
        },
        {
          "output_type": "stream",
          "name": "stderr",
          "text": [
            "\rProcesando imágenes:  48%|████▊     | 215/448 [05:19<05:32,  1.43s/it]"
          ]
        },
        {
          "output_type": "stream",
          "name": "stdout",
          "text": [
            "✅ tile_15045_7965.png procesado y guardado como tile_15045_7965.json\n"
          ]
        },
        {
          "output_type": "stream",
          "name": "stderr",
          "text": [
            "\rProcesando imágenes:  48%|████▊     | 216/448 [05:21<05:23,  1.39s/it]"
          ]
        },
        {
          "output_type": "stream",
          "name": "stdout",
          "text": [
            "✅ tile_15045_14160.png procesado y guardado como tile_15045_14160.json\n"
          ]
        },
        {
          "output_type": "stream",
          "name": "stderr",
          "text": [
            "\rProcesando imágenes:  48%|████▊     | 217/448 [05:22<05:18,  1.38s/it]"
          ]
        },
        {
          "output_type": "stream",
          "name": "stdout",
          "text": [
            "✅ tile_15045_8850.png procesado y guardado como tile_15045_8850.json\n"
          ]
        },
        {
          "output_type": "stream",
          "name": "stderr",
          "text": [
            "\rProcesando imágenes:  49%|████▊     | 218/448 [05:23<05:16,  1.38s/it]"
          ]
        },
        {
          "output_type": "stream",
          "name": "stdout",
          "text": [
            "✅ tile_15045_19470.png procesado y guardado como tile_15045_19470.json\n"
          ]
        },
        {
          "output_type": "stream",
          "name": "stderr",
          "text": [
            "\rProcesando imágenes:  49%|████▉     | 219/448 [05:25<05:12,  1.37s/it]"
          ]
        },
        {
          "output_type": "stream",
          "name": "stdout",
          "text": [
            "✅ tile_13275_26550.png procesado y guardado como tile_13275_26550.json\n"
          ]
        },
        {
          "output_type": "stream",
          "name": "stderr",
          "text": [
            "\rProcesando imágenes:  49%|████▉     | 220/448 [05:26<05:12,  1.37s/it]"
          ]
        },
        {
          "output_type": "stream",
          "name": "stdout",
          "text": [
            "✅ tile_15930_10620.png procesado y guardado como tile_15930_10620.json\n"
          ]
        },
        {
          "output_type": "stream",
          "name": "stderr",
          "text": [
            "\rProcesando imágenes:  49%|████▉     | 221/448 [05:28<05:29,  1.45s/it]"
          ]
        },
        {
          "output_type": "stream",
          "name": "stdout",
          "text": [
            "✅ tile_14160_7080.png procesado y guardado como tile_14160_7080.json\n"
          ]
        },
        {
          "output_type": "stream",
          "name": "stderr",
          "text": [
            "\rProcesando imágenes:  50%|████▉     | 222/448 [05:29<05:20,  1.42s/it]"
          ]
        },
        {
          "output_type": "stream",
          "name": "stdout",
          "text": [
            "✅ tile_15045_29205.png procesado y guardado como tile_15045_29205.json\n"
          ]
        },
        {
          "output_type": "stream",
          "name": "stderr",
          "text": [
            "\rProcesando imágenes:  50%|████▉     | 223/448 [05:31<05:18,  1.42s/it]"
          ]
        },
        {
          "output_type": "stream",
          "name": "stdout",
          "text": [
            "✅ tile_14160_27435.png procesado y guardado como tile_14160_27435.json\n"
          ]
        },
        {
          "output_type": "stream",
          "name": "stderr",
          "text": [
            "\rProcesando imágenes:  50%|█████     | 224/448 [05:32<05:11,  1.39s/it]"
          ]
        },
        {
          "output_type": "stream",
          "name": "stdout",
          "text": [
            "✅ tile_15930_14160.png procesado y guardado como tile_15930_14160.json\n"
          ]
        },
        {
          "output_type": "stream",
          "name": "stderr",
          "text": [
            "\rProcesando imágenes:  50%|█████     | 225/448 [05:33<05:18,  1.43s/it]"
          ]
        },
        {
          "output_type": "stream",
          "name": "stdout",
          "text": [
            "✅ tile_15045_11505.png procesado y guardado como tile_15045_11505.json\n"
          ]
        },
        {
          "output_type": "stream",
          "name": "stderr",
          "text": [
            "\rProcesando imágenes:  50%|█████     | 226/448 [05:35<05:13,  1.41s/it]"
          ]
        },
        {
          "output_type": "stream",
          "name": "stdout",
          "text": [
            "✅ tile_15930_13275.png procesado y guardado como tile_15930_13275.json\n"
          ]
        },
        {
          "output_type": "stream",
          "name": "stderr",
          "text": [
            "\rProcesando imágenes:  51%|█████     | 227/448 [05:36<05:28,  1.48s/it]"
          ]
        },
        {
          "output_type": "stream",
          "name": "stdout",
          "text": [
            "✅ tile_15045_7080.png procesado y guardado como tile_15045_7080.json\n"
          ]
        },
        {
          "output_type": "stream",
          "name": "stderr",
          "text": [
            "\rProcesando imágenes:  51%|█████     | 228/448 [05:38<05:37,  1.53s/it]"
          ]
        },
        {
          "output_type": "stream",
          "name": "stdout",
          "text": [
            "✅ tile_13275_25665.png procesado y guardado como tile_13275_25665.json\n"
          ]
        },
        {
          "output_type": "stream",
          "name": "stderr",
          "text": [
            "\rProcesando imágenes:  51%|█████     | 229/448 [05:40<05:34,  1.53s/it]"
          ]
        },
        {
          "output_type": "stream",
          "name": "stdout",
          "text": [
            "✅ tile_15930_9735.png procesado y guardado como tile_15930_9735.json\n"
          ]
        },
        {
          "output_type": "stream",
          "name": "stderr",
          "text": [
            "\rProcesando imágenes:  51%|█████▏    | 230/448 [05:41<05:22,  1.48s/it]"
          ]
        },
        {
          "output_type": "stream",
          "name": "stdout",
          "text": [
            "✅ tile_15045_18585.png procesado y guardado como tile_15045_18585.json\n"
          ]
        },
        {
          "output_type": "stream",
          "name": "stderr",
          "text": [
            "\rProcesando imágenes:  52%|█████▏    | 231/448 [05:42<05:22,  1.48s/it]"
          ]
        },
        {
          "output_type": "stream",
          "name": "stdout",
          "text": [
            "✅ tile_14160_11505.png procesado y guardado como tile_14160_11505.json\n"
          ]
        },
        {
          "output_type": "stream",
          "name": "stderr",
          "text": [
            "\rProcesando imágenes:  52%|█████▏    | 232/448 [05:44<05:15,  1.46s/it]"
          ]
        },
        {
          "output_type": "stream",
          "name": "stdout",
          "text": [
            "✅ tile_14160_3540.png procesado y guardado como tile_14160_3540.json\n"
          ]
        },
        {
          "output_type": "stream",
          "name": "stderr",
          "text": [
            "\rProcesando imágenes:  52%|█████▏    | 233/448 [05:45<05:06,  1.42s/it]"
          ]
        },
        {
          "output_type": "stream",
          "name": "stdout",
          "text": [
            "✅ tile_14160_7965.png procesado y guardado como tile_14160_7965.json\n"
          ]
        },
        {
          "output_type": "stream",
          "name": "stderr",
          "text": [
            "\rProcesando imágenes:  52%|█████▏    | 234/448 [05:47<05:02,  1.41s/it]"
          ]
        },
        {
          "output_type": "stream",
          "name": "stdout",
          "text": [
            "✅ tile_15045_23010.png procesado y guardado como tile_15045_23010.json\n"
          ]
        },
        {
          "output_type": "stream",
          "name": "stderr",
          "text": [
            "\rProcesando imágenes:  52%|█████▏    | 235/448 [05:48<05:11,  1.46s/it]"
          ]
        },
        {
          "output_type": "stream",
          "name": "stdout",
          "text": [
            "✅ tile_14160_16815.png procesado y guardado como tile_14160_16815.json\n"
          ]
        },
        {
          "output_type": "stream",
          "name": "stderr",
          "text": [
            "\rProcesando imágenes:  53%|█████▎    | 236/448 [05:50<05:25,  1.53s/it]"
          ]
        },
        {
          "output_type": "stream",
          "name": "stdout",
          "text": [
            "✅ tile_14160_20355.png procesado y guardado como tile_14160_20355.json\n"
          ]
        },
        {
          "output_type": "stream",
          "name": "stderr",
          "text": [
            "\rProcesando imágenes:  53%|█████▎    | 237/448 [05:51<05:24,  1.54s/it]"
          ]
        },
        {
          "output_type": "stream",
          "name": "stdout",
          "text": [
            "✅ tile_14160_8850.png procesado y guardado como tile_14160_8850.json\n"
          ]
        },
        {
          "output_type": "stream",
          "name": "stderr",
          "text": [
            "\rProcesando imágenes:  53%|█████▎    | 238/448 [05:53<05:20,  1.53s/it]"
          ]
        },
        {
          "output_type": "stream",
          "name": "stdout",
          "text": [
            "✅ tile_14160_28320.png procesado y guardado como tile_14160_28320.json\n"
          ]
        },
        {
          "output_type": "stream",
          "name": "stderr",
          "text": [
            "\rProcesando imágenes:  53%|█████▎    | 239/448 [05:55<05:28,  1.57s/it]"
          ]
        },
        {
          "output_type": "stream",
          "name": "stdout",
          "text": [
            "✅ tile_13275_17700.png procesado y guardado como tile_13275_17700.json\n"
          ]
        },
        {
          "output_type": "stream",
          "name": "stderr",
          "text": [
            "\rProcesando imágenes:  54%|█████▎    | 240/448 [05:56<05:09,  1.49s/it]"
          ]
        },
        {
          "output_type": "stream",
          "name": "stdout",
          "text": [
            "✅ tile_14160_6195.png procesado y guardado como tile_14160_6195.json\n"
          ]
        },
        {
          "output_type": "stream",
          "name": "stderr",
          "text": [
            "\rProcesando imágenes:  54%|█████▍    | 241/448 [05:57<04:59,  1.45s/it]"
          ]
        },
        {
          "output_type": "stream",
          "name": "stdout",
          "text": [
            "✅ tile_13275_19470.png procesado y guardado como tile_13275_19470.json\n"
          ]
        },
        {
          "output_type": "stream",
          "name": "stderr",
          "text": [
            "\rProcesando imágenes:  54%|█████▍    | 242/448 [05:59<05:06,  1.49s/it]"
          ]
        },
        {
          "output_type": "stream",
          "name": "stdout",
          "text": [
            "✅ tile_15045_10620.png procesado y guardado como tile_15045_10620.json\n"
          ]
        },
        {
          "output_type": "stream",
          "name": "stderr",
          "text": [
            "\rProcesando imágenes:  54%|█████▍    | 243/448 [06:00<04:55,  1.44s/it]"
          ]
        },
        {
          "output_type": "stream",
          "name": "stdout",
          "text": [
            "✅ tile_13275_18585.png procesado y guardado como tile_13275_18585.json\n"
          ]
        },
        {
          "output_type": "stream",
          "name": "stderr",
          "text": [
            "\rProcesando imágenes:  54%|█████▍    | 244/448 [06:02<05:00,  1.47s/it]"
          ]
        },
        {
          "output_type": "stream",
          "name": "stdout",
          "text": [
            "✅ tile_14160_24780.png procesado y guardado como tile_14160_24780.json\n"
          ]
        },
        {
          "output_type": "stream",
          "name": "stderr",
          "text": [
            "\rProcesando imágenes:  55%|█████▍    | 245/448 [06:03<05:03,  1.50s/it]"
          ]
        },
        {
          "output_type": "stream",
          "name": "stdout",
          "text": [
            "✅ tile_14160_23895.png procesado y guardado como tile_14160_23895.json\n"
          ]
        },
        {
          "output_type": "stream",
          "name": "stderr",
          "text": [
            "\rProcesando imágenes:  55%|█████▍    | 246/448 [06:05<05:06,  1.52s/it]"
          ]
        },
        {
          "output_type": "stream",
          "name": "stdout",
          "text": [
            "✅ tile_14160_22125.png procesado y guardado como tile_14160_22125.json\n"
          ]
        },
        {
          "output_type": "stream",
          "name": "stderr",
          "text": [
            "\rProcesando imágenes:  55%|█████▌    | 247/448 [06:06<04:52,  1.45s/it]"
          ]
        },
        {
          "output_type": "stream",
          "name": "stdout",
          "text": [
            "✅ tile_14160_19470.png procesado y guardado como tile_14160_19470.json\n"
          ]
        },
        {
          "output_type": "stream",
          "name": "stderr",
          "text": [
            "\rProcesando imágenes:  55%|█████▌    | 248/448 [06:08<04:48,  1.44s/it]"
          ]
        },
        {
          "output_type": "stream",
          "name": "stdout",
          "text": [
            "✅ tile_14160_5310.png procesado y guardado como tile_14160_5310.json\n"
          ]
        },
        {
          "output_type": "stream",
          "name": "stderr",
          "text": [
            "\rProcesando imágenes:  56%|█████▌    | 249/448 [06:09<04:39,  1.41s/it]"
          ]
        },
        {
          "output_type": "stream",
          "name": "stdout",
          "text": [
            "✅ tile_14160_29205.png procesado y guardado como tile_14160_29205.json\n"
          ]
        },
        {
          "output_type": "stream",
          "name": "stderr",
          "text": [
            "\rProcesando imágenes:  56%|█████▌    | 250/448 [06:10<04:37,  1.40s/it]"
          ]
        },
        {
          "output_type": "stream",
          "name": "stdout",
          "text": [
            "✅ tile_13275_24780.png procesado y guardado como tile_13275_24780.json\n"
          ]
        },
        {
          "output_type": "stream",
          "name": "stderr",
          "text": [
            "\rProcesando imágenes:  56%|█████▌    | 251/448 [06:12<04:35,  1.40s/it]"
          ]
        },
        {
          "output_type": "stream",
          "name": "stdout",
          "text": [
            "✅ tile_15045_5310.png procesado y guardado como tile_15045_5310.json\n"
          ]
        },
        {
          "output_type": "stream",
          "name": "stderr",
          "text": [
            "\rProcesando imágenes:  56%|█████▋    | 252/448 [06:13<04:27,  1.36s/it]"
          ]
        },
        {
          "output_type": "stream",
          "name": "stdout",
          "text": [
            "✅ tile_13275_23010.png procesado y guardado como tile_13275_23010.json\n"
          ]
        },
        {
          "output_type": "stream",
          "name": "stderr",
          "text": [
            "\rProcesando imágenes:  56%|█████▋    | 253/448 [06:14<04:29,  1.38s/it]"
          ]
        },
        {
          "output_type": "stream",
          "name": "stdout",
          "text": [
            "✅ tile_14160_23010.png procesado y guardado como tile_14160_23010.json\n"
          ]
        },
        {
          "output_type": "stream",
          "name": "stderr",
          "text": [
            "\rProcesando imágenes:  57%|█████▋    | 254/448 [06:16<04:26,  1.37s/it]"
          ]
        },
        {
          "output_type": "stream",
          "name": "stdout",
          "text": [
            "✅ tile_13275_12390.png procesado y guardado como tile_13275_12390.json\n"
          ]
        },
        {
          "output_type": "stream",
          "name": "stderr",
          "text": [
            "\rProcesando imágenes:  57%|█████▋    | 255/448 [06:17<04:28,  1.39s/it]"
          ]
        },
        {
          "output_type": "stream",
          "name": "stdout",
          "text": [
            "✅ tile_13275_22125.png procesado y guardado como tile_13275_22125.json\n"
          ]
        },
        {
          "output_type": "stream",
          "name": "stderr",
          "text": [
            "\rProcesando imágenes:  57%|█████▋    | 256/448 [06:19<04:44,  1.48s/it]"
          ]
        },
        {
          "output_type": "stream",
          "name": "stdout",
          "text": [
            "✅ tile_13275_15930.png procesado y guardado como tile_13275_15930.json\n"
          ]
        },
        {
          "output_type": "stream",
          "name": "stderr",
          "text": [
            "\rProcesando imágenes:  57%|█████▋    | 257/448 [06:20<04:36,  1.45s/it]"
          ]
        },
        {
          "output_type": "stream",
          "name": "stdout",
          "text": [
            "✅ tile_14160_21240.png procesado y guardado como tile_14160_21240.json\n"
          ]
        },
        {
          "output_type": "stream",
          "name": "stderr",
          "text": [
            "\rProcesando imágenes:  58%|█████▊    | 258/448 [06:22<04:41,  1.48s/it]"
          ]
        },
        {
          "output_type": "stream",
          "name": "stdout",
          "text": [
            "✅ tile_13275_21240.png procesado y guardado como tile_13275_21240.json\n"
          ]
        },
        {
          "output_type": "stream",
          "name": "stderr",
          "text": [
            "\rProcesando imágenes:  58%|█████▊    | 259/448 [06:23<04:31,  1.43s/it]"
          ]
        },
        {
          "output_type": "stream",
          "name": "stdout",
          "text": [
            "✅ tile_14160_26550.png procesado y guardado como tile_14160_26550.json\n"
          ]
        },
        {
          "output_type": "stream",
          "name": "stderr",
          "text": [
            "\rProcesando imágenes:  58%|█████▊    | 260/448 [06:24<04:25,  1.41s/it]"
          ]
        },
        {
          "output_type": "stream",
          "name": "stdout",
          "text": [
            "✅ tile_13275_23895.png procesado y guardado como tile_13275_23895.json\n"
          ]
        },
        {
          "output_type": "stream",
          "name": "stderr",
          "text": [
            "\rProcesando imágenes:  58%|█████▊    | 261/448 [06:26<04:22,  1.40s/it]"
          ]
        },
        {
          "output_type": "stream",
          "name": "stdout",
          "text": [
            "✅ tile_15045_13275.png procesado y guardado como tile_15045_13275.json\n"
          ]
        },
        {
          "output_type": "stream",
          "name": "stderr",
          "text": [
            "\rProcesando imágenes:  58%|█████▊    | 262/448 [06:27<04:22,  1.41s/it]"
          ]
        },
        {
          "output_type": "stream",
          "name": "stdout",
          "text": [
            "✅ tile_14160_25665.png procesado y guardado como tile_14160_25665.json\n"
          ]
        },
        {
          "output_type": "stream",
          "name": "stderr",
          "text": [
            "\rProcesando imágenes:  59%|█████▊    | 263/448 [06:29<04:23,  1.43s/it]"
          ]
        },
        {
          "output_type": "stream",
          "name": "stdout",
          "text": [
            "✅ tile_13275_16815.png procesado y guardado como tile_13275_16815.json\n"
          ]
        },
        {
          "output_type": "stream",
          "name": "stderr",
          "text": [
            "\rProcesando imágenes:  59%|█████▉    | 264/448 [06:30<04:24,  1.44s/it]"
          ]
        },
        {
          "output_type": "stream",
          "name": "stdout",
          "text": [
            "✅ tile_14160_12390.png procesado y guardado como tile_14160_12390.json\n"
          ]
        },
        {
          "output_type": "stream",
          "name": "stderr",
          "text": [
            "\rProcesando imágenes:  59%|█████▉    | 265/448 [06:32<04:25,  1.45s/it]"
          ]
        },
        {
          "output_type": "stream",
          "name": "stdout",
          "text": [
            "✅ tile_13275_20355.png procesado y guardado como tile_13275_20355.json\n"
          ]
        },
        {
          "output_type": "stream",
          "name": "stderr",
          "text": [
            "\rProcesando imágenes:  59%|█████▉    | 266/448 [06:33<04:21,  1.44s/it]"
          ]
        },
        {
          "output_type": "stream",
          "name": "stdout",
          "text": [
            "✅ tile_14160_30090.png procesado y guardado como tile_14160_30090.json\n"
          ]
        },
        {
          "output_type": "stream",
          "name": "stderr",
          "text": [
            "\rProcesando imágenes:  60%|█████▉    | 267/448 [06:35<04:29,  1.49s/it]"
          ]
        },
        {
          "output_type": "stream",
          "name": "stdout",
          "text": [
            "✅ tile_12390_17700.png procesado y guardado como tile_12390_17700.json\n"
          ]
        },
        {
          "output_type": "stream",
          "name": "stderr",
          "text": [
            "\rProcesando imágenes:  60%|█████▉    | 268/448 [06:36<04:19,  1.44s/it]"
          ]
        },
        {
          "output_type": "stream",
          "name": "stdout",
          "text": [
            "✅ tile_13275_10620.png procesado y guardado como tile_13275_10620.json\n"
          ]
        },
        {
          "output_type": "stream",
          "name": "stderr",
          "text": [
            "\rProcesando imágenes:  60%|██████    | 269/448 [06:37<04:21,  1.46s/it]"
          ]
        },
        {
          "output_type": "stream",
          "name": "stdout",
          "text": [
            "✅ tile_14160_17700.png procesado y guardado como tile_14160_17700.json\n"
          ]
        },
        {
          "output_type": "stream",
          "name": "stderr",
          "text": [
            "\rProcesando imágenes:  60%|██████    | 270/448 [06:39<04:30,  1.52s/it]"
          ]
        },
        {
          "output_type": "stream",
          "name": "stdout",
          "text": [
            "✅ tile_13275_7080.png procesado y guardado como tile_13275_7080.json\n"
          ]
        },
        {
          "output_type": "stream",
          "name": "stderr",
          "text": [
            "\rProcesando imágenes:  60%|██████    | 271/448 [06:41<04:22,  1.49s/it]"
          ]
        },
        {
          "output_type": "stream",
          "name": "stdout",
          "text": [
            "✅ tile_12390_24780.png procesado y guardado como tile_12390_24780.json\n"
          ]
        },
        {
          "output_type": "stream",
          "name": "stderr",
          "text": [
            "\rProcesando imágenes:  61%|██████    | 272/448 [06:42<04:22,  1.49s/it]"
          ]
        },
        {
          "output_type": "stream",
          "name": "stdout",
          "text": [
            "✅ tile_12390_21240.png procesado y guardado como tile_12390_21240.json\n"
          ]
        },
        {
          "output_type": "stream",
          "name": "stderr",
          "text": [
            "\rProcesando imágenes:  61%|██████    | 273/448 [06:44<04:18,  1.48s/it]"
          ]
        },
        {
          "output_type": "stream",
          "name": "stdout",
          "text": [
            "✅ tile_12390_28320.png procesado y guardado como tile_12390_28320.json\n"
          ]
        },
        {
          "output_type": "stream",
          "name": "stderr",
          "text": [
            "\rProcesando imágenes:  61%|██████    | 274/448 [06:45<04:13,  1.46s/it]"
          ]
        },
        {
          "output_type": "stream",
          "name": "stdout",
          "text": [
            "✅ tile_13275_4425.png procesado y guardado como tile_13275_4425.json\n"
          ]
        },
        {
          "output_type": "stream",
          "name": "stderr",
          "text": [
            "\rProcesando imágenes:  61%|██████▏   | 275/448 [06:46<04:07,  1.43s/it]"
          ]
        },
        {
          "output_type": "stream",
          "name": "stdout",
          "text": [
            "✅ tile_12390_15045.png procesado y guardado como tile_12390_15045.json\n"
          ]
        },
        {
          "output_type": "stream",
          "name": "stderr",
          "text": [
            "\rProcesando imágenes:  62%|██████▏   | 276/448 [06:48<04:04,  1.42s/it]"
          ]
        },
        {
          "output_type": "stream",
          "name": "stdout",
          "text": [
            "✅ tile_12390_23895.png procesado y guardado como tile_12390_23895.json\n"
          ]
        },
        {
          "output_type": "stream",
          "name": "stderr",
          "text": [
            "\rProcesando imágenes:  62%|██████▏   | 277/448 [06:49<03:56,  1.38s/it]"
          ]
        },
        {
          "output_type": "stream",
          "name": "stdout",
          "text": [
            "✅ tile_12390_15930.png procesado y guardado como tile_12390_15930.json\n"
          ]
        },
        {
          "output_type": "stream",
          "name": "stderr",
          "text": [
            "\rProcesando imágenes:  62%|██████▏   | 278/448 [06:50<03:53,  1.37s/it]"
          ]
        },
        {
          "output_type": "stream",
          "name": "stdout",
          "text": [
            "✅ tile_14160_15045.png procesado y guardado como tile_14160_15045.json\n"
          ]
        },
        {
          "output_type": "stream",
          "name": "stderr",
          "text": [
            "\rProcesando imágenes:  62%|██████▏   | 279/448 [06:52<03:49,  1.36s/it]"
          ]
        },
        {
          "output_type": "stream",
          "name": "stdout",
          "text": [
            "✅ tile_12390_26550.png procesado y guardado como tile_12390_26550.json\n"
          ]
        },
        {
          "output_type": "stream",
          "name": "stderr",
          "text": [
            "\rProcesando imágenes:  62%|██████▎   | 280/448 [06:53<04:01,  1.44s/it]"
          ]
        },
        {
          "output_type": "stream",
          "name": "stdout",
          "text": [
            "✅ tile_13275_3540.png procesado y guardado como tile_13275_3540.json\n"
          ]
        },
        {
          "output_type": "stream",
          "name": "stderr",
          "text": [
            "\rProcesando imágenes:  63%|██████▎   | 281/448 [06:55<03:59,  1.43s/it]"
          ]
        },
        {
          "output_type": "stream",
          "name": "stdout",
          "text": [
            "✅ tile_13275_6195.png procesado y guardado como tile_13275_6195.json\n"
          ]
        },
        {
          "output_type": "stream",
          "name": "stderr",
          "text": [
            "\rProcesando imágenes:  63%|██████▎   | 282/448 [06:56<03:56,  1.43s/it]"
          ]
        },
        {
          "output_type": "stream",
          "name": "stdout",
          "text": [
            "✅ tile_12390_12390.png procesado y guardado como tile_12390_12390.json\n"
          ]
        },
        {
          "output_type": "stream",
          "name": "stderr",
          "text": [
            "\rProcesando imágenes:  63%|██████▎   | 283/448 [06:58<03:58,  1.45s/it]"
          ]
        },
        {
          "output_type": "stream",
          "name": "stdout",
          "text": [
            "✅ tile_12390_22125.png procesado y guardado como tile_12390_22125.json\n"
          ]
        },
        {
          "output_type": "stream",
          "name": "stderr",
          "text": [
            "\rProcesando imágenes:  63%|██████▎   | 284/448 [06:59<03:49,  1.40s/it]"
          ]
        },
        {
          "output_type": "stream",
          "name": "stdout",
          "text": [
            "✅ tile_14160_13275.png procesado y guardado como tile_14160_13275.json\n"
          ]
        },
        {
          "output_type": "stream",
          "name": "stderr",
          "text": [
            "\rProcesando imágenes:  64%|██████▎   | 285/448 [07:00<03:55,  1.45s/it]"
          ]
        },
        {
          "output_type": "stream",
          "name": "stdout",
          "text": [
            "✅ tile_13275_15045.png procesado y guardado como tile_13275_15045.json\n"
          ]
        },
        {
          "output_type": "stream",
          "name": "stderr",
          "text": [
            "\rProcesando imágenes:  64%|██████▍   | 286/448 [07:02<03:50,  1.42s/it]"
          ]
        },
        {
          "output_type": "stream",
          "name": "stdout",
          "text": [
            "✅ tile_13275_1770.png procesado y guardado como tile_13275_1770.json\n"
          ]
        },
        {
          "output_type": "stream",
          "name": "stderr",
          "text": [
            "\rProcesando imágenes:  64%|██████▍   | 287/448 [07:03<03:47,  1.41s/it]"
          ]
        },
        {
          "output_type": "stream",
          "name": "stdout",
          "text": [
            "✅ tile_13275_14160.png procesado y guardado como tile_13275_14160.json\n"
          ]
        },
        {
          "output_type": "stream",
          "name": "stderr",
          "text": [
            "\rProcesando imágenes:  64%|██████▍   | 288/448 [07:05<03:42,  1.39s/it]"
          ]
        },
        {
          "output_type": "stream",
          "name": "stdout",
          "text": [
            "✅ tile_12390_27435.png procesado y guardado como tile_12390_27435.json\n"
          ]
        },
        {
          "output_type": "stream",
          "name": "stderr",
          "text": [
            "\rProcesando imágenes:  65%|██████▍   | 289/448 [07:06<03:38,  1.38s/it]"
          ]
        },
        {
          "output_type": "stream",
          "name": "stdout",
          "text": [
            "✅ tile_12390_20355.png procesado y guardado como tile_12390_20355.json\n"
          ]
        },
        {
          "output_type": "stream",
          "name": "stderr",
          "text": [
            "\rProcesando imágenes:  65%|██████▍   | 290/448 [07:08<03:58,  1.51s/it]"
          ]
        },
        {
          "output_type": "stream",
          "name": "stdout",
          "text": [
            "✅ tile_13275_2655.png procesado y guardado como tile_13275_2655.json\n"
          ]
        },
        {
          "output_type": "stream",
          "name": "stderr",
          "text": [
            "\rProcesando imágenes:  65%|██████▍   | 291/448 [07:09<03:58,  1.52s/it]"
          ]
        },
        {
          "output_type": "stream",
          "name": "stdout",
          "text": [
            "✅ tile_12390_14160.png procesado y guardado como tile_12390_14160.json\n"
          ]
        },
        {
          "output_type": "stream",
          "name": "stderr",
          "text": [
            "\rProcesando imágenes:  65%|██████▌   | 292/448 [07:11<04:03,  1.56s/it]"
          ]
        },
        {
          "output_type": "stream",
          "name": "stdout",
          "text": [
            "✅ tile_13275_9735.png procesado y guardado como tile_13275_9735.json\n"
          ]
        },
        {
          "output_type": "stream",
          "name": "stderr",
          "text": [
            "\rProcesando imágenes:  65%|██████▌   | 293/448 [07:12<03:51,  1.49s/it]"
          ]
        },
        {
          "output_type": "stream",
          "name": "stdout",
          "text": [
            "✅ tile_14160_18585.png procesado y guardado como tile_14160_18585.json\n"
          ]
        },
        {
          "output_type": "stream",
          "name": "stderr",
          "text": [
            "\rProcesando imágenes:  66%|██████▌   | 294/448 [07:14<03:47,  1.48s/it]"
          ]
        },
        {
          "output_type": "stream",
          "name": "stdout",
          "text": [
            "✅ tile_12390_25665.png procesado y guardado como tile_12390_25665.json\n"
          ]
        },
        {
          "output_type": "stream",
          "name": "stderr",
          "text": [
            "\rProcesando imágenes:  66%|██████▌   | 295/448 [07:15<03:36,  1.41s/it]"
          ]
        },
        {
          "output_type": "stream",
          "name": "stdout",
          "text": [
            "🔔 Sin cajas válidas para tile_13275_13275.png. Saltando...\n"
          ]
        },
        {
          "output_type": "stream",
          "name": "stderr",
          "text": [
            "\rProcesando imágenes:  66%|██████▌   | 296/448 [07:16<03:36,  1.43s/it]"
          ]
        },
        {
          "output_type": "stream",
          "name": "stdout",
          "text": [
            "✅ tile_14160_15930.png procesado y guardado como tile_14160_15930.json\n"
          ]
        },
        {
          "output_type": "stream",
          "name": "stderr",
          "text": [
            "\rProcesando imágenes:  66%|██████▋   | 297/448 [07:18<03:39,  1.45s/it]"
          ]
        },
        {
          "output_type": "stream",
          "name": "stdout",
          "text": [
            "✅ tile_12390_18585.png procesado y guardado como tile_12390_18585.json\n"
          ]
        },
        {
          "output_type": "stream",
          "name": "stderr",
          "text": [
            "\rProcesando imágenes:  67%|██████▋   | 298/448 [07:19<03:40,  1.47s/it]"
          ]
        },
        {
          "output_type": "stream",
          "name": "stdout",
          "text": [
            "✅ tile_13275_5310.png procesado y guardado como tile_13275_5310.json\n"
          ]
        },
        {
          "output_type": "stream",
          "name": "stderr",
          "text": [
            "\rProcesando imágenes:  67%|██████▋   | 299/448 [07:21<03:41,  1.49s/it]"
          ]
        },
        {
          "output_type": "stream",
          "name": "stdout",
          "text": [
            "✅ tile_13275_8850.png procesado y guardado como tile_13275_8850.json\n"
          ]
        },
        {
          "output_type": "stream",
          "name": "stderr",
          "text": [
            "\rProcesando imágenes:  67%|██████▋   | 300/448 [07:22<03:33,  1.44s/it]"
          ]
        },
        {
          "output_type": "stream",
          "name": "stdout",
          "text": [
            "✅ tile_13275_11505.png procesado y guardado como tile_13275_11505.json\n"
          ]
        },
        {
          "output_type": "stream",
          "name": "stderr",
          "text": [
            "\rProcesando imágenes:  67%|██████▋   | 301/448 [07:24<03:29,  1.43s/it]"
          ]
        },
        {
          "output_type": "stream",
          "name": "stdout",
          "text": [
            "✅ tile_11505_8850.png procesado y guardado como tile_11505_8850.json\n"
          ]
        },
        {
          "output_type": "stream",
          "name": "stderr",
          "text": [
            "\rProcesando imágenes:  67%|██████▋   | 302/448 [07:25<03:24,  1.40s/it]"
          ]
        },
        {
          "output_type": "stream",
          "name": "stdout",
          "text": [
            "✅ tile_12390_885.png procesado y guardado como tile_12390_885.json\n"
          ]
        },
        {
          "output_type": "stream",
          "name": "stderr",
          "text": [
            "\rProcesando imágenes:  68%|██████▊   | 303/448 [07:26<03:20,  1.38s/it]"
          ]
        },
        {
          "output_type": "stream",
          "name": "stdout",
          "text": [
            "✅ tile_11505_23895.png procesado y guardado como tile_11505_23895.json\n"
          ]
        },
        {
          "output_type": "stream",
          "name": "stderr",
          "text": [
            "\rProcesando imágenes:  68%|██████▊   | 304/448 [07:28<03:20,  1.39s/it]"
          ]
        },
        {
          "output_type": "stream",
          "name": "stdout",
          "text": [
            "✅ tile_11505_19470.png procesado y guardado como tile_11505_19470.json\n"
          ]
        },
        {
          "output_type": "stream",
          "name": "stderr",
          "text": [
            "\rProcesando imágenes:  68%|██████▊   | 305/448 [07:29<03:16,  1.37s/it]"
          ]
        },
        {
          "output_type": "stream",
          "name": "stdout",
          "text": [
            "✅ tile_12390_13275.png procesado y guardado como tile_12390_13275.json\n"
          ]
        },
        {
          "output_type": "stream",
          "name": "stderr",
          "text": [
            "\rProcesando imágenes:  68%|██████▊   | 306/448 [07:31<03:17,  1.39s/it]"
          ]
        },
        {
          "output_type": "stream",
          "name": "stdout",
          "text": [
            "✅ tile_11505_23010.png procesado y guardado como tile_11505_23010.json\n"
          ]
        },
        {
          "output_type": "stream",
          "name": "stderr",
          "text": [
            "\rProcesando imágenes:  69%|██████▊   | 307/448 [07:32<03:16,  1.39s/it]"
          ]
        },
        {
          "output_type": "stream",
          "name": "stdout",
          "text": [
            "✅ tile_12390_11505.png procesado y guardado como tile_12390_11505.json\n"
          ]
        },
        {
          "output_type": "stream",
          "name": "stderr",
          "text": [
            "\rProcesando imágenes:  69%|██████▉   | 308/448 [07:33<03:11,  1.37s/it]"
          ]
        },
        {
          "output_type": "stream",
          "name": "stdout",
          "text": [
            "✅ tile_12390_10620.png procesado y guardado como tile_12390_10620.json\n"
          ]
        },
        {
          "output_type": "stream",
          "name": "stderr",
          "text": [
            "\rProcesando imágenes:  69%|██████▉   | 309/448 [07:35<03:18,  1.43s/it]"
          ]
        },
        {
          "output_type": "stream",
          "name": "stdout",
          "text": [
            "✅ tile_12390_16815.png procesado y guardado como tile_12390_16815.json\n"
          ]
        },
        {
          "output_type": "stream",
          "name": "stderr",
          "text": [
            "\rProcesando imágenes:  69%|██████▉   | 310/448 [07:36<03:17,  1.43s/it]"
          ]
        },
        {
          "output_type": "stream",
          "name": "stdout",
          "text": [
            "✅ tile_12390_23010.png procesado y guardado como tile_12390_23010.json\n"
          ]
        },
        {
          "output_type": "stream",
          "name": "stderr",
          "text": [
            "\rProcesando imágenes:  69%|██████▉   | 311/448 [07:38<03:10,  1.39s/it]"
          ]
        },
        {
          "output_type": "stream",
          "name": "stdout",
          "text": [
            "✅ tile_11505_26550.png procesado y guardado como tile_11505_26550.json\n"
          ]
        },
        {
          "output_type": "stream",
          "name": "stderr",
          "text": [
            "\rProcesando imágenes:  70%|██████▉   | 312/448 [07:39<03:06,  1.37s/it]"
          ]
        },
        {
          "output_type": "stream",
          "name": "stdout",
          "text": [
            "✅ tile_12390_3540.png procesado y guardado como tile_12390_3540.json\n"
          ]
        },
        {
          "output_type": "stream",
          "name": "stderr",
          "text": [
            "\rProcesando imágenes:  70%|██████▉   | 313/448 [07:40<03:10,  1.41s/it]"
          ]
        },
        {
          "output_type": "stream",
          "name": "stdout",
          "text": [
            "✅ tile_11505_14160.png procesado y guardado como tile_11505_14160.json\n"
          ]
        },
        {
          "output_type": "stream",
          "name": "stderr",
          "text": [
            "\rProcesando imágenes:  70%|███████   | 314/448 [07:42<03:14,  1.45s/it]"
          ]
        },
        {
          "output_type": "stream",
          "name": "stdout",
          "text": [
            "✅ tile_11505_18585.png procesado y guardado como tile_11505_18585.json\n"
          ]
        },
        {
          "output_type": "stream",
          "name": "stderr",
          "text": [
            "\rProcesando imágenes:  70%|███████   | 315/448 [07:43<03:09,  1.42s/it]"
          ]
        },
        {
          "output_type": "stream",
          "name": "stdout",
          "text": [
            "✅ tile_11505_885.png procesado y guardado como tile_11505_885.json\n"
          ]
        },
        {
          "output_type": "stream",
          "name": "stderr",
          "text": [
            "\rProcesando imágenes:  71%|███████   | 316/448 [07:45<03:07,  1.42s/it]"
          ]
        },
        {
          "output_type": "stream",
          "name": "stdout",
          "text": [
            "✅ tile_11505_11505.png procesado y guardado como tile_11505_11505.json\n"
          ]
        },
        {
          "output_type": "stream",
          "name": "stderr",
          "text": [
            "\rProcesando imágenes:  71%|███████   | 317/448 [07:46<03:04,  1.41s/it]"
          ]
        },
        {
          "output_type": "stream",
          "name": "stdout",
          "text": [
            "✅ tile_12390_1770.png procesado y guardado como tile_12390_1770.json\n"
          ]
        },
        {
          "output_type": "stream",
          "name": "stderr",
          "text": [
            "\rProcesando imágenes:  71%|███████   | 318/448 [07:48<03:06,  1.43s/it]"
          ]
        },
        {
          "output_type": "stream",
          "name": "stdout",
          "text": [
            "✅ tile_10620_25665.png procesado y guardado como tile_10620_25665.json\n"
          ]
        },
        {
          "output_type": "stream",
          "name": "stderr",
          "text": [
            "\rProcesando imágenes:  71%|███████   | 319/448 [07:49<03:09,  1.47s/it]"
          ]
        },
        {
          "output_type": "stream",
          "name": "stdout",
          "text": [
            "✅ tile_12390_7965.png procesado y guardado como tile_12390_7965.json\n"
          ]
        },
        {
          "output_type": "stream",
          "name": "stderr",
          "text": [
            "\rProcesando imágenes:  71%|███████▏  | 320/448 [07:51<03:05,  1.45s/it]"
          ]
        },
        {
          "output_type": "stream",
          "name": "stdout",
          "text": [
            "✅ tile_11505_24780.png procesado y guardado como tile_11505_24780.json\n"
          ]
        },
        {
          "output_type": "stream",
          "name": "stderr",
          "text": [
            "\rProcesando imágenes:  72%|███████▏  | 321/448 [07:52<02:58,  1.41s/it]"
          ]
        },
        {
          "output_type": "stream",
          "name": "stdout",
          "text": [
            "✅ tile_11505_15930.png procesado y guardado como tile_11505_15930.json\n"
          ]
        },
        {
          "output_type": "stream",
          "name": "stderr",
          "text": [
            "\rProcesando imágenes:  72%|███████▏  | 322/448 [07:53<02:57,  1.41s/it]"
          ]
        },
        {
          "output_type": "stream",
          "name": "stdout",
          "text": [
            "✅ tile_12390_4425.png procesado y guardado como tile_12390_4425.json\n"
          ]
        },
        {
          "output_type": "stream",
          "name": "stderr",
          "text": [
            "\rProcesando imágenes:  72%|███████▏  | 323/448 [07:55<02:52,  1.38s/it]"
          ]
        },
        {
          "output_type": "stream",
          "name": "stdout",
          "text": [
            "✅ tile_10620_21240.png procesado y guardado como tile_10620_21240.json\n"
          ]
        },
        {
          "output_type": "stream",
          "name": "stderr",
          "text": [
            "\rProcesando imágenes:  72%|███████▏  | 324/448 [07:56<02:54,  1.41s/it]"
          ]
        },
        {
          "output_type": "stream",
          "name": "stdout",
          "text": [
            "✅ tile_14160_14160.png procesado y guardado como tile_14160_14160.json\n"
          ]
        },
        {
          "output_type": "stream",
          "name": "stderr",
          "text": [
            "\rProcesando imágenes:  73%|███████▎  | 325/448 [07:58<02:57,  1.44s/it]"
          ]
        },
        {
          "output_type": "stream",
          "name": "stdout",
          "text": [
            "✅ tile_11505_25665.png procesado y guardado como tile_11505_25665.json\n"
          ]
        },
        {
          "output_type": "stream",
          "name": "stderr",
          "text": [
            "\rProcesando imágenes:  73%|███████▎  | 326/448 [07:59<02:59,  1.47s/it]"
          ]
        },
        {
          "output_type": "stream",
          "name": "stdout",
          "text": [
            "✅ tile_12390_8850.png procesado y guardado como tile_12390_8850.json\n"
          ]
        },
        {
          "output_type": "stream",
          "name": "stderr",
          "text": [
            "\rProcesando imágenes:  73%|███████▎  | 327/448 [08:01<03:04,  1.52s/it]"
          ]
        },
        {
          "output_type": "stream",
          "name": "stdout",
          "text": [
            "✅ tile_11505_7080.png procesado y guardado como tile_11505_7080.json\n"
          ]
        },
        {
          "output_type": "stream",
          "name": "stderr",
          "text": [
            "\rProcesando imágenes:  73%|███████▎  | 328/448 [08:02<03:06,  1.56s/it]"
          ]
        },
        {
          "output_type": "stream",
          "name": "stdout",
          "text": [
            "✅ tile_12390_5310.png procesado y guardado como tile_12390_5310.json\n"
          ]
        },
        {
          "output_type": "stream",
          "name": "stderr",
          "text": [
            "\rProcesando imágenes:  73%|███████▎  | 329/448 [08:04<03:01,  1.53s/it]"
          ]
        },
        {
          "output_type": "stream",
          "name": "stdout",
          "text": [
            "✅ tile_11505_16815.png procesado y guardado como tile_11505_16815.json\n"
          ]
        },
        {
          "output_type": "stream",
          "name": "stderr",
          "text": [
            "\rProcesando imágenes:  74%|███████▎  | 330/448 [08:05<02:58,  1.51s/it]"
          ]
        },
        {
          "output_type": "stream",
          "name": "stdout",
          "text": [
            "✅ tile_11505_13275.png procesado y guardado como tile_11505_13275.json\n"
          ]
        },
        {
          "output_type": "stream",
          "name": "stderr",
          "text": [
            "\rProcesando imágenes:  74%|███████▍  | 331/448 [08:07<02:54,  1.49s/it]"
          ]
        },
        {
          "output_type": "stream",
          "name": "stdout",
          "text": [
            "✅ tile_12390_2655.png procesado y guardado como tile_12390_2655.json\n"
          ]
        },
        {
          "output_type": "stream",
          "name": "stderr",
          "text": [
            "\rProcesando imágenes:  74%|███████▍  | 332/448 [08:08<02:48,  1.46s/it]"
          ]
        },
        {
          "output_type": "stream",
          "name": "stdout",
          "text": [
            "✅ tile_12390_6195.png procesado y guardado como tile_12390_6195.json\n"
          ]
        },
        {
          "output_type": "stream",
          "name": "stderr",
          "text": [
            "\rProcesando imágenes:  74%|███████▍  | 333/448 [08:10<02:53,  1.51s/it]"
          ]
        },
        {
          "output_type": "stream",
          "name": "stdout",
          "text": [
            "✅ tile_11505_2655.png procesado y guardado como tile_11505_2655.json\n"
          ]
        },
        {
          "output_type": "stream",
          "name": "stderr",
          "text": [
            "\rProcesando imágenes:  75%|███████▍  | 334/448 [08:11<02:49,  1.49s/it]"
          ]
        },
        {
          "output_type": "stream",
          "name": "stdout",
          "text": [
            "✅ tile_11505_6195.png procesado y guardado como tile_11505_6195.json\n"
          ]
        },
        {
          "output_type": "stream",
          "name": "stderr",
          "text": [
            "\rProcesando imágenes:  75%|███████▍  | 335/448 [08:13<02:44,  1.46s/it]"
          ]
        },
        {
          "output_type": "stream",
          "name": "stdout",
          "text": [
            "✅ tile_12390_7080.png procesado y guardado como tile_12390_7080.json\n"
          ]
        },
        {
          "output_type": "stream",
          "name": "stderr",
          "text": [
            "\rProcesando imágenes:  75%|███████▌  | 336/448 [08:14<02:38,  1.42s/it]"
          ]
        },
        {
          "output_type": "stream",
          "name": "stdout",
          "text": [
            "✅ tile_11505_17700.png procesado y guardado como tile_11505_17700.json\n"
          ]
        },
        {
          "output_type": "stream",
          "name": "stderr",
          "text": [
            "\rProcesando imágenes:  75%|███████▌  | 337/448 [08:15<02:39,  1.44s/it]"
          ]
        },
        {
          "output_type": "stream",
          "name": "stdout",
          "text": [
            "✅ tile_11505_7965.png procesado y guardado como tile_11505_7965.json\n"
          ]
        },
        {
          "output_type": "stream",
          "name": "stderr",
          "text": [
            "\rProcesando imágenes:  75%|███████▌  | 338/448 [08:17<02:35,  1.41s/it]"
          ]
        },
        {
          "output_type": "stream",
          "name": "stdout",
          "text": [
            "✅ tile_8850_21240.png procesado y guardado como tile_8850_21240.json\n"
          ]
        },
        {
          "output_type": "stream",
          "name": "stderr",
          "text": [
            "\rProcesando imágenes:  76%|███████▌  | 339/448 [08:18<02:35,  1.43s/it]"
          ]
        },
        {
          "output_type": "stream",
          "name": "stdout",
          "text": [
            "✅ tile_11505_5310.png procesado y guardado como tile_11505_5310.json\n"
          ]
        },
        {
          "output_type": "stream",
          "name": "stderr",
          "text": [
            "\rProcesando imágenes:  76%|███████▌  | 340/448 [08:20<02:39,  1.48s/it]"
          ]
        },
        {
          "output_type": "stream",
          "name": "stdout",
          "text": [
            "✅ tile_10620_23010.png procesado y guardado como tile_10620_23010.json\n"
          ]
        },
        {
          "output_type": "stream",
          "name": "stderr",
          "text": [
            "\rProcesando imágenes:  76%|███████▌  | 341/448 [08:21<02:33,  1.44s/it]"
          ]
        },
        {
          "output_type": "stream",
          "name": "stdout",
          "text": [
            "✅ tile_9735_14160.png procesado y guardado como tile_9735_14160.json\n"
          ]
        },
        {
          "output_type": "stream",
          "name": "stderr",
          "text": [
            "\rProcesando imágenes:  76%|███████▋  | 342/448 [08:23<02:31,  1.43s/it]"
          ]
        },
        {
          "output_type": "stream",
          "name": "stdout",
          "text": [
            "✅ tile_10620_18585.png procesado y guardado como tile_10620_18585.json\n"
          ]
        },
        {
          "output_type": "stream",
          "name": "stderr",
          "text": [
            "\rProcesando imágenes:  77%|███████▋  | 343/448 [08:24<02:28,  1.42s/it]"
          ]
        },
        {
          "output_type": "stream",
          "name": "stdout",
          "text": [
            "✅ tile_8850_16815.png procesado y guardado como tile_8850_16815.json\n"
          ]
        },
        {
          "output_type": "stream",
          "name": "stderr",
          "text": [
            "\rProcesando imágenes:  77%|███████▋  | 344/448 [08:25<02:24,  1.39s/it]"
          ]
        },
        {
          "output_type": "stream",
          "name": "stdout",
          "text": [
            "✅ tile_9735_23895.png procesado y guardado como tile_9735_23895.json\n"
          ]
        },
        {
          "output_type": "stream",
          "name": "stderr",
          "text": [
            "\rProcesando imágenes:  77%|███████▋  | 345/448 [08:27<02:24,  1.41s/it]"
          ]
        },
        {
          "output_type": "stream",
          "name": "stdout",
          "text": [
            "✅ tile_9735_17700.png procesado y guardado como tile_9735_17700.json\n"
          ]
        },
        {
          "output_type": "stream",
          "name": "stderr",
          "text": [
            "\rProcesando imágenes:  77%|███████▋  | 346/448 [08:28<02:29,  1.47s/it]"
          ]
        },
        {
          "output_type": "stream",
          "name": "stdout",
          "text": [
            "✅ tile_10620_15930.png procesado y guardado como tile_10620_15930.json\n"
          ]
        },
        {
          "output_type": "stream",
          "name": "stderr",
          "text": [
            "\rProcesando imágenes:  77%|███████▋  | 347/448 [08:30<02:23,  1.42s/it]"
          ]
        },
        {
          "output_type": "stream",
          "name": "stdout",
          "text": [
            "✅ tile_10620_16815.png procesado y guardado como tile_10620_16815.json\n"
          ]
        },
        {
          "output_type": "stream",
          "name": "stderr",
          "text": [
            "\rProcesando imágenes:  78%|███████▊  | 348/448 [08:31<02:21,  1.42s/it]"
          ]
        },
        {
          "output_type": "stream",
          "name": "stdout",
          "text": [
            "✅ tile_10620_15045.png procesado y guardado como tile_10620_15045.json\n"
          ]
        },
        {
          "output_type": "stream",
          "name": "stderr",
          "text": [
            "\rProcesando imágenes:  78%|███████▊  | 349/448 [08:33<02:21,  1.43s/it]"
          ]
        },
        {
          "output_type": "stream",
          "name": "stdout",
          "text": [
            "✅ tile_10620_24780.png procesado y guardado como tile_10620_24780.json\n"
          ]
        },
        {
          "output_type": "stream",
          "name": "stderr",
          "text": [
            "\rProcesando imágenes:  78%|███████▊  | 350/448 [08:34<02:17,  1.40s/it]"
          ]
        },
        {
          "output_type": "stream",
          "name": "stdout",
          "text": [
            "✅ tile_10620_19470.png procesado y guardado como tile_10620_19470.json\n"
          ]
        },
        {
          "output_type": "stream",
          "name": "stderr",
          "text": [
            "\rProcesando imágenes:  78%|███████▊  | 351/448 [08:35<02:19,  1.44s/it]"
          ]
        },
        {
          "output_type": "stream",
          "name": "stdout",
          "text": [
            "✅ tile_11505_3540.png procesado y guardado como tile_11505_3540.json\n"
          ]
        },
        {
          "output_type": "stream",
          "name": "stderr",
          "text": [
            "\rProcesando imágenes:  79%|███████▊  | 352/448 [08:37<02:16,  1.42s/it]"
          ]
        },
        {
          "output_type": "stream",
          "name": "stdout",
          "text": [
            "✅ tile_10620_26550.png procesado y guardado como tile_10620_26550.json\n"
          ]
        },
        {
          "output_type": "stream",
          "name": "stderr",
          "text": [
            "\rProcesando imágenes:  79%|███████▉  | 353/448 [08:38<02:20,  1.48s/it]"
          ]
        },
        {
          "output_type": "stream",
          "name": "stdout",
          "text": [
            "✅ tile_11505_4425.png procesado y guardado como tile_11505_4425.json\n"
          ]
        },
        {
          "output_type": "stream",
          "name": "stderr",
          "text": [
            "\rProcesando imágenes:  79%|███████▉  | 354/448 [08:40<02:14,  1.43s/it]"
          ]
        },
        {
          "output_type": "stream",
          "name": "stdout",
          "text": [
            "✅ tile_9735_25665.png procesado y guardado como tile_9735_25665.json\n"
          ]
        },
        {
          "output_type": "stream",
          "name": "stderr",
          "text": [
            "\rProcesando imágenes:  79%|███████▉  | 355/448 [08:41<02:11,  1.41s/it]"
          ]
        },
        {
          "output_type": "stream",
          "name": "stdout",
          "text": [
            "✅ tile_9735_15930.png procesado y guardado como tile_9735_15930.json\n"
          ]
        },
        {
          "output_type": "stream",
          "name": "stderr",
          "text": [
            "\rProcesando imágenes:  79%|███████▉  | 356/448 [08:42<02:08,  1.40s/it]"
          ]
        },
        {
          "output_type": "stream",
          "name": "stdout",
          "text": [
            "✅ tile_8850_15045.png procesado y guardado como tile_8850_15045.json\n"
          ]
        },
        {
          "output_type": "stream",
          "name": "stderr",
          "text": [
            "\rProcesando imágenes:  80%|███████▉  | 357/448 [08:44<02:05,  1.38s/it]"
          ]
        },
        {
          "output_type": "stream",
          "name": "stdout",
          "text": [
            "✅ tile_9735_5310.png procesado y guardado como tile_9735_5310.json\n"
          ]
        },
        {
          "output_type": "stream",
          "name": "stderr",
          "text": [
            "\rProcesando imágenes:  80%|███████▉  | 358/448 [08:45<02:02,  1.36s/it]"
          ]
        },
        {
          "output_type": "stream",
          "name": "stdout",
          "text": [
            "✅ tile_13275_7965.png procesado y guardado como tile_13275_7965.json\n"
          ]
        },
        {
          "output_type": "stream",
          "name": "stderr",
          "text": [
            "\rProcesando imágenes:  80%|████████  | 359/448 [08:47<02:11,  1.47s/it]"
          ]
        },
        {
          "output_type": "stream",
          "name": "stdout",
          "text": [
            "✅ tile_8850_26550.png procesado y guardado como tile_8850_26550.json\n"
          ]
        },
        {
          "output_type": "stream",
          "name": "stderr",
          "text": [
            "\rProcesando imágenes:  80%|████████  | 360/448 [08:48<02:05,  1.42s/it]"
          ]
        },
        {
          "output_type": "stream",
          "name": "stdout",
          "text": [
            "✅ tile_10620_2655.png procesado y guardado como tile_10620_2655.json\n"
          ]
        },
        {
          "output_type": "stream",
          "name": "stderr",
          "text": [
            "\rProcesando imágenes:  81%|████████  | 361/448 [08:49<02:02,  1.41s/it]"
          ]
        },
        {
          "output_type": "stream",
          "name": "stdout",
          "text": [
            "✅ tile_9735_15045.png procesado y guardado como tile_9735_15045.json\n"
          ]
        },
        {
          "output_type": "stream",
          "name": "stderr",
          "text": [
            "\rProcesando imágenes:  81%|████████  | 362/448 [08:51<02:02,  1.43s/it]"
          ]
        },
        {
          "output_type": "stream",
          "name": "stdout",
          "text": [
            "✅ tile_8850_23895.png procesado y guardado como tile_8850_23895.json\n"
          ]
        },
        {
          "output_type": "stream",
          "name": "stderr",
          "text": [
            "\rProcesando imágenes:  81%|████████  | 363/448 [08:52<01:59,  1.41s/it]"
          ]
        },
        {
          "output_type": "stream",
          "name": "stdout",
          "text": [
            "✅ tile_10620_14160.png procesado y guardado como tile_10620_14160.json\n"
          ]
        },
        {
          "output_type": "stream",
          "name": "stderr",
          "text": [
            "\rProcesando imágenes:  81%|████████▏ | 364/448 [08:54<02:04,  1.48s/it]"
          ]
        },
        {
          "output_type": "stream",
          "name": "stdout",
          "text": [
            "✅ tile_10620_885.png procesado y guardado como tile_10620_885.json\n"
          ]
        },
        {
          "output_type": "stream",
          "name": "stderr",
          "text": [
            "\rProcesando imágenes:  81%|████████▏ | 365/448 [08:55<02:03,  1.49s/it]"
          ]
        },
        {
          "output_type": "stream",
          "name": "stdout",
          "text": [
            "✅ tile_9735_0.png procesado y guardado como tile_9735_0.json\n"
          ]
        },
        {
          "output_type": "stream",
          "name": "stderr",
          "text": [
            "\rProcesando imágenes:  82%|████████▏ | 366/448 [08:57<02:06,  1.54s/it]"
          ]
        },
        {
          "output_type": "stream",
          "name": "stdout",
          "text": [
            "✅ tile_9735_1770.png procesado y guardado como tile_9735_1770.json\n"
          ]
        },
        {
          "output_type": "stream",
          "name": "stderr",
          "text": [
            "\rProcesando imágenes:  82%|████████▏ | 367/448 [08:58<01:59,  1.47s/it]"
          ]
        },
        {
          "output_type": "stream",
          "name": "stdout",
          "text": [
            "✅ tile_10620_5310.png procesado y guardado como tile_10620_5310.json\n"
          ]
        },
        {
          "output_type": "stream",
          "name": "stderr",
          "text": [
            "\rProcesando imágenes:  82%|████████▏ | 368/448 [09:00<01:58,  1.48s/it]"
          ]
        },
        {
          "output_type": "stream",
          "name": "stdout",
          "text": [
            "✅ tile_11505_10620.png procesado y guardado como tile_11505_10620.json\n"
          ]
        },
        {
          "output_type": "stream",
          "name": "stderr",
          "text": [
            "\rProcesando imágenes:  82%|████████▏ | 369/448 [09:01<01:53,  1.44s/it]"
          ]
        },
        {
          "output_type": "stream",
          "name": "stdout",
          "text": [
            "✅ tile_10620_13275.png procesado y guardado como tile_10620_13275.json\n"
          ]
        },
        {
          "output_type": "stream",
          "name": "stderr",
          "text": [
            "\rProcesando imágenes:  83%|████████▎ | 370/448 [09:03<01:53,  1.45s/it]"
          ]
        },
        {
          "output_type": "stream",
          "name": "stdout",
          "text": [
            "✅ tile_9735_20355.png procesado y guardado como tile_9735_20355.json\n"
          ]
        },
        {
          "output_type": "stream",
          "name": "stderr",
          "text": [
            "\rProcesando imágenes:  83%|████████▎ | 371/448 [09:04<01:49,  1.42s/it]"
          ]
        },
        {
          "output_type": "stream",
          "name": "stdout",
          "text": [
            "✅ tile_9735_21240.png procesado y guardado como tile_9735_21240.json\n"
          ]
        },
        {
          "output_type": "stream",
          "name": "stderr",
          "text": [
            "\rProcesando imágenes:  83%|████████▎ | 372/448 [09:06<01:53,  1.49s/it]"
          ]
        },
        {
          "output_type": "stream",
          "name": "stdout",
          "text": [
            "✅ tile_9735_26550.png procesado y guardado como tile_9735_26550.json\n"
          ]
        },
        {
          "output_type": "stream",
          "name": "stderr",
          "text": [
            "\rProcesando imágenes:  83%|████████▎ | 373/448 [09:07<01:47,  1.44s/it]"
          ]
        },
        {
          "output_type": "stream",
          "name": "stdout",
          "text": [
            "🔔 Sin cajas válidas para tile_10620_4425.png. Saltando...\n"
          ]
        },
        {
          "output_type": "stream",
          "name": "stderr",
          "text": [
            "\rProcesando imágenes:  83%|████████▎ | 374/448 [09:09<01:45,  1.43s/it]"
          ]
        },
        {
          "output_type": "stream",
          "name": "stdout",
          "text": [
            "✅ tile_9735_16815.png procesado y guardado como tile_9735_16815.json\n"
          ]
        },
        {
          "output_type": "stream",
          "name": "stderr",
          "text": [
            "\rProcesando imágenes:  84%|████████▎ | 375/448 [09:10<01:47,  1.48s/it]"
          ]
        },
        {
          "output_type": "stream",
          "name": "stdout",
          "text": [
            "✅ tile_10620_0.png procesado y guardado como tile_10620_0.json\n"
          ]
        },
        {
          "output_type": "stream",
          "name": "stderr",
          "text": [
            "\rProcesando imágenes:  84%|████████▍ | 376/448 [09:11<01:44,  1.45s/it]"
          ]
        },
        {
          "output_type": "stream",
          "name": "stdout",
          "text": [
            "✅ tile_8850_24780.png procesado y guardado como tile_8850_24780.json\n"
          ]
        },
        {
          "output_type": "stream",
          "name": "stderr",
          "text": [
            "\rProcesando imágenes:  84%|████████▍ | 377/448 [09:13<01:41,  1.43s/it]"
          ]
        },
        {
          "output_type": "stream",
          "name": "stdout",
          "text": [
            "✅ tile_10620_3540.png procesado y guardado como tile_10620_3540.json\n"
          ]
        },
        {
          "output_type": "stream",
          "name": "stderr",
          "text": [
            "\rProcesando imágenes:  84%|████████▍ | 378/448 [09:14<01:42,  1.46s/it]"
          ]
        },
        {
          "output_type": "stream",
          "name": "stdout",
          "text": [
            "✅ tile_8850_0.png procesado y guardado como tile_8850_0.json\n"
          ]
        },
        {
          "output_type": "stream",
          "name": "stderr",
          "text": [
            "\rProcesando imágenes:  85%|████████▍ | 379/448 [09:16<01:40,  1.45s/it]"
          ]
        },
        {
          "output_type": "stream",
          "name": "stdout",
          "text": [
            "✅ tile_8850_4425.png procesado y guardado como tile_8850_4425.json\n"
          ]
        },
        {
          "output_type": "stream",
          "name": "stderr",
          "text": [
            "\rProcesando imágenes:  85%|████████▍ | 380/448 [09:17<01:41,  1.50s/it]"
          ]
        },
        {
          "output_type": "stream",
          "name": "stdout",
          "text": [
            "✅ tile_14160_10620.png procesado y guardado como tile_14160_10620.json\n"
          ]
        },
        {
          "output_type": "stream",
          "name": "stderr",
          "text": [
            "\rProcesando imágenes:  85%|████████▌ | 381/448 [09:19<01:39,  1.48s/it]"
          ]
        },
        {
          "output_type": "stream",
          "name": "stdout",
          "text": [
            "✅ tile_9735_4425.png procesado y guardado como tile_9735_4425.json\n"
          ]
        },
        {
          "output_type": "stream",
          "name": "stderr",
          "text": [
            "\rProcesando imágenes:  85%|████████▌ | 382/448 [09:20<01:35,  1.44s/it]"
          ]
        },
        {
          "output_type": "stream",
          "name": "stdout",
          "text": [
            "✅ tile_7080_7080.png procesado y guardado como tile_7080_7080.json\n"
          ]
        },
        {
          "output_type": "stream",
          "name": "stderr",
          "text": [
            "\rProcesando imágenes:  85%|████████▌ | 383/448 [09:22<01:31,  1.41s/it]"
          ]
        },
        {
          "output_type": "stream",
          "name": "stdout",
          "text": [
            "✅ tile_7965_17700.png procesado y guardado como tile_7965_17700.json\n"
          ]
        },
        {
          "output_type": "stream",
          "name": "stderr",
          "text": [
            "\rProcesando imágenes:  86%|████████▌ | 384/448 [09:23<01:29,  1.40s/it]"
          ]
        },
        {
          "output_type": "stream",
          "name": "stdout",
          "text": [
            "✅ tile_9735_19470.png procesado y guardado como tile_9735_19470.json\n"
          ]
        },
        {
          "output_type": "stream",
          "name": "stderr",
          "text": [
            "\rProcesando imágenes:  86%|████████▌ | 385/448 [09:24<01:27,  1.40s/it]"
          ]
        },
        {
          "output_type": "stream",
          "name": "stdout",
          "text": [
            "✅ tile_10620_20355.png procesado y guardado como tile_10620_20355.json\n"
          ]
        },
        {
          "output_type": "stream",
          "name": "stderr",
          "text": [
            "\rProcesando imágenes:  86%|████████▌ | 386/448 [09:26<01:26,  1.39s/it]"
          ]
        },
        {
          "output_type": "stream",
          "name": "stdout",
          "text": [
            "✅ tile_4425_10620.png procesado y guardado como tile_4425_10620.json\n"
          ]
        },
        {
          "output_type": "stream",
          "name": "stderr",
          "text": [
            "\rProcesando imágenes:  86%|████████▋ | 387/448 [09:27<01:27,  1.44s/it]"
          ]
        },
        {
          "output_type": "stream",
          "name": "stdout",
          "text": [
            "✅ tile_8850_885.png procesado y guardado como tile_8850_885.json\n"
          ]
        },
        {
          "output_type": "stream",
          "name": "stderr",
          "text": [
            "\rProcesando imágenes:  87%|████████▋ | 388/448 [09:29<01:23,  1.40s/it]"
          ]
        },
        {
          "output_type": "stream",
          "name": "stdout",
          "text": [
            "✅ tile_6195_13275.png procesado y guardado como tile_6195_13275.json\n"
          ]
        },
        {
          "output_type": "stream",
          "name": "stderr",
          "text": [
            "\rProcesando imágenes:  87%|████████▋ | 389/448 [09:30<01:21,  1.39s/it]"
          ]
        },
        {
          "output_type": "stream",
          "name": "stdout",
          "text": [
            "✅ tile_9735_18585.png procesado y guardado como tile_9735_18585.json\n"
          ]
        },
        {
          "output_type": "stream",
          "name": "stderr",
          "text": [
            "\rProcesando imágenes:  87%|████████▋ | 390/448 [09:31<01:21,  1.41s/it]"
          ]
        },
        {
          "output_type": "stream",
          "name": "stdout",
          "text": [
            "✅ tile_9735_2655.png procesado y guardado como tile_9735_2655.json\n"
          ]
        },
        {
          "output_type": "stream",
          "name": "stderr",
          "text": [
            "\rProcesando imágenes:  87%|████████▋ | 391/448 [09:33<01:21,  1.44s/it]"
          ]
        },
        {
          "output_type": "stream",
          "name": "stdout",
          "text": [
            "✅ tile_10620_17700.png procesado y guardado como tile_10620_17700.json\n"
          ]
        },
        {
          "output_type": "stream",
          "name": "stderr",
          "text": [
            "\rProcesando imágenes:  88%|████████▊ | 392/448 [09:34<01:22,  1.48s/it]"
          ]
        },
        {
          "output_type": "stream",
          "name": "stdout",
          "text": [
            "✅ tile_6195_7965.png procesado y guardado como tile_6195_7965.json\n"
          ]
        },
        {
          "output_type": "stream",
          "name": "stderr",
          "text": [
            "\rProcesando imágenes:  88%|████████▊ | 393/448 [09:36<01:20,  1.47s/it]"
          ]
        },
        {
          "output_type": "stream",
          "name": "stdout",
          "text": [
            "✅ tile_8850_18585.png procesado y guardado como tile_8850_18585.json\n"
          ]
        },
        {
          "output_type": "stream",
          "name": "stderr",
          "text": [
            "\rProcesando imágenes:  88%|████████▊ | 394/448 [09:37<01:18,  1.45s/it]"
          ]
        },
        {
          "output_type": "stream",
          "name": "stdout",
          "text": [
            "✅ tile_10620_1770.png procesado y guardado como tile_10620_1770.json\n"
          ]
        },
        {
          "output_type": "stream",
          "name": "stderr",
          "text": [
            "\rProcesando imágenes:  88%|████████▊ | 395/448 [09:39<01:14,  1.40s/it]"
          ]
        },
        {
          "output_type": "stream",
          "name": "stdout",
          "text": [
            "✅ tile_7965_3540.png procesado y guardado como tile_7965_3540.json\n"
          ]
        },
        {
          "output_type": "stream",
          "name": "stderr",
          "text": [
            "\rProcesando imágenes:  88%|████████▊ | 396/448 [09:40<01:15,  1.44s/it]"
          ]
        },
        {
          "output_type": "stream",
          "name": "stdout",
          "text": [
            "✅ tile_5310_7965.png procesado y guardado como tile_5310_7965.json\n"
          ]
        },
        {
          "output_type": "stream",
          "name": "stderr",
          "text": [
            "\rProcesando imágenes:  89%|████████▊ | 397/448 [09:41<01:10,  1.38s/it]"
          ]
        },
        {
          "output_type": "stream",
          "name": "stdout",
          "text": [
            "🔔 Sin cajas válidas para tile_3540_18585.png. Saltando...\n"
          ]
        },
        {
          "output_type": "stream",
          "name": "stderr",
          "text": [
            "\rProcesando imágenes:  89%|████████▉ | 398/448 [09:43<01:12,  1.44s/it]"
          ]
        },
        {
          "output_type": "stream",
          "name": "stdout",
          "text": [
            "✅ tile_7080_4425.png procesado y guardado como tile_7080_4425.json\n"
          ]
        },
        {
          "output_type": "stream",
          "name": "stderr",
          "text": [
            "\rProcesando imágenes:  89%|████████▉ | 399/448 [09:44<01:08,  1.39s/it]"
          ]
        },
        {
          "output_type": "stream",
          "name": "stdout",
          "text": [
            "✅ tile_7965_15930.png procesado y guardado como tile_7965_15930.json\n"
          ]
        },
        {
          "output_type": "stream",
          "name": "stderr",
          "text": [
            "\rProcesando imágenes:  89%|████████▉ | 400/448 [09:46<01:05,  1.37s/it]"
          ]
        },
        {
          "output_type": "stream",
          "name": "stdout",
          "text": [
            "✅ tile_5310_12390.png procesado y guardado como tile_5310_12390.json\n"
          ]
        },
        {
          "output_type": "stream",
          "name": "stderr",
          "text": [
            "\rProcesando imágenes:  90%|████████▉ | 401/448 [09:47<01:04,  1.36s/it]"
          ]
        },
        {
          "output_type": "stream",
          "name": "stdout",
          "text": [
            "✅ tile_8850_3540.png procesado y guardado como tile_8850_3540.json\n"
          ]
        },
        {
          "output_type": "stream",
          "name": "stderr",
          "text": [
            "\rProcesando imágenes:  90%|████████▉ | 402/448 [09:48<01:03,  1.39s/it]"
          ]
        },
        {
          "output_type": "stream",
          "name": "stdout",
          "text": [
            "✅ tile_4425_14160.png procesado y guardado como tile_4425_14160.json\n"
          ]
        },
        {
          "output_type": "stream",
          "name": "stderr",
          "text": [
            "\rProcesando imágenes:  90%|████████▉ | 403/448 [09:50<01:00,  1.35s/it]"
          ]
        },
        {
          "output_type": "stream",
          "name": "stdout",
          "text": [
            "🔔 Sin cajas válidas para tile_7080_6195.png. Saltando...\n"
          ]
        },
        {
          "output_type": "stream",
          "name": "stderr",
          "text": [
            "\rProcesando imágenes:  90%|█████████ | 404/448 [09:51<01:00,  1.37s/it]"
          ]
        },
        {
          "output_type": "stream",
          "name": "stdout",
          "text": [
            "✅ tile_8850_1770.png procesado y guardado como tile_8850_1770.json\n"
          ]
        },
        {
          "output_type": "stream",
          "name": "stderr",
          "text": [
            "\rProcesando imágenes:  90%|█████████ | 405/448 [09:52<00:58,  1.36s/it]"
          ]
        },
        {
          "output_type": "stream",
          "name": "stdout",
          "text": [
            "✅ tile_5310_10620.png procesado y guardado como tile_5310_10620.json\n"
          ]
        },
        {
          "output_type": "stream",
          "name": "stderr",
          "text": [
            "\rProcesando imágenes:  91%|█████████ | 406/448 [09:54<00:58,  1.39s/it]"
          ]
        },
        {
          "output_type": "stream",
          "name": "stdout",
          "text": [
            "✅ tile_4425_11505.png procesado y guardado como tile_4425_11505.json\n"
          ]
        },
        {
          "output_type": "stream",
          "name": "stderr",
          "text": [
            "\rProcesando imágenes:  91%|█████████ | 407/448 [09:55<00:57,  1.41s/it]"
          ]
        },
        {
          "output_type": "stream",
          "name": "stdout",
          "text": [
            "✅ tile_5310_9735.png procesado y guardado como tile_5310_9735.json\n"
          ]
        },
        {
          "output_type": "stream",
          "name": "stderr",
          "text": [
            "\rProcesando imágenes:  91%|█████████ | 408/448 [09:57<00:58,  1.47s/it]"
          ]
        },
        {
          "output_type": "stream",
          "name": "stdout",
          "text": [
            "✅ tile_7080_5310.png procesado y guardado como tile_7080_5310.json\n"
          ]
        },
        {
          "output_type": "stream",
          "name": "stderr",
          "text": [
            "\rProcesando imágenes:  91%|█████████▏| 409/448 [09:58<00:55,  1.42s/it]"
          ]
        },
        {
          "output_type": "stream",
          "name": "stdout",
          "text": [
            "✅ tile_5310_7080.png procesado y guardado como tile_5310_7080.json\n"
          ]
        },
        {
          "output_type": "stream",
          "name": "stderr",
          "text": [
            "\rProcesando imágenes:  92%|█████████▏| 410/448 [10:00<00:52,  1.39s/it]"
          ]
        },
        {
          "output_type": "stream",
          "name": "stdout",
          "text": [
            "✅ tile_6195_12390.png procesado y guardado como tile_6195_12390.json\n"
          ]
        },
        {
          "output_type": "stream",
          "name": "stderr",
          "text": [
            "\rProcesando imágenes:  92%|█████████▏| 411/448 [10:01<00:51,  1.39s/it]"
          ]
        },
        {
          "output_type": "stream",
          "name": "stdout",
          "text": [
            "✅ tile_9735_3540.png procesado y guardado como tile_9735_3540.json\n"
          ]
        },
        {
          "output_type": "stream",
          "name": "stderr",
          "text": [
            "\rProcesando imágenes:  92%|█████████▏| 412/448 [10:02<00:49,  1.37s/it]"
          ]
        },
        {
          "output_type": "stream",
          "name": "stdout",
          "text": [
            "✅ tile_6195_7080.png procesado y guardado como tile_6195_7080.json\n"
          ]
        },
        {
          "output_type": "stream",
          "name": "stderr",
          "text": [
            "\rProcesando imágenes:  92%|█████████▏| 413/448 [10:04<00:50,  1.44s/it]"
          ]
        },
        {
          "output_type": "stream",
          "name": "stdout",
          "text": [
            "✅ tile_9735_885.png procesado y guardado como tile_9735_885.json\n"
          ]
        },
        {
          "output_type": "stream",
          "name": "stderr",
          "text": [
            "\rProcesando imágenes:  92%|█████████▏| 414/448 [10:05<00:50,  1.49s/it]"
          ]
        },
        {
          "output_type": "stream",
          "name": "stdout",
          "text": [
            "✅ tile_7965_4425.png procesado y guardado como tile_7965_4425.json\n"
          ]
        },
        {
          "output_type": "stream",
          "name": "stderr",
          "text": [
            "\rProcesando imágenes:  93%|█████████▎| 415/448 [10:07<00:48,  1.48s/it]"
          ]
        },
        {
          "output_type": "stream",
          "name": "stdout",
          "text": [
            "✅ tile_0_20355.png procesado y guardado como tile_0_20355.json\n"
          ]
        },
        {
          "output_type": "stream",
          "name": "stderr",
          "text": [
            "\rProcesando imágenes:  93%|█████████▎| 416/448 [10:08<00:45,  1.43s/it]"
          ]
        },
        {
          "output_type": "stream",
          "name": "stdout",
          "text": [
            "✅ tile_3540_17700.png procesado y guardado como tile_3540_17700.json\n"
          ]
        },
        {
          "output_type": "stream",
          "name": "stderr",
          "text": [
            "\rProcesando imágenes:  93%|█████████▎| 417/448 [10:10<00:44,  1.44s/it]"
          ]
        },
        {
          "output_type": "stream",
          "name": "stdout",
          "text": [
            "✅ tile_6195_8850.png procesado y guardado como tile_6195_8850.json\n"
          ]
        },
        {
          "output_type": "stream",
          "name": "stderr",
          "text": [
            "\rProcesando imágenes:  93%|█████████▎| 418/448 [10:11<00:44,  1.48s/it]"
          ]
        },
        {
          "output_type": "stream",
          "name": "stdout",
          "text": [
            "✅ tile_2655_18585.png procesado y guardado como tile_2655_18585.json\n"
          ]
        },
        {
          "output_type": "stream",
          "name": "stderr",
          "text": [
            "\rProcesando imágenes:  94%|█████████▎| 419/448 [10:13<00:43,  1.50s/it]"
          ]
        },
        {
          "output_type": "stream",
          "name": "stdout",
          "text": [
            "✅ tile_3540_15930.png procesado y guardado como tile_3540_15930.json\n"
          ]
        },
        {
          "output_type": "stream",
          "name": "stderr",
          "text": [
            "\rProcesando imágenes:  94%|█████████▍| 420/448 [10:14<00:40,  1.46s/it]"
          ]
        },
        {
          "output_type": "stream",
          "name": "stdout",
          "text": [
            "✅ tile_5310_11505.png procesado y guardado como tile_5310_11505.json\n"
          ]
        },
        {
          "output_type": "stream",
          "name": "stderr",
          "text": [
            "\rProcesando imágenes:  94%|█████████▍| 421/448 [10:16<00:38,  1.43s/it]"
          ]
        },
        {
          "output_type": "stream",
          "name": "stdout",
          "text": [
            "✅ tile_885_20355.png procesado y guardado como tile_885_20355.json\n"
          ]
        },
        {
          "output_type": "stream",
          "name": "stderr",
          "text": [
            "\rProcesando imágenes:  94%|█████████▍| 422/448 [10:17<00:38,  1.49s/it]"
          ]
        },
        {
          "output_type": "stream",
          "name": "stdout",
          "text": [
            "✅ tile_15045_6195.png procesado y guardado como tile_15045_6195.json\n"
          ]
        },
        {
          "output_type": "stream",
          "name": "stderr",
          "text": [
            "\rProcesando imágenes:  94%|█████████▍| 423/448 [10:19<00:36,  1.45s/it]"
          ]
        },
        {
          "output_type": "stream",
          "name": "stdout",
          "text": [
            "✅ tile_7965_5310.png procesado y guardado como tile_7965_5310.json\n"
          ]
        },
        {
          "output_type": "stream",
          "name": "stderr",
          "text": [
            "\rProcesando imágenes:  95%|█████████▍| 424/448 [10:20<00:36,  1.50s/it]"
          ]
        },
        {
          "output_type": "stream",
          "name": "stdout",
          "text": [
            "✅ tile_2655_17700.png procesado y guardado como tile_2655_17700.json\n"
          ]
        },
        {
          "output_type": "stream",
          "name": "stderr",
          "text": [
            "\rProcesando imágenes:  95%|█████████▍| 425/448 [10:21<00:33,  1.45s/it]"
          ]
        },
        {
          "output_type": "stream",
          "name": "stdout",
          "text": [
            "✅ tile_3540_14160.png procesado y guardado como tile_3540_14160.json\n"
          ]
        },
        {
          "output_type": "stream",
          "name": "stderr",
          "text": [
            "\rProcesando imágenes:  95%|█████████▌| 426/448 [10:23<00:31,  1.41s/it]"
          ]
        },
        {
          "output_type": "stream",
          "name": "stdout",
          "text": [
            "✅ tile_17700_17700.png procesado y guardado como tile_17700_17700.json\n"
          ]
        },
        {
          "output_type": "stream",
          "name": "stderr",
          "text": [
            "\rProcesando imágenes:  95%|█████████▌| 427/448 [10:24<00:29,  1.40s/it]"
          ]
        },
        {
          "output_type": "stream",
          "name": "stdout",
          "text": [
            "✅ tile_3540_15045.png procesado y guardado como tile_3540_15045.json\n"
          ]
        },
        {
          "output_type": "stream",
          "name": "stderr",
          "text": [
            "\rProcesando imágenes:  96%|█████████▌| 428/448 [10:26<00:28,  1.44s/it]"
          ]
        },
        {
          "output_type": "stream",
          "name": "stdout",
          "text": [
            "✅ tile_1770_20355.png procesado y guardado como tile_1770_20355.json\n"
          ]
        },
        {
          "output_type": "stream",
          "name": "stderr",
          "text": [
            "\rProcesando imágenes:  96%|█████████▌| 429/448 [10:27<00:28,  1.52s/it]"
          ]
        },
        {
          "output_type": "stream",
          "name": "stdout",
          "text": [
            "✅ tile_885_22125.png procesado y guardado como tile_885_22125.json\n"
          ]
        },
        {
          "output_type": "stream",
          "name": "stderr",
          "text": [
            "\rProcesando imágenes:  96%|█████████▌| 430/448 [10:29<00:27,  1.52s/it]"
          ]
        },
        {
          "output_type": "stream",
          "name": "stdout",
          "text": [
            "✅ tile_1770_18585.png procesado y guardado como tile_1770_18585.json\n"
          ]
        },
        {
          "output_type": "stream",
          "name": "stderr",
          "text": [
            "\rProcesando imágenes:  96%|█████████▌| 431/448 [10:30<00:24,  1.45s/it]"
          ]
        },
        {
          "output_type": "stream",
          "name": "stdout",
          "text": [
            "✅ tile_4425_15045.png procesado y guardado como tile_4425_15045.json\n"
          ]
        },
        {
          "output_type": "stream",
          "name": "stderr",
          "text": [
            "\rProcesando imágenes:  96%|█████████▋| 432/448 [10:32<00:23,  1.46s/it]"
          ]
        },
        {
          "output_type": "stream",
          "name": "stdout",
          "text": [
            "✅ tile_0_22125.png procesado y guardado como tile_0_22125.json\n"
          ]
        },
        {
          "output_type": "stream",
          "name": "stderr",
          "text": [
            "\rProcesando imágenes:  97%|█████████▋| 433/448 [10:33<00:22,  1.48s/it]"
          ]
        },
        {
          "output_type": "stream",
          "name": "stdout",
          "text": [
            "✅ tile_5310_8850.png procesado y guardado como tile_5310_8850.json\n"
          ]
        },
        {
          "output_type": "stream",
          "name": "stderr",
          "text": [
            "\rProcesando imágenes:  97%|█████████▋| 434/448 [10:35<00:20,  1.47s/it]"
          ]
        },
        {
          "output_type": "stream",
          "name": "stdout",
          "text": [
            "✅ tile_1770_19470.png procesado y guardado como tile_1770_19470.json\n"
          ]
        },
        {
          "output_type": "stream",
          "name": "stderr",
          "text": [
            "\rProcesando imágenes:  97%|█████████▋| 435/448 [10:36<00:18,  1.42s/it]"
          ]
        },
        {
          "output_type": "stream",
          "name": "stdout",
          "text": [
            "✅ tile_2655_20355.png procesado y guardado como tile_2655_20355.json\n"
          ]
        },
        {
          "output_type": "stream",
          "name": "stderr",
          "text": [
            "\rProcesando imágenes:  97%|█████████▋| 436/448 [10:37<00:17,  1.44s/it]"
          ]
        },
        {
          "output_type": "stream",
          "name": "stdout",
          "text": [
            "✅ tile_4425_12390.png procesado y guardado como tile_4425_12390.json\n"
          ]
        },
        {
          "output_type": "stream",
          "name": "stderr",
          "text": [
            "\rProcesando imágenes:  98%|█████████▊| 437/448 [10:39<00:15,  1.44s/it]"
          ]
        },
        {
          "output_type": "stream",
          "name": "stdout",
          "text": [
            "✅ tile_2655_16815.png procesado y guardado como tile_2655_16815.json\n"
          ]
        },
        {
          "output_type": "stream",
          "name": "stderr",
          "text": [
            "\rProcesando imágenes:  98%|█████████▊| 438/448 [10:40<00:14,  1.46s/it]"
          ]
        },
        {
          "output_type": "stream",
          "name": "stdout",
          "text": [
            "✅ tile_3540_16815.png procesado y guardado como tile_3540_16815.json\n"
          ]
        },
        {
          "output_type": "stream",
          "name": "stderr",
          "text": [
            "\rProcesando imágenes:  98%|█████████▊| 439/448 [10:42<00:12,  1.42s/it]"
          ]
        },
        {
          "output_type": "stream",
          "name": "stdout",
          "text": [
            "✅ tile_3540_13275.png procesado y guardado como tile_3540_13275.json\n"
          ]
        },
        {
          "output_type": "stream",
          "name": "stderr",
          "text": [
            "\rProcesando imágenes:  98%|█████████▊| 440/448 [10:43<00:11,  1.42s/it]"
          ]
        },
        {
          "output_type": "stream",
          "name": "stdout",
          "text": [
            "✅ tile_1770_17700.png procesado y guardado como tile_1770_17700.json\n"
          ]
        },
        {
          "output_type": "stream",
          "name": "stderr",
          "text": [
            "\rProcesando imágenes:  98%|█████████▊| 441/448 [10:45<00:09,  1.42s/it]"
          ]
        },
        {
          "output_type": "stream",
          "name": "stdout",
          "text": [
            "✅ tile_6195_6195.png procesado y guardado como tile_6195_6195.json\n"
          ]
        },
        {
          "output_type": "stream",
          "name": "stderr",
          "text": [
            "\rProcesando imágenes:  99%|█████████▊| 442/448 [10:46<00:08,  1.46s/it]"
          ]
        },
        {
          "output_type": "stream",
          "name": "stdout",
          "text": [
            "✅ tile_1770_21240.png procesado y guardado como tile_1770_21240.json\n"
          ]
        },
        {
          "output_type": "stream",
          "name": "stderr",
          "text": [
            "\rProcesando imágenes:  99%|█████████▉| 443/448 [10:48<00:07,  1.47s/it]"
          ]
        },
        {
          "output_type": "stream",
          "name": "stdout",
          "text": [
            "✅ tile_1770_22125.png procesado y guardado como tile_1770_22125.json\n"
          ]
        },
        {
          "output_type": "stream",
          "name": "stderr",
          "text": [
            "\rProcesando imágenes:  99%|█████████▉| 444/448 [10:49<00:05,  1.47s/it]"
          ]
        },
        {
          "output_type": "stream",
          "name": "stdout",
          "text": [
            "✅ tile_11505_15045.png procesado y guardado como tile_11505_15045.json\n"
          ]
        },
        {
          "output_type": "stream",
          "name": "stderr",
          "text": [
            "\rProcesando imágenes:  99%|█████████▉| 445/448 [10:51<00:04,  1.53s/it]"
          ]
        },
        {
          "output_type": "stream",
          "name": "stdout",
          "text": [
            "✅ tile_0_21240.png procesado y guardado como tile_0_21240.json\n"
          ]
        },
        {
          "output_type": "stream",
          "name": "stderr",
          "text": [
            "\rProcesando imágenes: 100%|█████████▉| 446/448 [10:52<00:03,  1.57s/it]"
          ]
        },
        {
          "output_type": "stream",
          "name": "stdout",
          "text": [
            "✅ tile_885_21240.png procesado y guardado como tile_885_21240.json\n"
          ]
        },
        {
          "output_type": "stream",
          "name": "stderr",
          "text": [
            "\rProcesando imágenes: 100%|█████████▉| 447/448 [10:54<00:01,  1.51s/it]"
          ]
        },
        {
          "output_type": "stream",
          "name": "stdout",
          "text": [
            "✅ tile_4425_13275.png procesado y guardado como tile_4425_13275.json\n"
          ]
        },
        {
          "output_type": "stream",
          "name": "stderr",
          "text": [
            "Procesando imágenes: 100%|██████████| 448/448 [10:55<00:00,  1.46s/it]"
          ]
        },
        {
          "output_type": "stream",
          "name": "stdout",
          "text": [
            "✅ tile_2655_19470.png procesado y guardado como tile_2655_19470.json\n"
          ]
        },
        {
          "output_type": "stream",
          "name": "stderr",
          "text": [
            "\n"
          ]
        }
      ]
    },
    {
      "cell_type": "code",
      "source": [
        "#@title 🚀 Inferencia Grounded-SAM-2 para retornar json de una carpeta del drive (Para imagenes restantes)\n",
        "import supervision as sv\n",
        "from supervision.draw.color import ColorPalette\n",
        "import pycocotools.mask as mask_util\n",
        "from PIL import Image\n",
        "from sam2.build_sam import build_sam2\n",
        "from sam2.sam2_image_predictor import SAM2ImagePredictor\n",
        "from transformers import AutoProcessor, AutoModelForZeroShotObjectDetection\n",
        "import torch\n",
        "\n",
        "# Parámetros\n",
        "TEXT_PROMPT = \"trees shrubs. trees. natural vegetation. parks. vegetation. forest. trees\" #\"natural vegetation. grass. trees. shrubs. parks. gardens. lawns\"\n",
        "SAM2_CFG    = \"configs/sam2.1/sam2.1_hiera_l.yaml\"\n",
        "DEVICE      = \"cuda\" if torch.cuda.is_available() else \"cpu\"\n",
        "\n",
        "# Rutas en tu Google Drive\n",
        "input_folder = \"/content/drive/MyDrive/images\"\n",
        "output_folder = \"/content/drive/MyDrive/imagenes_json\"\n",
        "os.makedirs(output_folder, exist_ok=True)\n",
        "\n",
        "# Obtener nombres base sin extensión\n",
        "imagenes_input = {os.path.splitext(f)[0] for f in os.listdir(input_folder) if f.endswith(('.jpg', '.png'))}\n",
        "json_generados = {os.path.splitext(f)[0] for f in os.listdir(output_folder) if f.endswith('.json')}\n",
        "\n",
        "# Comparar\n",
        "imagenes_faltantes = imagenes_input - json_generados\n",
        "\n",
        "print(\"📌 Imágenes pendientes de procesar:\")\n",
        "for nombre in sorted(imagenes_faltantes):\n",
        "    print(f\"- {nombre}\")\n",
        "\n",
        "# SAM-2 y GroundingDINO\n",
        "sam2_model = build_sam2(SAM2_CFG, \"checkpoints/\"+str(sam2_ckpt_path), device=DEVICE)\n",
        "sam2_pred = SAM2ImagePredictor(sam2_model)\n",
        "\n",
        "gd_model_id = \"IDEA-Research/grounding-dino-base\"\n",
        "processor = AutoProcessor.from_pretrained(gd_model_id)\n",
        "gd_model = AutoModelForZeroShotObjectDetection.from_pretrained(gd_model_id).to(DEVICE)\n",
        "\n",
        "# Procesar cada imagen\n",
        "image_files = [f for f in os.listdir(input_folder) if f.lower().endswith(('.jpg', '.png'))]\n",
        "\n",
        "for nombre_base in imagenes_faltantes:\n",
        "    img_path = os.path.join(input_folder, nombre_base + \".png\")\n",
        "    image = Image.open(img_path).convert(\"RGB\")\n",
        "    sam2_pred.set_image(np.array(image))\n",
        "\n",
        "    # DINO\n",
        "    inputs = processor(images=image, text=TEXT_PROMPT, return_tensors=\"pt\").to(DEVICE)\n",
        "    with torch.no_grad():\n",
        "        out = gd_model(**inputs)\n",
        "\n",
        "    result = processor.post_process_grounded_object_detection(\n",
        "        out, inputs.input_ids,\n",
        "        box_threshold=0.2, text_threshold=0.19,\n",
        "        target_sizes=[image.size[::-1]]\n",
        "    )[0]\n",
        "\n",
        "    boxes = result[\"boxes\"].cpu().numpy()\n",
        "    labels = result[\"labels\"]\n",
        "    scores = result[\"scores\"].cpu().numpy().tolist()\n",
        "    class_ids = np.arange(len(labels))\n",
        "\n",
        "    img_w, img_h = image.size\n",
        "    image_area = img_w * img_h\n",
        "    max_area_ratio = 0.9\n",
        "\n",
        "    filtered_boxes = []\n",
        "    filtered_labels = []\n",
        "    filtered_scores = []\n",
        "    valid_indices = []\n",
        "\n",
        "    for i, (box, label, score) in enumerate(zip(boxes, labels, scores)):\n",
        "        x1, y1, x2, y2 = box\n",
        "        box_area = (x2 - x1) * (y2 - y1)\n",
        "        if box_area / image_area <= max_area_ratio:\n",
        "            filtered_boxes.append(box)\n",
        "            filtered_labels.append(label)\n",
        "            filtered_scores.append(score)\n",
        "            valid_indices.append(i)\n",
        "\n",
        "    boxes = np.array(filtered_boxes)\n",
        "    labels = filtered_labels\n",
        "    scores = filtered_scores\n",
        "    class_ids = np.arange(len(labels))\n",
        "    if len(filtered_boxes) == 0:\n",
        "        print(f\"🔔 Sin cajas válidas para {nombre_base}. Saltando...\")\n",
        "        continue\n",
        "    # SAM-2\n",
        "    masks, _, _ = sam2_pred.predict(\n",
        "        box=boxes, point_coords=None, point_labels=None,\n",
        "        multimask_output=False,\n",
        "    )\n",
        "    if masks.ndim == 4:\n",
        "        masks = masks.squeeze(1)\n",
        "    #masks = masks[valid_indices]\n",
        "\n",
        "    # Guardar JSON\n",
        "    json_data = {\"masks\": []}\n",
        "    for i in range(len(masks)):\n",
        "        mask = masks[i].astype(np.uint8)\n",
        "        rle = mask_util.encode(np.asfortranarray(mask))\n",
        "        rle[\"counts\"] = rle[\"counts\"].decode(\"utf-8\")  # para JSON\n",
        "\n",
        "        json_data[\"masks\"].append({\n",
        "            \"segmentation\": rle,\n",
        "            \"label\": str(labels[i]),\n",
        "            \"score\": float(scores[i])\n",
        "        })\n",
        "\n",
        "    json_filename = os.path.splitext(filename)[0] + \".json\"\n",
        "    json_path = os.path.join(output_folder, json_filename)\n",
        "    with open(json_path, \"w\") as f:\n",
        "        json.dump(json_data, f, indent=2)\n",
        "\n",
        "    print(f\"✅ {nombre_base} procesado y guardado como {json_filename}\")"
      ],
      "metadata": {
        "colab": {
          "base_uri": "https://localhost:8080/"
        },
        "id": "lLe-x4uq6aG-",
        "outputId": "bd64cecd-db5f-4aa2-8fc7-360e01269f7d",
        "cellView": "form"
      },
      "execution_count": null,
      "outputs": [
        {
          "output_type": "stream",
          "name": "stdout",
          "text": [
            "📌 Imágenes pendientes de procesar:\n",
            "- tile_10620_4425\n",
            "- tile_13275_13275\n",
            "- tile_3540_18585\n",
            "- tile_7080_6195\n",
            "🔔 Sin cajas válidas para tile_10620_4425. Saltando...\n",
            "🔔 Sin cajas válidas para tile_13275_13275. Saltando...\n",
            "✅ tile_3540_18585 procesado y guardado como tile_2655_19470.json\n",
            "🔔 Sin cajas válidas para tile_7080_6195. Saltando...\n"
          ]
        }
      ]
    },
    {
      "cell_type": "code",
      "execution_count": null,
      "metadata": {
        "colab": {
          "base_uri": "https://localhost:8080/",
          "height": 1000,
          "referenced_widgets": [
            "30597666428b4deead53e349795ab234",
            "b5a3d98edf2e40c4ba826027d258da73",
            "c5d981e10b3a4a95933c862a755417d3",
            "83e01eb303714e0999cb97c9ef835e7a",
            "22ef1e367d914a01b3fa52bf84e6a222",
            "9ed605299b9443c0ba526fc6cc3d9f0f",
            "ba2ce12825d04d8db051b8d74128fd50",
            "bde9fab12d704d0fa91ce379325dd52f",
            "b790b9bf52c448a28ab0ecde8a579a1b",
            "70b0b793dff141e88c6b8080596c09cd",
            "7f79e107d52b48929f2e2e856ad23dcb",
            "85c5230bbece4e7b896835d475c5ed94",
            "473f1566f61540698dd384cf69cc7181",
            "66f9b9c72ead4af0b26e9c7218d51fb0",
            "1a888713a3d048d5a694e6f41674fad7",
            "42851b688ffd4516831b351c50ce8f1a",
            "e6a60f58e9514c779a269bc64f9504bc",
            "6570ed5558af4a40840cae21d55e13bb",
            "ac758beccb1b4ae68b129adc950848db",
            "9a92df59479441e699aacfa17ecb7a5a",
            "0b3e0354e23c4bdf8dbd173c3cb76af1",
            "04e3e2e93001488481fe8480ec7424e8",
            "c330009857ee45319e17b1fa70c3c2bb",
            "4cbe699f99ac440e9d017ec933aa6a07",
            "f2159667556747b78bde53e00c90a319",
            "ec4187696c5f4b4f8cf785ce9d194825",
            "b40d6e8dafec4745a0101f6f340a1cd7",
            "79c8269016fe4d97a15f9bdc54b39b7f",
            "3c571c6416bc4a628b63f08e88caf9ce",
            "4529c6b5e8694bf1b99ed7a01208db4c",
            "ac75e14c3f354b91ae1bae97b31de9e4",
            "4b58a3382ca74591bdf3ce27d75178e8",
            "9b8460696f0047b08179e27f38a7c708",
            "588fb8f19ad54cb7bf9b65564236c59d",
            "3c565009bea54e40a96369697c5d7010",
            "46865d3d07544da0b8dac7ded3be8fc2",
            "6df5e7fcd7384e2486e59b6c45a184d1",
            "9a4a723ce10540a8bda3d1ecb5abbd37",
            "44c7004003aa4e84914ea34a0f136a3b",
            "fa3ffa74be5541e4aff7e0478d9c9a98",
            "dd9a256dbb7f479ebf4962c1618bd1af",
            "15e5ed15918f4ae984d8c9043832cb98",
            "1dd5d23cd39740e398c2415fafba59a3",
            "cc422f9caec748cfbfdd742f6ead4093",
            "a7c9cd914aca481d867a09c6a5dd120c",
            "f5e59abfd73841819929e6e80fcc41ce",
            "ab779b9df39f47eaa2a8fd93007e67a8",
            "644641fbfa0c462a8edc93f1fc8d1b23",
            "ee69545d0ade4366a6f7573abcb64a16",
            "d09e21f741114541abf8981e5fdf0844",
            "cf0c871dd5a347f4a45e1b2c3231a79f",
            "673c625eb49347a89b1ef318855514c8",
            "19cbfd9d7f59498aa02418c308c231e6",
            "c93e5dcd46614068ae0ff82679851efa",
            "deb593ce0a224880b02601ad8ff01f88",
            "dfc4841a680f4c1a8df9adc0b6706151",
            "a8e108d1dbab4f1db4ca24238a84d33b",
            "3108d09e16344f2b854a8c1d0c5b636e",
            "d86e15d801e04d21a195a997f8f221c7",
            "b9b72647c82e4f76945f25c074bd6208",
            "eaf6b139756e4511b95286e90f566e34",
            "892ae62baa404c129f2923c46aac7c7e",
            "4c95776263674f5381bfee029886f217",
            "868f2c3f477e411e92ecdf491372484c",
            "9f504d4db9974283821d2c7634b6f5fa",
            "d045fa7cf32a453ab62dcc5766ae901d",
            "6547cd4a425e4ced9b92539ea08421e4",
            "b6c873374c0b47bd8d40bd80870621b6",
            "638027fa32394f63a4148dbfe51633ae",
            "106df300a6c84e008dc990d06cef5543",
            "e1557c8b46e146548bda3f02a65dcd51",
            "6a122823d7dd42f5bcbace4d18bf76c6",
            "1d3d7e45aeaf4707a101c8b33f5c2b52",
            "f4f7f659a7614c8aa9a53c4a0e1ea446",
            "047d6c5f00fa439c9b58ce5a954ea06a",
            "63a9f059d2bc412f9a2091077791b717",
            "3a6c8124493947e4b4f2a321e4f1f19e"
          ]
        },
        "id": "PtpV-8c0Ig1s",
        "outputId": "3a79f64e-5dbf-4b81-f6d5-af6b3128ae80"
      },
      "outputs": [
        {
          "output_type": "stream",
          "name": "stderr",
          "text": [
            "UserWarning: Flash Attention is disabled as it requires a GPU with Ampere (8.0) CUDA capability.\n",
            "UserWarning: \n",
            "The secret `HF_TOKEN` does not exist in your Colab secrets.\n",
            "To authenticate with the Hugging Face Hub, create a token in your settings tab (https://huggingface.co/settings/tokens), set it as secret in your Google Colab and restart your session.\n",
            "You will be able to reuse this secret in all of your notebooks.\n",
            "Please note that authentication is recommended but still optional to access public models or datasets.\n"
          ]
        },
        {
          "output_type": "display_data",
          "data": {
            "text/plain": [
              "preprocessor_config.json:   0%|          | 0.00/457 [00:00<?, ?B/s]"
            ],
            "application/vnd.jupyter.widget-view+json": {
              "version_major": 2,
              "version_minor": 0,
              "model_id": "30597666428b4deead53e349795ab234"
            }
          },
          "metadata": {}
        },
        {
          "output_type": "display_data",
          "data": {
            "text/plain": [
              "tokenizer_config.json:   0%|          | 0.00/1.24k [00:00<?, ?B/s]"
            ],
            "application/vnd.jupyter.widget-view+json": {
              "version_major": 2,
              "version_minor": 0,
              "model_id": "85c5230bbece4e7b896835d475c5ed94"
            }
          },
          "metadata": {}
        },
        {
          "output_type": "display_data",
          "data": {
            "text/plain": [
              "vocab.txt:   0%|          | 0.00/232k [00:00<?, ?B/s]"
            ],
            "application/vnd.jupyter.widget-view+json": {
              "version_major": 2,
              "version_minor": 0,
              "model_id": "c330009857ee45319e17b1fa70c3c2bb"
            }
          },
          "metadata": {}
        },
        {
          "output_type": "display_data",
          "data": {
            "text/plain": [
              "tokenizer.json:   0%|          | 0.00/711k [00:00<?, ?B/s]"
            ],
            "application/vnd.jupyter.widget-view+json": {
              "version_major": 2,
              "version_minor": 0,
              "model_id": "588fb8f19ad54cb7bf9b65564236c59d"
            }
          },
          "metadata": {}
        },
        {
          "output_type": "display_data",
          "data": {
            "text/plain": [
              "special_tokens_map.json:   0%|          | 0.00/125 [00:00<?, ?B/s]"
            ],
            "application/vnd.jupyter.widget-view+json": {
              "version_major": 2,
              "version_minor": 0,
              "model_id": "a7c9cd914aca481d867a09c6a5dd120c"
            }
          },
          "metadata": {}
        },
        {
          "output_type": "display_data",
          "data": {
            "text/plain": [
              "config.json:   0%|          | 0.00/1.74k [00:00<?, ?B/s]"
            ],
            "application/vnd.jupyter.widget-view+json": {
              "version_major": 2,
              "version_minor": 0,
              "model_id": "dfc4841a680f4c1a8df9adc0b6706151"
            }
          },
          "metadata": {}
        },
        {
          "output_type": "display_data",
          "data": {
            "text/plain": [
              "model.safetensors:   0%|          | 0.00/933M [00:00<?, ?B/s]"
            ],
            "application/vnd.jupyter.widget-view+json": {
              "version_major": 2,
              "version_minor": 0,
              "model_id": "6547cd4a425e4ced9b92539ea08421e4"
            }
          },
          "metadata": {}
        },
        {
          "output_type": "stream",
          "name": "stdout",
          "text": [
            "{'scores': tensor([0.4208, 0.3928, 0.3130, 0.3695, 0.3514, 0.3632, 0.2985, 0.3206, 0.3134,\n",
            "        0.3241, 0.2594, 0.3049, 0.1845, 0.2640, 0.2770, 0.2433, 0.2725, 0.2822,\n",
            "        0.2744, 0.2665, 0.2517, 0.2612, 0.3186, 0.3460, 0.2167, 0.2726, 0.2229,\n",
            "        0.1893, 0.2367, 0.1884, 0.2366, 0.2097, 0.2268, 0.1639, 0.2249, 0.1981,\n",
            "        0.2177, 0.2485, 0.1549, 0.1530, 0.2038, 0.2685, 0.1537, 0.1846, 0.1555,\n",
            "        0.2788, 0.1878, 0.1737, 0.1678, 0.1842, 0.1493, 0.1567, 0.2049, 0.1988,\n",
            "        0.1624, 0.1536, 0.2317, 0.1736, 0.1460, 0.1486, 0.1770, 0.2013, 0.1716,\n",
            "        0.1850, 0.1886, 0.1581, 0.1516, 0.1437, 0.1478, 0.1490, 0.1504, 0.1574,\n",
            "        0.1459, 0.1839, 0.1975, 0.1486, 0.2035, 0.1651, 0.1765, 0.1599, 0.1618,\n",
            "        0.1670, 0.1666, 0.1579, 0.1762, 0.1947, 0.1748, 0.1597, 0.1541, 0.2172,\n",
            "        0.1586, 0.1926, 0.2038, 0.1790, 0.1722, 0.1478, 0.1521, 0.1838, 0.1495,\n",
            "        0.1538, 0.1428], device='cuda:0'), 'boxes': tensor([[1.6772e+02, 1.9624e+02, 2.1666e+02, 2.4915e+02],\n",
            "        [5.7921e+02, 6.7277e+01, 6.3623e+02, 1.5177e+02],\n",
            "        [5.8926e+02, 4.4866e+02, 7.1626e+02, 5.2184e+02],\n",
            "        [2.6713e+02, 2.4469e+02, 3.8785e+02, 3.3788e+02],\n",
            "        [2.7474e+02, 1.5568e+02, 3.2404e+02, 2.3215e+02],\n",
            "        [7.2130e+02, 7.7032e+01, 8.0495e+02, 1.8276e+02],\n",
            "        [6.4819e+02, 1.9722e+02, 6.7739e+02, 2.3110e+02],\n",
            "        [3.3662e+02, 1.4001e-01, 4.0374e+02, 4.0753e+01],\n",
            "        [4.1852e+02, 3.8420e+02, 5.4384e+02, 4.6261e+02],\n",
            "        [1.3842e+02, 1.2354e+01, 1.7791e+02, 1.0629e+02],\n",
            "        [3.7374e+02, 4.2813e+02, 4.0956e+02, 4.6790e+02],\n",
            "        [2.7227e+02, 4.1806e+02, 3.6561e+02, 4.6807e+02],\n",
            "        [5.8910e+02, 4.4893e+02, 7.1538e+02, 5.2193e+02],\n",
            "        [2.7249e+02, 4.2003e+02, 3.1152e+02, 4.5537e+02],\n",
            "        [2.4091e+02, 2.0198e+02, 2.6688e+02, 2.3248e+02],\n",
            "        [3.3579e+02, 4.5141e+01, 3.6197e+02, 7.3979e+01],\n",
            "        [7.3787e+02, 1.3384e+02, 8.0263e+02, 1.7993e+02],\n",
            "        [5.6543e+02, 3.5009e+02, 6.5588e+02, 4.7021e+02],\n",
            "        [5.4855e+02, 2.0910e+01, 5.9191e+02, 6.1822e+01],\n",
            "        [5.2402e+02, 1.2039e-01, 5.7502e+02, 2.5326e+01],\n",
            "        [4.1912e+02, 4.1858e+02, 4.6967e+02, 4.6271e+02],\n",
            "        [5.7859e+02, 2.8114e+02, 6.5201e+02, 3.4943e+02],\n",
            "        [6.8171e+02, 1.6239e+02, 7.2808e+02, 2.1331e+02],\n",
            "        [5.8005e+02, 4.4779e+02, 7.4766e+02, 5.2192e+02],\n",
            "        [5.2430e+02, 7.8903e-01, 6.3866e+02, 1.5242e+02],\n",
            "        [3.1413e+02, 4.2246e+02, 3.6500e+02, 4.6720e+02],\n",
            "        [7.1176e+02, 4.6254e+02, 7.4926e+02, 5.2205e+02],\n",
            "        [4.9400e+02, 3.9011e+02, 5.2926e+02, 4.2773e+02],\n",
            "        [4.7722e+02, 3.2961e+02, 5.2554e+02, 3.8179e+02],\n",
            "        [7.3823e+02, 1.3981e+02, 7.7061e+02, 1.7366e+02],\n",
            "        [5.2400e+02, 3.7224e-01, 5.9216e+02, 6.1584e+01],\n",
            "        [5.7561e+02, 4.4763e+02, 7.4740e+02, 5.2194e+02],\n",
            "        [5.7881e+02, 2.8077e+02, 6.2557e+02, 3.2467e+02],\n",
            "        [1.4110e+02, 4.4168e+01, 1.7653e+02, 7.8077e+01],\n",
            "        [6.4842e+02, 1.6206e+02, 7.2778e+02, 2.3177e+02],\n",
            "        [1.4533e+00, 6.9672e-03, 8.2319e+02, 5.2246e+02],\n",
            "        [1.4903e+02, 2.2421e+02, 1.8155e+02, 2.4760e+02],\n",
            "        [2.7427e+02, 1.5534e+02, 3.9484e+02, 2.4766e+02],\n",
            "        [3.5080e+02, 2.1912e+02, 3.9267e+02, 2.4490e+02],\n",
            "        [6.0404e+02, 4.5384e+02, 6.9873e+02, 5.2127e+02],\n",
            "        [2.6666e+02, 2.4493e+02, 3.8795e+02, 3.3813e+02],\n",
            "        [7.2797e+02, 7.7369e+01, 7.8497e+02, 1.3555e+02],\n",
            "        [6.8547e+02, 4.6138e+02, 7.2106e+02, 4.9797e+02],\n",
            "        [7.2201e+02, 7.6775e+01, 8.0493e+02, 1.8327e+02],\n",
            "        [2.7860e+02, 1.6677e+02, 3.1251e+02, 2.2282e+02],\n",
            "        [1.3909e+02, 1.6509e+01, 1.7748e+02, 7.8580e+01],\n",
            "        [2.4133e+00, 3.3881e+01, 2.2425e+01, 7.1737e+01],\n",
            "        [2.7966e+02, 4.8610e+02, 3.1138e+02, 5.1014e+02],\n",
            "        [7.6720e+02, 1.3548e+02, 8.0040e+02, 1.6731e+02],\n",
            "        [2.1516e+02, 2.1727e+02, 2.4759e+02, 2.5261e+02],\n",
            "        [7.2855e+02, 1.0488e+02, 7.5997e+02, 1.3276e+02],\n",
            "        [3.6823e+02, 3.4351e+01, 3.9655e+02, 6.1979e+01],\n",
            "        [2.9510e+02, 2.4555e+02, 3.8632e+02, 3.2149e+02],\n",
            "        [2.5819e+00, 5.6559e-01, 8.2260e+02, 5.2187e+02],\n",
            "        [2.8243e+02, 5.8144e+01, 3.0531e+02, 9.1424e+01],\n",
            "        [4.6073e+02, 3.9709e+02, 4.9526e+02, 4.3283e+02],\n",
            "        [3.2593e+02, 2.1814e+02, 3.9492e+02, 2.4851e+02],\n",
            "        [2.7225e+02, 4.1815e+02, 3.6549e+02, 4.6812e+02],\n",
            "        [7.4073e+02, 3.7164e+02, 7.6429e+02, 4.0465e+02],\n",
            "        [1.6790e+02, 1.9635e+02, 2.1649e+02, 2.4955e+02],\n",
            "        [1.3954e+02, 1.7593e+01, 1.7598e+02, 5.1358e+01],\n",
            "        [4.6457e+02, 3.8470e+02, 5.3283e+02, 4.3194e+02],\n",
            "        [6.6164e+02, 2.9639e+02, 7.0715e+02, 3.3995e+02],\n",
            "        [5.2235e+02, 3.7066e+02, 5.6912e+02, 4.2523e+02],\n",
            "        [4.1846e+02, 3.8416e+02, 5.4368e+02, 4.6282e+02],\n",
            "        [4.1220e+02, 2.7401e+02, 5.2567e+02, 3.8091e+02],\n",
            "        [6.6707e+02, 2.2444e+02, 6.9420e+02, 2.5191e+02],\n",
            "        [2.7421e+02, 1.5522e+02, 3.9592e+02, 2.4870e+02],\n",
            "        [2.6466e+02, 1.1208e+00, 8.2204e+02, 5.2164e+02],\n",
            "        [7.6562e+02, 1.3547e+02, 8.0248e+02, 1.7991e+02],\n",
            "        [5.6603e+02, 3.4999e+02, 6.5596e+02, 4.6762e+02],\n",
            "        [2.7481e+02, 1.5571e+02, 3.2436e+02, 2.3287e+02],\n",
            "        [5.6425e+02, 3.5158e+02, 7.4712e+02, 5.2185e+02],\n",
            "        [5.8023e+02, 6.8110e+01, 6.1844e+02, 1.1885e+02],\n",
            "        [3.3357e+02, 2.9667e-01, 4.0733e+02, 6.8156e+01],\n",
            "        [6.0121e+02, 1.1493e+02, 6.3607e+02, 1.5236e+02],\n",
            "        [3.0728e+02, 2.4682e+02, 3.8582e+02, 3.0010e+02],\n",
            "        [4.1406e+02, 2.8639e+02, 4.7887e+02, 3.4931e+02],\n",
            "        [1.4138e+02, 1.0417e+00, 8.2370e+02, 5.2112e+02],\n",
            "        [4.0991e+02, 2.6286e+02, 4.8241e+02, 3.5057e+02],\n",
            "        [7.4767e+02, 7.7746e+01, 7.8377e+02, 1.3205e+02],\n",
            "        [1.6601e+02, 1.9580e+02, 2.5353e+02, 2.7756e+02],\n",
            "        [5.7950e+02, 6.7410e+01, 6.3600e+02, 1.5157e+02],\n",
            "        [4.9931e+02, 3.4881e+02, 5.2504e+02, 3.8196e+02],\n",
            "        [4.1893e+02, 3.9687e+02, 4.9463e+02, 4.6337e+02],\n",
            "        [2.1445e+02, 2.1731e+02, 2.5320e+02, 2.7718e+02],\n",
            "        [4.6460e+02, 3.8436e+02, 5.4885e+02, 4.4917e+02],\n",
            "        [3.3664e+02, 2.7454e-01, 4.0379e+02, 4.0523e+01],\n",
            "        [4.1654e+02, 2.2752e+01, 4.5481e+02, 5.7392e+01],\n",
            "        [4.1041e+02, 2.6385e+02, 4.6448e+02, 3.3456e+02],\n",
            "        [3.0328e+02, 1.3699e-01, 4.0674e+02, 6.0718e+01],\n",
            "        [7.1760e+02, 7.5722e+01, 8.2386e+02, 2.3321e+02],\n",
            "        [4.1443e+02, 2.8689e+02, 4.6346e+02, 3.3364e+02],\n",
            "        [5.6618e+02, 3.7634e+02, 6.2350e+02, 4.6714e+02],\n",
            "        [3.0200e+02, 4.4360e-01, 3.2552e+02, 3.9987e+01],\n",
            "        [5.4912e+02, 2.0399e+01, 6.3697e+02, 1.5121e+02],\n",
            "        [3.1419e+02, 4.2328e+02, 3.4028e+02, 4.5657e+02],\n",
            "        [3.0340e+02, 1.6386e-01, 4.0491e+02, 4.1840e+01],\n",
            "        [2.7190e+02, 4.1729e+02, 4.0999e+02, 4.7025e+02],\n",
            "        [2.6291e+02, 1.3357e+02, 3.2719e+02, 2.3497e+02],\n",
            "        [2.6456e+02, 2.1710e+02, 4.0208e+02, 3.3980e+02]], device='cuda:0'), 'text_labels': ['trees', 'trees', 'trees', 'trees', 'trees', 'trees', 'trees', 'trees', 'trees', 'trees', 'trees', 'trees', '', 'trees', 'trees', 'trees', 'trees', 'trees', 'trees', 'trees', 'trees', 'trees', 'trees', 'trees', 'trees', 'trees', 'trees', '', 'trees', '', 'trees', 'trees', 'trees', '', 'trees', '', 'trees', 'trees', '', '', 'trees', 'trees', '', '', '', 'trees', '', '', '', '', '', '', 'trees', '', '', '', 'trees', '', '', '', '', 'trees', '', '', '', '', '', '', '', '', '', '', '', '', '', '', 'trees', '', '', '', '', '', '', '', '', '', '', '', '', 'trees', '', '', 'trees', '', '', '', '', '', '', '', ''], 'labels': ['trees', 'trees', 'trees', 'trees', 'trees', 'trees', 'trees', 'trees', 'trees', 'trees', 'trees', 'trees', '', 'trees', 'trees', 'trees', 'trees', 'trees', 'trees', 'trees', 'trees', 'trees', 'trees', 'trees', 'trees', 'trees', 'trees', '', 'trees', '', 'trees', 'trees', 'trees', '', 'trees', '', 'trees', 'trees', '', '', 'trees', 'trees', '', '', '', 'trees', '', '', '', '', '', '', 'trees', '', '', '', 'trees', '', '', '', '', 'trees', '', '', '', '', '', '', '', '', '', '', '', '', '', '', 'trees', '', '', '', '', '', '', '', '', '', '', '', '', 'trees', '', '', 'trees', '', '', '', '', '', '', '', '']}\n",
            "labels {'', 'trees'}\n",
            "✅ Florida.png procesado y guardado como Florida.json\n",
            "✅ Imagen anotada guardada en: /content/grounded_sam2_output.jpg\n"
          ]
        }
      ],
      "source": [
        "#@title 🚀 Inferencia Grounded-SAM-2 para retornar una imagen RGB segmentada\n",
        "import supervision as sv\n",
        "from supervision.draw.color import ColorPalette\n",
        "import pycocotools.mask as mask_util\n",
        "from PIL import Image\n",
        "from sam2.build_sam import build_sam2\n",
        "from sam2.sam2_image_predictor import SAM2ImagePredictor\n",
        "from transformers import AutoProcessor, AutoModelForZeroShotObjectDetection\n",
        "import torch\n",
        "\n",
        "# Parámetros\n",
        "TEXT_PROMPT = \"trees shrubs. trees. natural vegetation. vegetation. forest\" #\"natural vegetation. grass. trees. shrubs. parks. gardens. lawns\"\n",
        "SAM2_CFG    = \"configs/sam2.1/sam2.1_hiera_l.yaml\"\n",
        "DEVICE      = \"cuda\" if torch.cuda.is_available() else \"cpu\"\n",
        "\n",
        "# SAM-2\n",
        "sam2_model = build_sam2(SAM2_CFG, \"checkpoints/\"+str(sam2_ckpt_path), device=DEVICE)\n",
        "sam2_pred  = SAM2ImagePredictor(sam2_model)\n",
        "\n",
        "# Grounding DINO vía HF\n",
        "gd_model_id = \"IDEA-Research/grounding-dino-base\"\n",
        "processor   = AutoProcessor.from_pretrained(gd_model_id)\n",
        "gd_model    = AutoModelForZeroShotObjectDetection.from_pretrained(gd_model_id).to(DEVICE)\n",
        "\n",
        "# Imagen\n",
        "image = Image.open(img_path).convert(\"RGB\")\n",
        "sam2_pred.set_image(np.array(image))\n",
        "\n",
        "#Ubicar json en colab\n",
        "output_folder = \"/content/\"\n",
        "os.makedirs(output_folder, exist_ok=True)\n",
        "filename = os.path.basename(img_path)\n",
        "\n",
        "# DINO → cajas\n",
        "inputs  = processor(images=image, text=TEXT_PROMPT, return_tensors=\"pt\").to(DEVICE)\n",
        "with torch.no_grad():\n",
        "    out = gd_model(**inputs)\n",
        "\n",
        "result = processor.post_process_grounded_object_detection(\n",
        "    out, inputs.input_ids,\n",
        "    box_threshold=0.14, text_threshold=0.2,\n",
        "    target_sizes=[image.size[::-1]]\n",
        ")[0]\n",
        "\n",
        "print(result)\n",
        "\n",
        "boxes   = result[\"boxes\"].cpu().numpy()           # (n,4)\n",
        "labels  = result[\"labels\"]\n",
        "scores  = result[\"scores\"].cpu().numpy().tolist()\n",
        "class_ids = np.arange(len(labels))\n",
        "\n",
        "#print(\"boxes\",boxes)\n",
        "print(\"labels\",set(labels))\n",
        "\n",
        "img_w, img_h = image.size\n",
        "image_area = img_w * img_h\n",
        "max_area_ratio = 0.3\n",
        "\n",
        "filtered_boxes = []\n",
        "filtered_labels = []\n",
        "filtered_scores = []\n",
        "\n",
        "for box, label, score in zip(boxes, labels, scores):\n",
        "    x1, y1, x2, y2 = box\n",
        "    box_area = (x2 - x1) * (y2 - y1)\n",
        "\n",
        "    if box_area / image_area <= max_area_ratio:\n",
        "        filtered_boxes.append(box)\n",
        "        filtered_labels.append(label)\n",
        "        filtered_scores.append(score)\n",
        "\n",
        "# Convierte a numpy arrays\n",
        "boxes = np.array(filtered_boxes)\n",
        "labels = filtered_labels\n",
        "scores = filtered_scores\n",
        "class_ids = np.arange(len(labels))\n",
        "\n",
        "# SAM-2 → máscaras\n",
        "masks, _, _ = sam2_pred.predict(\n",
        "    box=boxes, point_coords=None, point_labels=None,\n",
        "    multimask_output=False,\n",
        ")\n",
        "if masks.ndim == 4: masks = masks.squeeze(1)\n",
        "\n",
        "# Visualización\n",
        "frame = cv2.imread(img_path)\n",
        "dets  = sv.Detections(xyxy=boxes, mask=masks.astype(bool), class_id=class_ids)\n",
        "\n",
        "from supervision.draw.color import ColorPalette, Color\n",
        "\n",
        "try:                                   # usa API nueva si existe\n",
        "    palette = ColorPalette.default()\n",
        "except AttributeError:                 # retro-compatibilidad\n",
        "    palette = ColorPalette([           # paleta básica manual\n",
        "        Color(20, 200, 50)\n",
        "    ])\n",
        "#frame  = sv.BoxAnnotator(color=palette).annotate(frame, dets)\n",
        "#frame  = sv.LabelAnnotator(color=palette).annotate(frame, dets,\n",
        "#         labels=[f\"{n} {s:.2f}\" for n,s in zip(labels,scores)])\n",
        "frame  = sv.MaskAnnotator(color=palette).annotate(frame, dets)\n",
        "cv2.imwrite(\"grounded_sam2_output.jpg\", frame)\n",
        "# Guardar JSON con RLE\n",
        "json_data = {\"masks\": []}\n",
        "for i in range(len(masks)):\n",
        "    mask = masks[i].astype(np.uint8)\n",
        "    rle = mask_util.encode(np.asfortranarray(mask))\n",
        "    rle[\"counts\"] = rle[\"counts\"].decode(\"utf-8\")\n",
        "    json_data[\"masks\"].append({\n",
        "        \"segmentation\": rle,\n",
        "        \"label\": str(labels[i]),\n",
        "        \"score\": float(scores[i])\n",
        "    })\n",
        "\n",
        "json_filename = os.path.splitext(filename)[0] + \".json\"\n",
        "json_path = os.path.join(output_folder, json_filename)\n",
        "with open(json_path, \"w\") as f:\n",
        "    json.dump(json_data, f, indent=2)\n",
        "\n",
        "print(f\"✅ {filename} procesado y guardado como {json_filename}\")\n",
        "print(f\"✅ Imagen anotada guardada en: {os.path.join(output_folder, 'grounded_sam2_output.jpg')}\")"
      ]
    }
  ]
}